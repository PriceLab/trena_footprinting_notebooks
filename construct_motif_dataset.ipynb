{
 "cells": [
  {
   "cell_type": "code",
   "execution_count": 2,
   "metadata": {},
   "outputs": [],
   "source": [
    "library(RPostgreSQL)\n",
    "library(dplyr)\n",
    "library(GenomicRanges)\n",
    "library(doParallel)"
   ]
  },
  {
   "cell_type": "code",
   "execution_count": 6,
   "metadata": {},
   "outputs": [],
   "source": [
    "source(\"../BDDS/footprints/testdb/src/dbFunctions.R\")"
   ]
  },
  {
   "cell_type": "code",
   "execution_count": 7,
   "metadata": {},
   "outputs": [],
   "source": [
    "# connect to databases\n",
    "\n",
    "# load chipseq traditionally -- will just put this in memory eventually\n",
    "if(!exists(\"db.chipseq\"))\n",
    "    dbname=\"chipseq\"\n",
    "    port=\"5432\"\n",
    "    driver=dbDriver(\"PostgreSQL\")\n",
    "    user=\"trena\"\n",
    "    password=\"trena\"\n",
    "    host=\"whovian\"\n",
    "    db.chipseq <- dbConnect(drv=driver, user=user, password=password, dbname=dbname, host=host, port=port)"
   ]
  },
  {
   "cell_type": "markdown",
   "metadata": {},
   "source": [
    "## create map: M[TF] = c(motif1,motif2,...)"
   ]
  },
  {
   "cell_type": "code",
   "execution_count": 8,
   "metadata": {},
   "outputs": [],
   "source": [
    "# chipseq hits table can fit in memory so load it up\n",
    "chipseq.hits <- dbGetQuery(db.chipseq, \"select * from hits\")\n",
    "chipseq.hits <- as.tbl(chipseq.hits)\n",
    "\n",
    "# get chipseq regions data and change chrom notations from eg chr10 to just 10 as in fimo\n",
    "chipseq.regions <- dbGetQuery(db.chipseq, \"select * from regions\")\n",
    "chipseq.regions <- as.tbl(chipseq.regions)\n",
    "chr.list <- chipseq.regions$chrom\n",
    "cutoff <- nchar(\"chr\")+1\n",
    "no.chr.list <- substring(chr.list,cutoff)\n",
    "chipseq.regions$chrom <- no.chr.list"
   ]
  },
  {
   "cell_type": "code",
   "execution_count": null,
   "metadata": {},
   "outputs": [],
   "source": [
    "# see which of the TFs in the chipseq data are mapped to any motifs\n",
    "TF.motif.pairs <- read.csv(\"text_data_files/motif_to_tf_mappings_with_tfclass_include_multiple.csv\",\n",
    "                            stringsAsFactors=FALSE)\n",
    "\n",
    "unique.cs.tfs <- unique(chipseq.hits$name)\n",
    "cs.tf.nomatches <- unique.cs.tfs[!(unique(unique.cs.tfs) %in% unique(TF.motif.pairs$tfs))]\n",
    "cs.tf.matches <- unique.cs.tfs[unique(unique.cs.tfs) %in% unique(TF.motif.pairs$tfs)]"
   ]
  },
  {
   "cell_type": "code",
   "execution_count": null,
   "metadata": {},
   "outputs": [],
   "source": [
    "length(unique.cs.tfs)\n",
    "length(cs.tf.nomatches)\n",
    "length(cs.tf.matches)"
   ]
  },
  {
   "cell_type": "code",
   "execution_count": null,
   "metadata": {},
   "outputs": [],
   "source": [
    "# create a list of lists (poor sub for dict) for TFs -> motifs and motifs -> TFs\n",
    "# only use jaspar motifs\n",
    "\n",
    "TF.motif.pairs <- as.tbl(read.csv(\"text_data_files/motif_to_tf_mappings_with_tfclass_include_multiple.csv\",\n",
    "                            stringsAsFactors=FALSE))\n",
    "\n",
    "TF.motif.pairs.jaspar <- subset(TF.motif.pairs, grepl(\"^MA[0-9]\", motif) )\n",
    "\n",
    "TFs.to.motifs <- list()\n",
    "for (TF in cs.tf.matches) {\n",
    "    this.TF.df <- subset(TF.motif.pairs.jaspar, tfs %in% TF)\n",
    "    TFs.to.motifs[TF] <- list(this.TF.df$motif)\n",
    "}\n",
    "TFs.to.motifs <- TFs.to.motifs[lapply(TFs.to.motifs,length) >= 1]\n",
    "\n",
    "motifs.to.TFs <- list()\n",
    "for (mtf in unique(TF.motif.pairs.jaspar$motif)) {\n",
    "    this.motif.df <- subset(TF.motif.pairs.jaspar, motif %in% mtf)\n",
    "    motifs.to.TFs[mtf] <- list(this.motif.df$tfs)\n",
    "}\n",
    "motifs.to.TFs <- motifs.to.TFs[lapply(motifs.to.TFs,length) >= 1]"
   ]
  },
  {
   "cell_type": "code",
   "execution_count": null,
   "metadata": {},
   "outputs": [],
   "source": [
    "length(TFs.to.motifs)\n",
    "length(motifs.to.TFs)"
   ]
  },
  {
   "cell_type": "code",
   "execution_count": null,
   "metadata": {},
   "outputs": [],
   "source": [
    "save(TFs.to.motifs, motifs.to.TFs, file=\"Rdata_files/Tfmotifmap.Rdata\")\n",
    "# load(\"Rdata_files/Tfmotifmap.Rdata\")"
   ]
  },
  {
   "cell_type": "code",
   "execution_count": null,
   "metadata": {},
   "outputs": [],
   "source": [
    "allmots <- c()\n",
    "\n",
    "for (TFname in names(TFs.to.motifs)) {\n",
    "    allmots  <-  c(allmots, TFs.to.motifs[[TFname]])\n",
    "}\n",
    "length(unique(allmots))"
   ]
  },
  {
   "cell_type": "code",
   "execution_count": null,
   "metadata": {},
   "outputs": [],
   "source": [
    "# write.table(unique(allmots), file=\"text_data_files/unique_motifs_for_CS_TFs.txt\", row.names=FALSE, col.names=FALSE, quote=FALSE)"
   ]
  },
  {
   "cell_type": "markdown",
   "metadata": {},
   "source": [
    "## function to output df containing pos and neg examples for each TF"
   ]
  },
  {
   "cell_type": "code",
   "execution_count": null,
   "metadata": {},
   "outputs": [],
   "source": [
    "create.TF.df <- function(TF, neg.pos.ratio=10, verbose=FALSE) {\n",
    "    \n",
    "    db.fimo.dplyr <- src_postgres(drv=dbDriver(\"PostgreSQL\"),\n",
    "                                  user=\"trena\",\n",
    "                                  password=\"trena\",\n",
    "                                  dbname=\"fimo\",\n",
    "                                  host=\"whovian\",\n",
    "                                  port=\"5432\")\n",
    "    tbl.fimo.dplyr <- tbl(db.fimo.dplyr, \"fimo_hg38\")\n",
    "    \n",
    "    # regions locs we can compute on but hits have TF info so need both\n",
    "    chipseq.hits.TF <- subset(chipseq.hits, name == TF)\n",
    "    locs.TF <- chipseq.hits.TF$loc\n",
    "    chipseq.regions.TF <- subset(chipseq.regions, loc %in% locs.TF)\n",
    "    \n",
    "    # next step is slow, gives you some context\n",
    "    if (verbose == TRUE) {\n",
    "        if (length(TFs.to.motifs[[TF]])==1) {\n",
    "            message(paste(TF, \"- querying fimo database for\", length(TFs.to.motifs[[TF]]), \"motif\"))\n",
    "        } else {\n",
    "            message(paste(TF, \"- querying fimo database for\", length(TFs.to.motifs[[TF]]), \"motifs\"))\n",
    "        }       \n",
    "    }\n",
    "        \n",
    "    # this is the slow step -- doing SQL queries on tbl.fimo.dplyr = call to whole fimo database\n",
    "    # need branch since %in% conversion to SQL doesn't work on length == 1\n",
    "    if (length(TFs.to.motifs[[TF]]) > 1 ) {\n",
    "        fimo.motifs.for.TF <- as.tbl(as.data.frame(filter(tbl.fimo.dplyr, motifname %in% TFs.to.motifs[[TF]])))\n",
    "    } else {\n",
    "        fimo.motifs.for.TF <- as.tbl(as.data.frame(filter(tbl.fimo.dplyr, motifname  ==  TFs.to.motifs[[TF]])))\n",
    "    }\n",
    "    \n",
    "    # find intersect using fast genomic ranges data structure\n",
    "    gr.fimo.TF <- with(fimo.motifs.for.TF, GRanges(chrom, IRanges(start=start, end=endpos)))\n",
    "    gr.chipseq.TF <- with(chipseq.regions.TF, GRanges(chrom, IRanges(start=start, end=endpos)))\n",
    "    overlaps.gr.TF <- findOverlaps(gr.chipseq.TF, gr.fimo.TF, type=\"any\")\n",
    "    overlaps.TF <- as.tbl(as.data.frame(overlaps.gr.TF))\n",
    "    \n",
    "    # row numbers in fimo.motifs.for.TF where motifs overlap with chipseq peaks\n",
    "    positive.fimo.examples.rows.TF <- unique(overlaps.TF$subjectHits)\n",
    "    positive.fimo.examples.TF.df <- fimo.motifs.for.TF[positive.fimo.examples.rows.TF,]\n",
    "    \n",
    "    # figure out how many negative samples for each motif we want\n",
    "    tot.motif.counts.TF <- table(fimo.motifs.for.TF$motifname)\n",
    "    pos.motif.counts.TF <- table(fimo.motifs.for.TF[positive.fimo.examples.rows.TF,]$motifname)\n",
    "    nx.pos.motif.counts.TF <- pos.motif.counts.TF*neg.pos.ratio\n",
    "\n",
    "    # want neg samples in fimo.motifs.for.TF to be non overlapping with chipseq peaks or pos examples\n",
    "    neg.cands.for.single.TF.df <- subset(fimo.motifs.for.TF,\n",
    "                                         !(start %in% positive.fimo.examples.TF.df$start) &\n",
    "                                         !(endpos %in% positive.fimo.examples.TF.df$endpos))\n",
    "    neg.motif.counts.TF <- table(neg.cands.for.single.TF.df$motifname)\n",
    "\n",
    "    # don't try to sample more than the population\n",
    "    neg.sample.counts.TF <- pmin(nx.pos.motif.counts.TF,neg.motif.counts.TF)\n",
    "    \n",
    "    # for each motif this TF matches, sample some examples where no CS hit\n",
    "    negative.fimo.examples.TF.df <- tibble()\n",
    "    for (motname in names(neg.sample.counts.TF)) {\n",
    "        neg.cands.for.single.TF.df.single.motif <- subset(neg.cands.for.single.TF.df, motifname == motname)\n",
    "        negative.fimo.examples.TF.df <- rbind(negative.fimo.examples.TF.df,\n",
    "                                    sample_n(neg.cands.for.single.TF.df.single.motif, neg.sample.counts.TF[[motname]]))\n",
    "    }\n",
    "    \n",
    "    # annotate and collect all samples\n",
    "    positive.fimo.examples.TF.df <- as.tbl(cbind(positive.fimo.examples.TF.df, \"cs_hit\"=1))\n",
    "    negative.fimo.examples.TF.df <- as.tbl(cbind(negative.fimo.examples.TF.df, \"cs_hit\"=0))\n",
    "    all.fimo.examples.TF.df <- as.tbl(rbind(positive.fimo.examples.TF.df,negative.fimo.examples.TF.df))\n",
    "    \n",
    "    return(all.fimo.examples.TF.df)\n",
    "    \n",
    "}"
   ]
  },
  {
   "cell_type": "markdown",
   "metadata": {},
   "source": [
    "## create df of pos/neg samples for all TFs all together"
   ]
  },
  {
   "cell_type": "code",
   "execution_count": null,
   "metadata": {
    "collapsed": true
   },
   "outputs": [],
   "source": [
    "# ratio of negative to positve examples in data set\n",
    "pnr=9"
   ]
  },
  {
   "cell_type": "code",
   "execution_count": null,
   "metadata": {},
   "outputs": [],
   "source": [
    "# make a cluster for parallel computing\n",
    "cl <- makePSOCKcluster(11)\n",
    "clusterEvalQ(cl, {\n",
    "    library(DBI)\n",
    "    library(RPostgreSQL)\n",
    "    library(dplyr)\n",
    "    library(GenomicRanges)\n",
    "})\n",
    "registerDoParallel(cl)\n",
    "\n",
    "# parallel loop over all TFs\n",
    "sorted.TF.names <- sort(names(TFs.to.motifs))\n",
    "N.TF <- length(sorted.TF.names)\n",
    "\n",
    "all.TF.df <- foreach(i.TF=1:N.TF,\n",
    "                     .inorder=FALSE,\n",
    "                     .combine=rbind,\n",
    "                     .packages=c(\"DBI\", \"RPostgreSQL\", \"dplyr\", \"GenomicRanges\")) %dopar% {    \n",
    "    TFname <- sorted.TF.names[[i.TF]]\n",
    "    create.TF.df(TFname, neg.pos.ratio=pnr, verbose=TRUE)\n",
    "}\n",
    "\n",
    "# clean up after parallel setup\n",
    "stopCluster(cl)\n",
    "registerDoSEQ()\n",
    "\n",
    "# save data\n",
    "fname=paste(\"/local/rory/all.TF.fimo.samples.ratio.\",pnr,\".df.RData\", sep=\"\")\n",
    "save(all.TF.df, file=fname)"
   ]
  },
  {
   "cell_type": "markdown",
   "metadata": {},
   "source": [
    "## serial version of production loop"
   ]
  },
  {
   "cell_type": "code",
   "execution_count": null,
   "metadata": {},
   "outputs": [],
   "source": [
    "# serial version -- hung on last TF, don't know why\n",
    "\n",
    "all.TF.df <- tibble()\n",
    "\n",
    "sorted.TF.names <- sort(names(TFs.to.motifs))\n",
    "for (TFname in sorted.TF.names) {\n",
    "    \n",
    "    TFnum <- which(sorted.TF.names %in% TFname)\n",
    "    message(paste(\"Processing TF\", TFnum,\"/\", length(sorted.TF.names)))\n",
    "    TF.df <- create.TF.df(TFname, neg.pos.ratio=9, verbose=TRUE)\n",
    "    all.TF.df <- rbind(all.TF.df,TF.df)\n",
    "    \n",
    "    save(all.TF.df, file=\"/local/rory/all.TF.fimo.samples.ratio.9.df.RData\")\n",
    "\n",
    "}"
   ]
  },
  {
   "cell_type": "code",
   "execution_count": null,
   "metadata": {
    "collapsed": true
   },
   "outputs": [],
   "source": []
  }
 ],
 "metadata": {
  "anaconda-cloud": {},
  "kernelspec": {
   "display_name": "R",
   "language": "R",
   "name": "ir"
  },
  "language_info": {
   "codemirror_mode": "r",
   "file_extension": ".r",
   "mimetype": "text/x-r-source",
   "name": "R",
   "pygments_lexer": "r",
   "version": "3.4.1"
  }
 },
 "nbformat": 4,
 "nbformat_minor": 1
}
