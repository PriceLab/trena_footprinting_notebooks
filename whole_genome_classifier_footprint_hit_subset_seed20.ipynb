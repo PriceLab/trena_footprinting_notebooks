{
 "cells": [
  {
   "cell_type": "code",
   "execution_count": 9,
   "metadata": {},
   "outputs": [
    {
     "data": {
      "text/html": [
       "<ol class=list-inline>\n",
       "\t<li>'bindrcpp'</li>\n",
       "\t<li>'RUnit'</li>\n",
       "\t<li>'GenomicRanges'</li>\n",
       "\t<li>'GenomeInfoDb'</li>\n",
       "\t<li>'IRanges'</li>\n",
       "\t<li>'S4Vectors'</li>\n",
       "\t<li>'BiocGenerics'</li>\n",
       "\t<li>'parallel'</li>\n",
       "\t<li>'stats4'</li>\n",
       "\t<li>'RPostgreSQL'</li>\n",
       "\t<li>'DBI'</li>\n",
       "\t<li>'fst'</li>\n",
       "\t<li>'caTools'</li>\n",
       "\t<li>'caret'</li>\n",
       "\t<li>'lattice'</li>\n",
       "\t<li>'stringr'</li>\n",
       "\t<li>'ROCR'</li>\n",
       "\t<li>'gplots'</li>\n",
       "\t<li>'pROC'</li>\n",
       "\t<li>'tidyr'</li>\n",
       "\t<li>'dplyr'</li>\n",
       "\t<li>'glmnet'</li>\n",
       "\t<li>'foreach'</li>\n",
       "\t<li>'Matrix'</li>\n",
       "\t<li>'xgboost'</li>\n",
       "\t<li>'ggplot2'</li>\n",
       "\t<li>'RColorBrewer'</li>\n",
       "\t<li>'stats'</li>\n",
       "\t<li>'graphics'</li>\n",
       "\t<li>'grDevices'</li>\n",
       "\t<li>'utils'</li>\n",
       "\t<li>'datasets'</li>\n",
       "\t<li>'methods'</li>\n",
       "\t<li>'base'</li>\n",
       "</ol>\n"
      ],
      "text/latex": [
       "\\begin{enumerate*}\n",
       "\\item 'bindrcpp'\n",
       "\\item 'RUnit'\n",
       "\\item 'GenomicRanges'\n",
       "\\item 'GenomeInfoDb'\n",
       "\\item 'IRanges'\n",
       "\\item 'S4Vectors'\n",
       "\\item 'BiocGenerics'\n",
       "\\item 'parallel'\n",
       "\\item 'stats4'\n",
       "\\item 'RPostgreSQL'\n",
       "\\item 'DBI'\n",
       "\\item 'fst'\n",
       "\\item 'caTools'\n",
       "\\item 'caret'\n",
       "\\item 'lattice'\n",
       "\\item 'stringr'\n",
       "\\item 'ROCR'\n",
       "\\item 'gplots'\n",
       "\\item 'pROC'\n",
       "\\item 'tidyr'\n",
       "\\item 'dplyr'\n",
       "\\item 'glmnet'\n",
       "\\item 'foreach'\n",
       "\\item 'Matrix'\n",
       "\\item 'xgboost'\n",
       "\\item 'ggplot2'\n",
       "\\item 'RColorBrewer'\n",
       "\\item 'stats'\n",
       "\\item 'graphics'\n",
       "\\item 'grDevices'\n",
       "\\item 'utils'\n",
       "\\item 'datasets'\n",
       "\\item 'methods'\n",
       "\\item 'base'\n",
       "\\end{enumerate*}\n"
      ],
      "text/markdown": [
       "1. 'bindrcpp'\n",
       "2. 'RUnit'\n",
       "3. 'GenomicRanges'\n",
       "4. 'GenomeInfoDb'\n",
       "5. 'IRanges'\n",
       "6. 'S4Vectors'\n",
       "7. 'BiocGenerics'\n",
       "8. 'parallel'\n",
       "9. 'stats4'\n",
       "10. 'RPostgreSQL'\n",
       "11. 'DBI'\n",
       "12. 'fst'\n",
       "13. 'caTools'\n",
       "14. 'caret'\n",
       "15. 'lattice'\n",
       "16. 'stringr'\n",
       "17. 'ROCR'\n",
       "18. 'gplots'\n",
       "19. 'pROC'\n",
       "20. 'tidyr'\n",
       "21. 'dplyr'\n",
       "22. 'glmnet'\n",
       "23. 'foreach'\n",
       "24. 'Matrix'\n",
       "25. 'xgboost'\n",
       "26. 'ggplot2'\n",
       "27. 'RColorBrewer'\n",
       "28. 'stats'\n",
       "29. 'graphics'\n",
       "30. 'grDevices'\n",
       "31. 'utils'\n",
       "32. 'datasets'\n",
       "33. 'methods'\n",
       "34. 'base'\n",
       "\n",
       "\n"
      ],
      "text/plain": [
       " [1] \"bindrcpp\"      \"RUnit\"         \"GenomicRanges\" \"GenomeInfoDb\" \n",
       " [5] \"IRanges\"       \"S4Vectors\"     \"BiocGenerics\"  \"parallel\"     \n",
       " [9] \"stats4\"        \"RPostgreSQL\"   \"DBI\"           \"fst\"          \n",
       "[13] \"caTools\"       \"caret\"         \"lattice\"       \"stringr\"      \n",
       "[17] \"ROCR\"          \"gplots\"        \"pROC\"          \"tidyr\"        \n",
       "[21] \"dplyr\"         \"glmnet\"        \"foreach\"       \"Matrix\"       \n",
       "[25] \"xgboost\"       \"ggplot2\"       \"RColorBrewer\"  \"stats\"        \n",
       "[29] \"graphics\"      \"grDevices\"     \"utils\"         \"datasets\"     \n",
       "[33] \"methods\"       \"base\"         "
      ]
     },
     "metadata": {},
     "output_type": "display_data"
    }
   ],
   "source": [
    "libs <- c(\n",
    "    'RColorBrewer',\n",
    "    'ggplot2',\n",
    "    'xgboost',\n",
    "    'glmnet',\n",
    "    'dplyr',\n",
    "    'tidyr',\n",
    "    'pROC',\n",
    "    'ROCR',\n",
    "    'stringr',\n",
    "    'caret',\n",
    "    'caTools',\n",
    "    'fst'\n",
    ")\n",
    "\n",
    "for (lib in libs) {\n",
    "        if (!require(lib, character.only = TRUE, quietly = TRUE)) {\n",
    "            install.packages(lib, repos='http://cran.us.r-project.org')\n",
    "        }\n",
    "}\n",
    "\n",
    "(.packages())\n",
    "\n",
    "source(\"my_R_functions/utility_functions.R\")\n",
    "source(\"my_R_functions/stat_functions.R\")\n",
    "source(\"my_R_functions/plot_functions.R\")\n",
    "source(\"/ssd/mrichard/github/BDDS/trenadb/src/utils.R\")\n",
    "source(\"/ssd/mrichard/github/BDDS/footprints/testdb/src/dbFunctions.R\")"
   ]
  },
  {
   "cell_type": "code",
   "execution_count": 10,
   "metadata": {},
   "outputs": [
    {
     "data": {
      "text/html": [
       "<table>\n",
       "<thead><tr><th scope=col>motif</th><th scope=col>TF</th><th scope=col>class</th><th scope=col>family</th></tr></thead>\n",
       "<tbody>\n",
       "\t<tr><td>MA0001.1                             </td><td>AGL3                                 </td><td>Other Alpha-Helix                    </td><td>MADS                                 </td></tr>\n",
       "\t<tr><td>MA0002.1                             </td><td>RUNX1                                </td><td>Ig-fold                              </td><td>Runt                                 </td></tr>\n",
       "\t<tr><td>MA0003.1                             </td><td>TFAP2A                               </td><td>Zipper-Type                          </td><td>Helix-Loop-Helix                     </td></tr>\n",
       "\t<tr><td>MA0004.1                             </td><td>Arnt                                 </td><td>Basic helix-loop-helix factors (bHLH)</td><td>PAS domain factors                   </td></tr>\n",
       "\t<tr><td>MA0005.1                             </td><td>AG                                   </td><td>Other Alpha-Helix                    </td><td>MADS                                 </td></tr>\n",
       "\t<tr><td>MA0006.1                             </td><td>Ahr::Arnt                            </td><td>Basic helix-loop-helix factors (bHLH)</td><td>PAS domain factors                   </td></tr>\n",
       "</tbody>\n",
       "</table>\n"
      ],
      "text/latex": [
       "\\begin{tabular}{r|llll}\n",
       " motif & TF & class & family\\\\\n",
       "\\hline\n",
       "\t MA0001.1                              & AGL3                                  & Other Alpha-Helix                     & MADS                                 \\\\\n",
       "\t MA0002.1                              & RUNX1                                 & Ig-fold                               & Runt                                 \\\\\n",
       "\t MA0003.1                              & TFAP2A                                & Zipper-Type                           & Helix-Loop-Helix                     \\\\\n",
       "\t MA0004.1                              & Arnt                                  & Basic helix-loop-helix factors (bHLH) & PAS domain factors                   \\\\\n",
       "\t MA0005.1                              & AG                                    & Other Alpha-Helix                     & MADS                                 \\\\\n",
       "\t MA0006.1                              & Ahr::Arnt                             & Basic helix-loop-helix factors (bHLH) & PAS domain factors                   \\\\\n",
       "\\end{tabular}\n"
      ],
      "text/markdown": [
       "\n",
       "motif | TF | class | family | \n",
       "|---|---|---|---|---|---|\n",
       "| MA0001.1                              | AGL3                                  | Other Alpha-Helix                     | MADS                                  | \n",
       "| MA0002.1                              | RUNX1                                 | Ig-fold                               | Runt                                  | \n",
       "| MA0003.1                              | TFAP2A                                | Zipper-Type                           | Helix-Loop-Helix                      | \n",
       "| MA0004.1                              | Arnt                                  | Basic helix-loop-helix factors (bHLH) | PAS domain factors                    | \n",
       "| MA0005.1                              | AG                                    | Other Alpha-Helix                     | MADS                                  | \n",
       "| MA0006.1                              | Ahr::Arnt                             | Basic helix-loop-helix factors (bHLH) | PAS domain factors                    | \n",
       "\n",
       "\n"
      ],
      "text/plain": [
       "  motif    TF        class                                 family            \n",
       "1 MA0001.1 AGL3      Other Alpha-Helix                     MADS              \n",
       "2 MA0002.1 RUNX1     Ig-fold                               Runt              \n",
       "3 MA0003.1 TFAP2A    Zipper-Type                           Helix-Loop-Helix  \n",
       "4 MA0004.1 Arnt      Basic helix-loop-helix factors (bHLH) PAS domain factors\n",
       "5 MA0005.1 AG        Other Alpha-Helix                     MADS              \n",
       "6 MA0006.1 Ahr::Arnt Basic helix-loop-helix factors (bHLH) PAS domain factors"
      ]
     },
     "metadata": {},
     "output_type": "display_data"
    }
   ],
   "source": [
    "load(\"Rdata_files/motif_class_pairs.Rdata\")\n",
    "head(motif.class)"
   ]
  },
  {
   "cell_type": "code",
   "execution_count": 11,
   "metadata": {
    "collapsed": true
   },
   "outputs": [],
   "source": [
    "#load(\"/ssd/mrichard/data/all.TF.df.fimo.hint.well.seed20.annotated.9.Rdata\")\n",
    "all.TF.df.fimo.hint.well.annotated <- read.fst(\"/ssd/mrichard/data/all.TF.df.fimo.hint.well.seed20.annotated.10M.fst\")"
   ]
  },
  {
   "cell_type": "markdown",
   "metadata": {},
   "source": [
    "We've got our fully-annotated dataset all together. We also have an `Rdata` file with motif-class pairings that we'll use somewhere later. Now we want to actually build a model!"
   ]
  },
  {
   "cell_type": "markdown",
   "metadata": {},
   "source": [
    "## Only keep rows where hint or wellington had a hit\n",
    "\n",
    "* We have column names with spaces; use the `make.names` function to make them syntatically valid\n",
    "* We're going to pull places where we have at least one of:\n",
    "    * There's a ChipSeq positive\n",
    "    * There's a HINT hit\n",
    "    * There's a Wellington hit\n"
   ]
  },
  {
   "cell_type": "code",
   "execution_count": 12,
   "metadata": {
    "collapsed": true
   },
   "outputs": [],
   "source": [
    "colnames(all.TF.df.fimo.hint.well.annotated) <- make.names(colnames(all.TF.df.fimo.hint.well.annotated), unique=TRUE)\n",
    "\n",
    "# Filtering step we're ignoring for now\n",
    "all.TF.df.fimo.hint.well.annotated %>%\n",
    "    filter(h_frac > 0 | w_frac > 0 | cs_hit > 0) ->\n",
    "    df_only_footprint_hits\n",
    "#df_only_footprint_hits <- all.TF.df.fimo.hint.well.annotated"
   ]
  },
  {
   "cell_type": "markdown",
   "metadata": {},
   "source": [
    "For our modeling, we also don't need any info on:\n",
    "\n",
    "* Motif location (start/end/strand/chromosome)\n",
    "* Motif name\n",
    "* Sequence\n",
    "* P-value of the FIMO hit\n",
    "\n",
    "So we'll get rid of these. We'll also divide into 3 datasets:\n",
    "\n",
    "1. Validation: Just chromosomes 2 and 4\n",
    "2. Testing: Just chromosomes 1, 3, and 5\n",
    "3. Training: All the other chromosomes\n",
    "\n",
    "Then we'll get rid of the original dataset and the intermediate dataset with only hits. "
   ]
  },
  {
   "cell_type": "code",
   "execution_count": 13,
   "metadata": {
    "collapsed": true
   },
   "outputs": [],
   "source": [
    "cols_to_drop <- c('motifname', 'chrom', 'start', 'endpos', 'strand', 'pval', 'sequence','loc')"
   ]
  },
  {
   "cell_type": "code",
   "execution_count": 14,
   "metadata": {
    "collapsed": true
   },
   "outputs": [],
   "source": [
    "df_only_footprint_hits %>%\n",
    "    filter(chrom %in% c(\"2\",\"4\")) %>%\n",
    "    select(-one_of(cols_to_drop)) ->\n",
    "    val_df\n",
    "\n",
    "df_only_footprint_hits %>%\n",
    "    filter(chrom %in% c(\"1\",\"3\",\"5\")) %>%\n",
    "    select(-one_of(cols_to_drop)) ->\n",
    "    test_df\n",
    "\n",
    "df_only_footprint_hits %>%\n",
    "    filter(!(chrom %in% c(\"1\",\"2\",\"3\",\"4\",\"5\"))) %>%\n",
    "    select(-one_of(cols_to_drop)) ->\n",
    "    train_df\n",
    "\n",
    "remove(all.TF.df.fimo.hint.well.annotated, df_only_footprint_hits)"
   ]
  },
  {
   "cell_type": "markdown",
   "metadata": {},
   "source": [
    "For the purposes of our model-building, we'll turn each dataset into a matrix, which is the input format we need. \n",
    "\n",
    "We'll also separate out the ChipSeq hit, which is our Y (response) and everything else, which serve as our predictors. This ends up with nearly 2 million points in the training set, and a bit over half a million points in the testing set. "
   ]
  },
  {
   "cell_type": "code",
   "execution_count": 15,
   "metadata": {
    "collapsed": true
   },
   "outputs": [],
   "source": [
    "val_df %>% \n",
    "    select(-cs_hit) %>%\n",
    "    as.matrix ->\n",
    "    X_val\n",
    "\n",
    "val_df %>% \n",
    "    select(cs_hit) %>%\n",
    "    as.matrix ->\n",
    "    y_val\n",
    "\n",
    "test_df %>% \n",
    "    select(-cs_hit) %>%\n",
    "    as.matrix ->\n",
    "    X_test\n",
    "\n",
    "test_df %>% \n",
    "    select(cs_hit) %>%\n",
    "    as.matrix ->\n",
    "    y_test\n",
    "\n",
    "train_df %>% \n",
    "    select(-cs_hit) %>%\n",
    "    as.matrix ->\n",
    "    X_train\n",
    "\n",
    "train_df %>% \n",
    "    select(cs_hit) %>%\n",
    "    as.matrix ->\n",
    "    y_train\n",
    "\n",
    "remove(val_df, test_df, train_df)"
   ]
  },
  {
   "cell_type": "code",
   "execution_count": 16,
   "metadata": {},
   "outputs": [
    {
     "data": {
      "text/html": [
       "<ol class=list-inline>\n",
       "\t<li>1046767</li>\n",
       "\t<li>30</li>\n",
       "</ol>\n"
      ],
      "text/latex": [
       "\\begin{enumerate*}\n",
       "\\item 1046767\n",
       "\\item 30\n",
       "\\end{enumerate*}\n"
      ],
      "text/markdown": [
       "1. 1046767\n",
       "2. 30\n",
       "\n",
       "\n"
      ],
      "text/plain": [
       "[1] 1046767      30"
      ]
     },
     "metadata": {},
     "output_type": "display_data"
    },
    {
     "data": {
      "text/html": [
       "<ol class=list-inline>\n",
       "\t<li>255386</li>\n",
       "\t<li>30</li>\n",
       "</ol>\n"
      ],
      "text/latex": [
       "\\begin{enumerate*}\n",
       "\\item 255386\n",
       "\\item 30\n",
       "\\end{enumerate*}\n"
      ],
      "text/markdown": [
       "1. 255386\n",
       "2. 30\n",
       "\n",
       "\n"
      ],
      "text/plain": [
       "[1] 255386     30"
      ]
     },
     "metadata": {},
     "output_type": "display_data"
    },
    {
     "data": {
      "text/html": [
       "<ol class=list-inline>\n",
       "\t<li>1046767</li>\n",
       "\t<li>1</li>\n",
       "</ol>\n"
      ],
      "text/latex": [
       "\\begin{enumerate*}\n",
       "\\item 1046767\n",
       "\\item 1\n",
       "\\end{enumerate*}\n"
      ],
      "text/markdown": [
       "1. 1046767\n",
       "2. 1\n",
       "\n",
       "\n"
      ],
      "text/plain": [
       "[1] 1046767       1"
      ]
     },
     "metadata": {},
     "output_type": "display_data"
    },
    {
     "data": {
      "text/html": [
       "<ol class=list-inline>\n",
       "\t<li>255386</li>\n",
       "\t<li>1</li>\n",
       "</ol>\n"
      ],
      "text/latex": [
       "\\begin{enumerate*}\n",
       "\\item 255386\n",
       "\\item 1\n",
       "\\end{enumerate*}\n"
      ],
      "text/markdown": [
       "1. 255386\n",
       "2. 1\n",
       "\n",
       "\n"
      ],
      "text/plain": [
       "[1] 255386      1"
      ]
     },
     "metadata": {},
     "output_type": "display_data"
    }
   ],
   "source": [
    "dim(X_train)\n",
    "dim(X_test)\n",
    "dim(y_train)\n",
    "dim(y_test)"
   ]
  },
  {
   "cell_type": "markdown",
   "metadata": {},
   "source": [
    "## gbdt\n",
    "\n",
    "Here's where we actually do the machine learning! We're going to use the `xgboost` package, which is \"Extreme Gradient Boosting\". It's a technique where you're progressively adding things to your model to \"boost\" its performance, at least in my recollection. Seems like the way we're boosting it is by adding trees...I'll have to look more at this. It looks like you can also boost with linear models, but we're using the trees, which are the default. \n",
    "\n",
    "We specify a handful of parameters that do the following (in order):\n",
    "\n",
    "* Set the objective to \"binary:logistic\", telling it to do classification instead of regression or \"ranking\"\n",
    "* Set the maximum tree depth to 7 rather than the default, 6.\n",
    "* Set the contribution of each additional tree to 0.005; this is conservative, it's to prevent overfitting, so we have to add more things, but each particular things adds less to the overall model\n",
    "* Set the evaluation metric to Area Under the Curve; essentially, you do a ROC curve and try to maximize area underneath it. \n",
    "    * Note that you can set multiple metrics; things like error or cumulative gain\n",
    "    \n",
    "Other than the `param` list, we also specify:\n",
    "\n",
    "* The data are our training set\n",
    "* The real labels are our training response\n",
    "* We are permitting 200 rounds of iterations; I'm guessing this is a large number, based on our small eta number\n",
    "* Verbose is FALSE, so it won't print output; it could also be \"1\" or \"2\" for different output amounts\n",
    "* Missing is NA, so consider missing values to be NA; could be 0, but this is the default, as well as our value"
   ]
  },
  {
   "cell_type": "markdown",
   "metadata": {},
   "source": [
    "**Note: This takes quite a while (several hours) with our enlarged dataset**"
   ]
  },
  {
   "cell_type": "code",
   "execution_count": 17,
   "metadata": {},
   "outputs": [],
   "source": [
    "param <- list(\"objective\" = \"binary:logistic\",\n",
    "          \"max.depth\" = 7,\n",
    "          \"eta\" = 0.005,\n",
    "          \"eval.metric\" = \"auc\"\n",
    "          )\n",
    "\n",
    "gbdt_medium <- xgboost(\n",
    "    params = param,\n",
    "    data = X_train,\n",
    "    label = y_train,\n",
    "    nround = 200,\n",
    "    verbose = FALSE,\n",
    "    missing = NA\n",
    ")\n",
    "\n",
    "gbdt_medium$Model.Name <- \"trees with classes\""
   ]
  },
  {
   "cell_type": "code",
   "execution_count": 18,
   "metadata": {},
   "outputs": [
    {
     "data": {
      "text/html": [
       "TRUE"
      ],
      "text/latex": [
       "TRUE"
      ],
      "text/markdown": [
       "TRUE"
      ],
      "text/plain": [
       "[1] TRUE"
      ]
     },
     "metadata": {},
     "output_type": "display_data"
    }
   ],
   "source": [
    "xgb.save(gbdt_medium, \"saved_models/xgboost_TF_site_predict_seed20.10M.model\")"
   ]
  },
  {
   "cell_type": "markdown",
   "metadata": {},
   "source": [
    "Now we have a gradient-boosted classifier called \"trees with classes\" that we've trained. We'll use the model in a moment, but first we're taking our motif class pairs and using `make.names` so that they match the ones we changed earlier...this will be important in a second"
   ]
  },
  {
   "cell_type": "code",
   "execution_count": 19,
   "metadata": {
    "collapsed": true
   },
   "outputs": [],
   "source": [
    "motif.class$class <- lapply(motif.class$class, make.names, unique=TRUE)"
   ]
  },
  {
   "cell_type": "markdown",
   "metadata": {},
   "source": [
    "We're pulling out the \"importance matrix\"; we basically give the names of the features in the first argument and the model in the second argument. That's pretty straightforward, and the matrix is only 18 x 4 (number of features is 18). \n",
    "\n",
    "Given it's pretty small, here it is:"
   ]
  },
  {
   "cell_type": "code",
   "execution_count": 20,
   "metadata": {},
   "outputs": [
    {
     "data": {
      "text/html": [
       "<table>\n",
       "<thead><tr><th scope=col>Feature</th><th scope=col>Gain</th><th scope=col>Cover</th><th scope=col>Frequency</th></tr></thead>\n",
       "<tbody>\n",
       "\t<tr><td>h_max_score                           </td><td>6.447279e-01                          </td><td>2.981371e-01                          </td><td>0.1108994534                          </td></tr>\n",
       "\t<tr><td>w_min_score                           </td><td>1.480350e-01                          </td><td>7.282957e-02                          </td><td>0.1133841312                          </td></tr>\n",
       "\t<tr><td>h_frac                                </td><td>1.223671e-01                          </td><td>3.196393e-01                          </td><td>0.1071310253                          </td></tr>\n",
       "\t<tr><td>Basic.helix.loop.helix.factors..bHLH. </td><td>1.846390e-02                          </td><td>1.394650e-02                          </td><td>0.0493208547                          </td></tr>\n",
       "\t<tr><td>motifscore                            </td><td>1.318461e-02                          </td><td>8.022619e-02                          </td><td>0.1496190161                          </td></tr>\n",
       "\t<tr><td>Nuclear.receptors.with.C4.zinc.fingers</td><td>1.048717e-02                          </td><td>9.639797e-03                          </td><td>0.0307271824                          </td></tr>\n",
       "\t<tr><td>asinh_tss_dist                        </td><td>9.450466e-03                          </td><td>7.708039e-03                          </td><td>0.1119347358                          </td></tr>\n",
       "\t<tr><td>Runt.domain.factors                   </td><td>5.542856e-03                          </td><td>1.044840e-01                          </td><td>0.0523438794                          </td></tr>\n",
       "\t<tr><td>STAT.domain.factors                   </td><td>5.109357e-03                          </td><td>4.578231e-03                          </td><td>0.0176412125                          </td></tr>\n",
       "\t<tr><td>gc_content                            </td><td>4.253280e-03                          </td><td>1.904041e-03                          </td><td>0.0923471923                          </td></tr>\n",
       "\t<tr><td>w_frac                                </td><td>4.118217e-03                          </td><td>8.046328e-03                          </td><td>0.0498177903                          </td></tr>\n",
       "\t<tr><td>Rel.homology.region..RHR..factors     </td><td>3.796928e-03                          </td><td>3.596716e-02                          </td><td>0.0347854895                          </td></tr>\n",
       "\t<tr><td>Tryptophan.cluster.factors            </td><td>3.278741e-03                          </td><td>1.064443e-03                          </td><td>0.0066258075                          </td></tr>\n",
       "\t<tr><td>Zipper.Type                           </td><td>1.119421e-03                          </td><td>2.797422e-02                          </td><td>0.0163574623                          </td></tr>\n",
       "\t<tr><td>MADS.box.factors                      </td><td>1.043668e-03                          </td><td>1.507241e-03                          </td><td>0.0060874607                          </td></tr>\n",
       "\t<tr><td>Ig.fold                               </td><td>8.752157e-04                          </td><td>4.024462e-03                          </td><td>0.0149908895                          </td></tr>\n",
       "\t<tr><td>Basic.leucine.zipper.factors..bZIP.   </td><td>8.385664e-04                          </td><td>7.504243e-04                          </td><td>0.0045552427                          </td></tr>\n",
       "\t<tr><td>Heteromeric.CCAAT.binding.factors     </td><td>8.216861e-04                          </td><td>3.167461e-03                          </td><td>0.0057561703                          </td></tr>\n",
       "\t<tr><td>Homeo.domain.factors                  </td><td>7.537902e-04                          </td><td>7.847386e-04                          </td><td>0.0058804042                          </td></tr>\n",
       "\t<tr><td>Other                                 </td><td>6.710760e-04                          </td><td>2.229642e-03                          </td><td>0.0103942355                          </td></tr>\n",
       "\t<tr><td>Fork.head...winged.helix.factors      </td><td>6.658283e-04                          </td><td>5.792029e-04                          </td><td>0.0029816134                          </td></tr>\n",
       "\t<tr><td>C2H2.zinc.finger.factors              </td><td>1.636457e-04                          </td><td>5.376450e-04                          </td><td>0.0026917343                          </td></tr>\n",
       "\t<tr><td>Paired.box.factors                    </td><td>1.084331e-04                          </td><td>1.966079e-04                          </td><td>0.0014493954                          </td></tr>\n",
       "\t<tr><td>Winged.Helix.Turn.Helix               </td><td>7.171366e-05                          </td><td>4.577658e-05                          </td><td>0.0009938711                          </td></tr>\n",
       "\t<tr><td>Zinc.coordinating                     </td><td>4.447685e-05                          </td><td>2.464903e-05                          </td><td>0.0006625808                          </td></tr>\n",
       "\t<tr><td>Other.Alpha.Helix                     </td><td>5.906630e-06                          </td><td>2.318296e-06                          </td><td>0.0002898791                          </td></tr>\n",
       "\t<tr><td>SMAD.NF.1.DNA.binding.domain.factors  </td><td>9.336977e-07                          </td><td>4.935341e-06                          </td><td>0.0003312904                          </td></tr>\n",
       "</tbody>\n",
       "</table>\n"
      ],
      "text/latex": [
       "\\begin{tabular}{r|llll}\n",
       " Feature & Gain & Cover & Frequency\\\\\n",
       "\\hline\n",
       "\t h\\_max\\_score                            & 6.447279e-01                               & 2.981371e-01                               & 0.1108994534                              \\\\\n",
       "\t w\\_min\\_score                            & 1.480350e-01                               & 7.282957e-02                               & 0.1133841312                              \\\\\n",
       "\t h\\_frac                                 & 1.223671e-01                             & 3.196393e-01                             & 0.1071310253                            \\\\\n",
       "\t Basic.helix.loop.helix.factors..bHLH.  & 1.846390e-02                           & 1.394650e-02                           & 0.0493208547                          \\\\\n",
       "\t motifscore                             & 1.318461e-02                           & 8.022619e-02                           & 0.1496190161                          \\\\\n",
       "\t Nuclear.receptors.with.C4.zinc.fingers & 1.048717e-02                           & 9.639797e-03                           & 0.0307271824                          \\\\\n",
       "\t asinh\\_tss\\_dist                         & 9.450466e-03                               & 7.708039e-03                               & 0.1119347358                              \\\\\n",
       "\t Runt.domain.factors                    & 5.542856e-03                           & 1.044840e-01                           & 0.0523438794                          \\\\\n",
       "\t STAT.domain.factors                    & 5.109357e-03                           & 4.578231e-03                           & 0.0176412125                          \\\\\n",
       "\t gc\\_content                             & 4.253280e-03                             & 1.904041e-03                             & 0.0923471923                            \\\\\n",
       "\t w\\_frac                                 & 4.118217e-03                             & 8.046328e-03                             & 0.0498177903                            \\\\\n",
       "\t Rel.homology.region..RHR..factors      & 3.796928e-03                           & 3.596716e-02                           & 0.0347854895                          \\\\\n",
       "\t Tryptophan.cluster.factors             & 3.278741e-03                           & 1.064443e-03                           & 0.0066258075                          \\\\\n",
       "\t Zipper.Type                            & 1.119421e-03                           & 2.797422e-02                           & 0.0163574623                          \\\\\n",
       "\t MADS.box.factors                       & 1.043668e-03                           & 1.507241e-03                           & 0.0060874607                          \\\\\n",
       "\t Ig.fold                                & 8.752157e-04                           & 4.024462e-03                           & 0.0149908895                          \\\\\n",
       "\t Basic.leucine.zipper.factors..bZIP.    & 8.385664e-04                           & 7.504243e-04                           & 0.0045552427                          \\\\\n",
       "\t Heteromeric.CCAAT.binding.factors      & 8.216861e-04                           & 3.167461e-03                           & 0.0057561703                          \\\\\n",
       "\t Homeo.domain.factors                   & 7.537902e-04                           & 7.847386e-04                           & 0.0058804042                          \\\\\n",
       "\t Other                                  & 6.710760e-04                           & 2.229642e-03                           & 0.0103942355                          \\\\\n",
       "\t Fork.head...winged.helix.factors       & 6.658283e-04                           & 5.792029e-04                           & 0.0029816134                          \\\\\n",
       "\t C2H2.zinc.finger.factors               & 1.636457e-04                           & 5.376450e-04                           & 0.0026917343                          \\\\\n",
       "\t Paired.box.factors                     & 1.084331e-04                           & 1.966079e-04                           & 0.0014493954                          \\\\\n",
       "\t Winged.Helix.Turn.Helix                & 7.171366e-05                           & 4.577658e-05                           & 0.0009938711                          \\\\\n",
       "\t Zinc.coordinating                      & 4.447685e-05                           & 2.464903e-05                           & 0.0006625808                          \\\\\n",
       "\t Other.Alpha.Helix                      & 5.906630e-06                           & 2.318296e-06                           & 0.0002898791                          \\\\\n",
       "\t SMAD.NF.1.DNA.binding.domain.factors   & 9.336977e-07                           & 4.935341e-06                           & 0.0003312904                          \\\\\n",
       "\\end{tabular}\n"
      ],
      "text/markdown": [
       "\n",
       "Feature | Gain | Cover | Frequency | \n",
       "|---|---|---|---|---|---|---|---|---|---|---|---|---|---|---|---|---|---|---|---|---|---|---|---|---|---|---|\n",
       "| h_max_score                            | 6.447279e-01                           | 2.981371e-01                           | 0.1108994534                           | \n",
       "| w_min_score                            | 1.480350e-01                           | 7.282957e-02                           | 0.1133841312                           | \n",
       "| h_frac                                 | 1.223671e-01                           | 3.196393e-01                           | 0.1071310253                           | \n",
       "| Basic.helix.loop.helix.factors..bHLH.  | 1.846390e-02                           | 1.394650e-02                           | 0.0493208547                           | \n",
       "| motifscore                             | 1.318461e-02                           | 8.022619e-02                           | 0.1496190161                           | \n",
       "| Nuclear.receptors.with.C4.zinc.fingers | 1.048717e-02                           | 9.639797e-03                           | 0.0307271824                           | \n",
       "| asinh_tss_dist                         | 9.450466e-03                           | 7.708039e-03                           | 0.1119347358                           | \n",
       "| Runt.domain.factors                    | 5.542856e-03                           | 1.044840e-01                           | 0.0523438794                           | \n",
       "| STAT.domain.factors                    | 5.109357e-03                           | 4.578231e-03                           | 0.0176412125                           | \n",
       "| gc_content                             | 4.253280e-03                           | 1.904041e-03                           | 0.0923471923                           | \n",
       "| w_frac                                 | 4.118217e-03                           | 8.046328e-03                           | 0.0498177903                           | \n",
       "| Rel.homology.region..RHR..factors      | 3.796928e-03                           | 3.596716e-02                           | 0.0347854895                           | \n",
       "| Tryptophan.cluster.factors             | 3.278741e-03                           | 1.064443e-03                           | 0.0066258075                           | \n",
       "| Zipper.Type                            | 1.119421e-03                           | 2.797422e-02                           | 0.0163574623                           | \n",
       "| MADS.box.factors                       | 1.043668e-03                           | 1.507241e-03                           | 0.0060874607                           | \n",
       "| Ig.fold                                | 8.752157e-04                           | 4.024462e-03                           | 0.0149908895                           | \n",
       "| Basic.leucine.zipper.factors..bZIP.    | 8.385664e-04                           | 7.504243e-04                           | 0.0045552427                           | \n",
       "| Heteromeric.CCAAT.binding.factors      | 8.216861e-04                           | 3.167461e-03                           | 0.0057561703                           | \n",
       "| Homeo.domain.factors                   | 7.537902e-04                           | 7.847386e-04                           | 0.0058804042                           | \n",
       "| Other                                  | 6.710760e-04                           | 2.229642e-03                           | 0.0103942355                           | \n",
       "| Fork.head...winged.helix.factors       | 6.658283e-04                           | 5.792029e-04                           | 0.0029816134                           | \n",
       "| C2H2.zinc.finger.factors               | 1.636457e-04                           | 5.376450e-04                           | 0.0026917343                           | \n",
       "| Paired.box.factors                     | 1.084331e-04                           | 1.966079e-04                           | 0.0014493954                           | \n",
       "| Winged.Helix.Turn.Helix                | 7.171366e-05                           | 4.577658e-05                           | 0.0009938711                           | \n",
       "| Zinc.coordinating                      | 4.447685e-05                           | 2.464903e-05                           | 0.0006625808                           | \n",
       "| Other.Alpha.Helix                      | 5.906630e-06                           | 2.318296e-06                           | 0.0002898791                           | \n",
       "| SMAD.NF.1.DNA.binding.domain.factors   | 9.336977e-07                           | 4.935341e-06                           | 0.0003312904                           | \n",
       "\n",
       "\n"
      ],
      "text/plain": [
       "   Feature                                Gain         Cover       \n",
       "1  h_max_score                            6.447279e-01 2.981371e-01\n",
       "2  w_min_score                            1.480350e-01 7.282957e-02\n",
       "3  h_frac                                 1.223671e-01 3.196393e-01\n",
       "4  Basic.helix.loop.helix.factors..bHLH.  1.846390e-02 1.394650e-02\n",
       "5  motifscore                             1.318461e-02 8.022619e-02\n",
       "6  Nuclear.receptors.with.C4.zinc.fingers 1.048717e-02 9.639797e-03\n",
       "7  asinh_tss_dist                         9.450466e-03 7.708039e-03\n",
       "8  Runt.domain.factors                    5.542856e-03 1.044840e-01\n",
       "9  STAT.domain.factors                    5.109357e-03 4.578231e-03\n",
       "10 gc_content                             4.253280e-03 1.904041e-03\n",
       "11 w_frac                                 4.118217e-03 8.046328e-03\n",
       "12 Rel.homology.region..RHR..factors      3.796928e-03 3.596716e-02\n",
       "13 Tryptophan.cluster.factors             3.278741e-03 1.064443e-03\n",
       "14 Zipper.Type                            1.119421e-03 2.797422e-02\n",
       "15 MADS.box.factors                       1.043668e-03 1.507241e-03\n",
       "16 Ig.fold                                8.752157e-04 4.024462e-03\n",
       "17 Basic.leucine.zipper.factors..bZIP.    8.385664e-04 7.504243e-04\n",
       "18 Heteromeric.CCAAT.binding.factors      8.216861e-04 3.167461e-03\n",
       "19 Homeo.domain.factors                   7.537902e-04 7.847386e-04\n",
       "20 Other                                  6.710760e-04 2.229642e-03\n",
       "21 Fork.head...winged.helix.factors       6.658283e-04 5.792029e-04\n",
       "22 C2H2.zinc.finger.factors               1.636457e-04 5.376450e-04\n",
       "23 Paired.box.factors                     1.084331e-04 1.966079e-04\n",
       "24 Winged.Helix.Turn.Helix                7.171366e-05 4.577658e-05\n",
       "25 Zinc.coordinating                      4.447685e-05 2.464903e-05\n",
       "26 Other.Alpha.Helix                      5.906630e-06 2.318296e-06\n",
       "27 SMAD.NF.1.DNA.binding.domain.factors   9.336977e-07 4.935341e-06\n",
       "   Frequency   \n",
       "1  0.1108994534\n",
       "2  0.1133841312\n",
       "3  0.1071310253\n",
       "4  0.0493208547\n",
       "5  0.1496190161\n",
       "6  0.0307271824\n",
       "7  0.1119347358\n",
       "8  0.0523438794\n",
       "9  0.0176412125\n",
       "10 0.0923471923\n",
       "11 0.0498177903\n",
       "12 0.0347854895\n",
       "13 0.0066258075\n",
       "14 0.0163574623\n",
       "15 0.0060874607\n",
       "16 0.0149908895\n",
       "17 0.0045552427\n",
       "18 0.0057561703\n",
       "19 0.0058804042\n",
       "20 0.0103942355\n",
       "21 0.0029816134\n",
       "22 0.0026917343\n",
       "23 0.0014493954\n",
       "24 0.0009938711\n",
       "25 0.0006625808\n",
       "26 0.0002898791\n",
       "27 0.0003312904"
      ]
     },
     "metadata": {},
     "output_type": "display_data"
    }
   ],
   "source": [
    "importance_matrix <- xgb.importance(colnames(X_train),model=gbdt_medium)\n",
    "importance_matrix"
   ]
  },
  {
   "cell_type": "markdown",
   "metadata": {},
   "source": [
    "What we're seeing here is the following:\n",
    "\n",
    "* Gain: contribution of a feature to the model (higher is better, and it's sorted by this)\n",
    "* Cover: Number of the observation related to the feature\n",
    "    * I'm not exactly sure what this means, but I don't think we're using it much\n",
    "* Weight (Frequency?): percentage of time the feature pops up in trees\n",
    "\n",
    "So we're most interested in the Gain, which basically tells us how important each feature is. We're going to turn this matrix into a data frame, then we'll:\n",
    "\n",
    "1. Separate out features that are TF classes and those that are not into 2 separate data frames\n",
    "2. Take the TF class data frame and do the following to make it into 1 feature, \"TF_Class\"\n",
    "    1. Select only the non-Feature columns, so the numeric ones that can be added\n",
    "    2. Sum those columns, so the gains are additive\n",
    "    3. Make them into a list\n",
    "    4. Take away their names so you can add \"TF_Class\" to them via concatenation\n",
    "    5. Add the correct names to each entry\n",
    "    6. Add that list as a row to the data frame\n",
    "\n",
    "Now we have the same importance matrix, but all the TF-Class features are added into one row. ***It's interesting to me that you can just do that...something to ask Rory about perhaps***.\n",
    "\n",
    "Now that we have that matrix, we'll make a barplot of the Gain variable to show which features had most gain"
   ]
  },
  {
   "cell_type": "code",
   "execution_count": 21,
   "metadata": {},
   "outputs": [
    {
     "data": {},
     "metadata": {},
     "output_type": "display_data"
    },
    {
     "data": {
      "image/png": "[encoded data removed]",
      "text/plain": [
       "plot without title"
      ]
     },
     "metadata": {},
     "output_type": "display_data"
    }
   ],
   "source": [
    "importance_matrix <- xgb.importance(colnames(X_train),model=gbdt_medium)\n",
    "\n",
    "df <- as_data_frame(importance_matrix)\n",
    "df.tf <- subset(df, Feature %in% unique(motif.class$class))\n",
    "df.notf <- subset(df, !(Feature %in% unique(motif.class$class)))\n",
    "tfclass.row <- c(\"TF_class\", unname(as.list(colSums(df.tf[!(colnames(df.tf) %in% c(\"Feature\"))]))) )\n",
    "names(tfclass.row) <- colnames(df)\n",
    "df.sum <- rbind(df.notf,tfclass.row)\n",
    "\n",
    "ggplot(data=df.sum, aes(x=reorder(Feature, Gain), y=Gain)) +\n",
    "    geom_bar(stat=\"identity\") +\n",
    "    coord_flip() +\n",
    "    theme_minimal(base_size = 30) +\n",
    "    labs(x = \"Feature\", y=\"Gain\")"
   ]
  },
  {
   "cell_type": "markdown",
   "metadata": {},
   "source": [
    "Now that we've checked out the features, we'll get back to the model. We're using 2 Rory functions that put together some stuff:\n",
    "\n",
    "* `make.pred.df.from.model`\n",
    "    * Takes in a model and runs `predict()` on it with the test data\n",
    "    * Makes a data frame where it tacks on the actual response test data\n",
    "    * Adds a column denoting the name of the model and returns it\n",
    "* `make.stats.df.from.preds`\n",
    "    * Takes in the data frame made by above function\n",
    "    * Uses the `roc()` and `coords` functions in succession to generate ROC numbers (sensitivity, specificity, etc) for a range of points from 0 to 1\n",
    "        * The range of points corresponds to the threshold for a prediction being classified as \"TRUE\"\n",
    "    * Generates Matthews correlation coefficients, also for a range of thresholds from 0 to 1\n",
    "        * Recall that these take into account TP/TN/FP/FN stuff\n",
    "    * Adds the MCC to the ROC curve numbers, adds the name of the model, and returns the whole thing"
   ]
  },
  {
   "cell_type": "code",
   "execution_count": 22,
   "metadata": {
    "collapsed": true
   },
   "outputs": [],
   "source": [
    "medium_pred_df <- make.pred.df.from.model(gbdt_medium, X_test, y_test)\n",
    "colnames(medium_pred_df)[1] <- \"ChIPseq.bound\"\n",
    "medium_stat_df <- make.stats.df.from.preds(medium_pred_df)"
   ]
  },
  {
   "cell_type": "markdown",
   "metadata": {},
   "source": [
    "Just to clarify, here's the two data frames:"
   ]
  },
  {
   "cell_type": "code",
   "execution_count": 23,
   "metadata": {},
   "outputs": [
    {
     "data": {
      "text/html": [
       "<table>\n",
       "<thead><tr><th scope=col>ChIPseq.bound</th><th scope=col>Prediction</th><th scope=col>Model.Name</th></tr></thead>\n",
       "<tbody>\n",
       "\t<tr><td>0                 </td><td>0.1911596         </td><td>trees with classes</td></tr>\n",
       "\t<tr><td>0                 </td><td>0.1868595         </td><td>trees with classes</td></tr>\n",
       "\t<tr><td>0                 </td><td>0.1991462         </td><td>trees with classes</td></tr>\n",
       "\t<tr><td>0                 </td><td>0.1911596         </td><td>trees with classes</td></tr>\n",
       "\t<tr><td>0                 </td><td>0.1893067         </td><td>trees with classes</td></tr>\n",
       "\t<tr><td>0                 </td><td>0.4207214         </td><td>trees with classes</td></tr>\n",
       "</tbody>\n",
       "</table>\n"
      ],
      "text/latex": [
       "\\begin{tabular}{r|lll}\n",
       " ChIPseq.bound & Prediction & Model.Name\\\\\n",
       "\\hline\n",
       "\t 0                  & 0.1911596          & trees with classes\\\\\n",
       "\t 0                  & 0.1868595          & trees with classes\\\\\n",
       "\t 0                  & 0.1991462          & trees with classes\\\\\n",
       "\t 0                  & 0.1911596          & trees with classes\\\\\n",
       "\t 0                  & 0.1893067          & trees with classes\\\\\n",
       "\t 0                  & 0.4207214          & trees with classes\\\\\n",
       "\\end{tabular}\n"
      ],
      "text/markdown": [
       "\n",
       "ChIPseq.bound | Prediction | Model.Name | \n",
       "|---|---|---|---|---|---|\n",
       "| 0                  | 0.1911596          | trees with classes | \n",
       "| 0                  | 0.1868595          | trees with classes | \n",
       "| 0                  | 0.1991462          | trees with classes | \n",
       "| 0                  | 0.1911596          | trees with classes | \n",
       "| 0                  | 0.1893067          | trees with classes | \n",
       "| 0                  | 0.4207214          | trees with classes | \n",
       "\n",
       "\n"
      ],
      "text/plain": [
       "  ChIPseq.bound Prediction Model.Name        \n",
       "1 0             0.1911596  trees with classes\n",
       "2 0             0.1868595  trees with classes\n",
       "3 0             0.1991462  trees with classes\n",
       "4 0             0.1911596  trees with classes\n",
       "5 0             0.1893067  trees with classes\n",
       "6 0             0.4207214  trees with classes"
      ]
     },
     "metadata": {},
     "output_type": "display_data"
    }
   ],
   "source": [
    "head(medium_pred_df)"
   ]
  },
  {
   "cell_type": "code",
   "execution_count": 24,
   "metadata": {},
   "outputs": [
    {
     "data": {
      "text/html": [
       "<table>\n",
       "<thead><tr><th></th><th scope=col>threshold</th><th scope=col>sensitivity</th><th scope=col>specificity</th><th scope=col>ppv</th><th scope=col>npv</th><th scope=col>accuracy</th><th scope=col>MattCC</th><th scope=col>Model.Name</th></tr></thead>\n",
       "<tbody>\n",
       "\t<tr><th scope=row>0</th><td>0.00              </td><td>1                 </td><td>0                 </td><td>0.05111478        </td><td>NaN               </td><td>0.05111478        </td><td>0                 </td><td>trees with classes</td></tr>\n",
       "\t<tr><th scope=row>0.01</th><td>0.01              </td><td>1                 </td><td>0                 </td><td>0.05111478        </td><td>NaN               </td><td>0.05111478        </td><td>0                 </td><td>trees with classes</td></tr>\n",
       "\t<tr><th scope=row>0.02</th><td>0.02              </td><td>1                 </td><td>0                 </td><td>0.05111478        </td><td>NaN               </td><td>0.05111478        </td><td>0                 </td><td>trees with classes</td></tr>\n",
       "\t<tr><th scope=row>0.03</th><td>0.03              </td><td>1                 </td><td>0                 </td><td>0.05111478        </td><td>NaN               </td><td>0.05111478        </td><td>0                 </td><td>trees with classes</td></tr>\n",
       "\t<tr><th scope=row>0.04</th><td>0.04              </td><td>1                 </td><td>0                 </td><td>0.05111478        </td><td>NaN               </td><td>0.05111478        </td><td>0                 </td><td>trees with classes</td></tr>\n",
       "\t<tr><th scope=row>0.05</th><td>0.05              </td><td>1                 </td><td>0                 </td><td>0.05111478        </td><td>NaN               </td><td>0.05111478        </td><td>0                 </td><td>trees with classes</td></tr>\n",
       "</tbody>\n",
       "</table>\n"
      ],
      "text/latex": [
       "\\begin{tabular}{r|llllllll}\n",
       "  & threshold & sensitivity & specificity & ppv & npv & accuracy & MattCC & Model.Name\\\\\n",
       "\\hline\n",
       "\t0 & 0.00               & 1                  & 0                  & 0.05111478         & NaN                & 0.05111478         & 0                  & trees with classes\\\\\n",
       "\t0.01 & 0.01               & 1                  & 0                  & 0.05111478         & NaN                & 0.05111478         & 0                  & trees with classes\\\\\n",
       "\t0.02 & 0.02               & 1                  & 0                  & 0.05111478         & NaN                & 0.05111478         & 0                  & trees with classes\\\\\n",
       "\t0.03 & 0.03               & 1                  & 0                  & 0.05111478         & NaN                & 0.05111478         & 0                  & trees with classes\\\\\n",
       "\t0.04 & 0.04               & 1                  & 0                  & 0.05111478         & NaN                & 0.05111478         & 0                  & trees with classes\\\\\n",
       "\t0.05 & 0.05               & 1                  & 0                  & 0.05111478         & NaN                & 0.05111478         & 0                  & trees with classes\\\\\n",
       "\\end{tabular}\n"
      ],
      "text/markdown": [
       "\n",
       "| <!--/--> | threshold | sensitivity | specificity | ppv | npv | accuracy | MattCC | Model.Name | \n",
       "|---|---|---|---|---|---|\n",
       "| 0 | 0.00               | 1                  | 0                  | 0.05111478         | NaN                | 0.05111478         | 0                  | trees with classes | \n",
       "| 0.01 | 0.01               | 1                  | 0                  | 0.05111478         | NaN                | 0.05111478         | 0                  | trees with classes | \n",
       "| 0.02 | 0.02               | 1                  | 0                  | 0.05111478         | NaN                | 0.05111478         | 0                  | trees with classes | \n",
       "| 0.03 | 0.03               | 1                  | 0                  | 0.05111478         | NaN                | 0.05111478         | 0                  | trees with classes | \n",
       "| 0.04 | 0.04               | 1                  | 0                  | 0.05111478         | NaN                | 0.05111478         | 0                  | trees with classes | \n",
       "| 0.05 | 0.05               | 1                  | 0                  | 0.05111478         | NaN                | 0.05111478         | 0                  | trees with classes | \n",
       "\n",
       "\n"
      ],
      "text/plain": [
       "     threshold sensitivity specificity ppv        npv accuracy   MattCC\n",
       "0    0.00      1           0           0.05111478 NaN 0.05111478 0     \n",
       "0.01 0.01      1           0           0.05111478 NaN 0.05111478 0     \n",
       "0.02 0.02      1           0           0.05111478 NaN 0.05111478 0     \n",
       "0.03 0.03      1           0           0.05111478 NaN 0.05111478 0     \n",
       "0.04 0.04      1           0           0.05111478 NaN 0.05111478 0     \n",
       "0.05 0.05      1           0           0.05111478 NaN 0.05111478 0     \n",
       "     Model.Name        \n",
       "0    trees with classes\n",
       "0.01 trees with classes\n",
       "0.02 trees with classes\n",
       "0.03 trees with classes\n",
       "0.04 trees with classes\n",
       "0.05 trees with classes"
      ]
     },
     "metadata": {},
     "output_type": "display_data"
    }
   ],
   "source": [
    "head(medium_stat_df)"
   ]
  },
  {
   "cell_type": "markdown",
   "metadata": {},
   "source": [
    "## Train a linear model on all features"
   ]
  },
  {
   "cell_type": "markdown",
   "metadata": {},
   "source": [
    "Now we're going to do something a little different; instead of training a boosted tree model where we add lots of trees together, we're going to make some linear models. As such, we'll re-brand our data as the \"linear\" data:"
   ]
  },
  {
   "cell_type": "code",
   "execution_count": 25,
   "metadata": {
    "collapsed": true
   },
   "outputs": [],
   "source": [
    "X_train_lin <- X_train\n",
    "y_train_lin <- y_train\n",
    "X_test_lin  <- X_test\n",
    "y_test_lin  <- y_test"
   ]
  },
  {
   "cell_type": "markdown",
   "metadata": {},
   "source": [
    "We'll treat the TF classes differently here; we have to transform them to factors for the linear model, but that's fine. We're going to make a model called \"glm small\" where we use ALL the features, with each TF class as a factor variable. \n",
    "\n",
    "Note that this is logistic regression; we're using `family = binomial`"
   ]
  },
  {
   "cell_type": "code",
   "execution_count": 26,
   "metadata": {
    "collapsed": true
   },
   "outputs": [],
   "source": [
    "tf.regressors <- colnames(X_train_lin)[colnames(X_train_lin) %in% unique(motif.class$class)]\n",
    "non.tf.regressors <-  colnames(X_train_lin)[!colnames(X_train_lin) %in% unique(motif.class$class)]\n",
    "\n",
    "tf.regressors.formula <- paste(\"as.factor(\", paste(tf.regressors, collapse=\") + as.factor(\"), \")\")\n",
    "non.tf.regressors.formula <- paste(non.tf.regressors, collapse=\" + \")\n",
    "all.regressors.formula <- paste(non.tf.regressors.formula, tf.regressors.formula, sep=\" + \")\n",
    "\n",
    "glm.formula <- paste(\"ChIPseq.bound ~ \", all.regressors.formula, sep='')\n",
    "\n",
    "glm.df.train <- as.data.frame(cbind(y_train_lin, X_train_lin)) %>% rename(\"cs_hit\" = \"ChIPseq.bound\")\n",
    "glm.df.test <-  as.data.frame(cbind(y_test_lin, X_test_lin)) %>% rename(\"cs_hit\" = \"ChIPseq.bound\")\n",
    "\n",
    "glm.all <- glm(as.formula(glm.formula), data=glm.df.train, family=binomial)\n",
    "glm.all$Model.Name <- \"glm small\""
   ]
  },
  {
   "cell_type": "markdown",
   "metadata": {},
   "source": [
    "As before, we'll predict on the test set and assemble prediction stats in a data frame; we won't show that, but it looks a lot like the one above"
   ]
  },
  {
   "cell_type": "code",
   "execution_count": 27,
   "metadata": {},
   "outputs": [
    {
     "name": "stderr",
     "output_type": "stream",
     "text": [
      "Warning message in predict.lm(object, newdata, se.fit, scale = 1, type = ifelse(type == :\n",
      "“prediction from a rank-deficient fit may be misleading”"
     ]
    }
   ],
   "source": [
    "glm.pred.df <- make.pred.df.from.glm(glm.all, glm.df.test)\n",
    "glm.stat.df <- make.stats.df.from.preds(glm.pred.df)"
   ]
  },
  {
   "cell_type": "markdown",
   "metadata": {},
   "source": [
    "## Linear Model on all Features Independently"
   ]
  },
  {
   "cell_type": "markdown",
   "metadata": {},
   "source": [
    "Finally, we'll do it for each feature individually and make a model for each, naming them accordingly. We'll also grab the stats for each and bind them together. So what we have is a BIG data frame comprised of like 17 data frames stacked on top of each other. BUT, each model has its name, so we can find the data for each."
   ]
  },
  {
   "cell_type": "code",
   "execution_count": 28,
   "metadata": {},
   "outputs": [
    {
     "name": "stderr",
     "output_type": "stream",
     "text": [
      "Warning message:\n",
      "“glm.fit: fitted probabilities numerically 0 or 1 occurred”"
     ]
    }
   ],
   "source": [
    "stats.regressors.df <- data.frame()\n",
    "\n",
    "for (this.regressor in colnames(X_train_lin)) {\n",
    "    \n",
    "    if (this.regressor %in% unique(motif.class$class)) {\n",
    "        glm.formula <- paste(\"ChIPseq.bound ~ \", \"as.factor(\", this.regressor, \")\",sep='')\n",
    "    } else {\n",
    "        glm.formula <- paste(\"ChIPseq.bound ~ \", this.regressor,sep='')\n",
    "    }\n",
    "\n",
    "    glm.df.train <- as.data.frame(cbind(y_train_lin, X_train_lin)) %>% rename(\"cs_hit\" = \"ChIPseq.bound\")\n",
    "    glm.df.test <-  as.data.frame(cbind(y_test_lin, X_test_lin)) %>% rename(\"cs_hit\" = \"ChIPseq.bound\")\n",
    "\n",
    "    glm.single <- glm(as.formula(glm.formula), data=glm.df.train, family=binomial)\n",
    "    glm.single$Model.Name <- paste(\"glm \", this.regressor, sep='')\n",
    "    \n",
    "    glm.pred.single.df <- make.pred.df.from.glm(glm.single, glm.df.test)\n",
    "    glm.stat.single.df <- make.stats.df.from.preds(glm.pred.single.df)\n",
    "    \n",
    "    stats.regressors.df <- rbind(stats.regressors.df, glm.stat.single.df)\n",
    "    \n",
    "}"
   ]
  },
  {
   "cell_type": "markdown",
   "metadata": {},
   "source": [
    "Now that we have all of our data frames stacked, we're going to filter out the 7 that are NOT a TF_class"
   ]
  },
  {
   "cell_type": "code",
   "execution_count": 29,
   "metadata": {
    "collapsed": true
   },
   "outputs": [],
   "source": [
    "stats.regressors.df %>% \n",
    "filter(Model.Name %in% c(\"glm motifscore\",\n",
    "                         \"glm h_frac\",\n",
    "                         \"glm h_max_score\",\n",
    "                         \"glm w_frac\",\n",
    "                         \"glm w_min_score\",\n",
    "                         \"glm gc_content\",\n",
    "                         \"glm asinh_tss_dist\")) ->\n",
    "stats.regressors.filtered.df"
   ]
  },
  {
   "cell_type": "markdown",
   "metadata": {},
   "source": [
    "## compare performance\n",
    "\n",
    "We're going to take the 7 single-factor linear models (stats.regressors.filtered), the gradient-boosted model (medium_stat), and the linear model with ALL regressors (glm.stat) and put them together. "
   ]
  },
  {
   "cell_type": "code",
   "execution_count": 30,
   "metadata": {
    "collapsed": true
   },
   "outputs": [],
   "source": [
    "all.stats.df <- rbind(\n",
    "    medium_stat_df,\n",
    "    glm.stat.df,\n",
    "    stats.regressors.filtered.df\n",
    ")"
   ]
  },
  {
   "cell_type": "code",
   "execution_count": 31,
   "metadata": {
    "collapsed": true
   },
   "outputs": [],
   "source": [
    "save(all.stats.df, file = \"/ssd/mrichard/data/seed20AllStats.10M.Rdata\")"
   ]
  },
  {
   "cell_type": "markdown",
   "metadata": {},
   "source": [
    "Using another Rory function, we're going to plot the family of MCC curves. Note that the function:\n",
    "\n",
    "* Plots a line using `geom_line`, with X = sensitivity and Y = PPV (positive predictive value)\n",
    "* Separates the points by `Model.Name`\n",
    "* Makes the scales 0-1\n",
    "* Makes the plot square\n",
    "* Labels the axes\n",
    "\n",
    "Also note that the `theme_minimal` command controls the background (white) and whatnot"
   ]
  },
  {
   "cell_type": "code",
   "execution_count": 32,
   "metadata": {
    "collapsed": true
   },
   "outputs": [],
   "source": [
    "load(\"/ssd/mrichard/data/seed20AllStats.10M.Rdata\")\n",
    "\n",
    "# Make a copy\n",
    "all.stats.orig <- all.stats.df"
   ]
  },
  {
   "cell_type": "code",
   "execution_count": 33,
   "metadata": {
    "collapsed": true
   },
   "outputs": [],
   "source": [
    "# Screen out some models for visualization\n",
    "all.stats.orig %>% \n",
    "filter(Model.Name %in% c(\"glm h_max_score\",\n",
    "                         \"glm w_min_score\",\n",
    "                         \"trees with classes\",\n",
    "                         \"glm small\"\n",
    "                         )) -> all.stats.df"
   ]
  },
  {
   "cell_type": "code",
   "execution_count": 34,
   "metadata": {},
   "outputs": [
    {
     "data": {
      "text/html": [
       "0.462139680184384"
      ],
      "text/latex": [
       "0.462139680184384"
      ],
      "text/markdown": [
       "0.462139680184384"
      ],
      "text/plain": [
       "[1] 0.4621397"
      ]
     },
     "metadata": {},
     "output_type": "display_data"
    }
   ],
   "source": [
    "# Change labels and print out max MCC\n",
    "all.stats.df$Model.Name[all.stats.df$Model.Name== 'glm small'] <- 'linear model (all regressors)'\n",
    "all.stats.df$Model.Name[all.stats.df$Model.Name== 'trees with classes'] <- 'gradient boosted model'\n",
    "all.stats.df$Model.Name[all.stats.df$Model.Name== 'glm h_max_score'] <- 'HINT best score seed 20'\n",
    "all.stats.df$Model.Name[all.stats.df$Model.Name== 'glm w_min_score'] <- 'Wellington best score seed 20'\n",
    "\n",
    "max(all.stats.df$MattCC)"
   ]
  },
  {
   "cell_type": "code",
   "execution_count": 35,
   "metadata": {
    "collapsed": true
   },
   "outputs": [],
   "source": [
    "# Create custom color palette (matches others, mostly seed 16)\n",
    "myPalette <- c(\"black\",\"red\",\"blue\",\"green2\",\"darkorange\",\"purple\",\"magenta\",\"brown\",\"cyan\")\n",
    "myColors <- myPalette[1:4]\n",
    "names(myColors) <- c('gradient boosted model',\n",
    "                     'linear model (all regressors)',\n",
    "                     'HINT best score seed 20',\n",
    "                     'Wellington best score seed 20'\n",
    "                    )\n",
    "colScale <- scale_colour_manual(name = \"Model.Name\",values = myColors)"
   ]
  },
  {
   "cell_type": "code",
   "execution_count": 36,
   "metadata": {
    "collapsed": true
   },
   "outputs": [],
   "source": [
    "# Reorder model names\n",
    "all.stats.df$Model.Name <- factor(all.stats.df$Model.Name,\n",
    "                                  levels = c(\"gradient boosted model\",\n",
    "                                             \"linear model (all regressors)\",\n",
    "                                             \"HINT best score seed 20\",\n",
    "                                             \"Wellington best score seed 20\"\n",
    "                                            )\n",
    "                                 )"
   ]
  },
  {
   "cell_type": "code",
   "execution_count": 37,
   "metadata": {},
   "outputs": [
    {
     "data": {},
     "metadata": {},
     "output_type": "display_data"
    },
    {
     "data": {
      "image/png": "[encoded data removed]",
      "text/plain": [
       "plot without title"
      ]
     },
     "metadata": {},
     "output_type": "display_data"
    }
   ],
   "source": [
    "plot.mattcc.curve(all.stats.df) + theme_minimal(base_size = 15) + colScale"
   ]
  },
  {
   "cell_type": "markdown",
   "metadata": {},
   "source": [
    "Now we'll do the same, only this time we'll plot the ROC curves. Recall that this is Sensitivity v. 1-Specificity, so Rory has named the axes accordingly. The function he wrote also allows you to label the area under the curve, but we don't do it here because....frankly, it'd be a mess with so many curves. "
   ]
  },
  {
   "cell_type": "code",
   "execution_count": 38,
   "metadata": {},
   "outputs": [
    {
     "data": {},
     "metadata": {},
     "output_type": "display_data"
    },
    {
     "data": {
      "image/png": "[encoded data removed]",
      "text/plain": [
       "plot without title"
      ]
     },
     "metadata": {},
     "output_type": "display_data"
    }
   ],
   "source": [
    "plot.roc.curve(all.stats.df, TRUE) + theme_minimal(base_size = 15) + colScale"
   ]
  },
  {
   "cell_type": "markdown",
   "metadata": {},
   "source": [
    "The last plot is a bit trickier, we're plotting \"recall\" v. precision. What are these exactly?\n",
    "\n",
    "* Recall: sensitivity; how good you are at only picking out \n",
    "* Precision:  PPV; how well you can pick out only the true positives (P/TP)\n",
    "\n",
    "What we're actually plotting here is PPV (positive predictive value) versus sensitivity. So I think we're just using synonyms here. The rest of the function just scales the plot from 0-1.\n",
    "\n",
    "The idea is we should try to maximize both things, so we can see that the GBM model does the best, again\n",
    "\n",
    "** Is it possible that the axis labels are switched?? **"
   ]
  },
  {
   "cell_type": "code",
   "execution_count": 39,
   "metadata": {},
   "outputs": [
    {
     "name": "stderr",
     "output_type": "stream",
     "text": [
      "Warning message:\n",
      "“Removed 34 rows containing missing values (geom_path).”"
     ]
    },
    {
     "data": {},
     "metadata": {},
     "output_type": "display_data"
    },
    {
     "data": {
      "image/png": "[encoded data removed]",
      "text/plain": [
       "plot without title"
      ]
     },
     "metadata": {},
     "output_type": "display_data"
    }
   ],
   "source": [
    "plot.precrecall.curve(all.stats.df) + theme_minimal(base_size = 15) + colScale"
   ]
  },
  {
   "cell_type": "markdown",
   "metadata": {
    "collapsed": true
   },
   "source": [
    "# Recreate figures but as png files"
   ]
  },
  {
   "cell_type": "code",
   "execution_count": 40,
   "metadata": {},
   "outputs": [
    {
     "data": {},
     "metadata": {},
     "output_type": "display_data"
    },
    {
     "data": {
      "text/html": [
       "<strong>png:</strong> 2"
      ],
      "text/latex": [
       "\\textbf{png:} 2"
      ],
      "text/markdown": [
       "**png:** 2"
      ],
      "text/plain": [
       "png \n",
       "  2 "
      ]
     },
     "metadata": {},
     "output_type": "display_data"
    }
   ],
   "source": [
    "png(\"./figures/seed20MCC.png\") \n",
    "plot.mattcc.curve(all.stats.df) + theme_minimal(base_size = 15) + colScale\n",
    "dev.off()"
   ]
  },
  {
   "cell_type": "code",
   "execution_count": 41,
   "metadata": {},
   "outputs": [
    {
     "data": {},
     "metadata": {},
     "output_type": "display_data"
    },
    {
     "data": {
      "text/html": [
       "<strong>png:</strong> 2"
      ],
      "text/latex": [
       "\\textbf{png:} 2"
      ],
      "text/markdown": [
       "**png:** 2"
      ],
      "text/plain": [
       "png \n",
       "  2 "
      ]
     },
     "metadata": {},
     "output_type": "display_data"
    }
   ],
   "source": [
    "png(\"./figures/seed20ROC.png\")\n",
    "plot.roc.curve(all.stats.df, TRUE) + theme_minimal(base_size = 15) + colScale\n",
    "dev.off()"
   ]
  },
  {
   "cell_type": "code",
   "execution_count": 42,
   "metadata": {},
   "outputs": [
    {
     "name": "stderr",
     "output_type": "stream",
     "text": [
      "Warning message:\n",
      "“Removed 34 rows containing missing values (geom_path).”"
     ]
    },
    {
     "data": {},
     "metadata": {},
     "output_type": "display_data"
    },
    {
     "data": {
      "text/html": [
       "<strong>png:</strong> 2"
      ],
      "text/latex": [
       "\\textbf{png:} 2"
      ],
      "text/markdown": [
       "**png:** 2"
      ],
      "text/plain": [
       "png \n",
       "  2 "
      ]
     },
     "metadata": {},
     "output_type": "display_data"
    }
   ],
   "source": [
    "png(\"./figures/seed20PreRec.png\")\n",
    "plot.precrecall.curve(all.stats.df) + theme_minimal(base_size = 15) + colScale\n",
    "dev.off()"
   ]
  },
  {
   "cell_type": "code",
   "execution_count": 43,
   "metadata": {},
   "outputs": [
    {
     "data": {
      "text/html": [
       "'xgb.Booster'"
      ],
      "text/latex": [
       "'xgb.Booster'"
      ],
      "text/markdown": [
       "'xgb.Booster'"
      ],
      "text/plain": [
       "[1] \"xgb.Booster\""
      ]
     },
     "metadata": {},
     "output_type": "display_data"
    }
   ],
   "source": [
    "# Load the model and get the importance matrix, plus combine the motif class info\n",
    "gbdt_medium <- xgb.load(\"saved_models/xgboost_TF_site_predict_seed20.10M.model\")\n",
    "motif.class$class <- lapply(motif.class$class, make.names, unique=TRUE)\n",
    "class(gbdt_medium)"
   ]
  },
  {
   "cell_type": "code",
   "execution_count": 44,
   "metadata": {},
   "outputs": [
    {
     "data": {},
     "metadata": {},
     "output_type": "display_data"
    },
    {
     "data": {
      "text/html": [
       "<strong>png:</strong> 2"
      ],
      "text/latex": [
       "\\textbf{png:} 2"
      ],
      "text/markdown": [
       "**png:** 2"
      ],
      "text/plain": [
       "png \n",
       "  2 "
      ]
     },
     "metadata": {},
     "output_type": "display_data"
    }
   ],
   "source": [
    "importance_matrix <- xgb.importance(colnames(X_train),model=gbdt_medium)\n",
    "\n",
    "df <- as_data_frame(importance_matrix)\n",
    "df.tf <- subset(df, Feature %in% unique(motif.class$class))\n",
    "df.notf <- subset(df, !(Feature %in% unique(motif.class$class)))\n",
    "tfclass.row <- c(\"TF_class\", unname(as.list(colSums(df.tf[!(colnames(df.tf) %in% c(\"Feature\"))]))) )\n",
    "names(tfclass.row) <- colnames(df)\n",
    "df.sum <- rbind(df.notf,tfclass.row)\n",
    "\n",
    "# Save to a png\n",
    "png(\"./figures/seed20ImpMatrix.png\")\n",
    "ggplot(data=df.sum, aes(x=reorder(Feature, Gain), y=Gain)) +\n",
    "    geom_bar(stat=\"identity\") +\n",
    "    coord_flip() +\n",
    "    theme_minimal(base_size = 30) +\n",
    "    labs(x = \"Feature\", y=\"Gain\")\n",
    "dev.off()"
   ]
  },
  {
   "cell_type": "code",
   "execution_count": null,
   "metadata": {
    "collapsed": true
   },
   "outputs": [],
   "source": []
  }
 ],
 "metadata": {
  "kernelspec": {
   "display_name": "R",
   "language": "R",
   "name": "ir"
  },
  "language_info": {
   "codemirror_mode": "r",
   "file_extension": ".r",
   "mimetype": "text/x-r-source",
   "name": "R",
   "pygments_lexer": "r",
   "version": "3.4.2"
  }
 },
 "nbformat": 4,
 "nbformat_minor": 1
}
