{
 "cells": [
  {
   "cell_type": "code",
   "execution_count": 2,
   "metadata": {},
   "outputs": [
    {
     "data": {
      "text/html": [
       "<ol class=list-inline>\n",
       "\t<li>'RUnit'</li>\n",
       "\t<li>'GenomicRanges'</li>\n",
       "\t<li>'GenomeInfoDb'</li>\n",
       "\t<li>'IRanges'</li>\n",
       "\t<li>'S4Vectors'</li>\n",
       "\t<li>'BiocGenerics'</li>\n",
       "\t<li>'parallel'</li>\n",
       "\t<li>'stats4'</li>\n",
       "\t<li>'RPostgreSQL'</li>\n",
       "\t<li>'DBI'</li>\n",
       "\t<li>'caTools'</li>\n",
       "\t<li>'caret'</li>\n",
       "\t<li>'lattice'</li>\n",
       "\t<li>'stringr'</li>\n",
       "\t<li>'ROCR'</li>\n",
       "\t<li>'gplots'</li>\n",
       "\t<li>'pROC'</li>\n",
       "\t<li>'tidyr'</li>\n",
       "\t<li>'dplyr'</li>\n",
       "\t<li>'glmnet'</li>\n",
       "\t<li>'foreach'</li>\n",
       "\t<li>'Matrix'</li>\n",
       "\t<li>'xgboost'</li>\n",
       "\t<li>'ggplot2'</li>\n",
       "\t<li>'RColorBrewer'</li>\n",
       "\t<li>'stats'</li>\n",
       "\t<li>'graphics'</li>\n",
       "\t<li>'grDevices'</li>\n",
       "\t<li>'utils'</li>\n",
       "\t<li>'datasets'</li>\n",
       "\t<li>'methods'</li>\n",
       "\t<li>'base'</li>\n",
       "</ol>\n"
      ],
      "text/latex": [
       "\\begin{enumerate*}\n",
       "\\item 'RUnit'\n",
       "\\item 'GenomicRanges'\n",
       "\\item 'GenomeInfoDb'\n",
       "\\item 'IRanges'\n",
       "\\item 'S4Vectors'\n",
       "\\item 'BiocGenerics'\n",
       "\\item 'parallel'\n",
       "\\item 'stats4'\n",
       "\\item 'RPostgreSQL'\n",
       "\\item 'DBI'\n",
       "\\item 'caTools'\n",
       "\\item 'caret'\n",
       "\\item 'lattice'\n",
       "\\item 'stringr'\n",
       "\\item 'ROCR'\n",
       "\\item 'gplots'\n",
       "\\item 'pROC'\n",
       "\\item 'tidyr'\n",
       "\\item 'dplyr'\n",
       "\\item 'glmnet'\n",
       "\\item 'foreach'\n",
       "\\item 'Matrix'\n",
       "\\item 'xgboost'\n",
       "\\item 'ggplot2'\n",
       "\\item 'RColorBrewer'\n",
       "\\item 'stats'\n",
       "\\item 'graphics'\n",
       "\\item 'grDevices'\n",
       "\\item 'utils'\n",
       "\\item 'datasets'\n",
       "\\item 'methods'\n",
       "\\item 'base'\n",
       "\\end{enumerate*}\n"
      ],
      "text/markdown": [
       "1. 'RUnit'\n",
       "2. 'GenomicRanges'\n",
       "3. 'GenomeInfoDb'\n",
       "4. 'IRanges'\n",
       "5. 'S4Vectors'\n",
       "6. 'BiocGenerics'\n",
       "7. 'parallel'\n",
       "8. 'stats4'\n",
       "9. 'RPostgreSQL'\n",
       "10. 'DBI'\n",
       "11. 'caTools'\n",
       "12. 'caret'\n",
       "13. 'lattice'\n",
       "14. 'stringr'\n",
       "15. 'ROCR'\n",
       "16. 'gplots'\n",
       "17. 'pROC'\n",
       "18. 'tidyr'\n",
       "19. 'dplyr'\n",
       "20. 'glmnet'\n",
       "21. 'foreach'\n",
       "22. 'Matrix'\n",
       "23. 'xgboost'\n",
       "24. 'ggplot2'\n",
       "25. 'RColorBrewer'\n",
       "26. 'stats'\n",
       "27. 'graphics'\n",
       "28. 'grDevices'\n",
       "29. 'utils'\n",
       "30. 'datasets'\n",
       "31. 'methods'\n",
       "32. 'base'\n",
       "\n",
       "\n"
      ],
      "text/plain": [
       " [1] \"RUnit\"         \"GenomicRanges\" \"GenomeInfoDb\"  \"IRanges\"      \n",
       " [5] \"S4Vectors\"     \"BiocGenerics\"  \"parallel\"      \"stats4\"       \n",
       " [9] \"RPostgreSQL\"   \"DBI\"           \"caTools\"       \"caret\"        \n",
       "[13] \"lattice\"       \"stringr\"       \"ROCR\"          \"gplots\"       \n",
       "[17] \"pROC\"          \"tidyr\"         \"dplyr\"         \"glmnet\"       \n",
       "[21] \"foreach\"       \"Matrix\"        \"xgboost\"       \"ggplot2\"      \n",
       "[25] \"RColorBrewer\"  \"stats\"         \"graphics\"      \"grDevices\"    \n",
       "[29] \"utils\"         \"datasets\"      \"methods\"       \"base\"         "
      ]
     },
     "metadata": {},
     "output_type": "display_data"
    }
   ],
   "source": [
    "libs <- c(\n",
    "    'RColorBrewer',\n",
    "    'ggplot2',\n",
    "    'xgboost',\n",
    "    'glmnet',\n",
    "    'dplyr',\n",
    "    'tidyr',\n",
    "    'pROC',\n",
    "    'ROCR',\n",
    "    'stringr',\n",
    "    'caret',\n",
    "    'caTools'\n",
    ")\n",
    "\n",
    "for (lib in libs) {\n",
    "        if (!require(lib, character.only = TRUE, quietly = TRUE)) {\n",
    "            install.packages(lib, repos='http://cran.us.r-project.org')\n",
    "        }\n",
    "}\n",
    "\n",
    "(.packages())\n",
    "\n",
    "source(\"my_R_functions/utility_functions.R\")\n",
    "source(\"my_R_functions/stat_functions.R\")\n",
    "source(\"my_R_functions/plot_functions.R\")\n",
    "source(\"/ssd/mrichard/github/BDDS/trenadb/src/utils.R\")\n",
    "source(\"/ssd/mrichard/github/BDDS/footprints/testdb/src/dbFunctions.R\")"
   ]
  },
  {
   "cell_type": "code",
   "execution_count": 3,
   "metadata": {},
   "outputs": [
    {
     "data": {
      "text/html": [
       "<table>\n",
       "<thead><tr><th scope=col>motif</th><th scope=col>TF</th><th scope=col>class</th><th scope=col>family</th></tr></thead>\n",
       "<tbody>\n",
       "\t<tr><td>MA0001.1                             </td><td>AGL3                                 </td><td>Other Alpha-Helix                    </td><td>MADS                                 </td></tr>\n",
       "\t<tr><td>MA0002.1                             </td><td>RUNX1                                </td><td>Ig-fold                              </td><td>Runt                                 </td></tr>\n",
       "\t<tr><td>MA0003.1                             </td><td>TFAP2A                               </td><td>Zipper-Type                          </td><td>Helix-Loop-Helix                     </td></tr>\n",
       "\t<tr><td>MA0004.1                             </td><td>Arnt                                 </td><td>Basic helix-loop-helix factors (bHLH)</td><td>PAS domain factors                   </td></tr>\n",
       "\t<tr><td>MA0005.1                             </td><td>AG                                   </td><td>Other Alpha-Helix                    </td><td>MADS                                 </td></tr>\n",
       "\t<tr><td>MA0006.1                             </td><td>Ahr::Arnt                            </td><td>Basic helix-loop-helix factors (bHLH)</td><td>PAS domain factors                   </td></tr>\n",
       "</tbody>\n",
       "</table>\n"
      ],
      "text/latex": [
       "\\begin{tabular}{r|llll}\n",
       " motif & TF & class & family\\\\\n",
       "\\hline\n",
       "\t MA0001.1                              & AGL3                                  & Other Alpha-Helix                     & MADS                                 \\\\\n",
       "\t MA0002.1                              & RUNX1                                 & Ig-fold                               & Runt                                 \\\\\n",
       "\t MA0003.1                              & TFAP2A                                & Zipper-Type                           & Helix-Loop-Helix                     \\\\\n",
       "\t MA0004.1                              & Arnt                                  & Basic helix-loop-helix factors (bHLH) & PAS domain factors                   \\\\\n",
       "\t MA0005.1                              & AG                                    & Other Alpha-Helix                     & MADS                                 \\\\\n",
       "\t MA0006.1                              & Ahr::Arnt                             & Basic helix-loop-helix factors (bHLH) & PAS domain factors                   \\\\\n",
       "\\end{tabular}\n"
      ],
      "text/markdown": [
       "\n",
       "motif | TF | class | family | \n",
       "|---|---|---|---|---|---|\n",
       "| MA0001.1                              | AGL3                                  | Other Alpha-Helix                     | MADS                                  | \n",
       "| MA0002.1                              | RUNX1                                 | Ig-fold                               | Runt                                  | \n",
       "| MA0003.1                              | TFAP2A                                | Zipper-Type                           | Helix-Loop-Helix                      | \n",
       "| MA0004.1                              | Arnt                                  | Basic helix-loop-helix factors (bHLH) | PAS domain factors                    | \n",
       "| MA0005.1                              | AG                                    | Other Alpha-Helix                     | MADS                                  | \n",
       "| MA0006.1                              | Ahr::Arnt                             | Basic helix-loop-helix factors (bHLH) | PAS domain factors                    | \n",
       "\n",
       "\n"
      ],
      "text/plain": [
       "  motif    TF        class                                 family            \n",
       "1 MA0001.1 AGL3      Other Alpha-Helix                     MADS              \n",
       "2 MA0002.1 RUNX1     Ig-fold                               Runt              \n",
       "3 MA0003.1 TFAP2A    Zipper-Type                           Helix-Loop-Helix  \n",
       "4 MA0004.1 Arnt      Basic helix-loop-helix factors (bHLH) PAS domain factors\n",
       "5 MA0005.1 AG        Other Alpha-Helix                     MADS              \n",
       "6 MA0006.1 Ahr::Arnt Basic helix-loop-helix factors (bHLH) PAS domain factors"
      ]
     },
     "metadata": {},
     "output_type": "display_data"
    }
   ],
   "source": [
    "load(\"Rdata_files/motif_class_pairs.Rdata\")\n",
    "head(motif.class)"
   ]
  },
  {
   "cell_type": "markdown",
   "metadata": {},
   "source": [
    "Now we're going to load both datasets and combine them. In doing so, we'll also tag them with something to tell us what seed they came from..."
   ]
  },
  {
   "cell_type": "code",
   "execution_count": 16,
   "metadata": {
    "collapsed": true
   },
   "outputs": [],
   "source": [
    "load(\"/ssd/mrichard/data/all.TF.df.fimo.hint.well.seed16.annotated.9.Rdata\")"
   ]
  },
  {
   "cell_type": "code",
   "execution_count": 17,
   "metadata": {
    "collapsed": true
   },
   "outputs": [],
   "source": [
    "full.16 <- all.TF.df.fimo.hint.well.annotated\n",
    "rm(all.TF.df.fimo.hint.well.annotated)"
   ]
  },
  {
   "cell_type": "code",
   "execution_count": 18,
   "metadata": {
    "collapsed": true
   },
   "outputs": [],
   "source": [
    "load(\"/ssd/mrichard/data/all.TF.df.fimo.hint.well.seed20.annotated.9.Rdata\")"
   ]
  },
  {
   "cell_type": "code",
   "execution_count": 19,
   "metadata": {
    "collapsed": true
   },
   "outputs": [],
   "source": [
    "full.20 <- all.TF.df.fimo.hint.well.annotated\n",
    "rm(all.TF.df.fimo.hint.well.annotated)"
   ]
  },
  {
   "cell_type": "markdown",
   "metadata": {},
   "source": [
    "Our 2 datasets are now loaded, we need to put them together; let's remember what they look like:"
   ]
  },
  {
   "cell_type": "code",
   "execution_count": 9,
   "metadata": {},
   "outputs": [
    {
     "name": "stdout",
     "output_type": "stream",
     "text": [
      "Classes ‘tbl_df’, ‘tbl’ and 'data.frame':\t24720556 obs. of  39 variables:\n",
      " $ motifname                               : chr  \"Mmusculus-jaspar2016-Nfe2l2-MA0150.2\" \"Mmusculus-jaspar2016-Bach1::Mafk-MA0591.1\" \"Hsapiens-jaspar2016-JUND(var.2)-MA0492.1\" \"Hsapiens-jaspar2016-ATF7-MA0834.1\" ...\n",
      " $ chrom                                   : chr  \"1\" \"1\" \"1\" \"1\" ...\n",
      " $ start                                   : int  1677938 1677939 1828558 2255916 2255789 2255823 2255891 2255917 2255949 2255983 ...\n",
      " $ endpos                                  : int  1677952 1677953 1828572 2255929 2255803 2255837 2255905 2255931 2255963 2255997 ...\n",
      " $ strand                                  : chr  \"+\" \"+\" \"-\" \"-\" ...\n",
      " $ motifscore                              : num  13.35 11.71 9.73 8.03 13.72 ...\n",
      " $ pval                                    : num  1.13e-05 1.37e-05 9.18e-05 6.68e-05 1.48e-05 1.48e-05 1.48e-05 8.28e-06 1.48e-05 1.48e-05 ...\n",
      " $ sequence                                : chr  \"CACTGTGACTCCGCA\" \"ACTGTGACTCCGCAG\" \"TTTTGTGAGGTCACT\" \"AAATGAGGTCACTG\" ...\n",
      " $ loc                                     : chr  \"chr1:1677938-1677952\" \"chr1:1677939-1677953\" \"chr1:1828558-1828572\" \"chr1:2255916-2255929\" ...\n",
      " $ cs_hit                                  : num  1 1 1 1 1 1 1 1 1 1 ...\n",
      " $ h_max_score                             : num  2170 2170 214 512 20 266 451 512 524 500 ...\n",
      " $ w_min_score                             : num  -16.83 -16.83 -6.47 -27.47 -10.51 ...\n",
      " $ h_frac                                  : num  0.4783 0.4565 0.2174 0.1957 0.0652 ...\n",
      " $ w_frac                                  : num  0.16 0.16 0.04 0.16 0.12 0.28 0.36 0.16 0.16 0.16 ...\n",
      " $ gc_content                              : num  0.612 0.617 0.328 0.517 0.488 ...\n",
      " $ asinh_tss_dist                          : num  10.3 10.3 11.5 10.9 10.9 ...\n",
      " $ Basic helix-loop-helix factors (bHLH)   : num  0 0 0 0 0 0 0 0 0 0 ...\n",
      " $ Basic leucine zipper factors (bZIP)     : num  1 1 1 1 1 1 1 1 1 1 ...\n",
      " $ C2H2 zinc finger factors                : num  0 0 0 0 0 0 0 0 0 0 ...\n",
      " $ Fork head / winged helix factors        : num  0 0 0 0 0 0 0 0 0 0 ...\n",
      " $ Helix-Turn-Helix                        : num  0 0 0 0 0 0 0 0 0 0 ...\n",
      " $ Heteromeric CCAAT-binding factors       : num  0 0 0 0 0 0 0 0 0 0 ...\n",
      " $ High-mobility group (HMG) domain factors: num  0 0 0 0 0 0 0 0 0 0 ...\n",
      " $ Homeo domain factors                    : num  0 0 0 0 0 0 0 0 0 0 ...\n",
      " $ Ig-fold                                 : num  0 0 0 0 0 0 0 0 0 0 ...\n",
      " $ MADS box factors                        : num  0 0 0 0 0 0 0 0 0 0 ...\n",
      " $ Nuclear receptors with C4 zinc fingers  : num  0 0 0 0 0 0 0 0 0 0 ...\n",
      " $ Other                                   : num  0 0 0 0 0 0 0 0 0 0 ...\n",
      " $ Other Alpha-Helix                       : num  0 0 0 0 0 0 0 0 0 0 ...\n",
      " $ Other C4 zinc finger-type factors       : num  0 0 0 0 0 0 0 0 0 0 ...\n",
      " $ Paired box factors                      : num  0 0 0 0 0 0 0 0 0 0 ...\n",
      " $ Rel homology region (RHR) factors       : num  0 0 0 0 0 0 0 0 0 0 ...\n",
      " $ Runt domain factors                     : num  0 0 0 0 0 0 0 0 0 0 ...\n",
      " $ SMAD/NF-1 DNA-binding domain factors    : num  0 0 0 0 0 0 0 0 0 0 ...\n",
      " $ STAT domain factors                     : num  0 0 0 0 0 0 0 0 0 0 ...\n",
      " $ Tryptophan cluster factors              : num  0 0 0 0 0 0 0 0 0 0 ...\n",
      " $ Winged Helix-Turn-Helix                 : num  0 0 0 0 0 0 0 0 0 0 ...\n",
      " $ Zinc-coordinating                       : num  0 0 0 0 0 0 0 0 0 0 ...\n",
      " $ Zipper-Type                             : num  0 0 0 0 0 0 0 0 0 0 ...\n"
     ]
    }
   ],
   "source": [
    "str(full.16)"
   ]
  },
  {
   "cell_type": "code",
   "execution_count": 20,
   "metadata": {},
   "outputs": [
    {
     "name": "stdout",
     "output_type": "stream",
     "text": [
      "Classes ‘tbl_df’, ‘tbl’ and 'data.frame':\t24720556 obs. of  39 variables:\n",
      " $ motifname                               : chr  \"Mmusculus-jaspar2016-Nfe2l2-MA0150.2\" \"Mmusculus-jaspar2016-Bach1::Mafk-MA0591.1\" \"Hsapiens-jaspar2016-JUND(var.2)-MA0492.1\" \"Hsapiens-jaspar2016-ATF7-MA0834.1\" ...\n",
      " $ chrom                                   : chr  \"1\" \"1\" \"1\" \"1\" ...\n",
      " $ start                                   : int  1677938 1677939 1828558 2255916 2255789 2255823 2255891 2255917 2255949 2255983 ...\n",
      " $ endpos                                  : int  1677952 1677953 1828572 2255929 2255803 2255837 2255905 2255931 2255963 2255997 ...\n",
      " $ strand                                  : chr  \"+\" \"+\" \"-\" \"-\" ...\n",
      " $ motifscore                              : num  13.35 11.71 9.73 8.03 13.72 ...\n",
      " $ pval                                    : num  1.13e-05 1.37e-05 9.18e-05 6.68e-05 1.48e-05 1.48e-05 1.48e-05 8.28e-06 1.48e-05 1.48e-05 ...\n",
      " $ sequence                                : chr  \"CACTGTGACTCCGCA\" \"ACTGTGACTCCGCAG\" \"TTTTGTGAGGTCACT\" \"AAATGAGGTCACTG\" ...\n",
      " $ loc                                     : chr  \"chr1:1677938-1677952\" \"chr1:1677939-1677953\" \"chr1:1828558-1828572\" \"chr1:2255916-2255929\" ...\n",
      " $ cs_hit                                  : num  1 1 1 1 1 1 1 1 1 1 ...\n",
      " $ h_max_score                             : num  2096 2096 207 465 257 ...\n",
      " $ w_min_score                             : num  -33.02 -33.02 -5.39 -34 -33.62 ...\n",
      " $ h_frac                                  : num  0.48 0.46 0.22 0.14 0.08 0.22 0.28 0.14 0.2 0.28 ...\n",
      " $ w_frac                                  : num  0.1333 0.1333 0.0667 0.3 0.1667 ...\n",
      " $ gc_content                              : num  0.612 0.617 0.328 0.517 0.488 ...\n",
      " $ asinh_tss_dist                          : num  10.3 10.3 11.5 10.9 10.9 ...\n",
      " $ Basic helix-loop-helix factors (bHLH)   : num  0 0 0 0 0 0 0 0 0 0 ...\n",
      " $ Basic leucine zipper factors (bZIP)     : num  1 1 1 1 1 1 1 1 1 1 ...\n",
      " $ C2H2 zinc finger factors                : num  0 0 0 0 0 0 0 0 0 0 ...\n",
      " $ Fork head / winged helix factors        : num  0 0 0 0 0 0 0 0 0 0 ...\n",
      " $ Helix-Turn-Helix                        : num  0 0 0 0 0 0 0 0 0 0 ...\n",
      " $ Heteromeric CCAAT-binding factors       : num  0 0 0 0 0 0 0 0 0 0 ...\n",
      " $ High-mobility group (HMG) domain factors: num  0 0 0 0 0 0 0 0 0 0 ...\n",
      " $ Homeo domain factors                    : num  0 0 0 0 0 0 0 0 0 0 ...\n",
      " $ Ig-fold                                 : num  0 0 0 0 0 0 0 0 0 0 ...\n",
      " $ MADS box factors                        : num  0 0 0 0 0 0 0 0 0 0 ...\n",
      " $ Nuclear receptors with C4 zinc fingers  : num  0 0 0 0 0 0 0 0 0 0 ...\n",
      " $ Other                                   : num  0 0 0 0 0 0 0 0 0 0 ...\n",
      " $ Other Alpha-Helix                       : num  0 0 0 0 0 0 0 0 0 0 ...\n",
      " $ Other C4 zinc finger-type factors       : num  0 0 0 0 0 0 0 0 0 0 ...\n",
      " $ Paired box factors                      : num  0 0 0 0 0 0 0 0 0 0 ...\n",
      " $ Rel homology region (RHR) factors       : num  0 0 0 0 0 0 0 0 0 0 ...\n",
      " $ Runt domain factors                     : num  0 0 0 0 0 0 0 0 0 0 ...\n",
      " $ SMAD/NF-1 DNA-binding domain factors    : num  0 0 0 0 0 0 0 0 0 0 ...\n",
      " $ STAT domain factors                     : num  0 0 0 0 0 0 0 0 0 0 ...\n",
      " $ Tryptophan cluster factors              : num  0 0 0 0 0 0 0 0 0 0 ...\n",
      " $ Winged Helix-Turn-Helix                 : num  0 0 0 0 0 0 0 0 0 0 ...\n",
      " $ Zinc-coordinating                       : num  0 0 0 0 0 0 0 0 0 0 ...\n",
      " $ Zipper-Type                             : num  0 0 0 0 0 0 0 0 0 0 ...\n"
     ]
    }
   ],
   "source": [
    "str(full.20)"
   ]
  },
  {
   "cell_type": "markdown",
   "metadata": {},
   "source": [
    "## Part 1: Just add them\n",
    "\n",
    "First, let's try just stacking the data frames and removing the duplicates by taking the union"
   ]
  },
  {
   "cell_type": "code",
   "execution_count": 21,
   "metadata": {
    "collapsed": true
   },
   "outputs": [],
   "source": [
    "full.data <- dplyr::union(full.16, full.20)"
   ]
  },
  {
   "cell_type": "code",
   "execution_count": 22,
   "metadata": {},
   "outputs": [
    {
     "name": "stdout",
     "output_type": "stream",
     "text": [
      "Classes ‘tbl_df’, ‘tbl’ and 'data.frame':\t28912150 obs. of  39 variables:\n",
      " $ motifname                               : chr  \"Hsapiens-jaspar2016-ZNF143-MA0088.2\" \"Hsapiens-jaspar2016-ZNF143-MA0088.2\" \"Hsapiens-jaspar2016-ZNF143-MA0088.2\" \"Hsapiens-jaspar2016-ZNF143-MA0088.2\" ...\n",
      " $ chrom                                   : chr  \"Y\" \"Y\" \"Y\" \"Y\" ...\n",
      " $ start                                   : int  17944333 3242941 20943555 11099886 15339505 11139731 13387665 15515701 20731514 9209315 ...\n",
      " $ endpos                                  : int  17944348 3242956 20943570 11099901 15339520 11139746 13387680 15515716 20731529 9209330 ...\n",
      " $ strand                                  : chr  \"-\" \"+\" \"-\" \"-\" ...\n",
      " $ motifscore                              : num  10.56 2.24 7.84 9.65 2.07 ...\n",
      " $ pval                                    : num  6.84e-06 9.32e-05 1.71e-05 9.36e-06 9.77e-05 8.42e-05 3.57e-05 7.80e-05 1.19e-05 4.80e-05 ...\n",
      " $ sequence                                : chr  \"CACCCTCGGTGCACTG\" \"TTCCCACGATGGCACC\" \"CACCCACAGAGCCTCA\" \"TTCCCATCAGGCCCTG\" ...\n",
      " $ loc                                     : chr  \"chrY:17944333-17944348\" \"chrY:3242941-3242956\" \"chrY:20943555-20943570\" \"chrY:11099886-11099901\" ...\n",
      " $ cs_hit                                  : num  0 0 0 0 0 0 0 0 0 0 ...\n",
      " $ h_max_score                             : num  7 0 10 43 17 110 58 24 133 3 ...\n",
      " $ w_min_score                             : num  0 0 0 0 0 ...\n",
      " $ h_frac                                  : num  0.02 0 0.04 0.06 0.04 0.06 0.02 0.02 0.02 0.02 ...\n",
      " $ w_frac                                  : num  0 0 0 0 0 ...\n",
      " $ gc_content                              : num  0.567 0.587 0.537 0.622 0.363 ...\n",
      " $ asinh_tss_dist                          : num  11.8 13.3 12.8 15 14.3 ...\n",
      " $ Basic helix-loop-helix factors (bHLH)   : num  0 0 0 0 0 0 0 0 0 0 ...\n",
      " $ Basic leucine zipper factors (bZIP)     : num  0 0 0 0 0 0 0 0 0 0 ...\n",
      " $ C2H2 zinc finger factors                : num  1 1 1 1 1 1 1 1 1 1 ...\n",
      " $ Fork head / winged helix factors        : num  0 0 0 0 0 0 0 0 0 0 ...\n",
      " $ Helix-Turn-Helix                        : num  0 0 0 0 0 0 0 0 0 0 ...\n",
      " $ Heteromeric CCAAT-binding factors       : num  0 0 0 0 0 0 0 0 0 0 ...\n",
      " $ High-mobility group (HMG) domain factors: num  0 0 0 0 0 0 0 0 0 0 ...\n",
      " $ Homeo domain factors                    : num  0 0 0 0 0 0 0 0 0 0 ...\n",
      " $ Ig-fold                                 : num  0 0 0 0 0 0 0 0 0 0 ...\n",
      " $ MADS box factors                        : num  0 0 0 0 0 0 0 0 0 0 ...\n",
      " $ Nuclear receptors with C4 zinc fingers  : num  0 0 0 0 0 0 0 0 0 0 ...\n",
      " $ Other                                   : num  0 0 0 0 0 0 0 0 0 0 ...\n",
      " $ Other Alpha-Helix                       : num  0 0 0 0 0 0 0 0 0 0 ...\n",
      " $ Other C4 zinc finger-type factors       : num  0 0 0 0 0 0 0 0 0 0 ...\n",
      " $ Paired box factors                      : num  0 0 0 0 0 0 0 0 0 0 ...\n",
      " $ Rel homology region (RHR) factors       : num  0 0 0 0 0 0 0 0 0 0 ...\n",
      " $ Runt domain factors                     : num  0 0 0 0 0 0 0 0 0 0 ...\n",
      " $ SMAD/NF-1 DNA-binding domain factors    : num  0 0 0 0 0 0 0 0 0 0 ...\n",
      " $ STAT domain factors                     : num  0 0 0 0 0 0 0 0 0 0 ...\n",
      " $ Tryptophan cluster factors              : num  0 0 0 0 0 0 0 0 0 0 ...\n",
      " $ Winged Helix-Turn-Helix                 : num  0 0 0 0 0 0 0 0 0 0 ...\n",
      " $ Zinc-coordinating                       : num  0 0 0 0 0 0 0 0 0 0 ...\n",
      " $ Zipper-Type                             : num  0 0 0 0 0 0 0 0 0 0 ...\n"
     ]
    }
   ],
   "source": [
    "str(full.data)"
   ]
  },
  {
   "cell_type": "code",
   "execution_count": 23,
   "metadata": {},
   "outputs": [],
   "source": [
    "all.TF.df.fimo.hint.well.annotated <- full.data\n",
    "save(all.TF.df.fimo.hint.well.annotated, file = \"/ssd/mrichard/data/stacked.annotated.9.Rdata\")"
   ]
  },
  {
   "cell_type": "markdown",
   "metadata": {},
   "source": [
    "## Part 2: Adding Features\n",
    "\n",
    "Alternatively, we can treat the 16 and 20 seed hits separately; thus, we can join the 2 dataframes together, being sure to keep the 2 sets of Wellington/Hint scores and fractions separate as well. "
   ]
  },
  {
   "cell_type": "code",
   "execution_count": null,
   "metadata": {
    "collapsed": true
   },
   "outputs": [],
   "source": [
    "# This will require a full outer join, where we put a 0 for any missing values\n",
    "# We will also have to join on all the other columns\n"
   ]
  }
 ],
 "metadata": {
  "kernelspec": {
   "display_name": "R",
   "language": "R",
   "name": "ir"
  },
  "language_info": {
   "codemirror_mode": "r",
   "file_extension": ".r",
   "mimetype": "text/x-r-source",
   "name": "R",
   "pygments_lexer": "r",
   "version": "3.4.1"
  }
 },
 "nbformat": 4,
 "nbformat_minor": 2
}
