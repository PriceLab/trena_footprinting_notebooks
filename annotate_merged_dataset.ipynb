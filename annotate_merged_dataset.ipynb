{
 "cells": [
  {
   "cell_type": "code",
   "execution_count": 3,
   "metadata": {
    "collapsed": false
   },
   "outputs": [],
   "source": [
    "libs <- c(\n",
    "    'tidyverse',\n",
    "    'stringr',\n",
    "    'GenomicRanges',\n",
    "    'RPostgreSQL',\n",
    "    'doMC',\n",
    "    'numbers',\n",
    "    'doParallel',\n",
    "    'Matrix'\n",
    "\n",
    ")\n",
    "\n",
    "for (lib in libs) {\n",
    "        if (!require(lib, character.only = TRUE, quietly = TRUE)) {\n",
    "            install.packages(lib, repos='http://cran.us.r-project.org')\n",
    "        }\n",
    "}\n",
    "\n",
    "library(BSgenome.Hsapiens.UCSC.hg38)\n",
    "hg38 = BSgenome.Hsapiens.UCSC.hg38\n",
    "\n",
    "source(\"my_R_functions/utility_functions.R\")\n",
    "source(\"my_R_functions/stat_functions.R\")\n",
    "source(\"my_R_functions/plot_functions.R\")\n",
    "source(\"~/git-repos/BDDS/trenadb/src/utils.R\")\n",
    "source(\"~/git-repos/BDDS/footprints/testdb/src/dbFunctions.R\")"
   ]
  },
  {
   "cell_type": "code",
   "execution_count": 4,
   "metadata": {
    "collapsed": true
   },
   "outputs": [],
   "source": [
    "load(\"Rdata_files/Tfmotifmap.Rdata\")"
   ]
  },
  {
   "cell_type": "code",
   "execution_count": 5,
   "metadata": {
    "collapsed": false
   },
   "outputs": [
    {
     "name": "stderr",
     "output_type": "stream",
     "text": [
      "Parsed with column specification:\n",
      "cols(\n",
      "  ID = col_character(),\n",
      "  class = col_character(),\n",
      "  family = col_character()\n",
      ")\n"
     ]
    }
   ],
   "source": [
    "relevant_motifs <- unique(unlist(TFs.to.motifs))\n",
    "\n",
    "read_delim(\"text_data_files/motif_class_fam\", delim = \"\\t\") %>%\n",
    "    # clean up and subset to only relevant motifs\n",
    "    rename(\"ID\" = \"motifname\") %>%\n",
    "    select(motifname, class) %>%\n",
    "    mutate_all(str_trim) %>%\n",
    "    filter(motifname %in% relevant_motifs) %>% \n",
    "    # fix double classes\n",
    "    mutate(class = str_split(class, \"::\")) %>% \n",
    "    unnest(class) %>%\n",
    "    # create one-hot(ish, some double matches) version\n",
    "    mutate(dummy_yesno = 1) %>%\n",
    "    distinct %>%\n",
    "    spread(class, dummy_yesno, fill = 0) ->\n",
    "    motif_class_hot"
   ]
  },
  {
   "cell_type": "code",
   "execution_count": 6,
   "metadata": {
    "collapsed": true
   },
   "outputs": [],
   "source": [
    "load(\"/local/rory/all.TF.df.fimo.hint.well.9.Rdata\")"
   ]
  },
  {
   "cell_type": "markdown",
   "metadata": {},
   "source": [
    "## merge in TF classes"
   ]
  },
  {
   "cell_type": "code",
   "execution_count": 7,
   "metadata": {
    "collapsed": false
   },
   "outputs": [
    {
     "name": "stderr",
     "output_type": "stream",
     "text": [
      "Joining, by = \"motifname\"\n"
     ]
    }
   ],
   "source": [
    "all.TF.df.fimo.hint.well.annotated <- left_join(all.TF.df.fimo.hint.well, motif_class_hot)"
   ]
  },
  {
   "cell_type": "code",
   "execution_count": null,
   "metadata": {
    "collapsed": false
   },
   "outputs": [],
   "source": [
    "dim(all.TF.df.fimo.hint.well.annotated)\n",
    "dim(all.TF.df.fimo.hint.well)"
   ]
  },
  {
   "cell_type": "markdown",
   "metadata": {},
   "source": [
    "## merge in gc content"
   ]
  },
  {
   "cell_type": "code",
   "execution_count": null,
   "metadata": {
    "collapsed": true
   },
   "outputs": [],
   "source": [
    "# TODO: runs out of memory on pnr 49 dataset -- make more efficient?"
   ]
  },
  {
   "cell_type": "code",
   "execution_count": null,
   "metadata": {
    "collapsed": false
   },
   "outputs": [],
   "source": [
    "get_gc_content <- function(start_col, end_col, chrom_col, b=100) {\n",
    "    require(GenomicRanges)\n",
    "    \n",
    "    window_center <- round((start_col + end_col)/2)\n",
    "    windows <- getSeq(hg38, paste0(\"chr\",chrom_col), window_center-b, window_center+b)\n",
    "\n",
    "    alph_freq <- alphabetFrequency(windows)\n",
    "    gc_content <- rowSums(alph_freq[,c(\"C\",\"G\")])/(2*b+1)\n",
    "    \n",
    "    return(gc_content)\n",
    "}"
   ]
  },
  {
   "cell_type": "code",
   "execution_count": null,
   "metadata": {
    "collapsed": false
   },
   "outputs": [],
   "source": [
    "all.TF.df.fimo.hint.well.annotated %>%\n",
    "    mutate(\"gc_content\" = get_gc_content(start,endpos,chrom)) ->\n",
    "    all.TF.df.fimo.hint.well.annotated"
   ]
  },
  {
   "cell_type": "markdown",
   "metadata": {},
   "source": [
    "## merge in tss distance"
   ]
  },
  {
   "cell_type": "code",
   "execution_count": null,
   "metadata": {
    "collapsed": false
   },
   "outputs": [],
   "source": [
    "db_gtf <- dbConnect(PostgreSQL(), user= \"trena\", password=\"trena\", dbname=\"gtf\", host=\"whovian\")\n",
    "query <- \"select * from hg38human where moleculetype='gene' and gene_biotype='protein_coding'\"\n",
    "tss_raw_table <- dbGetQuery(db_gtf, query)[, c(\"chr\", \"gene_name\", \"start\", \"endpos\",\"strand\")]"
   ]
  },
  {
   "cell_type": "code",
   "execution_count": null,
   "metadata": {
    "collapsed": false
   },
   "outputs": [],
   "source": [
    "tss_raw_table %>%\n",
    "    mutate(ref = ifelse(strand == '+', start, endpos)) %>%\n",
    "    select(chr, ref) %>%\n",
    "    rename(c(\"chr\" = \"chrom\", \"ref\"=\"ts_start\")) %>%\n",
    "    filter(!(chrom %in% c('chrMT','chrX','chrY'))) %>%\n",
    "    mutate(chrom=str_sub(chrom,  start = 4)) ->\n",
    "    tss_tbl"
   ]
  },
  {
   "cell_type": "code",
   "execution_count": null,
   "metadata": {
    "collapsed": false
   },
   "outputs": [],
   "source": [
    "motif_gr <- makeGRangesFromDataFrame(all.TF.df.fimo.hint.well.annotated, start.field=\"start\", end.field=\"endpos\")\n",
    "tss_gr <- makeGRangesFromDataFrame(tss_tbl, start.field=\"ts_start\", end.field=\"ts_start\")\n",
    "dist_to_nearest_tss <- distanceToNearest(motif_gr, tss_gr, select=\"arbitrary\")\n",
    "tss_dists <- mcols(dist_to_nearest_tss)[,1]"
   ]
  },
  {
   "cell_type": "code",
   "execution_count": null,
   "metadata": {
    "collapsed": false
   },
   "outputs": [],
   "source": [
    "all.TF.df.fimo.hint.well.annotated %>%\n",
    "    mutate(asinh_tss_dist = asinh(tss_dists)) ->\n",
    "    all.TF.df.fimo.hint.well.annotated"
   ]
  },
  {
   "cell_type": "markdown",
   "metadata": {},
   "source": [
    "## Save data"
   ]
  },
  {
   "cell_type": "code",
   "execution_count": 8,
   "metadata": {
    "collapsed": true
   },
   "outputs": [],
   "source": [
    "# load(\"/local/rory/all.TF.df.fimo.hint.well.annotated.9.Rdata\")"
   ]
  },
  {
   "cell_type": "code",
   "execution_count": 9,
   "metadata": {
    "collapsed": false
   },
   "outputs": [],
   "source": [
    "# change hint and wellington counts to fractions\n",
    "# rearrange column order to keep TF classes last. \n",
    "\n",
    "all.TF.df.fimo.hint.well.annotated %>%\n",
    "mutate(h_frac = h_count/max(h_count)) %>%\n",
    "mutate(w_frac = w_count/max(w_count)) %>%\n",
    "select(-one_of(\"h_count\",\"w_count\")) %>%\n",
    "select(motifname:w_min_score, h_frac, w_frac, gc_content, asinh_tss_dist, everything()) ->\n",
    "all.TF.df.fimo.hint.well.annotated"
   ]
  },
  {
   "cell_type": "code",
   "execution_count": 10,
   "metadata": {
    "collapsed": true
   },
   "outputs": [],
   "source": [
    "save(all.TF.df.fimo.hint.well.annotated, file=\"/local/rory/all.TF.df.fimo.hint.well.annotated.9.Rdata\")"
   ]
  },
  {
   "cell_type": "markdown",
   "metadata": {},
   "source": [
    "## Explore some annotations"
   ]
  },
  {
   "cell_type": "code",
   "execution_count": null,
   "metadata": {
    "collapsed": false
   },
   "outputs": [],
   "source": [
    "all.TF.df.fimo.hint.well.annotated %>%\n",
    "ggplot +\n",
    "geom_freqpoly(aes(x=asinh_tss_dist, y= ..density.., color=factor(cs_hit)), bins=100) +\n",
    "theme_minimal()"
   ]
  },
  {
   "cell_type": "code",
   "execution_count": null,
   "metadata": {
    "collapsed": false
   },
   "outputs": [],
   "source": [
    "all.TF.df.fimo.hint.well.annotated %>%\n",
    "ggplot +\n",
    "geom_freqpoly(aes(x=gc_content, y= ..density.., color=factor(cs_hit)), bins=101) +\n",
    "theme_minimal()"
   ]
  },
  {
   "cell_type": "code",
   "execution_count": null,
   "metadata": {
    "collapsed": false
   },
   "outputs": [],
   "source": [
    "all.TF.df.fimo.hint.well.annotated %>%\n",
    "sample_n(100000) %>%\n",
    "ggplot +\n",
    "geom_point(\n",
    "    aes(x=asinh_tss_dist,\n",
    "        y=gc_content,\n",
    "        color=factor(cs_hit)),\n",
    "    alpha=0.05) +\n",
    "theme_minimal()"
   ]
  },
  {
   "cell_type": "code",
   "execution_count": null,
   "metadata": {
    "collapsed": true
   },
   "outputs": [],
   "source": []
  }
 ],
 "metadata": {
  "anaconda-cloud": {},
  "kernelspec": {
   "display_name": "R",
   "language": "R",
   "name": "ir"
  },
  "language_info": {
   "codemirror_mode": "r",
   "file_extension": ".r",
   "mimetype": "text/x-r-source",
   "name": "R",
   "pygments_lexer": "r",
   "version": "3.3.1"
  }
 },
 "nbformat": 4,
 "nbformat_minor": 0
}
