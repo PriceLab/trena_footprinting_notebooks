{
 "cells": [
  {
   "cell_type": "code",
   "execution_count": 2,
   "metadata": {},
   "outputs": [
    {
     "name": "stderr",
     "output_type": "stream",
     "text": [
      "Loaded glmnet 2.0-12\n",
      "\n",
      "\n",
      "Attaching package: ‘dplyr’\n",
      "\n",
      "The following object is masked from ‘package:xgboost’:\n",
      "\n",
      "    slice\n",
      "\n",
      "The following objects are masked from ‘package:stats’:\n",
      "\n",
      "    filter, lag\n",
      "\n",
      "The following objects are masked from ‘package:base’:\n",
      "\n",
      "    intersect, setdiff, setequal, union\n",
      "\n",
      "\n",
      "Attaching package: ‘tidyr’\n",
      "\n",
      "The following object is masked from ‘package:Matrix’:\n",
      "\n",
      "    expand\n",
      "\n",
      "Type 'citation(\"pROC\")' for a citation.\n",
      "\n",
      "Attaching package: ‘pROC’\n",
      "\n",
      "The following object is masked from ‘package:glmnet’:\n",
      "\n",
      "    auc\n",
      "\n",
      "The following objects are masked from ‘package:stats’:\n",
      "\n",
      "    cov, smooth, var\n",
      "\n",
      "\n",
      "Attaching package: ‘gplots’\n",
      "\n",
      "The following object is masked from ‘package:stats’:\n",
      "\n",
      "    lowess\n",
      "\n"
     ]
    },
    {
     "data": {
      "text/html": [
       "<ol class=list-inline>\n",
       "\t<li>'caTools'</li>\n",
       "\t<li>'caret'</li>\n",
       "\t<li>'lattice'</li>\n",
       "\t<li>'stringr'</li>\n",
       "\t<li>'ROCR'</li>\n",
       "\t<li>'gplots'</li>\n",
       "\t<li>'pROC'</li>\n",
       "\t<li>'tidyr'</li>\n",
       "\t<li>'dplyr'</li>\n",
       "\t<li>'glmnet'</li>\n",
       "\t<li>'foreach'</li>\n",
       "\t<li>'Matrix'</li>\n",
       "\t<li>'xgboost'</li>\n",
       "\t<li>'ggplot2'</li>\n",
       "\t<li>'RColorBrewer'</li>\n",
       "\t<li>'stats'</li>\n",
       "\t<li>'graphics'</li>\n",
       "\t<li>'grDevices'</li>\n",
       "\t<li>'utils'</li>\n",
       "\t<li>'datasets'</li>\n",
       "\t<li>'methods'</li>\n",
       "\t<li>'base'</li>\n",
       "</ol>\n"
      ],
      "text/latex": [
       "\\begin{enumerate*}\n",
       "\\item 'caTools'\n",
       "\\item 'caret'\n",
       "\\item 'lattice'\n",
       "\\item 'stringr'\n",
       "\\item 'ROCR'\n",
       "\\item 'gplots'\n",
       "\\item 'pROC'\n",
       "\\item 'tidyr'\n",
       "\\item 'dplyr'\n",
       "\\item 'glmnet'\n",
       "\\item 'foreach'\n",
       "\\item 'Matrix'\n",
       "\\item 'xgboost'\n",
       "\\item 'ggplot2'\n",
       "\\item 'RColorBrewer'\n",
       "\\item 'stats'\n",
       "\\item 'graphics'\n",
       "\\item 'grDevices'\n",
       "\\item 'utils'\n",
       "\\item 'datasets'\n",
       "\\item 'methods'\n",
       "\\item 'base'\n",
       "\\end{enumerate*}\n"
      ],
      "text/markdown": [
       "1. 'caTools'\n",
       "2. 'caret'\n",
       "3. 'lattice'\n",
       "4. 'stringr'\n",
       "5. 'ROCR'\n",
       "6. 'gplots'\n",
       "7. 'pROC'\n",
       "8. 'tidyr'\n",
       "9. 'dplyr'\n",
       "10. 'glmnet'\n",
       "11. 'foreach'\n",
       "12. 'Matrix'\n",
       "13. 'xgboost'\n",
       "14. 'ggplot2'\n",
       "15. 'RColorBrewer'\n",
       "16. 'stats'\n",
       "17. 'graphics'\n",
       "18. 'grDevices'\n",
       "19. 'utils'\n",
       "20. 'datasets'\n",
       "21. 'methods'\n",
       "22. 'base'\n",
       "\n",
       "\n"
      ],
      "text/plain": [
       " [1] \"caTools\"      \"caret\"        \"lattice\"      \"stringr\"      \"ROCR\"        \n",
       " [6] \"gplots\"       \"pROC\"         \"tidyr\"        \"dplyr\"        \"glmnet\"      \n",
       "[11] \"foreach\"      \"Matrix\"       \"xgboost\"      \"ggplot2\"      \"RColorBrewer\"\n",
       "[16] \"stats\"        \"graphics\"     \"grDevices\"    \"utils\"        \"datasets\"    \n",
       "[21] \"methods\"      \"base\"        "
      ]
     },
     "metadata": {},
     "output_type": "display_data"
    },
    {
     "name": "stderr",
     "output_type": "stream",
     "text": [
      "Loading required package: DBI\n",
      "Loading required package: stats4\n",
      "Loading required package: BiocGenerics\n",
      "Loading required package: parallel\n",
      "\n",
      "Attaching package: ‘BiocGenerics’\n",
      "\n",
      "The following objects are masked from ‘package:parallel’:\n",
      "\n",
      "    clusterApply, clusterApplyLB, clusterCall, clusterEvalQ,\n",
      "    clusterExport, clusterMap, parApply, parCapply, parLapply,\n",
      "    parLapplyLB, parRapply, parSapply, parSapplyLB\n",
      "\n",
      "The following object is masked from ‘package:pROC’:\n",
      "\n",
      "    var\n",
      "\n",
      "The following objects are masked from ‘package:dplyr’:\n",
      "\n",
      "    combine, intersect, setdiff, union\n",
      "\n",
      "The following objects are masked from ‘package:Matrix’:\n",
      "\n",
      "    colMeans, colSums, rowMeans, rowSums, which\n",
      "\n",
      "The following objects are masked from ‘package:stats’:\n",
      "\n",
      "    IQR, mad, sd, var, xtabs\n",
      "\n",
      "The following objects are masked from ‘package:base’:\n",
      "\n",
      "    anyDuplicated, append, as.data.frame, cbind, colMeans, colnames,\n",
      "    colSums, do.call, duplicated, eval, evalq, Filter, Find, get, grep,\n",
      "    grepl, intersect, is.unsorted, lapply, lengths, Map, mapply, match,\n",
      "    mget, order, paste, pmax, pmax.int, pmin, pmin.int, Position, rank,\n",
      "    rbind, Reduce, rowMeans, rownames, rowSums, sapply, setdiff, sort,\n",
      "    table, tapply, union, unique, unsplit, which, which.max, which.min\n",
      "\n",
      "Loading required package: S4Vectors\n",
      "\n",
      "Attaching package: ‘S4Vectors’\n",
      "\n",
      "The following object is masked from ‘package:caTools’:\n",
      "\n",
      "    runmean\n",
      "\n",
      "The following object is masked from ‘package:gplots’:\n",
      "\n",
      "    space\n",
      "\n",
      "The following object is masked from ‘package:tidyr’:\n",
      "\n",
      "    expand\n",
      "\n",
      "The following objects are masked from ‘package:dplyr’:\n",
      "\n",
      "    first, rename\n",
      "\n",
      "The following object is masked from ‘package:Matrix’:\n",
      "\n",
      "    expand\n",
      "\n",
      "The following object is masked from ‘package:base’:\n",
      "\n",
      "    expand.grid\n",
      "\n",
      "Loading required package: IRanges\n",
      "\n",
      "Attaching package: ‘IRanges’\n",
      "\n",
      "The following objects are masked from ‘package:dplyr’:\n",
      "\n",
      "    collapse, desc, slice\n",
      "\n",
      "The following object is masked from ‘package:xgboost’:\n",
      "\n",
      "    slice\n",
      "\n",
      "Loading required package: GenomeInfoDb\n"
     ]
    }
   ],
   "source": [
    "libs <- c(\n",
    "    'RColorBrewer',\n",
    "    'ggplot2',\n",
    "    'xgboost',\n",
    "    'glmnet',\n",
    "    'dplyr',\n",
    "    'tidyr',\n",
    "    'pROC',\n",
    "    'ROCR',\n",
    "    'stringr',\n",
    "    'caret',\n",
    "    'caTools'\n",
    ")\n",
    "\n",
    "for (lib in libs) {\n",
    "        if (!require(lib, character.only = TRUE, quietly = TRUE)) {\n",
    "            install.packages(lib, repos='http://cran.us.r-project.org')\n",
    "        }\n",
    "}\n",
    "\n",
    "(.packages())\n",
    "\n",
    "source(\"my_R_functions/utility_functions.R\")\n",
    "source(\"my_R_functions/stat_functions.R\")\n",
    "source(\"my_R_functions/plot_functions.R\")\n",
    "source(\"/ssd/mrichard/github/BDDS/trenadb/src/utils.R\")\n",
    "source(\"/ssd/mrichard/github/BDDS/footprints/testdb/src/dbFunctions.R\")"
   ]
  },
  {
   "cell_type": "code",
   "execution_count": 2,
   "metadata": {},
   "outputs": [
    {
     "data": {
      "text/html": [
       "<table>\n",
       "<thead><tr><th scope=col>motif</th><th scope=col>TF</th><th scope=col>class</th><th scope=col>family</th></tr></thead>\n",
       "<tbody>\n",
       "\t<tr><td>MA0001.1                             </td><td>AGL3                                 </td><td>Other Alpha-Helix                    </td><td>MADS                                 </td></tr>\n",
       "\t<tr><td>MA0002.1                             </td><td>RUNX1                                </td><td>Ig-fold                              </td><td>Runt                                 </td></tr>\n",
       "\t<tr><td>MA0003.1                             </td><td>TFAP2A                               </td><td>Zipper-Type                          </td><td>Helix-Loop-Helix                     </td></tr>\n",
       "\t<tr><td>MA0004.1                             </td><td>Arnt                                 </td><td>Basic helix-loop-helix factors (bHLH)</td><td>PAS domain factors                   </td></tr>\n",
       "\t<tr><td>MA0005.1                             </td><td>AG                                   </td><td>Other Alpha-Helix                    </td><td>MADS                                 </td></tr>\n",
       "\t<tr><td>MA0006.1                             </td><td>Ahr::Arnt                            </td><td>Basic helix-loop-helix factors (bHLH)</td><td>PAS domain factors                   </td></tr>\n",
       "</tbody>\n",
       "</table>\n"
      ],
      "text/latex": [
       "\\begin{tabular}{r|llll}\n",
       " motif & TF & class & family\\\\\n",
       "\\hline\n",
       "\t MA0001.1                              & AGL3                                  & Other Alpha-Helix                     & MADS                                 \\\\\n",
       "\t MA0002.1                              & RUNX1                                 & Ig-fold                               & Runt                                 \\\\\n",
       "\t MA0003.1                              & TFAP2A                                & Zipper-Type                           & Helix-Loop-Helix                     \\\\\n",
       "\t MA0004.1                              & Arnt                                  & Basic helix-loop-helix factors (bHLH) & PAS domain factors                   \\\\\n",
       "\t MA0005.1                              & AG                                    & Other Alpha-Helix                     & MADS                                 \\\\\n",
       "\t MA0006.1                              & Ahr::Arnt                             & Basic helix-loop-helix factors (bHLH) & PAS domain factors                   \\\\\n",
       "\\end{tabular}\n"
      ],
      "text/markdown": [
       "\n",
       "motif | TF | class | family | \n",
       "|---|---|---|---|---|---|\n",
       "| MA0001.1                              | AGL3                                  | Other Alpha-Helix                     | MADS                                  | \n",
       "| MA0002.1                              | RUNX1                                 | Ig-fold                               | Runt                                  | \n",
       "| MA0003.1                              | TFAP2A                                | Zipper-Type                           | Helix-Loop-Helix                      | \n",
       "| MA0004.1                              | Arnt                                  | Basic helix-loop-helix factors (bHLH) | PAS domain factors                    | \n",
       "| MA0005.1                              | AG                                    | Other Alpha-Helix                     | MADS                                  | \n",
       "| MA0006.1                              | Ahr::Arnt                             | Basic helix-loop-helix factors (bHLH) | PAS domain factors                    | \n",
       "\n",
       "\n"
      ],
      "text/plain": [
       "  motif    TF        class                                 family            \n",
       "1 MA0001.1 AGL3      Other Alpha-Helix                     MADS              \n",
       "2 MA0002.1 RUNX1     Ig-fold                               Runt              \n",
       "3 MA0003.1 TFAP2A    Zipper-Type                           Helix-Loop-Helix  \n",
       "4 MA0004.1 Arnt      Basic helix-loop-helix factors (bHLH) PAS domain factors\n",
       "5 MA0005.1 AG        Other Alpha-Helix                     MADS              \n",
       "6 MA0006.1 Ahr::Arnt Basic helix-loop-helix factors (bHLH) PAS domain factors"
      ]
     },
     "metadata": {},
     "output_type": "display_data"
    }
   ],
   "source": [
    "load(\"Rdata_files/motif_class_pairs.Rdata\")\n",
    "head(motif.class)"
   ]
  },
  {
   "cell_type": "markdown",
   "metadata": {},
   "source": [
    "Now we're going to load both datasets and combine them. In doing so, we'll also tag them with something to tell us what seed they came from..."
   ]
  },
  {
   "cell_type": "code",
   "execution_count": 3,
   "metadata": {
    "collapsed": true
   },
   "outputs": [],
   "source": [
    "load(\"/ssd/mrichard/data/all.TF.df.fimo.hint.well.seed16.annotated.9.Rdata\")"
   ]
  },
  {
   "cell_type": "code",
   "execution_count": 4,
   "metadata": {
    "collapsed": true
   },
   "outputs": [],
   "source": [
    "full.16 <- all.TF.df.fimo.hint.well.annotated\n",
    "rm(all.TF.df.fimo.hint.well.annotated)"
   ]
  },
  {
   "cell_type": "code",
   "execution_count": 5,
   "metadata": {
    "collapsed": true
   },
   "outputs": [],
   "source": [
    "load(\"/ssd/mrichard/data/all.TF.df.fimo.hint.well.seed20.annotated.9.Rdata\")"
   ]
  },
  {
   "cell_type": "code",
   "execution_count": 6,
   "metadata": {
    "collapsed": true
   },
   "outputs": [],
   "source": [
    "full.20 <- all.TF.df.fimo.hint.well.annotated\n",
    "rm(all.TF.df.fimo.hint.well.annotated)"
   ]
  },
  {
   "cell_type": "markdown",
   "metadata": {},
   "source": [
    "Our 2 datasets are now loaded, we need to put them together; let's remember what they look like:"
   ]
  },
  {
   "cell_type": "code",
   "execution_count": 7,
   "metadata": {},
   "outputs": [
    {
     "name": "stdout",
     "output_type": "stream",
     "text": [
      "Classes ‘tbl_df’, ‘tbl’ and 'data.frame':\t24720556 obs. of  39 variables:\n",
      " $ motifname                               : chr  \"Mmusculus-jaspar2016-Nfe2l2-MA0150.2\" \"Mmusculus-jaspar2016-Bach1::Mafk-MA0591.1\" \"Hsapiens-jaspar2016-JUND(var.2)-MA0492.1\" \"Hsapiens-jaspar2016-ATF7-MA0834.1\" ...\n",
      " $ chrom                                   : chr  \"1\" \"1\" \"1\" \"1\" ...\n",
      " $ start                                   : int  1677938 1677939 1828558 2255916 2255789 2255823 2255891 2255917 2255949 2255983 ...\n",
      " $ endpos                                  : int  1677952 1677953 1828572 2255929 2255803 2255837 2255905 2255931 2255963 2255997 ...\n",
      " $ strand                                  : chr  \"+\" \"+\" \"-\" \"-\" ...\n",
      " $ motifscore                              : num  13.35 11.71 9.73 8.03 13.72 ...\n",
      " $ pval                                    : num  1.13e-05 1.37e-05 9.18e-05 6.68e-05 1.48e-05 1.48e-05 1.48e-05 8.28e-06 1.48e-05 1.48e-05 ...\n",
      " $ sequence                                : chr  \"CACTGTGACTCCGCA\" \"ACTGTGACTCCGCAG\" \"TTTTGTGAGGTCACT\" \"AAATGAGGTCACTG\" ...\n",
      " $ loc                                     : chr  \"chr1:1677938-1677952\" \"chr1:1677939-1677953\" \"chr1:1828558-1828572\" \"chr1:2255916-2255929\" ...\n",
      " $ cs_hit                                  : num  1 1 1 1 1 1 1 1 1 1 ...\n",
      " $ h_max_score                             : num  2170 2170 214 512 20 266 451 512 524 500 ...\n",
      " $ w_min_score                             : num  -16.83 -16.83 -6.47 -27.47 -10.51 ...\n",
      " $ h_frac                                  : num  0.4783 0.4565 0.2174 0.1957 0.0652 ...\n",
      " $ w_frac                                  : num  0.16 0.16 0.04 0.16 0.12 0.28 0.36 0.16 0.16 0.16 ...\n",
      " $ gc_content                              : num  0.612 0.617 0.328 0.517 0.488 ...\n",
      " $ asinh_tss_dist                          : num  10.3 10.3 11.5 10.9 10.9 ...\n",
      " $ Basic helix-loop-helix factors (bHLH)   : num  0 0 0 0 0 0 0 0 0 0 ...\n",
      " $ Basic leucine zipper factors (bZIP)     : num  1 1 1 1 1 1 1 1 1 1 ...\n",
      " $ C2H2 zinc finger factors                : num  0 0 0 0 0 0 0 0 0 0 ...\n",
      " $ Fork head / winged helix factors        : num  0 0 0 0 0 0 0 0 0 0 ...\n",
      " $ Helix-Turn-Helix                        : num  0 0 0 0 0 0 0 0 0 0 ...\n",
      " $ Heteromeric CCAAT-binding factors       : num  0 0 0 0 0 0 0 0 0 0 ...\n",
      " $ High-mobility group (HMG) domain factors: num  0 0 0 0 0 0 0 0 0 0 ...\n",
      " $ Homeo domain factors                    : num  0 0 0 0 0 0 0 0 0 0 ...\n",
      " $ Ig-fold                                 : num  0 0 0 0 0 0 0 0 0 0 ...\n",
      " $ MADS box factors                        : num  0 0 0 0 0 0 0 0 0 0 ...\n",
      " $ Nuclear receptors with C4 zinc fingers  : num  0 0 0 0 0 0 0 0 0 0 ...\n",
      " $ Other                                   : num  0 0 0 0 0 0 0 0 0 0 ...\n",
      " $ Other Alpha-Helix                       : num  0 0 0 0 0 0 0 0 0 0 ...\n",
      " $ Other C4 zinc finger-type factors       : num  0 0 0 0 0 0 0 0 0 0 ...\n",
      " $ Paired box factors                      : num  0 0 0 0 0 0 0 0 0 0 ...\n",
      " $ Rel homology region (RHR) factors       : num  0 0 0 0 0 0 0 0 0 0 ...\n",
      " $ Runt domain factors                     : num  0 0 0 0 0 0 0 0 0 0 ...\n",
      " $ SMAD/NF-1 DNA-binding domain factors    : num  0 0 0 0 0 0 0 0 0 0 ...\n",
      " $ STAT domain factors                     : num  0 0 0 0 0 0 0 0 0 0 ...\n",
      " $ Tryptophan cluster factors              : num  0 0 0 0 0 0 0 0 0 0 ...\n",
      " $ Winged Helix-Turn-Helix                 : num  0 0 0 0 0 0 0 0 0 0 ...\n",
      " $ Zinc-coordinating                       : num  0 0 0 0 0 0 0 0 0 0 ...\n",
      " $ Zipper-Type                             : num  0 0 0 0 0 0 0 0 0 0 ...\n"
     ]
    }
   ],
   "source": [
    "str(full.16)"
   ]
  },
  {
   "cell_type": "code",
   "execution_count": 8,
   "metadata": {},
   "outputs": [
    {
     "name": "stdout",
     "output_type": "stream",
     "text": [
      "Classes ‘tbl_df’, ‘tbl’ and 'data.frame':\t24720556 obs. of  39 variables:\n",
      " $ motifname                               : chr  \"Mmusculus-jaspar2016-Nfe2l2-MA0150.2\" \"Mmusculus-jaspar2016-Bach1::Mafk-MA0591.1\" \"Hsapiens-jaspar2016-JUND(var.2)-MA0492.1\" \"Hsapiens-jaspar2016-ATF7-MA0834.1\" ...\n",
      " $ chrom                                   : chr  \"1\" \"1\" \"1\" \"1\" ...\n",
      " $ start                                   : int  1677938 1677939 1828558 2255916 2255789 2255823 2255891 2255917 2255949 2255983 ...\n",
      " $ endpos                                  : int  1677952 1677953 1828572 2255929 2255803 2255837 2255905 2255931 2255963 2255997 ...\n",
      " $ strand                                  : chr  \"+\" \"+\" \"-\" \"-\" ...\n",
      " $ motifscore                              : num  13.35 11.71 9.73 8.03 13.72 ...\n",
      " $ pval                                    : num  1.13e-05 1.37e-05 9.18e-05 6.68e-05 1.48e-05 1.48e-05 1.48e-05 8.28e-06 1.48e-05 1.48e-05 ...\n",
      " $ sequence                                : chr  \"CACTGTGACTCCGCA\" \"ACTGTGACTCCGCAG\" \"TTTTGTGAGGTCACT\" \"AAATGAGGTCACTG\" ...\n",
      " $ loc                                     : chr  \"chr1:1677938-1677952\" \"chr1:1677939-1677953\" \"chr1:1828558-1828572\" \"chr1:2255916-2255929\" ...\n",
      " $ cs_hit                                  : num  1 1 1 1 1 1 1 1 1 1 ...\n",
      " $ h_max_score                             : num  2096 2096 207 465 257 ...\n",
      " $ w_min_score                             : num  -33.02 -33.02 -5.39 -34 -33.62 ...\n",
      " $ h_frac                                  : num  0.48 0.46 0.22 0.14 0.08 0.22 0.28 0.14 0.2 0.28 ...\n",
      " $ w_frac                                  : num  0.1333 0.1333 0.0667 0.3 0.1667 ...\n",
      " $ gc_content                              : num  0.612 0.617 0.328 0.517 0.488 ...\n",
      " $ asinh_tss_dist                          : num  10.3 10.3 11.5 10.9 10.9 ...\n",
      " $ Basic helix-loop-helix factors (bHLH)   : num  0 0 0 0 0 0 0 0 0 0 ...\n",
      " $ Basic leucine zipper factors (bZIP)     : num  1 1 1 1 1 1 1 1 1 1 ...\n",
      " $ C2H2 zinc finger factors                : num  0 0 0 0 0 0 0 0 0 0 ...\n",
      " $ Fork head / winged helix factors        : num  0 0 0 0 0 0 0 0 0 0 ...\n",
      " $ Helix-Turn-Helix                        : num  0 0 0 0 0 0 0 0 0 0 ...\n",
      " $ Heteromeric CCAAT-binding factors       : num  0 0 0 0 0 0 0 0 0 0 ...\n",
      " $ High-mobility group (HMG) domain factors: num  0 0 0 0 0 0 0 0 0 0 ...\n",
      " $ Homeo domain factors                    : num  0 0 0 0 0 0 0 0 0 0 ...\n",
      " $ Ig-fold                                 : num  0 0 0 0 0 0 0 0 0 0 ...\n",
      " $ MADS box factors                        : num  0 0 0 0 0 0 0 0 0 0 ...\n",
      " $ Nuclear receptors with C4 zinc fingers  : num  0 0 0 0 0 0 0 0 0 0 ...\n",
      " $ Other                                   : num  0 0 0 0 0 0 0 0 0 0 ...\n",
      " $ Other Alpha-Helix                       : num  0 0 0 0 0 0 0 0 0 0 ...\n",
      " $ Other C4 zinc finger-type factors       : num  0 0 0 0 0 0 0 0 0 0 ...\n",
      " $ Paired box factors                      : num  0 0 0 0 0 0 0 0 0 0 ...\n",
      " $ Rel homology region (RHR) factors       : num  0 0 0 0 0 0 0 0 0 0 ...\n",
      " $ Runt domain factors                     : num  0 0 0 0 0 0 0 0 0 0 ...\n",
      " $ SMAD/NF-1 DNA-binding domain factors    : num  0 0 0 0 0 0 0 0 0 0 ...\n",
      " $ STAT domain factors                     : num  0 0 0 0 0 0 0 0 0 0 ...\n",
      " $ Tryptophan cluster factors              : num  0 0 0 0 0 0 0 0 0 0 ...\n",
      " $ Winged Helix-Turn-Helix                 : num  0 0 0 0 0 0 0 0 0 0 ...\n",
      " $ Zinc-coordinating                       : num  0 0 0 0 0 0 0 0 0 0 ...\n",
      " $ Zipper-Type                             : num  0 0 0 0 0 0 0 0 0 0 ...\n"
     ]
    }
   ],
   "source": [
    "str(full.20)"
   ]
  },
  {
   "cell_type": "markdown",
   "metadata": {},
   "source": [
    "## Part 1: Just add them\n",
    "\n",
    "First, let's try just stacking the data frames and removing the duplicates by taking the union"
   ]
  },
  {
   "cell_type": "code",
   "execution_count": 21,
   "metadata": {
    "collapsed": true
   },
   "outputs": [],
   "source": [
    "full.data <- dplyr::union(full.16, full.20)"
   ]
  },
  {
   "cell_type": "code",
   "execution_count": 22,
   "metadata": {},
   "outputs": [
    {
     "name": "stdout",
     "output_type": "stream",
     "text": [
      "Classes ‘tbl_df’, ‘tbl’ and 'data.frame':\t28912150 obs. of  39 variables:\n",
      " $ motifname                               : chr  \"Hsapiens-jaspar2016-ZNF143-MA0088.2\" \"Hsapiens-jaspar2016-ZNF143-MA0088.2\" \"Hsapiens-jaspar2016-ZNF143-MA0088.2\" \"Hsapiens-jaspar2016-ZNF143-MA0088.2\" ...\n",
      " $ chrom                                   : chr  \"Y\" \"Y\" \"Y\" \"Y\" ...\n",
      " $ start                                   : int  17944333 3242941 20943555 11099886 15339505 11139731 13387665 15515701 20731514 9209315 ...\n",
      " $ endpos                                  : int  17944348 3242956 20943570 11099901 15339520 11139746 13387680 15515716 20731529 9209330 ...\n",
      " $ strand                                  : chr  \"-\" \"+\" \"-\" \"-\" ...\n",
      " $ motifscore                              : num  10.56 2.24 7.84 9.65 2.07 ...\n",
      " $ pval                                    : num  6.84e-06 9.32e-05 1.71e-05 9.36e-06 9.77e-05 8.42e-05 3.57e-05 7.80e-05 1.19e-05 4.80e-05 ...\n",
      " $ sequence                                : chr  \"CACCCTCGGTGCACTG\" \"TTCCCACGATGGCACC\" \"CACCCACAGAGCCTCA\" \"TTCCCATCAGGCCCTG\" ...\n",
      " $ loc                                     : chr  \"chrY:17944333-17944348\" \"chrY:3242941-3242956\" \"chrY:20943555-20943570\" \"chrY:11099886-11099901\" ...\n",
      " $ cs_hit                                  : num  0 0 0 0 0 0 0 0 0 0 ...\n",
      " $ h_max_score                             : num  7 0 10 43 17 110 58 24 133 3 ...\n",
      " $ w_min_score                             : num  0 0 0 0 0 ...\n",
      " $ h_frac                                  : num  0.02 0 0.04 0.06 0.04 0.06 0.02 0.02 0.02 0.02 ...\n",
      " $ w_frac                                  : num  0 0 0 0 0 ...\n",
      " $ gc_content                              : num  0.567 0.587 0.537 0.622 0.363 ...\n",
      " $ asinh_tss_dist                          : num  11.8 13.3 12.8 15 14.3 ...\n",
      " $ Basic helix-loop-helix factors (bHLH)   : num  0 0 0 0 0 0 0 0 0 0 ...\n",
      " $ Basic leucine zipper factors (bZIP)     : num  0 0 0 0 0 0 0 0 0 0 ...\n",
      " $ C2H2 zinc finger factors                : num  1 1 1 1 1 1 1 1 1 1 ...\n",
      " $ Fork head / winged helix factors        : num  0 0 0 0 0 0 0 0 0 0 ...\n",
      " $ Helix-Turn-Helix                        : num  0 0 0 0 0 0 0 0 0 0 ...\n",
      " $ Heteromeric CCAAT-binding factors       : num  0 0 0 0 0 0 0 0 0 0 ...\n",
      " $ High-mobility group (HMG) domain factors: num  0 0 0 0 0 0 0 0 0 0 ...\n",
      " $ Homeo domain factors                    : num  0 0 0 0 0 0 0 0 0 0 ...\n",
      " $ Ig-fold                                 : num  0 0 0 0 0 0 0 0 0 0 ...\n",
      " $ MADS box factors                        : num  0 0 0 0 0 0 0 0 0 0 ...\n",
      " $ Nuclear receptors with C4 zinc fingers  : num  0 0 0 0 0 0 0 0 0 0 ...\n",
      " $ Other                                   : num  0 0 0 0 0 0 0 0 0 0 ...\n",
      " $ Other Alpha-Helix                       : num  0 0 0 0 0 0 0 0 0 0 ...\n",
      " $ Other C4 zinc finger-type factors       : num  0 0 0 0 0 0 0 0 0 0 ...\n",
      " $ Paired box factors                      : num  0 0 0 0 0 0 0 0 0 0 ...\n",
      " $ Rel homology region (RHR) factors       : num  0 0 0 0 0 0 0 0 0 0 ...\n",
      " $ Runt domain factors                     : num  0 0 0 0 0 0 0 0 0 0 ...\n",
      " $ SMAD/NF-1 DNA-binding domain factors    : num  0 0 0 0 0 0 0 0 0 0 ...\n",
      " $ STAT domain factors                     : num  0 0 0 0 0 0 0 0 0 0 ...\n",
      " $ Tryptophan cluster factors              : num  0 0 0 0 0 0 0 0 0 0 ...\n",
      " $ Winged Helix-Turn-Helix                 : num  0 0 0 0 0 0 0 0 0 0 ...\n",
      " $ Zinc-coordinating                       : num  0 0 0 0 0 0 0 0 0 0 ...\n",
      " $ Zipper-Type                             : num  0 0 0 0 0 0 0 0 0 0 ...\n"
     ]
    }
   ],
   "source": [
    "str(full.data)"
   ]
  },
  {
   "cell_type": "code",
   "execution_count": 23,
   "metadata": {
    "collapsed": true
   },
   "outputs": [],
   "source": [
    "all.TF.df.fimo.hint.well.annotated <- full.data\n",
    "save(all.TF.df.fimo.hint.well.annotated, file = \"/ssd/mrichard/data/stacked.annotated.9.Rdata\")\n",
    "rm(all.TF.df.fimo.hint.well.annotated)"
   ]
  },
  {
   "cell_type": "markdown",
   "metadata": {},
   "source": [
    "## Part 2: Adding Features\n",
    "\n",
    "Alternatively, we can treat the 16 and 20 seed hits separately; thus, we can join the 2 dataframes together, being sure to keep the 2 sets of Wellington/Hint scores and fractions separate as well. \n",
    "\n",
    "First, let's cut down the dataset by removing anything we don't need as a key or as features (pvalue, sequence, chrom, start, endpos)"
   ]
  },
  {
   "cell_type": "code",
   "execution_count": 35,
   "metadata": {
    "collapsed": true
   },
   "outputs": [],
   "source": [
    "# Remove designated columns\n",
    "sub.20 <- select(full.20, -pval, -sequence, -start, -endpos)\n",
    "sub.16 <- select(full.16, -pval, -sequence, -start, -endpos)"
   ]
  },
  {
   "cell_type": "markdown",
   "metadata": {},
   "source": [
    "Now designate our keys, AKA the things that we want to add"
   ]
  },
  {
   "cell_type": "code",
   "execution_count": 36,
   "metadata": {},
   "outputs": [
    {
     "data": {
      "text/html": [
       "<ol class=list-inline>\n",
       "\t<li>'motifname'</li>\n",
       "\t<li>'chrom'</li>\n",
       "\t<li>'strand'</li>\n",
       "\t<li>'motifscore'</li>\n",
       "\t<li>'loc'</li>\n",
       "\t<li>'cs_hit'</li>\n",
       "\t<li>'gc_content'</li>\n",
       "\t<li>'asinh_tss_dist'</li>\n",
       "\t<li>'Basic helix-loop-helix factors (bHLH)'</li>\n",
       "\t<li>'Basic leucine zipper factors (bZIP)'</li>\n",
       "\t<li>'C2H2 zinc finger factors'</li>\n",
       "\t<li>'Fork head / winged helix factors'</li>\n",
       "\t<li>'Helix-Turn-Helix'</li>\n",
       "\t<li>'Heteromeric CCAAT-binding factors'</li>\n",
       "\t<li>'High-mobility group (HMG) domain factors'</li>\n",
       "\t<li>'Homeo domain factors'</li>\n",
       "\t<li>'Ig-fold'</li>\n",
       "\t<li>'MADS box factors'</li>\n",
       "\t<li>'Nuclear receptors with C4 zinc fingers'</li>\n",
       "\t<li>'Other'</li>\n",
       "\t<li>'Other Alpha-Helix'</li>\n",
       "\t<li>'Other C4 zinc finger-type factors'</li>\n",
       "\t<li>'Paired box factors'</li>\n",
       "\t<li>'Rel homology region (RHR) factors'</li>\n",
       "\t<li>'Runt domain factors'</li>\n",
       "\t<li>'SMAD/NF-1 DNA-binding domain factors'</li>\n",
       "\t<li>'STAT domain factors'</li>\n",
       "\t<li>'Tryptophan cluster factors'</li>\n",
       "\t<li>'Winged Helix-Turn-Helix'</li>\n",
       "\t<li>'Zinc-coordinating'</li>\n",
       "\t<li>'Zipper-Type'</li>\n",
       "</ol>\n"
      ],
      "text/latex": [
       "\\begin{enumerate*}\n",
       "\\item 'motifname'\n",
       "\\item 'chrom'\n",
       "\\item 'strand'\n",
       "\\item 'motifscore'\n",
       "\\item 'loc'\n",
       "\\item 'cs\\_hit'\n",
       "\\item 'gc\\_content'\n",
       "\\item 'asinh\\_tss\\_dist'\n",
       "\\item 'Basic helix-loop-helix factors (bHLH)'\n",
       "\\item 'Basic leucine zipper factors (bZIP)'\n",
       "\\item 'C2H2 zinc finger factors'\n",
       "\\item 'Fork head / winged helix factors'\n",
       "\\item 'Helix-Turn-Helix'\n",
       "\\item 'Heteromeric CCAAT-binding factors'\n",
       "\\item 'High-mobility group (HMG) domain factors'\n",
       "\\item 'Homeo domain factors'\n",
       "\\item 'Ig-fold'\n",
       "\\item 'MADS box factors'\n",
       "\\item 'Nuclear receptors with C4 zinc fingers'\n",
       "\\item 'Other'\n",
       "\\item 'Other Alpha-Helix'\n",
       "\\item 'Other C4 zinc finger-type factors'\n",
       "\\item 'Paired box factors'\n",
       "\\item 'Rel homology region (RHR) factors'\n",
       "\\item 'Runt domain factors'\n",
       "\\item 'SMAD/NF-1 DNA-binding domain factors'\n",
       "\\item 'STAT domain factors'\n",
       "\\item 'Tryptophan cluster factors'\n",
       "\\item 'Winged Helix-Turn-Helix'\n",
       "\\item 'Zinc-coordinating'\n",
       "\\item 'Zipper-Type'\n",
       "\\end{enumerate*}\n"
      ],
      "text/markdown": [
       "1. 'motifname'\n",
       "2. 'chrom'\n",
       "3. 'strand'\n",
       "4. 'motifscore'\n",
       "5. 'loc'\n",
       "6. 'cs_hit'\n",
       "7. 'gc_content'\n",
       "8. 'asinh_tss_dist'\n",
       "9. 'Basic helix-loop-helix factors (bHLH)'\n",
       "10. 'Basic leucine zipper factors (bZIP)'\n",
       "11. 'C2H2 zinc finger factors'\n",
       "12. 'Fork head / winged helix factors'\n",
       "13. 'Helix-Turn-Helix'\n",
       "14. 'Heteromeric CCAAT-binding factors'\n",
       "15. 'High-mobility group (HMG) domain factors'\n",
       "16. 'Homeo domain factors'\n",
       "17. 'Ig-fold'\n",
       "18. 'MADS box factors'\n",
       "19. 'Nuclear receptors with C4 zinc fingers'\n",
       "20. 'Other'\n",
       "21. 'Other Alpha-Helix'\n",
       "22. 'Other C4 zinc finger-type factors'\n",
       "23. 'Paired box factors'\n",
       "24. 'Rel homology region (RHR) factors'\n",
       "25. 'Runt domain factors'\n",
       "26. 'SMAD/NF-1 DNA-binding domain factors'\n",
       "27. 'STAT domain factors'\n",
       "28. 'Tryptophan cluster factors'\n",
       "29. 'Winged Helix-Turn-Helix'\n",
       "30. 'Zinc-coordinating'\n",
       "31. 'Zipper-Type'\n",
       "\n",
       "\n"
      ],
      "text/plain": [
       " [1] \"motifname\"                               \n",
       " [2] \"chrom\"                                   \n",
       " [3] \"strand\"                                  \n",
       " [4] \"motifscore\"                              \n",
       " [5] \"loc\"                                     \n",
       " [6] \"cs_hit\"                                  \n",
       " [7] \"gc_content\"                              \n",
       " [8] \"asinh_tss_dist\"                          \n",
       " [9] \"Basic helix-loop-helix factors (bHLH)\"   \n",
       "[10] \"Basic leucine zipper factors (bZIP)\"     \n",
       "[11] \"C2H2 zinc finger factors\"                \n",
       "[12] \"Fork head / winged helix factors\"        \n",
       "[13] \"Helix-Turn-Helix\"                        \n",
       "[14] \"Heteromeric CCAAT-binding factors\"       \n",
       "[15] \"High-mobility group (HMG) domain factors\"\n",
       "[16] \"Homeo domain factors\"                    \n",
       "[17] \"Ig-fold\"                                 \n",
       "[18] \"MADS box factors\"                        \n",
       "[19] \"Nuclear receptors with C4 zinc fingers\"  \n",
       "[20] \"Other\"                                   \n",
       "[21] \"Other Alpha-Helix\"                       \n",
       "[22] \"Other C4 zinc finger-type factors\"       \n",
       "[23] \"Paired box factors\"                      \n",
       "[24] \"Rel homology region (RHR) factors\"       \n",
       "[25] \"Runt domain factors\"                     \n",
       "[26] \"SMAD/NF-1 DNA-binding domain factors\"    \n",
       "[27] \"STAT domain factors\"                     \n",
       "[28] \"Tryptophan cluster factors\"              \n",
       "[29] \"Winged Helix-Turn-Helix\"                 \n",
       "[30] \"Zinc-coordinating\"                       \n",
       "[31] \"Zipper-Type\"                             "
      ]
     },
     "metadata": {},
     "output_type": "display_data"
    }
   ],
   "source": [
    "# Designate the key columns\n",
    "my.keys <- setdiff(names(sub.20), c(\"h_max_score\",\"w_min_score\",\"h_frac\",\"w_frac\"))\n",
    "my.keys"
   ]
  },
  {
   "cell_type": "markdown",
   "metadata": {},
   "source": [
    "Now we'll do a full outer join, adding the scores and fractions columns with the suffixes \"_16\" or \"_20\""
   ]
  },
  {
   "cell_type": "code",
   "execution_count": 37,
   "metadata": {
    "collapsed": true
   },
   "outputs": [],
   "source": [
    "joined.data <- full_join(sub.20, sub.16, by = my.keys, suffix = c(\"_20\",\"_16\"))"
   ]
  },
  {
   "cell_type": "code",
   "execution_count": 38,
   "metadata": {},
   "outputs": [
    {
     "name": "stdout",
     "output_type": "stream",
     "text": [
      "Classes ‘tbl_df’, ‘tbl’ and 'data.frame':\t29534972 obs. of  39 variables:\n",
      " $ motifname                               : chr  \"Mmusculus-jaspar2016-Nfe2l2-MA0150.2\" \"Mmusculus-jaspar2016-Bach1::Mafk-MA0591.1\" \"Hsapiens-jaspar2016-JUND(var.2)-MA0492.1\" \"Hsapiens-jaspar2016-JUND(var.2)-MA0492.1\" ...\n",
      " $ chrom                                   : chr  \"1\" \"1\" \"1\" \"1\" ...\n",
      " $ strand                                  : chr  \"+\" \"+\" \"-\" \"-\" ...\n",
      " $ motifscore                              : num  13.35 11.71 9.73 9.73 8.03 ...\n",
      " $ loc                                     : chr  \"chr1:1677938-1677952\" \"chr1:1677939-1677953\" \"chr1:1828558-1828572\" \"chr1:1828558-1828572\" ...\n",
      " $ cs_hit                                  : num  1 1 1 1 1 1 1 1 1 1 ...\n",
      " $ h_max_score_20                          : num  2096 2096 207 207 465 ...\n",
      " $ w_min_score_20                          : num  -33.02 -33.02 -5.39 -5.39 -34 ...\n",
      " $ h_frac_20                               : num  0.48 0.46 0.22 0.22 0.14 0.08 0.22 0.28 0.14 0.2 ...\n",
      " $ w_frac_20                               : num  0.1333 0.1333 0.0667 0.0667 0.3 ...\n",
      " $ gc_content                              : num  0.612 0.617 0.328 0.328 0.517 ...\n",
      " $ asinh_tss_dist                          : num  10.3 10.3 11.5 11.5 10.9 ...\n",
      " $ Basic helix-loop-helix factors (bHLH)   : num  0 0 0 0 0 0 0 0 0 0 ...\n",
      " $ Basic leucine zipper factors (bZIP)     : num  1 1 1 1 1 1 1 1 1 1 ...\n",
      " $ C2H2 zinc finger factors                : num  0 0 0 0 0 0 0 0 0 0 ...\n",
      " $ Fork head / winged helix factors        : num  0 0 0 0 0 0 0 0 0 0 ...\n",
      " $ Helix-Turn-Helix                        : num  0 0 0 0 0 0 0 0 0 0 ...\n",
      " $ Heteromeric CCAAT-binding factors       : num  0 0 0 0 0 0 0 0 0 0 ...\n",
      " $ High-mobility group (HMG) domain factors: num  0 0 0 0 0 0 0 0 0 0 ...\n",
      " $ Homeo domain factors                    : num  0 0 0 0 0 0 0 0 0 0 ...\n",
      " $ Ig-fold                                 : num  0 0 0 0 0 0 0 0 0 0 ...\n",
      " $ MADS box factors                        : num  0 0 0 0 0 0 0 0 0 0 ...\n",
      " $ Nuclear receptors with C4 zinc fingers  : num  0 0 0 0 0 0 0 0 0 0 ...\n",
      " $ Other                                   : num  0 0 0 0 0 0 0 0 0 0 ...\n",
      " $ Other Alpha-Helix                       : num  0 0 0 0 0 0 0 0 0 0 ...\n",
      " $ Other C4 zinc finger-type factors       : num  0 0 0 0 0 0 0 0 0 0 ...\n",
      " $ Paired box factors                      : num  0 0 0 0 0 0 0 0 0 0 ...\n",
      " $ Rel homology region (RHR) factors       : num  0 0 0 0 0 0 0 0 0 0 ...\n",
      " $ Runt domain factors                     : num  0 0 0 0 0 0 0 0 0 0 ...\n",
      " $ SMAD/NF-1 DNA-binding domain factors    : num  0 0 0 0 0 0 0 0 0 0 ...\n",
      " $ STAT domain factors                     : num  0 0 0 0 0 0 0 0 0 0 ...\n",
      " $ Tryptophan cluster factors              : num  0 0 0 0 0 0 0 0 0 0 ...\n",
      " $ Winged Helix-Turn-Helix                 : num  0 0 0 0 0 0 0 0 0 0 ...\n",
      " $ Zinc-coordinating                       : num  0 0 0 0 0 0 0 0 0 0 ...\n",
      " $ Zipper-Type                             : num  0 0 0 0 0 0 0 0 0 0 ...\n",
      " $ h_max_score_16                          : num  2170 2170 214 214 512 20 266 451 512 524 ...\n",
      " $ w_min_score_16                          : num  -16.83 -16.83 -6.47 -6.47 -27.47 ...\n",
      " $ h_frac_16                               : num  0.478 0.457 0.217 0.217 0.196 ...\n",
      " $ w_frac_16                               : num  0.16 0.16 0.04 0.04 0.16 0.12 0.28 0.36 0.16 0.16 ...\n"
     ]
    }
   ],
   "source": [
    "str(joined.data)"
   ]
  },
  {
   "cell_type": "code",
   "execution_count": 39,
   "metadata": {
    "collapsed": true
   },
   "outputs": [],
   "source": [
    "# Save it\n",
    "all.TF.df.fimo.hint.well.annotated <- joined.data\n",
    "save(all.TF.df.fimo.hint.well.annotated, file = \"/ssd/mrichard/data/joined.annotated.9.Rdata\")\n",
    "rm(all.TF.df.fimo.hint.well.annotated)"
   ]
  },
  {
   "cell_type": "code",
   "execution_count": 40,
   "metadata": {},
   "outputs": [
    {
     "data": {
      "text/plain": [
       "  motifname            chrom              strand            motifscore    \n",
       " Length:29534972    Length:29534972    Length:29534972    Min.   :-9.449  \n",
       " Class :character   Class :character   Class :character   1st Qu.:10.427  \n",
       " Mode  :character   Mode  :character   Mode  :character   Median :11.539  \n",
       "                                                          Mean   :11.580  \n",
       "                                                          3rd Qu.:12.865  \n",
       "                                                          Max.   :33.622  \n",
       "     loc                cs_hit       h_max_score_20    w_min_score_20    \n",
       " Length:29534972    Min.   :0.0000   Min.   :    0.0   Min.   :-1000.00  \n",
       " Class :character   1st Qu.:0.0000   1st Qu.:    0.0   1st Qu.:    0.00  \n",
       " Mode  :character   Median :0.0000   Median :    0.0   Median :    0.00  \n",
       "                    Mean   :0.1328   Mean   :  130.4   Mean   :  -10.24  \n",
       "                    3rd Qu.:0.0000   3rd Qu.:    6.0   3rd Qu.:    0.00  \n",
       "                    Max.   :1.0000   Max.   :56886.0   Max.   :    0.00  \n",
       "   h_frac_20         w_frac_20         gc_content     asinh_tss_dist \n",
       " Min.   :0.00000   Min.   :0.00000   Min.   :0.0000   Min.   : 0.00  \n",
       " 1st Qu.:0.00000   1st Qu.:0.00000   1st Qu.:0.4030   1st Qu.:10.24  \n",
       " Median :0.00000   Median :0.00000   Median :0.4776   Median :11.57  \n",
       " Mean   :0.04272   Mean   :0.02482   Mean   :0.4845   Mean   :11.23  \n",
       " 3rd Qu.:0.02000   3rd Qu.:0.00000   3rd Qu.:0.5522   3rd Qu.:12.76  \n",
       " Max.   :1.00000   Max.   :1.00000   Max.   :1.0000   Max.   :17.95  \n",
       " Basic helix-loop-helix factors (bHLH) Basic leucine zipper factors (bZIP)\n",
       " Min.   :0.0000                        Min.   :0.00000                    \n",
       " 1st Qu.:0.0000                        1st Qu.:0.00000                    \n",
       " Median :0.0000                        Median :0.00000                    \n",
       " Mean   :0.1962                        Mean   :0.03673                    \n",
       " 3rd Qu.:0.0000                        3rd Qu.:0.00000                    \n",
       " Max.   :1.0000                        Max.   :1.00000                    \n",
       " C2H2 zinc finger factors Fork head / winged helix factors Helix-Turn-Helix  \n",
       " Min.   :0.0000           Min.   :0.00000                  Min.   :0.000000  \n",
       " 1st Qu.:0.0000           1st Qu.:0.00000                  1st Qu.:0.000000  \n",
       " Median :0.0000           Median :0.00000                  Median :0.000000  \n",
       " Mean   :0.3495           Mean   :0.02146                  Mean   :0.003064  \n",
       " 3rd Qu.:1.0000           3rd Qu.:0.00000                  3rd Qu.:0.000000  \n",
       " Max.   :1.0000           Max.   :1.00000                  Max.   :1.000000  \n",
       " Heteromeric CCAAT-binding factors High-mobility group (HMG) domain factors\n",
       " Min.   :0.000000                  Min.   :0.0000000                       \n",
       " 1st Qu.:0.000000                  1st Qu.:0.0000000                       \n",
       " Median :0.000000                  Median :0.0000000                       \n",
       " Mean   :0.009763                  Mean   :0.0003288                       \n",
       " 3rd Qu.:0.000000                  3rd Qu.:0.0000000                       \n",
       " Max.   :1.000000                  Max.   :1.0000000                       \n",
       " Homeo domain factors    Ig-fold        MADS box factors \n",
       " Min.   :0.00000      Min.   :0.00000   Min.   :0.00000  \n",
       " 1st Qu.:0.00000      1st Qu.:0.00000   1st Qu.:0.00000  \n",
       " Median :0.00000      Median :0.00000   Median :0.00000  \n",
       " Mean   :0.02376      Mean   :0.02413   Mean   :0.01199  \n",
       " 3rd Qu.:0.00000      3rd Qu.:0.00000   3rd Qu.:0.00000  \n",
       " Max.   :1.00000      Max.   :1.00000   Max.   :1.00000  \n",
       " Nuclear receptors with C4 zinc fingers     Other         Other Alpha-Helix\n",
       " Min.   :0.000000                       Min.   :0.00000   Min.   :0.00000  \n",
       " 1st Qu.:0.000000                       1st Qu.:0.00000   1st Qu.:0.00000  \n",
       " Median :0.000000                       Median :0.00000   Median :0.00000  \n",
       " Mean   :0.001865                       Mean   :0.01263   Mean   :0.02244  \n",
       " 3rd Qu.:0.000000                       3rd Qu.:0.00000   3rd Qu.:0.00000  \n",
       " Max.   :1.000000                       Max.   :1.00000   Max.   :1.00000  \n",
       " Other C4 zinc finger-type factors Paired box factors\n",
       " Min.   :0.000000                  Min.   :0.000000  \n",
       " 1st Qu.:0.000000                  1st Qu.:0.000000  \n",
       " Median :0.000000                  Median :0.000000  \n",
       " Mean   :0.001868                  Mean   :0.008183  \n",
       " 3rd Qu.:0.000000                  3rd Qu.:0.000000  \n",
       " Max.   :1.000000                  Max.   :1.000000  \n",
       " Rel homology region (RHR) factors Runt domain factors\n",
       " Min.   :0.0000                    Min.   :0.0000     \n",
       " 1st Qu.:0.0000                    1st Qu.:0.0000     \n",
       " Median :0.0000                    Median :0.0000     \n",
       " Mean   :0.0173                    Mean   :0.0211     \n",
       " 3rd Qu.:0.0000                    3rd Qu.:0.0000     \n",
       " Max.   :1.0000                    Max.   :1.0000     \n",
       " SMAD/NF-1 DNA-binding domain factors STAT domain factors\n",
       " Min.   :0.000000                     Min.   :0.000000   \n",
       " 1st Qu.:0.000000                     1st Qu.:0.000000   \n",
       " Median :0.000000                     Median :0.000000   \n",
       " Mean   :0.002927                     Mean   :0.009937   \n",
       " 3rd Qu.:0.000000                     3rd Qu.:0.000000   \n",
       " Max.   :1.000000                     Max.   :1.000000   \n",
       " Tryptophan cluster factors Winged Helix-Turn-Helix Zinc-coordinating\n",
       " Min.   :0.000              Min.   :0.00000         Min.   :0.00000  \n",
       " 1st Qu.:0.000              1st Qu.:0.00000         1st Qu.:0.00000  \n",
       " Median :0.000              Median :0.00000         Median :0.00000  \n",
       " Mean   :0.111              Mean   :0.04516         Mean   :0.02549  \n",
       " 3rd Qu.:0.000              3rd Qu.:0.00000         3rd Qu.:0.00000  \n",
       " Max.   :1.000              Max.   :1.00000         Max.   :1.00000  \n",
       "  Zipper-Type     h_max_score_16    w_min_score_16       h_frac_16      \n",
       " Min.   :0.0000   Min.   :    0.0   Min.   :-1000.00   Min.   :0.00000  \n",
       " 1st Qu.:0.0000   1st Qu.:    0.0   1st Qu.:    0.00   1st Qu.:0.00000  \n",
       " Median :0.0000   Median :    0.0   Median :    0.00   Median :0.00000  \n",
       " Mean   :0.0431   Mean   :  123.9   Mean   :   -8.97   Mean   :0.04394  \n",
       " 3rd Qu.:0.0000   3rd Qu.:    7.0   3rd Qu.:    0.00   3rd Qu.:0.02174  \n",
       " Max.   :1.0000   Max.   :71143.0   Max.   :    0.00   Max.   :1.00000  \n",
       "   w_frac_16      \n",
       " Min.   :0.00000  \n",
       " 1st Qu.:0.00000  \n",
       " Median :0.00000  \n",
       " Mean   :0.02628  \n",
       " 3rd Qu.:0.00000  \n",
       " Max.   :1.00000  "
      ]
     },
     "metadata": {},
     "output_type": "display_data"
    }
   ],
   "source": [
    "summary(joined.data)"
   ]
  },
  {
   "cell_type": "markdown",
   "metadata": {
    "collapsed": true
   },
   "source": [
    "## Part 3: Removing Footprints\n",
    "\n",
    "We want to proactively answer the question:\n",
    "\n",
    "* What would happen if you just used motifs instead of footprints? What makes footprints special?\n",
    "\n",
    "To that end, we're going to take our joined dataset, which should have the maximum amount of training data, and simply strip off the HINT and Wellington columns. The removal of these 8 columns will leave us with a motif-only set. "
   ]
  },
  {
   "cell_type": "code",
   "execution_count": 1,
   "metadata": {
    "collapsed": true
   },
   "outputs": [],
   "source": [
    "# If necessary, load the dataset\n",
    "load(\"/ssd/mrichard/data/joined.annotated.9.Rdata\")"
   ]
  },
  {
   "cell_type": "code",
   "execution_count": 12,
   "metadata": {
    "collapsed": true
   },
   "outputs": [],
   "source": [
    "# Remove the 2 columns from the joined dataset\n",
    "motifs.only <- all.TF.df.fimo.hint.well.annotated %>% select(-starts_with(\"h_\"), -starts_with(\"w_\"))"
   ]
  },
  {
   "cell_type": "code",
   "execution_count": 13,
   "metadata": {},
   "outputs": [
    {
     "data": {
      "text/html": [
       "<ol class=list-inline>\n",
       "\t<li>29534972</li>\n",
       "\t<li>31</li>\n",
       "</ol>\n"
      ],
      "text/latex": [
       "\\begin{enumerate*}\n",
       "\\item 29534972\n",
       "\\item 31\n",
       "\\end{enumerate*}\n"
      ],
      "text/markdown": [
       "1. 29534972\n",
       "2. 31\n",
       "\n",
       "\n"
      ],
      "text/plain": [
       "[1] 29534972       31"
      ]
     },
     "metadata": {},
     "output_type": "display_data"
    },
    {
     "data": {
      "text/html": [
       "<ol class=list-inline>\n",
       "\t<li>29534972</li>\n",
       "\t<li>39</li>\n",
       "</ol>\n"
      ],
      "text/latex": [
       "\\begin{enumerate*}\n",
       "\\item 29534972\n",
       "\\item 39\n",
       "\\end{enumerate*}\n"
      ],
      "text/markdown": [
       "1. 29534972\n",
       "2. 39\n",
       "\n",
       "\n"
      ],
      "text/plain": [
       "[1] 29534972       39"
      ]
     },
     "metadata": {},
     "output_type": "display_data"
    }
   ],
   "source": [
    "dim(motifs.only); dim(all.TF.df.fimo.hint.well.annotated)"
   ]
  },
  {
   "cell_type": "markdown",
   "metadata": {},
   "source": [
    "Looks like this worked; save the data frame for use later"
   ]
  },
  {
   "cell_type": "code",
   "execution_count": 14,
   "metadata": {
    "collapsed": true
   },
   "outputs": [],
   "source": [
    "save(motifs.only, file = \"/ssd/mrichard/data/joined.motifs.only.9.Rdata\")\n",
    "rm(all.TF.df.fimo.hint.well.annotated)"
   ]
  }
 ],
 "metadata": {
  "kernelspec": {
   "display_name": "R",
   "language": "R",
   "name": "ir"
  },
  "language_info": {
   "codemirror_mode": "r",
   "file_extension": ".r",
   "mimetype": "text/x-r-source",
   "name": "R",
   "pygments_lexer": "r",
   "version": "3.4.2"
  }
 },
 "nbformat": 4,
 "nbformat_minor": 2
}
