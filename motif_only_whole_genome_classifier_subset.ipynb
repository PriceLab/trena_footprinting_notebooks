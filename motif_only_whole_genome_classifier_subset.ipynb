{
 "cells": [
  {
   "cell_type": "code",
   "execution_count": 2,
   "metadata": {},
   "outputs": [
    {
     "data": {
      "text/html": [
       "<ol class=list-inline>\n",
       "\t<li>'RUnit'</li>\n",
       "\t<li>'GenomicRanges'</li>\n",
       "\t<li>'GenomeInfoDb'</li>\n",
       "\t<li>'IRanges'</li>\n",
       "\t<li>'S4Vectors'</li>\n",
       "\t<li>'BiocGenerics'</li>\n",
       "\t<li>'parallel'</li>\n",
       "\t<li>'stats4'</li>\n",
       "\t<li>'RPostgreSQL'</li>\n",
       "\t<li>'DBI'</li>\n",
       "\t<li>'caTools'</li>\n",
       "\t<li>'caret'</li>\n",
       "\t<li>'lattice'</li>\n",
       "\t<li>'stringr'</li>\n",
       "\t<li>'ROCR'</li>\n",
       "\t<li>'gplots'</li>\n",
       "\t<li>'pROC'</li>\n",
       "\t<li>'tidyr'</li>\n",
       "\t<li>'dplyr'</li>\n",
       "\t<li>'glmnet'</li>\n",
       "\t<li>'foreach'</li>\n",
       "\t<li>'Matrix'</li>\n",
       "\t<li>'xgboost'</li>\n",
       "\t<li>'ggplot2'</li>\n",
       "\t<li>'RColorBrewer'</li>\n",
       "\t<li>'stats'</li>\n",
       "\t<li>'graphics'</li>\n",
       "\t<li>'grDevices'</li>\n",
       "\t<li>'utils'</li>\n",
       "\t<li>'datasets'</li>\n",
       "\t<li>'methods'</li>\n",
       "\t<li>'base'</li>\n",
       "</ol>\n"
      ],
      "text/latex": [
       "\\begin{enumerate*}\n",
       "\\item 'RUnit'\n",
       "\\item 'GenomicRanges'\n",
       "\\item 'GenomeInfoDb'\n",
       "\\item 'IRanges'\n",
       "\\item 'S4Vectors'\n",
       "\\item 'BiocGenerics'\n",
       "\\item 'parallel'\n",
       "\\item 'stats4'\n",
       "\\item 'RPostgreSQL'\n",
       "\\item 'DBI'\n",
       "\\item 'caTools'\n",
       "\\item 'caret'\n",
       "\\item 'lattice'\n",
       "\\item 'stringr'\n",
       "\\item 'ROCR'\n",
       "\\item 'gplots'\n",
       "\\item 'pROC'\n",
       "\\item 'tidyr'\n",
       "\\item 'dplyr'\n",
       "\\item 'glmnet'\n",
       "\\item 'foreach'\n",
       "\\item 'Matrix'\n",
       "\\item 'xgboost'\n",
       "\\item 'ggplot2'\n",
       "\\item 'RColorBrewer'\n",
       "\\item 'stats'\n",
       "\\item 'graphics'\n",
       "\\item 'grDevices'\n",
       "\\item 'utils'\n",
       "\\item 'datasets'\n",
       "\\item 'methods'\n",
       "\\item 'base'\n",
       "\\end{enumerate*}\n"
      ],
      "text/markdown": [
       "1. 'RUnit'\n",
       "2. 'GenomicRanges'\n",
       "3. 'GenomeInfoDb'\n",
       "4. 'IRanges'\n",
       "5. 'S4Vectors'\n",
       "6. 'BiocGenerics'\n",
       "7. 'parallel'\n",
       "8. 'stats4'\n",
       "9. 'RPostgreSQL'\n",
       "10. 'DBI'\n",
       "11. 'caTools'\n",
       "12. 'caret'\n",
       "13. 'lattice'\n",
       "14. 'stringr'\n",
       "15. 'ROCR'\n",
       "16. 'gplots'\n",
       "17. 'pROC'\n",
       "18. 'tidyr'\n",
       "19. 'dplyr'\n",
       "20. 'glmnet'\n",
       "21. 'foreach'\n",
       "22. 'Matrix'\n",
       "23. 'xgboost'\n",
       "24. 'ggplot2'\n",
       "25. 'RColorBrewer'\n",
       "26. 'stats'\n",
       "27. 'graphics'\n",
       "28. 'grDevices'\n",
       "29. 'utils'\n",
       "30. 'datasets'\n",
       "31. 'methods'\n",
       "32. 'base'\n",
       "\n",
       "\n"
      ],
      "text/plain": [
       " [1] \"RUnit\"         \"GenomicRanges\" \"GenomeInfoDb\"  \"IRanges\"      \n",
       " [5] \"S4Vectors\"     \"BiocGenerics\"  \"parallel\"      \"stats4\"       \n",
       " [9] \"RPostgreSQL\"   \"DBI\"           \"caTools\"       \"caret\"        \n",
       "[13] \"lattice\"       \"stringr\"       \"ROCR\"          \"gplots\"       \n",
       "[17] \"pROC\"          \"tidyr\"         \"dplyr\"         \"glmnet\"       \n",
       "[21] \"foreach\"       \"Matrix\"        \"xgboost\"       \"ggplot2\"      \n",
       "[25] \"RColorBrewer\"  \"stats\"         \"graphics\"      \"grDevices\"    \n",
       "[29] \"utils\"         \"datasets\"      \"methods\"       \"base\"         "
      ]
     },
     "metadata": {},
     "output_type": "display_data"
    }
   ],
   "source": [
    "libs <- c(\n",
    "    'RColorBrewer',\n",
    "    'ggplot2',\n",
    "    'xgboost',\n",
    "    'glmnet',\n",
    "    'dplyr',\n",
    "    'tidyr',\n",
    "    'pROC',\n",
    "    'ROCR',\n",
    "    'stringr',\n",
    "    'caret',\n",
    "    'caTools'\n",
    ")\n",
    "\n",
    "for (lib in libs) {\n",
    "        if (!require(lib, character.only = TRUE, quietly = TRUE)) {\n",
    "            install.packages(lib, repos='http://cran.us.r-project.org')\n",
    "        }\n",
    "}\n",
    "\n",
    "(.packages())\n",
    "\n",
    "source(\"my_R_functions/utility_functions.R\")\n",
    "source(\"my_R_functions/stat_functions.R\")\n",
    "source(\"my_R_functions/plot_functions.R\")\n",
    "source(\"/ssd/mrichard/github/BDDS/trenadb/src/utils.R\")\n",
    "source(\"/ssd/mrichard/github/BDDS/footprints/testdb/src/dbFunctions.R\")"
   ]
  },
  {
   "cell_type": "code",
   "execution_count": 3,
   "metadata": {},
   "outputs": [
    {
     "data": {
      "text/html": [
       "<table>\n",
       "<thead><tr><th scope=col>motif</th><th scope=col>TF</th><th scope=col>class</th><th scope=col>family</th></tr></thead>\n",
       "<tbody>\n",
       "\t<tr><td>MA0001.1                             </td><td>AGL3                                 </td><td>Other Alpha-Helix                    </td><td>MADS                                 </td></tr>\n",
       "\t<tr><td>MA0002.1                             </td><td>RUNX1                                </td><td>Ig-fold                              </td><td>Runt                                 </td></tr>\n",
       "\t<tr><td>MA0003.1                             </td><td>TFAP2A                               </td><td>Zipper-Type                          </td><td>Helix-Loop-Helix                     </td></tr>\n",
       "\t<tr><td>MA0004.1                             </td><td>Arnt                                 </td><td>Basic helix-loop-helix factors (bHLH)</td><td>PAS domain factors                   </td></tr>\n",
       "\t<tr><td>MA0005.1                             </td><td>AG                                   </td><td>Other Alpha-Helix                    </td><td>MADS                                 </td></tr>\n",
       "\t<tr><td>MA0006.1                             </td><td>Ahr::Arnt                            </td><td>Basic helix-loop-helix factors (bHLH)</td><td>PAS domain factors                   </td></tr>\n",
       "</tbody>\n",
       "</table>\n"
      ],
      "text/latex": [
       "\\begin{tabular}{r|llll}\n",
       " motif & TF & class & family\\\\\n",
       "\\hline\n",
       "\t MA0001.1                              & AGL3                                  & Other Alpha-Helix                     & MADS                                 \\\\\n",
       "\t MA0002.1                              & RUNX1                                 & Ig-fold                               & Runt                                 \\\\\n",
       "\t MA0003.1                              & TFAP2A                                & Zipper-Type                           & Helix-Loop-Helix                     \\\\\n",
       "\t MA0004.1                              & Arnt                                  & Basic helix-loop-helix factors (bHLH) & PAS domain factors                   \\\\\n",
       "\t MA0005.1                              & AG                                    & Other Alpha-Helix                     & MADS                                 \\\\\n",
       "\t MA0006.1                              & Ahr::Arnt                             & Basic helix-loop-helix factors (bHLH) & PAS domain factors                   \\\\\n",
       "\\end{tabular}\n"
      ],
      "text/markdown": [
       "\n",
       "motif | TF | class | family | \n",
       "|---|---|---|---|---|---|\n",
       "| MA0001.1                              | AGL3                                  | Other Alpha-Helix                     | MADS                                  | \n",
       "| MA0002.1                              | RUNX1                                 | Ig-fold                               | Runt                                  | \n",
       "| MA0003.1                              | TFAP2A                                | Zipper-Type                           | Helix-Loop-Helix                      | \n",
       "| MA0004.1                              | Arnt                                  | Basic helix-loop-helix factors (bHLH) | PAS domain factors                    | \n",
       "| MA0005.1                              | AG                                    | Other Alpha-Helix                     | MADS                                  | \n",
       "| MA0006.1                              | Ahr::Arnt                             | Basic helix-loop-helix factors (bHLH) | PAS domain factors                    | \n",
       "\n",
       "\n"
      ],
      "text/plain": [
       "  motif    TF        class                                 family            \n",
       "1 MA0001.1 AGL3      Other Alpha-Helix                     MADS              \n",
       "2 MA0002.1 RUNX1     Ig-fold                               Runt              \n",
       "3 MA0003.1 TFAP2A    Zipper-Type                           Helix-Loop-Helix  \n",
       "4 MA0004.1 Arnt      Basic helix-loop-helix factors (bHLH) PAS domain factors\n",
       "5 MA0005.1 AG        Other Alpha-Helix                     MADS              \n",
       "6 MA0006.1 Ahr::Arnt Basic helix-loop-helix factors (bHLH) PAS domain factors"
      ]
     },
     "metadata": {},
     "output_type": "display_data"
    }
   ],
   "source": [
    "load(\"Rdata_files/motif_class_pairs.Rdata\")\n",
    "head(motif.class)"
   ]
  },
  {
   "cell_type": "code",
   "execution_count": 11,
   "metadata": {
    "collapsed": true
   },
   "outputs": [],
   "source": [
    "load(\"/ssd/mrichard/data/joined.motifs.only.9.Rdata\")"
   ]
  },
  {
   "cell_type": "markdown",
   "metadata": {},
   "source": [
    "We've got our fully-annotated dataset all together. We also have an `Rdata` file with motif-class pairings that we'll use somewhere later. Now we want to actually build a model!\n",
    "\n",
    "Skip the part where we take out things without hits for ChipSeq, HINT, or Wellington; just change the names to ones that are okay"
   ]
  },
  {
   "cell_type": "code",
   "execution_count": 12,
   "metadata": {
    "collapsed": true
   },
   "outputs": [],
   "source": [
    "colnames(motifs.only) <- make.names(colnames(motifs.only), unique=TRUE)"
   ]
  },
  {
   "cell_type": "markdown",
   "metadata": {},
   "source": [
    "For our modeling, we also don't need any info on:\n",
    "\n",
    "* Motif location (start/end/strand/chromosome)\n",
    "* Motif name\n",
    "* Sequence\n",
    "* P-value of the FIMO hit\n",
    "\n",
    "So we'll get rid of these. We'll also divide into 3 datasets:\n",
    "\n",
    "1. Validation: Just chromosomes 2 and 4\n",
    "2. Testing: Just chromosomes 1, 3, and 5\n",
    "3. Training: All the other chromosomes\n",
    "\n",
    "Then we'll get rid of the original dataset and the intermediate dataset with only hits. "
   ]
  },
  {
   "cell_type": "code",
   "execution_count": 13,
   "metadata": {
    "collapsed": true
   },
   "outputs": [],
   "source": [
    "cols_to_drop <- c('motifname', 'chrom', 'strand', 'loc')"
   ]
  },
  {
   "cell_type": "code",
   "execution_count": 14,
   "metadata": {},
   "outputs": [],
   "source": [
    "motifs.only %>%\n",
    "    filter(chrom %in% c(\"2\",\"4\")) %>%\n",
    "    select(-one_of(cols_to_drop)) ->\n",
    "    val_df\n",
    "\n",
    "motifs.only %>%\n",
    "    filter(chrom %in% c(\"1\",\"3\",\"5\")) %>%\n",
    "    select(-one_of(cols_to_drop)) ->\n",
    "    test_df\n",
    "\n",
    "motifs.only %>%\n",
    "    filter(!(chrom %in% c(\"1\",\"2\",\"3\",\"4\",\"5\"))) %>%\n",
    "    select(-one_of(cols_to_drop)) ->\n",
    "    train_df\n",
    "\n",
    "remove(motifs.only)"
   ]
  },
  {
   "cell_type": "markdown",
   "metadata": {},
   "source": [
    "For the purposes of our model-building, we'll turn each dataset into a matrix, which is the input format we need. \n",
    "\n",
    "We'll also separate out the ChipSeq hit, which is our Y (response) and everything else, which serve as our predictors. This ends up with nearly 2 million points in the training set, and a bit over half a million points in the testing set. "
   ]
  },
  {
   "cell_type": "code",
   "execution_count": 15,
   "metadata": {
    "collapsed": true
   },
   "outputs": [],
   "source": [
    "val_df %>% \n",
    "    select(-cs_hit) %>%\n",
    "    as.matrix ->\n",
    "    X_val\n",
    "\n",
    "val_df %>% \n",
    "    select(cs_hit) %>%\n",
    "    as.matrix ->\n",
    "    y_val\n",
    "\n",
    "test_df %>% \n",
    "    select(-cs_hit) %>%\n",
    "    as.matrix ->\n",
    "    X_test\n",
    "\n",
    "test_df %>% \n",
    "    select(cs_hit) %>%\n",
    "    as.matrix ->\n",
    "    y_test\n",
    "\n",
    "train_df %>% \n",
    "    select(-cs_hit) %>%\n",
    "    as.matrix ->\n",
    "    X_train\n",
    "\n",
    "train_df %>% \n",
    "    select(cs_hit) %>%\n",
    "    as.matrix ->\n",
    "    y_train\n",
    "\n",
    "remove(val_df, test_df, train_df)"
   ]
  },
  {
   "cell_type": "code",
   "execution_count": 16,
   "metadata": {},
   "outputs": [
    {
     "data": {
      "text/html": [
       "<ol class=list-inline>\n",
       "\t<li>19819409</li>\n",
       "\t<li>26</li>\n",
       "</ol>\n"
      ],
      "text/latex": [
       "\\begin{enumerate*}\n",
       "\\item 19819409\n",
       "\\item 26\n",
       "\\end{enumerate*}\n"
      ],
      "text/markdown": [
       "1. 19819409\n",
       "2. 26\n",
       "\n",
       "\n"
      ],
      "text/plain": [
       "[1] 19819409       26"
      ]
     },
     "metadata": {},
     "output_type": "display_data"
    },
    {
     "data": {
      "text/html": [
       "<ol class=list-inline>\n",
       "\t<li>5892439</li>\n",
       "\t<li>26</li>\n",
       "</ol>\n"
      ],
      "text/latex": [
       "\\begin{enumerate*}\n",
       "\\item 5892439\n",
       "\\item 26\n",
       "\\end{enumerate*}\n"
      ],
      "text/markdown": [
       "1. 5892439\n",
       "2. 26\n",
       "\n",
       "\n"
      ],
      "text/plain": [
       "[1] 5892439      26"
      ]
     },
     "metadata": {},
     "output_type": "display_data"
    },
    {
     "data": {
      "text/html": [
       "<ol class=list-inline>\n",
       "\t<li>19819409</li>\n",
       "\t<li>1</li>\n",
       "</ol>\n"
      ],
      "text/latex": [
       "\\begin{enumerate*}\n",
       "\\item 19819409\n",
       "\\item 1\n",
       "\\end{enumerate*}\n"
      ],
      "text/markdown": [
       "1. 19819409\n",
       "2. 1\n",
       "\n",
       "\n"
      ],
      "text/plain": [
       "[1] 19819409        1"
      ]
     },
     "metadata": {},
     "output_type": "display_data"
    },
    {
     "data": {
      "text/html": [
       "<ol class=list-inline>\n",
       "\t<li>5892439</li>\n",
       "\t<li>1</li>\n",
       "</ol>\n"
      ],
      "text/latex": [
       "\\begin{enumerate*}\n",
       "\\item 5892439\n",
       "\\item 1\n",
       "\\end{enumerate*}\n"
      ],
      "text/markdown": [
       "1. 5892439\n",
       "2. 1\n",
       "\n",
       "\n"
      ],
      "text/plain": [
       "[1] 5892439       1"
      ]
     },
     "metadata": {},
     "output_type": "display_data"
    }
   ],
   "source": [
    "dim(X_train)\n",
    "dim(X_test)\n",
    "dim(y_train)\n",
    "dim(y_test)"
   ]
  },
  {
   "cell_type": "markdown",
   "metadata": {},
   "source": [
    "## gbdt\n",
    "\n",
    "Here's where we actually do the machine learning! We're going to use the `xgboost` package, which is \"Extreme Gradient Boosting\". It's a technique where you're progressively adding things to your model to \"boost\" its performance, at least in my recollection. Seems like the way we're boosting it is by adding trees...I'll have to look more at this. It looks like you can also boost with linear models, but we're using the trees, which are the default. \n",
    "\n",
    "We specify a handful of parameters that do the following (in order):\n",
    "\n",
    "* Set the objective to \"binary:logistic\", telling it to do classification instead of regression or \"ranking\"\n",
    "* Set the maximum tree depth to 7 rather than the default, 6.\n",
    "* Set the contribution of each additional tree to 0.005; this is conservative, it's to prevent overfitting, so we have to add more things, but each particular things adds less to the overall model\n",
    "* Set the evaluation metric to Area Under the Curve; essentially, you do a ROC curve and try to maximize area underneath it. \n",
    "    * Note that you can set multiple metrics; things like error or cumulative gain\n",
    "    \n",
    "Other than the `param` list, we also specify:\n",
    "\n",
    "* The data are our training set\n",
    "* The real labels are our training response\n",
    "* We are permitting 200 rounds of iterations; I'm guessing this is a large number, based on our small eta number\n",
    "* Verbose is FALSE, so it won't print output; it could also be \"1\" or \"2\" for different output amounts\n",
    "* Missing is NA, so consider missing values to be NA; could be 0, but this is the default, as well as our value"
   ]
  },
  {
   "cell_type": "markdown",
   "metadata": {},
   "source": [
    "**Note: This takes quite a while (several hours) with our enlarged dataset**"
   ]
  },
  {
   "cell_type": "code",
   "execution_count": 17,
   "metadata": {},
   "outputs": [
    {
     "name": "stdout",
     "output_type": "stream",
     "text": [
      "[14:24:59] Tree method is automatically selected to be 'approx' for faster speed. to use old behavior(exact greedy algorithm on single machine), set tree_method to 'exact'\n"
     ]
    }
   ],
   "source": [
    "param <- list(\"objective\" = \"binary:logistic\",\n",
    "          \"max.depth\" = 7,\n",
    "          \"eta\" = 0.005,\n",
    "          \"eval.metric\" = \"auc\"\n",
    "          )\n",
    "\n",
    "gbdt_medium <- xgboost(\n",
    "    params = param,\n",
    "    data = X_train,\n",
    "    label = y_train,\n",
    "    nround = 200,\n",
    "    verbose = FALSE,\n",
    "    missing = NA\n",
    ")\n",
    "\n",
    "gbdt_medium$Model.Name <- \"trees with classes\""
   ]
  },
  {
   "cell_type": "code",
   "execution_count": 18,
   "metadata": {},
   "outputs": [
    {
     "data": {
      "text/html": [
       "TRUE"
      ],
      "text/latex": [
       "TRUE"
      ],
      "text/markdown": [
       "TRUE"
      ],
      "text/plain": [
       "[1] TRUE"
      ]
     },
     "metadata": {},
     "output_type": "display_data"
    }
   ],
   "source": [
    "xgb.save(gbdt_medium, \"saved_models/xgboost_TF_site_predict_motif_only.model\")"
   ]
  },
  {
   "cell_type": "markdown",
   "metadata": {},
   "source": [
    "Now we have a gradient-boosted classifier called \"trees with classes\" that we've trained. We'll use the model in a moment, but first we're taking our motif class pairs and using `make.names` so that they match the ones we changed earlier...this will be important in a second"
   ]
  },
  {
   "cell_type": "code",
   "execution_count": 19,
   "metadata": {
    "collapsed": true
   },
   "outputs": [],
   "source": [
    "motif.class$class <- lapply(motif.class$class, make.names, unique=TRUE)"
   ]
  },
  {
   "cell_type": "markdown",
   "metadata": {},
   "source": [
    "We're pulling out the \"importance matrix\"; we basically give the names of the features in the first argument and the model in the second argument. That's pretty straightforward, and the matrix is only 18 x 4 (number of features is 18). \n",
    "\n",
    "Given it's pretty small, here it is:"
   ]
  },
  {
   "cell_type": "code",
   "execution_count": 20,
   "metadata": {},
   "outputs": [
    {
     "data": {
      "text/html": [
       "<table>\n",
       "<thead><tr><th scope=col>Feature</th><th scope=col>Gain</th><th scope=col>Cover</th><th scope=col>Frequency</th></tr></thead>\n",
       "<tbody>\n",
       "\t<tr><td>asinh_tss_dist                       </td><td>7.384477e-01                         </td><td>3.667133e-01                         </td><td>2.679921e-01                         </td></tr>\n",
       "\t<tr><td>gc_content                           </td><td>1.338732e-01                         </td><td>2.567867e-01                         </td><td>2.925591e-01                         </td></tr>\n",
       "\t<tr><td>motifscore                           </td><td>6.977949e-02                         </td><td>2.206148e-01                         </td><td>2.240551e-01                         </td></tr>\n",
       "\t<tr><td>Basic.helix.loop.helix.factors..bHLH.</td><td>3.545088e-02                         </td><td>3.247282e-02                         </td><td>4.814961e-02                         </td></tr>\n",
       "\t<tr><td>C2H2.zinc.finger.factors             </td><td>1.262985e-02                         </td><td>8.628426e-02                         </td><td>6.086614e-02                         </td></tr>\n",
       "\t<tr><td>Tryptophan.cluster.factors           </td><td>5.577724e-03                         </td><td>1.749579e-02                         </td><td>3.775591e-02                         </td></tr>\n",
       "\t<tr><td>Basic.leucine.zipper.factors..bZIP.  </td><td>1.784156e-03                         </td><td>3.158017e-03                         </td><td>1.909449e-02                         </td></tr>\n",
       "\t<tr><td>MADS.box.factors                     </td><td>1.243737e-03                         </td><td>1.256603e-02                         </td><td>1.996063e-02                         </td></tr>\n",
       "\t<tr><td>Zinc.coordinating                    </td><td>8.723601e-04                         </td><td>2.899022e-03                         </td><td>1.413386e-02                         </td></tr>\n",
       "\t<tr><td>Zipper.Type                          </td><td>1.039902e-04                         </td><td>2.029667e-04                         </td><td>9.055118e-04                         </td></tr>\n",
       "\t<tr><td>Paired.box.factors                   </td><td>1.034257e-04                         </td><td>4.546193e-04                         </td><td>6.535433e-03                         </td></tr>\n",
       "\t<tr><td>Fork.head...winged.helix.factors     </td><td>4.605171e-05                         </td><td>7.060429e-05                         </td><td>3.503937e-03                         </td></tr>\n",
       "\t<tr><td>STAT.domain.factors                  </td><td>3.205680e-05                         </td><td>9.738922e-05                         </td><td>1.929134e-03                         </td></tr>\n",
       "\t<tr><td>Homeo.domain.factors                 </td><td>2.985212e-05                         </td><td>7.824111e-05                         </td><td>1.062992e-03                         </td></tr>\n",
       "\t<tr><td>Ig.fold                              </td><td>2.478597e-05                         </td><td>1.050921e-04                         </td><td>3.543307e-04                         </td></tr>\n",
       "\t<tr><td>Winged.Helix.Turn.Helix              </td><td>6.877557e-07                         </td><td>3.114922e-07                         </td><td>1.102362e-03                         </td></tr>\n",
       "\t<tr><td>SMAD.NF.1.DNA.binding.domain.factors </td><td>1.821753e-08                         </td><td>2.681847e-08                         </td><td>3.937008e-05                         </td></tr>\n",
       "</tbody>\n",
       "</table>\n"
      ],
      "text/latex": [
       "\\begin{tabular}{r|llll}\n",
       " Feature & Gain & Cover & Frequency\\\\\n",
       "\\hline\n",
       "\t asinh\\_tss\\_dist                        & 7.384477e-01                              & 3.667133e-01                              & 2.679921e-01                             \\\\\n",
       "\t gc\\_content                            & 1.338732e-01                            & 2.567867e-01                            & 2.925591e-01                           \\\\\n",
       "\t motifscore                            & 6.977949e-02                          & 2.206148e-01                          & 2.240551e-01                         \\\\\n",
       "\t Basic.helix.loop.helix.factors..bHLH. & 3.545088e-02                          & 3.247282e-02                          & 4.814961e-02                         \\\\\n",
       "\t C2H2.zinc.finger.factors              & 1.262985e-02                          & 8.628426e-02                          & 6.086614e-02                         \\\\\n",
       "\t Tryptophan.cluster.factors            & 5.577724e-03                          & 1.749579e-02                          & 3.775591e-02                         \\\\\n",
       "\t Basic.leucine.zipper.factors..bZIP.   & 1.784156e-03                          & 3.158017e-03                          & 1.909449e-02                         \\\\\n",
       "\t MADS.box.factors                      & 1.243737e-03                          & 1.256603e-02                          & 1.996063e-02                         \\\\\n",
       "\t Zinc.coordinating                     & 8.723601e-04                          & 2.899022e-03                          & 1.413386e-02                         \\\\\n",
       "\t Zipper.Type                           & 1.039902e-04                          & 2.029667e-04                          & 9.055118e-04                         \\\\\n",
       "\t Paired.box.factors                    & 1.034257e-04                          & 4.546193e-04                          & 6.535433e-03                         \\\\\n",
       "\t Fork.head...winged.helix.factors      & 4.605171e-05                          & 7.060429e-05                          & 3.503937e-03                         \\\\\n",
       "\t STAT.domain.factors                   & 3.205680e-05                          & 9.738922e-05                          & 1.929134e-03                         \\\\\n",
       "\t Homeo.domain.factors                  & 2.985212e-05                          & 7.824111e-05                          & 1.062992e-03                         \\\\\n",
       "\t Ig.fold                               & 2.478597e-05                          & 1.050921e-04                          & 3.543307e-04                         \\\\\n",
       "\t Winged.Helix.Turn.Helix               & 6.877557e-07                          & 3.114922e-07                          & 1.102362e-03                         \\\\\n",
       "\t SMAD.NF.1.DNA.binding.domain.factors  & 1.821753e-08                          & 2.681847e-08                          & 3.937008e-05                         \\\\\n",
       "\\end{tabular}\n"
      ],
      "text/markdown": [
       "\n",
       "Feature | Gain | Cover | Frequency | \n",
       "|---|---|---|---|---|---|---|---|---|---|---|---|---|---|---|---|---|\n",
       "| asinh_tss_dist                        | 7.384477e-01                          | 3.667133e-01                          | 2.679921e-01                          | \n",
       "| gc_content                            | 1.338732e-01                          | 2.567867e-01                          | 2.925591e-01                          | \n",
       "| motifscore                            | 6.977949e-02                          | 2.206148e-01                          | 2.240551e-01                          | \n",
       "| Basic.helix.loop.helix.factors..bHLH. | 3.545088e-02                          | 3.247282e-02                          | 4.814961e-02                          | \n",
       "| C2H2.zinc.finger.factors              | 1.262985e-02                          | 8.628426e-02                          | 6.086614e-02                          | \n",
       "| Tryptophan.cluster.factors            | 5.577724e-03                          | 1.749579e-02                          | 3.775591e-02                          | \n",
       "| Basic.leucine.zipper.factors..bZIP.   | 1.784156e-03                          | 3.158017e-03                          | 1.909449e-02                          | \n",
       "| MADS.box.factors                      | 1.243737e-03                          | 1.256603e-02                          | 1.996063e-02                          | \n",
       "| Zinc.coordinating                     | 8.723601e-04                          | 2.899022e-03                          | 1.413386e-02                          | \n",
       "| Zipper.Type                           | 1.039902e-04                          | 2.029667e-04                          | 9.055118e-04                          | \n",
       "| Paired.box.factors                    | 1.034257e-04                          | 4.546193e-04                          | 6.535433e-03                          | \n",
       "| Fork.head...winged.helix.factors      | 4.605171e-05                          | 7.060429e-05                          | 3.503937e-03                          | \n",
       "| STAT.domain.factors                   | 3.205680e-05                          | 9.738922e-05                          | 1.929134e-03                          | \n",
       "| Homeo.domain.factors                  | 2.985212e-05                          | 7.824111e-05                          | 1.062992e-03                          | \n",
       "| Ig.fold                               | 2.478597e-05                          | 1.050921e-04                          | 3.543307e-04                          | \n",
       "| Winged.Helix.Turn.Helix               | 6.877557e-07                          | 3.114922e-07                          | 1.102362e-03                          | \n",
       "| SMAD.NF.1.DNA.binding.domain.factors  | 1.821753e-08                          | 2.681847e-08                          | 3.937008e-05                          | \n",
       "\n",
       "\n"
      ],
      "text/plain": [
       "   Feature                               Gain         Cover        Frequency   \n",
       "1  asinh_tss_dist                        7.384477e-01 3.667133e-01 2.679921e-01\n",
       "2  gc_content                            1.338732e-01 2.567867e-01 2.925591e-01\n",
       "3  motifscore                            6.977949e-02 2.206148e-01 2.240551e-01\n",
       "4  Basic.helix.loop.helix.factors..bHLH. 3.545088e-02 3.247282e-02 4.814961e-02\n",
       "5  C2H2.zinc.finger.factors              1.262985e-02 8.628426e-02 6.086614e-02\n",
       "6  Tryptophan.cluster.factors            5.577724e-03 1.749579e-02 3.775591e-02\n",
       "7  Basic.leucine.zipper.factors..bZIP.   1.784156e-03 3.158017e-03 1.909449e-02\n",
       "8  MADS.box.factors                      1.243737e-03 1.256603e-02 1.996063e-02\n",
       "9  Zinc.coordinating                     8.723601e-04 2.899022e-03 1.413386e-02\n",
       "10 Zipper.Type                           1.039902e-04 2.029667e-04 9.055118e-04\n",
       "11 Paired.box.factors                    1.034257e-04 4.546193e-04 6.535433e-03\n",
       "12 Fork.head...winged.helix.factors      4.605171e-05 7.060429e-05 3.503937e-03\n",
       "13 STAT.domain.factors                   3.205680e-05 9.738922e-05 1.929134e-03\n",
       "14 Homeo.domain.factors                  2.985212e-05 7.824111e-05 1.062992e-03\n",
       "15 Ig.fold                               2.478597e-05 1.050921e-04 3.543307e-04\n",
       "16 Winged.Helix.Turn.Helix               6.877557e-07 3.114922e-07 1.102362e-03\n",
       "17 SMAD.NF.1.DNA.binding.domain.factors  1.821753e-08 2.681847e-08 3.937008e-05"
      ]
     },
     "metadata": {},
     "output_type": "display_data"
    }
   ],
   "source": [
    "importance_matrix <- xgb.importance(colnames(X_train),model=gbdt_medium)\n",
    "importance_matrix"
   ]
  },
  {
   "cell_type": "markdown",
   "metadata": {},
   "source": [
    "What we're seeing here is the following:\n",
    "\n",
    "* Gain: contribution of a feature to the model (higher is better, and it's sorted by this)\n",
    "* Cover: Number of the observation related to the feature\n",
    "    * I'm not exactly sure what this means, but I don't think we're using it much\n",
    "* Weight (Frequency?): percentage of time the feature pops up in trees\n",
    "\n",
    "So we're most interested in the Gain, which basically tells us how important each feature is. We're going to turn this matrix into a data frame, then we'll:\n",
    "\n",
    "1. Separate out features that are TF classes and those that are not into 2 separate data frames\n",
    "2. Take the TF class data frame and do the following to make it into 1 feature, \"TF_Class\"\n",
    "    1. Select only the non-Feature columns, so the numeric ones that can be added\n",
    "    2. Sum those columns, so the gains are additive\n",
    "    3. Make them into a list\n",
    "    4. Take away their names so you can add \"TF_Class\" to them via concatenation\n",
    "    5. Add the correct names to each entry\n",
    "    6. Add that list as a row to the data frame\n",
    "\n",
    "Now we have the same importance matrix, but all the TF-Class features are added into one row. ***It's interesting to me that you can just do that...something to ask Rory about perhaps***.\n",
    "\n",
    "Now that we have that matrix, we'll make a barplot of the Gain variable to show which features had most gain"
   ]
  },
  {
   "cell_type": "code",
   "execution_count": 21,
   "metadata": {},
   "outputs": [
    {
     "data": {},
     "metadata": {},
     "output_type": "display_data"
    },
    {
     "data": {
      "image/png": "[encoded data removed]",
      "text/plain": [
       "plot without title"
      ]
     },
     "metadata": {},
     "output_type": "display_data"
    }
   ],
   "source": [
    "importance_matrix <- xgb.importance(colnames(X_train),model=gbdt_medium)\n",
    "\n",
    "df <- as_data_frame(importance_matrix)\n",
    "df.tf <- subset(df, Feature %in% unique(motif.class$class))\n",
    "df.notf <- subset(df, !(Feature %in% unique(motif.class$class)))\n",
    "tfclass.row <- c(\"TF_class\", unname(as.list(colSums(df.tf[!(colnames(df.tf) %in% c(\"Feature\"))]))) )\n",
    "names(tfclass.row) <- colnames(df)\n",
    "df.sum <- rbind(df.notf,tfclass.row)\n",
    "\n",
    "ggplot(data=df.sum, aes(x=reorder(Feature, Gain), y=Gain)) +\n",
    "    geom_bar(stat=\"identity\") +\n",
    "    coord_flip() +\n",
    "    theme_minimal(base_size = 30) +\n",
    "    labs(x = \"Feature\", y=\"Gain\")"
   ]
  },
  {
   "cell_type": "markdown",
   "metadata": {},
   "source": [
    "Now that we've checked out the features, we'll get back to the model. We're using 2 Rory functions that put together some stuff:\n",
    "\n",
    "* `make.pred.df.from.model`\n",
    "    * Takes in a model and runs `predict()` on it with the test data\n",
    "    * Makes a data frame where it tacks on the actual response test data\n",
    "    * Adds a column denoting the name of the model and returns it\n",
    "* `make.stats.df.from.preds`\n",
    "    * Takes in the data frame made by above function\n",
    "    * Uses the `roc()` and `coords` functions in succession to generate ROC numbers (sensitivity, specificity, etc) for a range of points from 0 to 1\n",
    "        * The range of points corresponds to the threshold for a prediction being classified as \"TRUE\"\n",
    "    * Generates Matthews correlation coefficients, also for a range of thresholds from 0 to 1\n",
    "        * Recall that these take into account TP/TN/FP/FN stuff\n",
    "    * Adds the MCC to the ROC curve numbers, adds the name of the model, and returns the whole thing"
   ]
  },
  {
   "cell_type": "code",
   "execution_count": 22,
   "metadata": {
    "collapsed": true
   },
   "outputs": [],
   "source": [
    "medium_pred_df <- make.pred.df.from.model(gbdt_medium, X_test, y_test)\n",
    "colnames(medium_pred_df)[1] <- \"ChIPseq.bound\"\n",
    "medium_stat_df <- make.stats.df.from.preds(medium_pred_df)"
   ]
  },
  {
   "cell_type": "markdown",
   "metadata": {},
   "source": [
    "Just to clarify, here's the two data frames:"
   ]
  },
  {
   "cell_type": "code",
   "execution_count": 23,
   "metadata": {},
   "outputs": [
    {
     "data": {
      "text/html": [
       "<table>\n",
       "<thead><tr><th scope=col>ChIPseq.bound</th><th scope=col>Prediction</th><th scope=col>Model.Name</th></tr></thead>\n",
       "<tbody>\n",
       "\t<tr><td>1                 </td><td>0.3073523         </td><td>trees with classes</td></tr>\n",
       "\t<tr><td>1                 </td><td>0.2833366         </td><td>trees with classes</td></tr>\n",
       "\t<tr><td>1                 </td><td>0.2114453         </td><td>trees with classes</td></tr>\n",
       "\t<tr><td>1                 </td><td>0.2114453         </td><td>trees with classes</td></tr>\n",
       "\t<tr><td>1                 </td><td>0.2431628         </td><td>trees with classes</td></tr>\n",
       "\t<tr><td>1                 </td><td>0.2633145         </td><td>trees with classes</td></tr>\n",
       "</tbody>\n",
       "</table>\n"
      ],
      "text/latex": [
       "\\begin{tabular}{r|lll}\n",
       " ChIPseq.bound & Prediction & Model.Name\\\\\n",
       "\\hline\n",
       "\t 1                  & 0.3073523          & trees with classes\\\\\n",
       "\t 1                  & 0.2833366          & trees with classes\\\\\n",
       "\t 1                  & 0.2114453          & trees with classes\\\\\n",
       "\t 1                  & 0.2114453          & trees with classes\\\\\n",
       "\t 1                  & 0.2431628          & trees with classes\\\\\n",
       "\t 1                  & 0.2633145          & trees with classes\\\\\n",
       "\\end{tabular}\n"
      ],
      "text/markdown": [
       "\n",
       "ChIPseq.bound | Prediction | Model.Name | \n",
       "|---|---|---|---|---|---|\n",
       "| 1                  | 0.3073523          | trees with classes | \n",
       "| 1                  | 0.2833366          | trees with classes | \n",
       "| 1                  | 0.2114453          | trees with classes | \n",
       "| 1                  | 0.2114453          | trees with classes | \n",
       "| 1                  | 0.2431628          | trees with classes | \n",
       "| 1                  | 0.2633145          | trees with classes | \n",
       "\n",
       "\n"
      ],
      "text/plain": [
       "  ChIPseq.bound Prediction Model.Name        \n",
       "1 1             0.3073523  trees with classes\n",
       "2 1             0.2833366  trees with classes\n",
       "3 1             0.2114453  trees with classes\n",
       "4 1             0.2114453  trees with classes\n",
       "5 1             0.2431628  trees with classes\n",
       "6 1             0.2633145  trees with classes"
      ]
     },
     "metadata": {},
     "output_type": "display_data"
    }
   ],
   "source": [
    "head(medium_pred_df)"
   ]
  },
  {
   "cell_type": "code",
   "execution_count": 24,
   "metadata": {},
   "outputs": [
    {
     "data": {
      "text/html": [
       "<table>\n",
       "<thead><tr><th></th><th scope=col>threshold</th><th scope=col>sensitivity</th><th scope=col>specificity</th><th scope=col>ppv</th><th scope=col>npv</th><th scope=col>accuracy</th><th scope=col>MattCC</th><th scope=col>Model.Name</th></tr></thead>\n",
       "<tbody>\n",
       "\t<tr><th scope=row>0</th><td>0.00              </td><td>1                 </td><td>0                 </td><td>0.132892          </td><td>NaN               </td><td>0.132892          </td><td>0                 </td><td>trees with classes</td></tr>\n",
       "\t<tr><th scope=row>0.01</th><td>0.01              </td><td>1                 </td><td>0                 </td><td>0.132892          </td><td>NaN               </td><td>0.132892          </td><td>0                 </td><td>trees with classes</td></tr>\n",
       "\t<tr><th scope=row>0.02</th><td>0.02              </td><td>1                 </td><td>0                 </td><td>0.132892          </td><td>NaN               </td><td>0.132892          </td><td>0                 </td><td>trees with classes</td></tr>\n",
       "\t<tr><th scope=row>0.03</th><td>0.03              </td><td>1                 </td><td>0                 </td><td>0.132892          </td><td>NaN               </td><td>0.132892          </td><td>0                 </td><td>trees with classes</td></tr>\n",
       "\t<tr><th scope=row>0.04</th><td>0.04              </td><td>1                 </td><td>0                 </td><td>0.132892          </td><td>NaN               </td><td>0.132892          </td><td>0                 </td><td>trees with classes</td></tr>\n",
       "\t<tr><th scope=row>0.05</th><td>0.05              </td><td>1                 </td><td>0                 </td><td>0.132892          </td><td>NaN               </td><td>0.132892          </td><td>0                 </td><td>trees with classes</td></tr>\n",
       "</tbody>\n",
       "</table>\n"
      ],
      "text/latex": [
       "\\begin{tabular}{r|llllllll}\n",
       "  & threshold & sensitivity & specificity & ppv & npv & accuracy & MattCC & Model.Name\\\\\n",
       "\\hline\n",
       "\t0 & 0.00               & 1                  & 0                  & 0.132892           & NaN                & 0.132892           & 0                  & trees with classes\\\\\n",
       "\t0.01 & 0.01               & 1                  & 0                  & 0.132892           & NaN                & 0.132892           & 0                  & trees with classes\\\\\n",
       "\t0.02 & 0.02               & 1                  & 0                  & 0.132892           & NaN                & 0.132892           & 0                  & trees with classes\\\\\n",
       "\t0.03 & 0.03               & 1                  & 0                  & 0.132892           & NaN                & 0.132892           & 0                  & trees with classes\\\\\n",
       "\t0.04 & 0.04               & 1                  & 0                  & 0.132892           & NaN                & 0.132892           & 0                  & trees with classes\\\\\n",
       "\t0.05 & 0.05               & 1                  & 0                  & 0.132892           & NaN                & 0.132892           & 0                  & trees with classes\\\\\n",
       "\\end{tabular}\n"
      ],
      "text/markdown": [
       "\n",
       "| <!--/--> | threshold | sensitivity | specificity | ppv | npv | accuracy | MattCC | Model.Name | \n",
       "|---|---|---|---|---|---|\n",
       "| 0 | 0.00               | 1                  | 0                  | 0.132892           | NaN                | 0.132892           | 0                  | trees with classes | \n",
       "| 0.01 | 0.01               | 1                  | 0                  | 0.132892           | NaN                | 0.132892           | 0                  | trees with classes | \n",
       "| 0.02 | 0.02               | 1                  | 0                  | 0.132892           | NaN                | 0.132892           | 0                  | trees with classes | \n",
       "| 0.03 | 0.03               | 1                  | 0                  | 0.132892           | NaN                | 0.132892           | 0                  | trees with classes | \n",
       "| 0.04 | 0.04               | 1                  | 0                  | 0.132892           | NaN                | 0.132892           | 0                  | trees with classes | \n",
       "| 0.05 | 0.05               | 1                  | 0                  | 0.132892           | NaN                | 0.132892           | 0                  | trees with classes | \n",
       "\n",
       "\n"
      ],
      "text/plain": [
       "     threshold sensitivity specificity ppv      npv accuracy MattCC\n",
       "0    0.00      1           0           0.132892 NaN 0.132892 0     \n",
       "0.01 0.01      1           0           0.132892 NaN 0.132892 0     \n",
       "0.02 0.02      1           0           0.132892 NaN 0.132892 0     \n",
       "0.03 0.03      1           0           0.132892 NaN 0.132892 0     \n",
       "0.04 0.04      1           0           0.132892 NaN 0.132892 0     \n",
       "0.05 0.05      1           0           0.132892 NaN 0.132892 0     \n",
       "     Model.Name        \n",
       "0    trees with classes\n",
       "0.01 trees with classes\n",
       "0.02 trees with classes\n",
       "0.03 trees with classes\n",
       "0.04 trees with classes\n",
       "0.05 trees with classes"
      ]
     },
     "metadata": {},
     "output_type": "display_data"
    }
   ],
   "source": [
    "head(medium_stat_df)"
   ]
  },
  {
   "cell_type": "markdown",
   "metadata": {},
   "source": [
    "## Train a linear model on all features"
   ]
  },
  {
   "cell_type": "markdown",
   "metadata": {},
   "source": [
    "Now we're going to do something a little different; instead of training a boosted tree model where we add lots of trees together, we're going to make some linear models. As such, we'll re-brand our data as the \"linear\" data:"
   ]
  },
  {
   "cell_type": "code",
   "execution_count": 25,
   "metadata": {
    "collapsed": true
   },
   "outputs": [],
   "source": [
    "X_train_lin <- X_train\n",
    "y_train_lin <- y_train\n",
    "X_test_lin  <- X_test\n",
    "y_test_lin  <- y_test"
   ]
  },
  {
   "cell_type": "markdown",
   "metadata": {},
   "source": [
    "We'll treat the TF classes differently here; we have to transform them to factors for the linear model, but that's fine. We're going to make a model called \"glm small\" where we use ALL the features, with each TF class as a factor variable. \n",
    "\n",
    "Note that this is logistic regression; we're using `family = binomial`"
   ]
  },
  {
   "cell_type": "code",
   "execution_count": 26,
   "metadata": {
    "collapsed": true
   },
   "outputs": [],
   "source": [
    "tf.regressors <- colnames(X_train_lin)[colnames(X_train_lin) %in% unique(motif.class$class)]\n",
    "non.tf.regressors <-  colnames(X_train_lin)[!colnames(X_train_lin) %in% unique(motif.class$class)]\n",
    "\n",
    "tf.regressors.formula <- paste(\"as.factor(\", paste(tf.regressors, collapse=\") + as.factor(\"), \")\")\n",
    "non.tf.regressors.formula <- paste(non.tf.regressors, collapse=\" + \")\n",
    "all.regressors.formula <- paste(non.tf.regressors.formula, tf.regressors.formula, sep=\" + \")\n",
    "\n",
    "glm.formula <- paste(\"ChIPseq.bound ~ \", all.regressors.formula, sep='')\n",
    "\n",
    "glm.df.train <- as.data.frame(cbind(y_train_lin, X_train_lin)) %>% rename(\"cs_hit\" = \"ChIPseq.bound\")\n",
    "glm.df.test <-  as.data.frame(cbind(y_test_lin, X_test_lin)) %>% rename(\"cs_hit\" = \"ChIPseq.bound\")\n",
    "\n",
    "glm.all <- glm(as.formula(glm.formula), data=glm.df.train, family=binomial)\n",
    "glm.all$Model.Name <- \"glm small\""
   ]
  },
  {
   "cell_type": "markdown",
   "metadata": {},
   "source": [
    "As before, we'll predict on the test set and assemble prediction stats in a data frame; we won't show that, but it looks a lot like the one above"
   ]
  },
  {
   "cell_type": "code",
   "execution_count": 32,
   "metadata": {},
   "outputs": [
    {
     "name": "stderr",
     "output_type": "stream",
     "text": [
      "Warning message in predict.lm(object, newdata, se.fit, scale = 1, type = ifelse(type == :\n",
      "“prediction from a rank-deficient fit may be misleading”"
     ]
    }
   ],
   "source": [
    "glm.pred.df <- make.pred.df.from.glm(glm.all, glm.df.test)\n",
    "glm.stat.df <- make.stats.df.from.preds(glm.pred.df)"
   ]
  },
  {
   "cell_type": "markdown",
   "metadata": {},
   "source": [
    "## Linear Model on all Features Independently"
   ]
  },
  {
   "cell_type": "markdown",
   "metadata": {},
   "source": [
    "Finally, we'll do it for each feature individually and make a model for each, naming them accordingly. We'll also grab the stats for each and bind them together. So what we have is a BIG data frame comprised of like 17 data frames stacked on top of each other. BUT, each model has its name, so we can find the data for each."
   ]
  },
  {
   "cell_type": "code",
   "execution_count": null,
   "metadata": {},
   "outputs": [],
   "source": [
    "stats.regressors.df <- data.frame()\n",
    "\n",
    "for (this.regressor in colnames(X_train_lin)) {\n",
    "    \n",
    "    if (this.regressor %in% unique(motif.class$class)) {\n",
    "        glm.formula <- paste(\"ChIPseq.bound ~ \", \"as.factor(\", this.regressor, \")\",sep='')\n",
    "    } else {\n",
    "        glm.formula <- paste(\"ChIPseq.bound ~ \", this.regressor,sep='')\n",
    "    }\n",
    "\n",
    "    glm.df.train <- as.data.frame(cbind(y_train_lin, X_train_lin)) %>% rename(\"cs_hit\" = \"ChIPseq.bound\")\n",
    "    glm.df.test <-  as.data.frame(cbind(y_test_lin, X_test_lin)) %>% rename(\"cs_hit\" = \"ChIPseq.bound\")\n",
    "\n",
    "    glm.single <- glm(as.formula(glm.formula), data=glm.df.train, family=binomial)\n",
    "    glm.single$Model.Name <- paste(\"glm \", this.regressor, sep='')\n",
    "    \n",
    "    glm.pred.single.df <- make.pred.df.from.glm(glm.single, glm.df.test)\n",
    "    glm.stat.single.df <- make.stats.df.from.preds(glm.pred.single.df)\n",
    "    \n",
    "    stats.regressors.df <- rbind(stats.regressors.df, glm.stat.single.df)\n",
    "    \n",
    "}"
   ]
  },
  {
   "cell_type": "markdown",
   "metadata": {},
   "source": [
    "Now that we have all of our data frames stacked, we're going to filter out the 7 that are NOT a TF_class"
   ]
  },
  {
   "cell_type": "code",
   "execution_count": null,
   "metadata": {
    "collapsed": true
   },
   "outputs": [],
   "source": [
    "stats.regressors.df %>% \n",
    "filter(Model.Name %in% c(\"glm motifscore\",\n",
    "                         \"glm gc_content\",\n",
    "                         \"glm asinh_tss_dist\")) ->\n",
    "stats.regressors.filtered.df"
   ]
  },
  {
   "cell_type": "markdown",
   "metadata": {},
   "source": [
    "## compare performance\n",
    "\n",
    "We're going to take the 7 single-factor linear models (stats.regressors.filtered), the gradient-boosted model (medium_stat), and the linear model with ALL regressors (glm.stat) and put them together. "
   ]
  },
  {
   "cell_type": "code",
   "execution_count": null,
   "metadata": {},
   "outputs": [],
   "source": [
    "all.stats.df <- rbind(\n",
    "    medium_stat_df,\n",
    "    glm.stat.df,\n",
    "    stats.regressors.filtered.df\n",
    ")"
   ]
  },
  {
   "cell_type": "markdown",
   "metadata": {},
   "source": [
    "Using another Rory function, we're going to plot the family of MCC curves. Note that the function:\n",
    "\n",
    "* Plots a line using `geom_line`, with X = sensitivity and Y = PPV (positive predictive value)\n",
    "* Separates the points by `Model.Name`\n",
    "* Makes the scales 0-1\n",
    "* Makes the plot square\n",
    "* Labels the axes\n",
    "\n",
    "Also note that the `theme_minimal` command controls the background (white) and whatnot"
   ]
  },
  {
   "cell_type": "code",
   "execution_count": null,
   "metadata": {},
   "outputs": [],
   "source": [
    "plot.mattcc.curve(all.stats.df) + theme_minimal(base_size = 15)"
   ]
  },
  {
   "cell_type": "markdown",
   "metadata": {},
   "source": [
    "Now we'll do the same, only this time we'll plot the ROC curves. Recall that this is Sensitivity v. 1-Specificity, so Rory has named the axes accordingly. The function he wrote also allows you to label the area under the curve, but we don't do it here because....frankly, it'd be a mess with so many curves. "
   ]
  },
  {
   "cell_type": "code",
   "execution_count": null,
   "metadata": {},
   "outputs": [],
   "source": [
    "plot.roc.curve(all.stats.df) + theme_minimal(base_size = 15)"
   ]
  },
  {
   "cell_type": "markdown",
   "metadata": {},
   "source": [
    "The last plot is a bit trickier, we're plotting \"recall\" v. precision. What are these exactly?\n",
    "\n",
    "* Recall: sensitivity; how good you are at only picking out \n",
    "* Precision:  PPV; how well you can pick out only the true positives (P/TP)\n",
    "\n",
    "What we're actually plotting here is PPV (positive predictive value) versus sensitivity. So I think we're just using synonyms here. The rest of the function just scales the plot from 0-1.\n",
    "\n",
    "The idea is we should try to maximize both things, so we can see that the GBM model does the best, again\n",
    "\n",
    "** Is it possible that the axis labels are switched?? **"
   ]
  },
  {
   "cell_type": "code",
   "execution_count": null,
   "metadata": {},
   "outputs": [],
   "source": [
    "plot.precrecall.curve(all.stats.df) + theme_minimal(base_size = 15)"
   ]
  },
  {
   "cell_type": "code",
   "execution_count": null,
   "metadata": {
    "collapsed": true
   },
   "outputs": [],
   "source": []
  }
 ],
 "metadata": {
  "kernelspec": {
   "display_name": "R",
   "language": "R",
   "name": "ir"
  },
  "language_info": {
   "codemirror_mode": "r",
   "file_extension": ".r",
   "mimetype": "text/x-r-source",
   "name": "R",
   "pygments_lexer": "r",
   "version": "3.4.2"
  }
 },
 "nbformat": 4,
 "nbformat_minor": 1
}
