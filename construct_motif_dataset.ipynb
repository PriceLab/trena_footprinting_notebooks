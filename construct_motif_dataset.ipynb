{
 "cells": [
  {
   "cell_type": "code",
   "execution_count": 21,
   "metadata": {
    "collapsed": true
   },
   "outputs": [],
   "source": [
    "library(RPostgreSQL)\n",
    "library(dplyr)\n",
    "library(GenomicRanges)\n",
    "library(doParallel)\n",
    "library(dbplyr)\n",
    "library(BiocParallel)"
   ]
  },
  {
   "cell_type": "code",
   "execution_count": 2,
   "metadata": {
    "collapsed": true
   },
   "outputs": [],
   "source": [
    "source(\"../BDDS/footprints/testdb/src/dbFunctions.R\")"
   ]
  },
  {
   "cell_type": "code",
   "execution_count": 3,
   "metadata": {
    "collapsed": true
   },
   "outputs": [],
   "source": [
    "# connect to databases\n",
    "\n",
    "# load chipseq traditionally -- will just put this in memory eventually\n",
    "if(!exists(\"db.chipseq\"))\n",
    "    dbname=\"chipseq\"\n",
    "    port=\"5432\"\n",
    "    driver=dbDriver(\"PostgreSQL\")\n",
    "    user=\"trena\"\n",
    "    password=\"trena\"\n",
    "    host=\"whovian\"\n",
    "    db.chipseq <- dbConnect(drv=driver, user=user, password=password, dbname=dbname, host=host, port=port)"
   ]
  },
  {
   "cell_type": "markdown",
   "metadata": {},
   "source": [
    "Here, we've connected to our database of ChipSeq data; it's our \"gold standard\" for comparison and it doesn't contain that many different different TFs."
   ]
  },
  {
   "cell_type": "markdown",
   "metadata": {},
   "source": [
    "## create map: M[TF] = c(motif1,motif2,...)"
   ]
  },
  {
   "cell_type": "code",
   "execution_count": 4,
   "metadata": {
    "collapsed": true
   },
   "outputs": [],
   "source": [
    "# chipseq hits table can fit in memory so load it up\n",
    "chipseq.hits <- dbGetQuery(db.chipseq, \"select * from hits\")\n",
    "chipseq.hits <- as.tbl(chipseq.hits)\n",
    "\n",
    "# get chipseq regions data and change chrom notations from eg chr10 to just 10 as in fimo\n",
    "chipseq.regions <- dbGetQuery(db.chipseq, \"select * from regions\")\n",
    "chipseq.regions <- as.tbl(chipseq.regions)\n",
    "chr.list <- chipseq.regions$chrom\n",
    "cutoff <- nchar(\"chr\")+1\n",
    "no.chr.list <- substring(chr.list,cutoff)\n",
    "chipseq.regions$chrom <- no.chr.list"
   ]
  },
  {
   "cell_type": "code",
   "execution_count": 5,
   "metadata": {},
   "outputs": [
    {
     "data": {
      "text/html": [
       "<table>\n",
       "<thead><tr><th scope=col>motif</th><th scope=col>tfs</th></tr></thead>\n",
       "<tbody>\n",
       "\t<tr><td>Mmusculus-UniPROBE-Sp100.UP00049  </td><td>SP140L                            </td></tr>\n",
       "\t<tr><td>Mmusculus-jaspar2016-Hes1-MA1099.1</td><td>HEY2                              </td></tr>\n",
       "\t<tr><td>Mmusculus-jaspar2016-Hes1-MA1099.1</td><td>HEY1                              </td></tr>\n",
       "\t<tr><td>Mmusculus-jaspar2016-Hes1-MA1099.1</td><td>HES7                              </td></tr>\n",
       "\t<tr><td>Mmusculus-jaspar2016-Hes1-MA1099.1</td><td>HES6                              </td></tr>\n",
       "\t<tr><td>Mmusculus-jaspar2016-Hes1-MA1099.1</td><td>HES5                              </td></tr>\n",
       "</tbody>\n",
       "</table>\n"
      ],
      "text/latex": [
       "\\begin{tabular}{r|ll}\n",
       " motif & tfs\\\\\n",
       "\\hline\n",
       "\t Mmusculus-UniPROBE-Sp100.UP00049   & SP140L                            \\\\\n",
       "\t Mmusculus-jaspar2016-Hes1-MA1099.1 & HEY2                              \\\\\n",
       "\t Mmusculus-jaspar2016-Hes1-MA1099.1 & HEY1                              \\\\\n",
       "\t Mmusculus-jaspar2016-Hes1-MA1099.1 & HES7                              \\\\\n",
       "\t Mmusculus-jaspar2016-Hes1-MA1099.1 & HES6                              \\\\\n",
       "\t Mmusculus-jaspar2016-Hes1-MA1099.1 & HES5                              \\\\\n",
       "\\end{tabular}\n"
      ],
      "text/markdown": [
       "\n",
       "motif | tfs | \n",
       "|---|---|---|---|---|---|\n",
       "| Mmusculus-UniPROBE-Sp100.UP00049   | SP140L                             | \n",
       "| Mmusculus-jaspar2016-Hes1-MA1099.1 | HEY2                               | \n",
       "| Mmusculus-jaspar2016-Hes1-MA1099.1 | HEY1                               | \n",
       "| Mmusculus-jaspar2016-Hes1-MA1099.1 | HES7                               | \n",
       "| Mmusculus-jaspar2016-Hes1-MA1099.1 | HES6                               | \n",
       "| Mmusculus-jaspar2016-Hes1-MA1099.1 | HES5                               | \n",
       "\n",
       "\n"
      ],
      "text/plain": [
       "  motif                              tfs   \n",
       "1 Mmusculus-UniPROBE-Sp100.UP00049   SP140L\n",
       "2 Mmusculus-jaspar2016-Hes1-MA1099.1 HEY2  \n",
       "3 Mmusculus-jaspar2016-Hes1-MA1099.1 HEY1  \n",
       "4 Mmusculus-jaspar2016-Hes1-MA1099.1 HES7  \n",
       "5 Mmusculus-jaspar2016-Hes1-MA1099.1 HES6  \n",
       "6 Mmusculus-jaspar2016-Hes1-MA1099.1 HES5  "
      ]
     },
     "metadata": {},
     "output_type": "display_data"
    }
   ],
   "source": [
    "# see which of the TFs in the chipseq data are mapped to any motifs\n",
    "#TF.motif.pairs <- read.csv(\"text_data_files/motif_to_tf_mappings_with_tfclass_include_multiple.csv\",\n",
    "#                            stringsAsFactors=FALSE)\n",
    "\n",
    "# Change the file to the new mapping and change column names to wha they were before\n",
    "    TF.motif.pairs <- readRDS(\"../BDDS/trenadb/fimo/2017_08_23_Motif_TF_Map.RDS\")\n",
    "names(TF.motif.pairs) <- c(\"motif\",\"tfs\")\n",
    "\n",
    "unique.cs.tfs <- unique(chipseq.hits$name)\n",
    "cs.tf.nomatches <- unique.cs.tfs[!(unique(unique.cs.tfs) %in% unique(TF.motif.pairs$tfs))]\n",
    "cs.tf.matches <- unique.cs.tfs[unique(unique.cs.tfs) %in% unique(TF.motif.pairs$tfs)]\n",
    "head(TF.motif.pairs)"
   ]
  },
  {
   "cell_type": "code",
   "execution_count": 6,
   "metadata": {},
   "outputs": [
    {
     "data": {
      "text/html": [
       "77"
      ],
      "text/latex": [
       "77"
      ],
      "text/markdown": [
       "77"
      ],
      "text/plain": [
       "[1] 77"
      ]
     },
     "metadata": {},
     "output_type": "display_data"
    },
    {
     "data": {
      "text/html": [
       "5"
      ],
      "text/latex": [
       "5"
      ],
      "text/markdown": [
       "5"
      ],
      "text/plain": [
       "[1] 5"
      ]
     },
     "metadata": {},
     "output_type": "display_data"
    },
    {
     "data": {
      "text/html": [
       "72"
      ],
      "text/latex": [
       "72"
      ],
      "text/markdown": [
       "72"
      ],
      "text/plain": [
       "[1] 72"
      ]
     },
     "metadata": {},
     "output_type": "display_data"
    }
   ],
   "source": [
    "length(unique.cs.tfs)\n",
    "length(cs.tf.nomatches)\n",
    "length(cs.tf.matches)"
   ]
  },
  {
   "cell_type": "markdown",
   "metadata": {},
   "source": [
    "**NOTE: Previously we got 60; now we get 72**"
   ]
  },
  {
   "cell_type": "markdown",
   "metadata": {},
   "source": [
    "Up to this point we've done this:\n",
    "\n",
    "1. Read all our hits from ChipSeq \n",
    "2. Read in all our Motif-TF mappings\n",
    "3. Pulled out the unique TFs from ChipSeq (there are 77) and found those that are in our Motif-TF mapping (there are 60)\n",
    "\n",
    "Now we want to use our motif-TF mapping to make a list of all TFs and their motifs AND to make a list of all motifs and their TFs. This will necessarily be 2 lists of lists; as Rory notes, a dictionary would be better, but this is R, not Python"
   ]
  },
  {
   "cell_type": "code",
   "execution_count": 7,
   "metadata": {
    "collapsed": true
   },
   "outputs": [],
   "source": [
    "# create a list of lists (poor sub for dict) for TFs -> motifs and motifs -> TFs\n",
    "# only use jaspar motifs\n",
    "\n",
    "#TF.motif.pairs <- as.tbl(read.csv(\"text_data_files/motif_to_tf_mappings_with_tfclass_include_multiple.csv\",\n",
    "#                            stringsAsFactors=FALSE))\n",
    "\n",
    "TF.motif.pairs <- as.tbl(TF.motif.pairs)\n",
    "TF.motif.pairs.jaspar <- subset(TF.motif.pairs, grepl(\"MA\\\\d{4}\\\\.\\\\d$\", motif) )\n",
    "\n",
    "TFs.to.motifs <- list()\n",
    "for (TF in cs.tf.matches) {\n",
    "    this.TF.df <- subset(TF.motif.pairs.jaspar, tfs %in% TF)\n",
    "    TFs.to.motifs[TF] <- list(this.TF.df$motif)\n",
    "}\n",
    "TFs.to.motifs <- TFs.to.motifs[lapply(TFs.to.motifs,length) >= 1]\n",
    "\n",
    "motifs.to.TFs <- list()\n",
    "for (mtf in unique(TF.motif.pairs.jaspar$motif)) {\n",
    "    this.motif.df <- subset(TF.motif.pairs.jaspar, motif %in% mtf)\n",
    "    motifs.to.TFs[mtf] <- list(this.motif.df$tfs)\n",
    "}\n",
    "motifs.to.TFs <- motifs.to.TFs[lapply(motifs.to.TFs,length) >= 1]"
   ]
  },
  {
   "cell_type": "code",
   "execution_count": 8,
   "metadata": {},
   "outputs": [
    {
     "data": {
      "text/html": [
       "11416"
      ],
      "text/latex": [
       "11416"
      ],
      "text/markdown": [
       "11416"
      ],
      "text/plain": [
       "[1] 11416"
      ]
     },
     "metadata": {},
     "output_type": "display_data"
    }
   ],
   "source": [
    "nrow(TF.motif.pairs.jaspar)"
   ]
  },
  {
   "cell_type": "code",
   "execution_count": 9,
   "metadata": {},
   "outputs": [
    {
     "data": {
      "text/html": [
       "62"
      ],
      "text/latex": [
       "62"
      ],
      "text/markdown": [
       "62"
      ],
      "text/plain": [
       "[1] 62"
      ]
     },
     "metadata": {},
     "output_type": "display_data"
    },
    {
     "data": {
      "text/html": [
       "631"
      ],
      "text/latex": [
       "631"
      ],
      "text/markdown": [
       "631"
      ],
      "text/plain": [
       "[1] 631"
      ]
     },
     "metadata": {},
     "output_type": "display_data"
    }
   ],
   "source": [
    "length(TFs.to.motifs)\n",
    "length(motifs.to.TFs)"
   ]
  },
  {
   "cell_type": "markdown",
   "metadata": {},
   "source": [
    "What this tells us is that when we look at only JASPAR motifs:\n",
    "\n",
    "* There are only 55 TFs in our ChipSeq set that are JASPAR motifs\n",
    "* There are 514 unique JASPAR motifs in our TF-motif mapping\n",
    "\n",
    "We'll save these to a couple maps that we can load/use later. We also don't actually know how many motifs are mapped to by our TFs; we only know the total number of JASPAR motifs and the total number of TFs that have JASPAR motifs. \n",
    "\n",
    "We'll quickly run through our TF-to-motif mapping and see how many unique motifs are mapped to by our TFs"
   ]
  },
  {
   "cell_type": "code",
   "execution_count": 10,
   "metadata": {
    "collapsed": true
   },
   "outputs": [],
   "source": [
    "save(TFs.to.motifs, motifs.to.TFs, file=\"Rdata_files/Tfmotifmap.Rdata\")\n",
    "# load(\"Rdata_files/Tfmotifmap.Rdata\")"
   ]
  },
  {
   "cell_type": "code",
   "execution_count": 11,
   "metadata": {},
   "outputs": [
    {
     "data": {
      "text/html": [
       "264"
      ],
      "text/latex": [
       "264"
      ],
      "text/markdown": [
       "264"
      ],
      "text/plain": [
       "[1] 264"
      ]
     },
     "metadata": {},
     "output_type": "display_data"
    }
   ],
   "source": [
    "allmots <- c()\n",
    "\n",
    "for (TFname in names(TFs.to.motifs)) {\n",
    "    allmots  <-  c(allmots, TFs.to.motifs[[TFname]])\n",
    "}\n",
    "length(unique(allmots))"
   ]
  },
  {
   "cell_type": "code",
   "execution_count": 12,
   "metadata": {
    "collapsed": true
   },
   "outputs": [],
   "source": [
    "# write.table(unique(allmots), file=\"text_data_files/unique_motifs_for_CS_TFs.txt\", row.names=FALSE, col.names=FALSE, quote=FALSE)"
   ]
  },
  {
   "cell_type": "markdown",
   "metadata": {},
   "source": [
    "So as we can summarize our \"gold-standard\" ChipSeq data now as follows:\n",
    "\n",
    "* Our ChipSeq data contain 77 TFs, 60 of which we have a mapping for and 55 of which are JASPAR\n",
    "* Mapping our 55, we can get 195 unique motifs"
   ]
  },
  {
   "cell_type": "markdown",
   "metadata": {},
   "source": [
    "## function to output df containing pos and neg examples for each TF\n",
    "\n",
    "Here's what we actually do for a given TF\n",
    "\n",
    "1. We pull out all ChipSeq hits for the TF and their associated regions\n",
    "2. Using our mapping, we look for ALL the occurences of the motifs for that TF in the FIMO database\n",
    "3. We find the overlaps of (1) and (2), so now we have the regions in FIMO where there's overlap with ChipSeq hits. And this is for a given TF\n",
    "4. Using our overlaps, we grab the FIMO motifs that are part of the overlaps; these are our \"positives\"\n",
    "5. Using a ratio of neg/pos, we find the \"positives\" for each motif of the TF and multiply it by the ratio. So if we have neg/pos = 0.5 and there are 10 hits (positives) of a particular motif, we want 5 negatives. \n",
    "6. We then find the actual \"negatives\" for each motif by finding those that don't pop up in the positives. \n",
    "7. Using our \"wanted\" number of negatives and our \"actual\", we take the smaller of these 2 (so we get our wanted number, unless there's fewer than that) and then sample the negatives to grab this many for each motif. \n",
    "8. Finally, we put the positive and negative together, with a column called \"cs_hit\" designating a positive or negative\n",
    "\n",
    "More succinctly, for each TF we:\n",
    "\n",
    "1. Find all the motifs for a TF from our mapping.\n",
    "2. Pull out all the places where these motifs in FIMO overlap the ChipSeq data\n",
    "3. Compile a dataset of places where we had hits and then a sampling of the same motifs in FIMO where we didn't overlap ChipSeq data\n"
   ]
  },
  {
   "cell_type": "code",
   "execution_count": 13,
   "metadata": {
    "collapsed": true
   },
   "outputs": [],
   "source": [
    "create.TF.df <- function(TF, neg.pos.ratio=10, verbose=FALSE) {\n",
    "    \n",
    "    # Note: this is how you make a DB connection in dplyr\n",
    "    db.fimo.dplyr <- src_postgres(drv=dbDriver(\"PostgreSQL\"),\n",
    "                                  user=\"trena\",\n",
    "                                  password=\"trena\",\n",
    "                                  dbname=\"fimo\",\n",
    "                                  #host=\"whovian\", #Changing this to khaleesi\n",
    "                                  #port=\"5432\")\n",
    "                                  host = \"localhost\")\n",
    "    tbl.fimo.dplyr <- tbl(db.fimo.dplyr, \"fimo_hg38\")\n",
    "    \n",
    "    # regions locs we can compute on but hits have TF info so need both\n",
    "    # Here, we grab all hits for a TF, then grab the regions of those hits\n",
    "    chipseq.hits.TF <- subset(chipseq.hits, name == TF)\n",
    "    locs.TF <- chipseq.hits.TF$loc\n",
    "    chipseq.regions.TF <- subset(chipseq.regions, loc %in% locs.TF)\n",
    "    \n",
    "    # next step is slow, gives you some context\n",
    "    if (verbose == TRUE) {\n",
    "        if (length(TFs.to.motifs[[TF]])==1) {\n",
    "            message(paste(TF, \"- querying fimo database for\", length(TFs.to.motifs[[TF]]), \"motif\"))\n",
    "        } else {\n",
    "            message(paste(TF, \"- querying fimo database for\", length(TFs.to.motifs[[TF]]), \"motifs\"))\n",
    "        }       \n",
    "    }\n",
    "        \n",
    "    # this is the slow step -- doing SQL queries on tbl.fimo.dplyr = call to whole fimo database    \n",
    "    # need branch since %in% conversion to SQL doesn't work on length == 1\n",
    "    ## Basically: we find all instances of the TF's motif(s) in FIMO\n",
    "    if (length(TFs.to.motifs[[TF]]) > 1 ) {\n",
    "        fimo.motifs.for.TF <- as.tbl(as.data.frame(filter(tbl.fimo.dplyr, motifname %in% TFs.to.motifs[[TF]])))\n",
    "    } else {\n",
    "        fimo.motifs.for.TF <- as.tbl(as.data.frame(filter(tbl.fimo.dplyr, motifname  ==  TFs.to.motifs[[TF]])))\n",
    "    }\n",
    "    \n",
    "    # find intersect using fast genomic ranges data structure\n",
    "    # We make GR objects for the fimo motifs we just found and for the chipseq regions, then find their overlaps\n",
    "    gr.fimo.TF <- with(fimo.motifs.for.TF, GRanges(chrom, IRanges(start=start, end=endpos)))\n",
    "    gr.chipseq.TF <- with(chipseq.regions.TF, GRanges(chrom, IRanges(start=start, end=endpos)))\n",
    "    overlaps.gr.TF <- findOverlaps(gr.chipseq.TF, gr.fimo.TF, type=\"any\")\n",
    "    overlaps.TF <- as.tbl(as.data.frame(overlaps.gr.TF))\n",
    "    \n",
    "    # row numbers in fimo.motifs.for.TF where motifs overlap with chipseq peaks\n",
    "    positive.fimo.examples.rows.TF <- unique(overlaps.TF$subjectHits)\n",
    "    positive.fimo.examples.TF.df <- fimo.motifs.for.TF[positive.fimo.examples.rows.TF,]\n",
    "    \n",
    "    # figure out how many negative samples for each motif we want\n",
    "    tot.motif.counts.TF <- table(fimo.motifs.for.TF$motifname)\n",
    "    pos.motif.counts.TF <- table(fimo.motifs.for.TF[positive.fimo.examples.rows.TF,]$motifname)\n",
    "    nx.pos.motif.counts.TF <- pos.motif.counts.TF*neg.pos.ratio\n",
    "\n",
    "    # want neg samples in fimo.motifs.for.TF to be non overlapping with chipseq peaks or pos examples\n",
    "    neg.cands.for.single.TF.df <- subset(fimo.motifs.for.TF,\n",
    "                                         !(start %in% positive.fimo.examples.TF.df$start) &\n",
    "                                         !(endpos %in% positive.fimo.examples.TF.df$endpos))\n",
    "    neg.motif.counts.TF <- table(neg.cands.for.single.TF.df$motifname)\n",
    "\n",
    "    # don't try to sample more than the population\n",
    "    neg.sample.counts.TF <- pmin(nx.pos.motif.counts.TF,neg.motif.counts.TF)\n",
    "    \n",
    "    # for each motif this TF matches, sample some examples where no CS hit\n",
    "    negative.fimo.examples.TF.df <- tibble()\n",
    "    for (motname in names(neg.sample.counts.TF)) {\n",
    "        neg.cands.for.single.TF.df.single.motif <- subset(neg.cands.for.single.TF.df, motifname == motname)\n",
    "        negative.fimo.examples.TF.df <- rbind(negative.fimo.examples.TF.df,\n",
    "                                    sample_n(neg.cands.for.single.TF.df.single.motif, neg.sample.counts.TF[[motname]]))\n",
    "    }\n",
    "    \n",
    "    # annotate and collect all samples\n",
    "    positive.fimo.examples.TF.df <- as.tbl(cbind(positive.fimo.examples.TF.df, \"cs_hit\"=1))\n",
    "    negative.fimo.examples.TF.df <- as.tbl(cbind(negative.fimo.examples.TF.df, \"cs_hit\"=0))\n",
    "    all.fimo.examples.TF.df <- as.tbl(rbind(positive.fimo.examples.TF.df,negative.fimo.examples.TF.df))\n",
    "    \n",
    "    return(all.fimo.examples.TF.df)\n",
    "    \n",
    "}"
   ]
  },
  {
   "cell_type": "markdown",
   "metadata": {},
   "source": [
    "## create df of pos/neg samples for all TFs all together"
   ]
  },
  {
   "cell_type": "markdown",
   "metadata": {},
   "source": [
    "With our function defined, we'll now pull out the positive and negative samples for each TF; we're doing so with a neg/pos ration of 9. We're also doing this using a parallel strategy. The output gets saved in an `RData` file"
   ]
  },
  {
   "cell_type": "code",
   "execution_count": 14,
   "metadata": {
    "collapsed": true
   },
   "outputs": [],
   "source": [
    "# ratio of negative to positve examples in data set\n",
    "pnr=9"
   ]
  },
  {
   "cell_type": "code",
   "execution_count": 15,
   "metadata": {},
   "outputs": [
    {
     "name": "stderr",
     "output_type": "stream",
     "text": [
      "############### LOG OUTPUT ###############\n",
      "Task: 20\n",
      "Node: 20\n",
      "Timestamp: 2017-09-01 14:37:57\n",
      "Success: TRUE\n",
      "Task duration:\n",
      "    user   system  elapsed \n",
      "  11.228    2.548 1260.046 \n",
      "Memory used:\n",
      "           used  (Mb) gc trigger  (Mb) max used  (Mb)\n",
      "Ncells  2380203 127.2    3886542 207.6  3886542 207.6\n",
      "Vcells 35442038 270.5   89160810 680.3 89158815 680.3\n",
      "Log messages:\n",
      "stderr and stdout:\n",
      "R_zmq_msg_send errno: 4 strerror: Interrupted system call\n",
      "R_zmq_msg_send errno: 4 strerror: Interrupted system call\n",
      "R_zmq_msg_send errno: 4 strerror: Interrupted system call\n",
      "R_zmq_msg_send errno: 4 strerror: Interrupted system call\n",
      "R_zmq_msg_send errno: 4 strerror: Interrupted system call\n",
      "############### LOG OUTPUT ###############\n",
      "Task: 1\n",
      "Node: 1\n",
      "Timestamp: 2017-09-01 14:38:33\n",
      "Success: TRUE\n",
      "Task duration:\n",
      "    user   system  elapsed \n",
      "  41.520    7.356 1294.740 \n",
      "Memory used:\n",
      "           used  (Mb) gc trigger  (Mb) max used  (Mb)\n",
      "Ncells  3193454 170.6    4703850 251.3  3886542 207.6\n",
      "Vcells 46087320 351.7   89160810 680.3 89158815 680.3\n",
      "Log messages:\n",
      "stderr and stdout:\n",
      "R_zmq_msg_send errno: 4 strerror: Interrupted system call\n",
      "R_zmq_msg_send errno: 4 strerror: Interrupted system call\n",
      "R_zmq_msg_send errno: 4 strerror: Interrupted system call\n",
      "R_zmq_msg_send errno: 4 strerror: Interrupted system call\n",
      "R_zmq_msg_send errno: 4 strerror: Interrupted system call\n",
      "############### LOG OUTPUT ###############\n",
      "Task: 11\n",
      "Node: 11\n",
      "Timestamp: 2017-09-01 14:38:51\n",
      "Success: TRUE\n",
      "Task duration:\n",
      "    user   system  elapsed \n",
      "  63.324   13.628 1312.032 \n",
      "Memory used:\n",
      "           used  (Mb) gc trigger  (Mb) max used  (Mb)\n",
      "Ncells  3924867 209.7    5684620 303.6  3942091 210.6\n",
      "Vcells 54971527 419.4   89160810 680.3 89158815 680.3\n",
      "Log messages:\n",
      "stderr and stdout:\n",
      "R_zmq_msg_send errno: 4 strerror: Interrupted system call\n",
      "R_zmq_msg_send errno: 4 strerror: Interrupted system call\n",
      "R_zmq_msg_send errno: 4 strerror: Interrupted system call\n",
      "R_zmq_msg_send errno: 4 strerror: Interrupted system call\n",
      "############### LOG OUTPUT ###############\n",
      "Task: 13\n",
      "Node: 13\n",
      "Timestamp: 2017-09-01 14:39:10\n",
      "Success: TRUE\n",
      "Task duration:\n",
      "    user   system  elapsed \n",
      "  45.460    7.464 1331.347 \n",
      "Memory used:\n",
      "           used  (Mb) gc trigger  (Mb) max used  (Mb)\n",
      "Ncells  4964214 265.2    6861544 366.5  4981435 266.1\n",
      "Vcells 64852199 494.8  107072972 817.0 89158815 680.3\n",
      "Log messages:\n",
      "stderr and stdout:\n",
      "R_zmq_msg_send errno: 4 strerror: Interrupted system call\n",
      "R_zmq_msg_send errno: 4 strerror: Interrupted system call\n",
      "R_zmq_msg_send errno: 4 strerror: Interrupted system call\n",
      "R_zmq_msg_send errno: 4 strerror: Interrupted system call\n",
      "R_zmq_msg_send errno: 4 strerror: Interrupted system call\n",
      "############### LOG OUTPUT ###############\n",
      "Task: 17\n",
      "Node: 17\n",
      "Timestamp: 2017-09-01 14:40:21\n",
      "Success: TRUE\n",
      "Task duration:\n",
      "    user   system  elapsed \n",
      " 122.976   35.532 1403.323 \n",
      "Memory used:\n",
      "           used  (Mb) gc trigger  (Mb) max used  (Mb)\n",
      "Ncells  5306330 283.4    8273852 441.9  5323555 284.4\n",
      "Vcells 68748672 524.6  107072972 817.0 89158815 680.3\n",
      "Log messages:\n",
      "stderr and stdout:\n",
      "R_zmq_msg_send errno: 4 strerror: Interrupted system call\n",
      "R_zmq_msg_send errno: 4 strerror: Interrupted system call\n",
      "R_zmq_msg_send errno: 4 strerror: Interrupted system call\n",
      "R_zmq_msg_send errno: 4 strerror: Interrupted system call\n",
      "R_zmq_msg_send errno: 4 strerror: Interrupted system call\n",
      "############### LOG OUTPUT ###############\n",
      "Task: 10\n",
      "Node: 10\n",
      "Timestamp: 2017-09-01 14:40:40\n",
      "Success: TRUE\n",
      "Task duration:\n",
      "    user   system  elapsed \n",
      "  41.084   10.824 1421.274 \n",
      "Memory used:\n",
      "           used  (Mb) gc trigger  (Mb) max used  (Mb)\n",
      "Ncells  6134377 327.7    9968622 532.4  6151604 328.6\n",
      "Vcells 82654689 630.7  128567566 980.9 89158815 680.3\n",
      "Log messages:\n",
      "stderr and stdout:\n",
      "R_zmq_msg_send errno: 4 strerror: Interrupted system call\n",
      "R_zmq_msg_send errno: 4 strerror: Interrupted system call\n",
      "R_zmq_msg_send errno: 4 strerror: Interrupted system call\n",
      "R_zmq_msg_send errno: 4 strerror: Interrupted system call\n",
      "R_zmq_msg_send errno: 4 strerror: Interrupted system call\n",
      "############### LOG OUTPUT ###############\n",
      "Task: 3\n",
      "Node: 3\n",
      "Timestamp: 2017-09-01 14:41:16\n",
      "Success: TRUE\n",
      "Task duration:\n",
      "    user   system  elapsed \n",
      "  53.156   10.308 1455.547 \n",
      "Memory used:\n",
      "            used (Mb) gc trigger   (Mb)  max used  (Mb)\n",
      "Ncells   7751102  414   12002346  641.0   7768327 414.9\n",
      "Vcells 105504922  805  154361079 1177.7 105511106 805.0\n",
      "Log messages:\n",
      "stderr and stdout:\n",
      "R_zmq_msg_send errno: 4 strerror: Interrupted system call\n",
      "R_zmq_msg_send errno: 4 strerror: Interrupted system call\n",
      "R_zmq_msg_send errno: 4 strerror: Interrupted system call\n",
      "R_zmq_msg_send errno: 4 strerror: Interrupted system call\n",
      "R_zmq_msg_send errno: 4 strerror: Interrupted system call\n",
      "############### LOG OUTPUT ###############\n",
      "Task: 16\n",
      "Node: 16\n",
      "Timestamp: 2017-09-01 14:41:40\n",
      "Success: TRUE\n",
      "Task duration:\n",
      "    user   system  elapsed \n",
      " 106.744   25.076 1480.858 \n",
      "Memory used:\n",
      "            used  (Mb) gc trigger   (Mb)  max used  (Mb)\n",
      "Ncells   8785017 469.2   14442815  771.4   8802238 470.1\n",
      "Vcells 118327678 902.8  185313294 1413.9 118333860 902.9\n",
      "Log messages:\n",
      "stderr and stdout:\n",
      "R_zmq_msg_send errno: 4 strerror: Interrupted system call\n",
      "R_zmq_msg_send errno: 4 strerror: Interrupted system call\n",
      "R_zmq_msg_send errno: 4 strerror: Interrupted system call\n",
      "R_zmq_msg_send errno: 4 strerror: Interrupted system call\n",
      "R_zmq_msg_send errno: 4 strerror: Interrupted system call\n",
      "############### LOG OUTPUT ###############\n",
      "Task: 8\n",
      "Node: 8\n",
      "Timestamp: 2017-09-01 14:42:17\n",
      "Success: TRUE\n",
      "Task duration:\n",
      "    user   system  elapsed \n",
      " 104.092   31.996 1518.614 \n",
      "Memory used:\n",
      "            used  (Mb) gc trigger   (Mb)  max used  (Mb)\n",
      "Ncells   9413642 502.8   14442815  771.4   9430865 503.7\n",
      "Vcells 127130234 970.0  185313294 1413.9 127136423 970.0\n",
      "Log messages:\n",
      "stderr and stdout:\n",
      "R_zmq_msg_send errno: 4 strerror: Interrupted system call\n",
      "R_zmq_msg_send errno: 4 strerror: Interrupted system call\n",
      "R_zmq_msg_send errno: 4 strerror: Interrupted system call\n",
      "R_zmq_msg_send errno: 4 strerror: Interrupted system call\n",
      "R_zmq_msg_send errno: 4 strerror: Interrupted system call\n",
      "############### LOG OUTPUT ###############\n",
      "Task: 14\n",
      "Node: 14\n",
      "Timestamp: 2017-09-01 14:42:56\n",
      "Success: TRUE\n",
      "Task duration:\n",
      "    user   system  elapsed \n",
      " 160.420   44.384 1552.067 \n",
      "Memory used:\n",
      "            used   (Mb) gc trigger   (Mb)  max used   (Mb)\n",
      "Ncells  10995413  587.3   17371378  927.8  11012639  588.2\n",
      "Vcells 150105168 1145.3  222455952 1697.3 154305677 1177.3\n",
      "Log messages:\n",
      "stderr and stdout:\n",
      "R_zmq_msg_send errno: 4 strerror: Interrupted system call\n",
      "R_zmq_msg_send errno: 4 strerror: Interrupted system call\n",
      "R_zmq_msg_send errno: 4 strerror: Interrupted system call\n",
      "R_zmq_msg_send errno: 4 strerror: Interrupted system call\n",
      "R_zmq_msg_send errno: 4 strerror: Interrupted system call\n",
      "############### LOG OUTPUT ###############\n",
      "Task: 18\n",
      "Node: 18\n",
      "Timestamp: 2017-09-01 14:43:34\n",
      "Success: TRUE\n",
      "Task duration:\n",
      "    user   system  elapsed \n",
      " 159.364   42.528 1593.103 \n",
      "Memory used:\n",
      "            used   (Mb) gc trigger   (Mb)  max used   (Mb)\n",
      "Ncells  12450911  665.0   20885653 1115.5  12468136  665.9\n",
      "Vcells 171733275 1310.3  267027142 2037.3 171739487 1310.3\n",
      "Log messages:\n",
      "stderr and stdout:\n",
      "R_zmq_msg_send errno: 4 strerror: Interrupted system call\n",
      "R_zmq_msg_send errno: 4 strerror: Interrupted system call\n",
      "R_zmq_msg_send errno: 4 strerror: Interrupted system call\n",
      "R_zmq_msg_send errno: 4 strerror: Interrupted system call\n",
      "R_zmq_msg_send errno: 4 strerror: Interrupted system call\n",
      "############### LOG OUTPUT ###############\n",
      "Task: 2\n",
      "Node: 2\n",
      "Timestamp: 2017-09-01 14:44:05\n",
      "Success: TRUE\n",
      "Task duration:\n",
      "    user   system  elapsed \n",
      "  32.300    7.664 1626.435 \n",
      "Memory used:\n",
      "            used   (Mb) gc trigger   (Mb)  max used   (Mb)\n",
      "Ncells  12701785  678.4   20885653 1115.5  12719010  679.3\n",
      "Vcells 176672943 1348.0  267027142 2037.3 176679155 1348.0\n",
      "Log messages:\n",
      "stderr and stdout:\n",
      "R_zmq_msg_send errno: 4 strerror: Interrupted system call\n",
      "R_zmq_msg_send errno: 4 strerror: Interrupted system call\n",
      "R_zmq_msg_send errno: 4 strerror: Interrupted system call\n",
      "R_zmq_msg_send errno: 4 strerror: Interrupted system call\n",
      "R_zmq_msg_send errno: 4 strerror: Interrupted system call\n",
      "R_zmq_msg_send errno: 4 strerror: Interrupted system call\n",
      "############### LOG OUTPUT ###############\n",
      "Task: 9\n",
      "Node: 9\n",
      "Timestamp: 2017-09-01 14:44:11\n",
      "Success: TRUE\n",
      "Task duration:\n",
      "    user   system  elapsed \n",
      "  68.876   22.440 1632.874 \n",
      "Memory used:\n",
      "            used   (Mb) gc trigger   (Mb)  max used   (Mb)\n",
      "Ncells  12850944  686.4   20885653 1115.5  12868166  687.3\n",
      "Vcells 179823500 1372.0  267027142 2037.3 179829760 1372.0\n",
      "Log messages:\n",
      "stderr and stdout:\n",
      "R_zmq_msg_send errno: 4 strerror: Interrupted system call\n",
      "R_zmq_msg_send errno: 4 strerror: Interrupted system call\n",
      "R_zmq_msg_send errno: 4 strerror: Interrupted system call\n",
      "R_zmq_msg_send errno: 4 strerror: Interrupted system call\n",
      "R_zmq_msg_send errno: 4 strerror: Interrupted system call\n"
     ]
    },
    {
     "name": "stderr",
     "output_type": "stream",
     "text": [
      "############### LOG OUTPUT ###############\n",
      "Task: 12\n",
      "Node: 12\n",
      "Timestamp: 2017-09-01 14:44:30\n",
      "Success: TRUE\n",
      "Task duration:\n",
      "    user   system  elapsed \n",
      " 157.972   45.484 1650.379 \n",
      "Memory used:\n",
      "            used   (Mb) gc trigger   (Mb)  max used   (Mb)\n",
      "Ncells  14140659  755.2   20885653 1115.5  14157883  756.2\n",
      "Vcells 195094662 1488.5  320512570 2445.4 195100871 1488.6\n",
      "Log messages:\n",
      "stderr and stdout:\n",
      "R_zmq_msg_send errno: 4 strerror: Interrupted system call\n",
      "R_zmq_msg_send errno: 4 strerror: Interrupted system call\n",
      "R_zmq_msg_send errno: 4 strerror: Interrupted system call\n",
      "R_zmq_msg_send errno: 4 strerror: Interrupted system call\n",
      "R_zmq_msg_send errno: 4 strerror: Interrupted system call\n",
      "############### LOG OUTPUT ###############\n",
      "Task: 6\n",
      "Node: 6\n",
      "Timestamp: 2017-09-01 14:46:11\n",
      "Success: TRUE\n",
      "Task duration:\n",
      "    user   system  elapsed \n",
      " 216.168   76.568 1751.765 \n",
      "Memory used:\n",
      "            used   (Mb) gc trigger   (Mb)  max used   (Mb)\n",
      "Ncells  14745982  787.6   25102783 1340.7  14763207  788.5\n",
      "Vcells 202565553 1545.5  320512570 2445.4 202571765 1545.5\n",
      "Log messages:\n",
      "stderr and stdout:\n",
      "R_zmq_msg_send errno: 4 strerror: Interrupted system call\n",
      "R_zmq_msg_send errno: 4 strerror: Interrupted system call\n",
      "R_zmq_msg_send errno: 4 strerror: Interrupted system call\n",
      "R_zmq_msg_send errno: 4 strerror: Interrupted system call\n",
      "R_zmq_msg_send errno: 4 strerror: Interrupted system call\n",
      "R_zmq_msg_send errno: 4 strerror: Interrupted system call\n",
      "R_zmq_msg_send errno: 4 strerror: Interrupted system call\n",
      "############### LOG OUTPUT ###############\n",
      "Task: 7\n",
      "Node: 7\n",
      "Timestamp: 2017-09-01 14:46:23\n",
      "Success: TRUE\n",
      "Task duration:\n",
      "    user   system  elapsed \n",
      " 193.204   41.356 1761.026 \n",
      "Memory used:\n",
      "            used   (Mb) gc trigger   (Mb)  max used   (Mb)\n",
      "Ncells  16412648  876.6   25102783 1340.7  16429870  877.5\n",
      "Vcells 224340996 1711.6  384695084 2935.0 224347305 1711.7\n",
      "Log messages:\n",
      "stderr and stdout:\n",
      "R_zmq_msg_send errno: 4 strerror: Interrupted system call\n",
      "R_zmq_msg_send errno: 4 strerror: Interrupted system call\n",
      "R_zmq_msg_send errno: 4 strerror: Interrupted system call\n",
      "R_zmq_msg_send errno: 4 strerror: Interrupted system call\n",
      "R_zmq_msg_send errno: 4 strerror: Interrupted system call\n",
      "############### LOG OUTPUT ###############\n",
      "Task: 15\n",
      "Node: 15\n",
      "Timestamp: 2017-09-01 14:46:35\n",
      "Success: TRUE\n",
      "Task duration:\n",
      "   user  system elapsed \n",
      " 209.42   69.64 1765.71 \n",
      "Memory used:\n",
      "            used   (Mb) gc trigger   (Mb)  max used (Mb)\n",
      "Ncells  19511259 1042.1   30163339 1610.9  19528482 1043\n",
      "Vcells 274842064 2096.9  461714100 3522.6 283236879 2161\n",
      "Log messages:\n",
      "stderr and stdout:\n",
      "R_zmq_msg_send errno: 4 strerror: Interrupted system call\n",
      "R_zmq_msg_send errno: 4 strerror: Interrupted system call\n",
      "R_zmq_msg_send errno: 4 strerror: Interrupted system call\n",
      "R_zmq_msg_send errno: 4 strerror: Interrupted system call\n",
      "R_zmq_msg_send errno: 4 strerror: Interrupted system call\n",
      "############### LOG OUTPUT ###############\n",
      "Task: 5\n",
      "Node: 5\n",
      "Timestamp: 2017-09-01 14:50:56\n",
      "Success: TRUE\n",
      "Task duration:\n",
      "    user   system  elapsed \n",
      " 270.436   81.404 2034.992 \n",
      "Memory used:\n",
      "            used   (Mb) gc trigger   (Mb)  max used   (Mb)\n",
      "Ncells  20281391 1083.2   30163339 1610.9  20298612 1084.1\n",
      "Vcells 284920850 2173.8  461714100 3522.6 284927049 2173.9\n",
      "Log messages:\n",
      "stderr and stdout:\n",
      "R_zmq_msg_send errno: 4 strerror: Interrupted system call\n",
      "R_zmq_msg_send errno: 4 strerror: Interrupted system call\n",
      "R_zmq_msg_send errno: 4 strerror: Interrupted system call\n",
      "R_zmq_msg_send errno: 4 strerror: Interrupted system call\n",
      "R_zmq_msg_send errno: 4 strerror: Interrupted system call\n",
      "############### LOG OUTPUT ###############\n",
      "Task: 19\n",
      "Node: 19\n",
      "Timestamp: 2017-09-01 14:52:00\n",
      "Success: TRUE\n",
      "Task duration:\n",
      "    user   system  elapsed \n",
      " 168.244   47.028 2098.635 \n",
      "Memory used:\n",
      "            used   (Mb) gc trigger   (Mb)  max used   (Mb)\n",
      "Ncells  21572913 1152.2   36236006 1935.3  21590139 1153.1\n",
      "Vcells 314292939 2397.9  461714100 3522.6 314299154 2398.0\n",
      "Log messages:\n",
      "stderr and stdout:\n",
      "R_zmq_msg_send errno: 4 strerror: Interrupted system call\n",
      "R_zmq_msg_send errno: 4 strerror: Interrupted system call\n",
      "R_zmq_msg_send errno: 4 strerror: Interrupted system call\n",
      "R_zmq_msg_send errno: 4 strerror: Interrupted system call\n",
      "R_zmq_msg_send errno: 4 strerror: Interrupted system call\n",
      "R_zmq_msg_send errno: 4 strerror: Interrupted system call\n",
      "R_zmq_msg_send errno: 4 strerror: Interrupted system call\n",
      "############### LOG OUTPUT ###############\n",
      "Task: 4\n",
      "Node: 4\n",
      "Timestamp: 2017-09-01 14:57:56\n",
      "Success: TRUE\n",
      "Task duration:\n",
      "    user   system  elapsed \n",
      " 328.588   84.400 2446.854 \n",
      "Memory used:\n",
      "            used   (Mb) gc trigger   (Mb)  max used   (Mb)\n",
      "Ncells  26200687 1399.3   43523207 2324.4  26217911 1400.2\n",
      "Vcells 390903056 2982.4  554136920 4227.8 390909375 2982.5\n",
      "Log messages:\n",
      "stderr and stdout:\n",
      "R_zmq_msg_send errno: 4 strerror: Interrupted system call\n",
      "R_zmq_msg_send errno: 4 strerror: Interrupted system call\n",
      "R_zmq_msg_send errno: 4 strerror: Interrupted system call\n",
      "R_zmq_msg_send errno: 4 strerror: Interrupted system call\n"
     ]
    },
    {
     "ename": "ERROR",
     "evalue": "Error in eval_bare(dot$expr, dot$env): object 'all.Tf.df' not found\n",
     "output_type": "error",
     "traceback": [
      "Error in eval_bare(dot$expr, dot$env): object 'all.Tf.df' not found\nTraceback:\n",
      "1. bind_rows(all.Tf.df)",
      "2. flatten_bindable(dots_values(...))",
      "3. dots_values(...)",
      "4. map(dots, function(dot) eval_bare(dot$expr, dot$env))",
      "5. lapply(.x, .f, ...)",
      "6. FUN(X[[i]], ...)",
      "7. eval_bare(dot$expr, dot$env)"
     ]
    }
   ],
   "source": [
    "# parallel loop over all TFs\n",
    "sorted.TF.names <- sort(names(TFs.to.motifs))\n",
    "N.TF <- length(sorted.TF.names)\n",
    "\n",
    "register(MulticoreParam(workers = 20, stop.on.error = FALSE, log = TRUE), default = TRUE)\n",
    "all.TF.df <- bplapply(sorted.TF.names, create.TF.df, neg.pos.ratio = pnr, verbose = TRUE)\n",
    "all.TF.df <- bind_rows(all.TF.df)\n",
    "\n",
    "# save data\n",
    "fname=paste0(\"/ssd/mrichard/data/all.TF.fimo.samples.ratio.\",pnr,\".df.RData\")\n",
    "save(all.TF.df, file=fname)"
   ]
  },
  {
   "cell_type": "code",
   "execution_count": 18,
   "metadata": {
    "collapsed": true
   },
   "outputs": [],
   "source": [
    "all.TF.df <- bind_rows(all.TF.df)"
   ]
  },
  {
   "cell_type": "code",
   "execution_count": 19,
   "metadata": {},
   "outputs": [
    {
     "data": {
      "text/html": [
       "<table>\n",
       "<thead><tr><th scope=col>motifname</th><th scope=col>chrom</th><th scope=col>start</th><th scope=col>endpos</th><th scope=col>strand</th><th scope=col>motifscore</th><th scope=col>pval</th><th scope=col>empty</th><th scope=col>sequence</th><th scope=col>loc</th><th scope=col>cs_hit</th></tr></thead>\n",
       "<tbody>\n",
       "\t<tr><td>Mmusculus-jaspar2016-Nfe2l2-MA0150.2     </td><td>1                                        </td><td>1677938                                  </td><td>1677952                                  </td><td>+                                        </td><td>13.34830                                 </td><td>1.13e-05                                 </td><td>                                         </td><td>CACTGTGACTCCGCA                          </td><td>chr1:1677938-1677952                     </td><td>1                                        </td></tr>\n",
       "\t<tr><td>Mmusculus-jaspar2016-Bach1::Mafk-MA0591.1</td><td>1                                        </td><td>1677939                                  </td><td>1677953                                  </td><td>+                                        </td><td>11.70790                                 </td><td>1.37e-05                                 </td><td>                                         </td><td>ACTGTGACTCCGCAG                          </td><td>chr1:1677939-1677953                     </td><td>1                                        </td></tr>\n",
       "\t<tr><td>Hsapiens-jaspar2016-JUND(var.2)-MA0492.1 </td><td>1                                        </td><td>1828558                                  </td><td>1828572                                  </td><td>-                                        </td><td> 9.73034                                 </td><td>9.18e-05                                 </td><td>                                         </td><td>TTTTGTGAGGTCACT                          </td><td>chr1:1828558-1828572                     </td><td>1                                        </td></tr>\n",
       "\t<tr><td>Hsapiens-jaspar2016-ATF7-MA0834.1        </td><td>1                                        </td><td>2255916                                  </td><td>2255929                                  </td><td>-                                        </td><td> 8.03371                                 </td><td>6.68e-05                                 </td><td>                                         </td><td>AAATGAGGTCACTG                           </td><td>chr1:2255916-2255929                     </td><td>1                                        </td></tr>\n",
       "\t<tr><td>Hsapiens-jaspar2016-JUND(var.2)-MA0492.1 </td><td>1                                        </td><td>2255789                                  </td><td>2255803                                  </td><td>-                                        </td><td>13.71910                                 </td><td>1.48e-05                                 </td><td>                                         </td><td>GGAAATGAGGTCAGG                          </td><td>chr1:2255789-2255803                     </td><td>1                                        </td></tr>\n",
       "\t<tr><td>Hsapiens-jaspar2016-JUND(var.2)-MA0492.1 </td><td>1                                        </td><td>2255823                                  </td><td>2255837                                  </td><td>-                                        </td><td>13.71910                                 </td><td>1.48e-05                                 </td><td>                                         </td><td>GGAAATGAGGTCAGG                          </td><td>chr1:2255823-2255837                     </td><td>1                                        </td></tr>\n",
       "</tbody>\n",
       "</table>\n"
      ],
      "text/latex": [
       "\\begin{tabular}{r|lllllllllll}\n",
       " motifname & chrom & start & endpos & strand & motifscore & pval & empty & sequence & loc & cs\\_hit\\\\\n",
       "\\hline\n",
       "\t Mmusculus-jaspar2016-Nfe2l2-MA0150.2      & 1                                         & 1677938                                   & 1677952                                   & +                                         & 13.34830                                  & 1.13e-05                                  &                                           & CACTGTGACTCCGCA                           & chr1:1677938-1677952                      & 1                                        \\\\\n",
       "\t Mmusculus-jaspar2016-Bach1::Mafk-MA0591.1 & 1                                         & 1677939                                   & 1677953                                   & +                                         & 11.70790                                  & 1.37e-05                                  &                                           & ACTGTGACTCCGCAG                           & chr1:1677939-1677953                      & 1                                        \\\\\n",
       "\t Hsapiens-jaspar2016-JUND(var.2)-MA0492.1  & 1                                         & 1828558                                   & 1828572                                   & -                                         &  9.73034                                  & 9.18e-05                                  &                                           & TTTTGTGAGGTCACT                           & chr1:1828558-1828572                      & 1                                        \\\\\n",
       "\t Hsapiens-jaspar2016-ATF7-MA0834.1         & 1                                         & 2255916                                   & 2255929                                   & -                                         &  8.03371                                  & 6.68e-05                                  &                                           & AAATGAGGTCACTG                            & chr1:2255916-2255929                      & 1                                        \\\\\n",
       "\t Hsapiens-jaspar2016-JUND(var.2)-MA0492.1  & 1                                         & 2255789                                   & 2255803                                   & -                                         & 13.71910                                  & 1.48e-05                                  &                                           & GGAAATGAGGTCAGG                           & chr1:2255789-2255803                      & 1                                        \\\\\n",
       "\t Hsapiens-jaspar2016-JUND(var.2)-MA0492.1  & 1                                         & 2255823                                   & 2255837                                   & -                                         & 13.71910                                  & 1.48e-05                                  &                                           & GGAAATGAGGTCAGG                           & chr1:2255823-2255837                      & 1                                        \\\\\n",
       "\\end{tabular}\n"
      ],
      "text/markdown": [
       "\n",
       "motifname | chrom | start | endpos | strand | motifscore | pval | empty | sequence | loc | cs_hit | \n",
       "|---|---|---|---|---|---|\n",
       "| Mmusculus-jaspar2016-Nfe2l2-MA0150.2      | 1                                         | 1677938                                   | 1677952                                   | +                                         | 13.34830                                  | 1.13e-05                                  |                                           | CACTGTGACTCCGCA                           | chr1:1677938-1677952                      | 1                                         | \n",
       "| Mmusculus-jaspar2016-Bach1::Mafk-MA0591.1 | 1                                         | 1677939                                   | 1677953                                   | +                                         | 11.70790                                  | 1.37e-05                                  |                                           | ACTGTGACTCCGCAG                           | chr1:1677939-1677953                      | 1                                         | \n",
       "| Hsapiens-jaspar2016-JUND(var.2)-MA0492.1  | 1                                         | 1828558                                   | 1828572                                   | -                                         |  9.73034                                  | 9.18e-05                                  |                                           | TTTTGTGAGGTCACT                           | chr1:1828558-1828572                      | 1                                         | \n",
       "| Hsapiens-jaspar2016-ATF7-MA0834.1         | 1                                         | 2255916                                   | 2255929                                   | -                                         |  8.03371                                  | 6.68e-05                                  |                                           | AAATGAGGTCACTG                            | chr1:2255916-2255929                      | 1                                         | \n",
       "| Hsapiens-jaspar2016-JUND(var.2)-MA0492.1  | 1                                         | 2255789                                   | 2255803                                   | -                                         | 13.71910                                  | 1.48e-05                                  |                                           | GGAAATGAGGTCAGG                           | chr1:2255789-2255803                      | 1                                         | \n",
       "| Hsapiens-jaspar2016-JUND(var.2)-MA0492.1  | 1                                         | 2255823                                   | 2255837                                   | -                                         | 13.71910                                  | 1.48e-05                                  |                                           | GGAAATGAGGTCAGG                           | chr1:2255823-2255837                      | 1                                         | \n",
       "\n",
       "\n"
      ],
      "text/plain": [
       "  motifname                                 chrom start   endpos  strand\n",
       "1 Mmusculus-jaspar2016-Nfe2l2-MA0150.2      1     1677938 1677952 +     \n",
       "2 Mmusculus-jaspar2016-Bach1::Mafk-MA0591.1 1     1677939 1677953 +     \n",
       "3 Hsapiens-jaspar2016-JUND(var.2)-MA0492.1  1     1828558 1828572 -     \n",
       "4 Hsapiens-jaspar2016-ATF7-MA0834.1         1     2255916 2255929 -     \n",
       "5 Hsapiens-jaspar2016-JUND(var.2)-MA0492.1  1     2255789 2255803 -     \n",
       "6 Hsapiens-jaspar2016-JUND(var.2)-MA0492.1  1     2255823 2255837 -     \n",
       "  motifscore pval     empty sequence        loc                  cs_hit\n",
       "1 13.34830   1.13e-05       CACTGTGACTCCGCA chr1:1677938-1677952 1     \n",
       "2 11.70790   1.37e-05       ACTGTGACTCCGCAG chr1:1677939-1677953 1     \n",
       "3  9.73034   9.18e-05       TTTTGTGAGGTCACT chr1:1828558-1828572 1     \n",
       "4  8.03371   6.68e-05       AAATGAGGTCACTG  chr1:2255916-2255929 1     \n",
       "5 13.71910   1.48e-05       GGAAATGAGGTCAGG chr1:2255789-2255803 1     \n",
       "6 13.71910   1.48e-05       GGAAATGAGGTCAGG chr1:2255823-2255837 1     "
      ]
     },
     "metadata": {},
     "output_type": "display_data"
    }
   ],
   "source": [
    "head(all.TF.df)\n",
    "fname=paste0(\"/ssd/mrichard/data/all.TF.fimo.samples.ratio.\",pnr,\".df.RData\")\n",
    "save(all.TF.df, file=fname)"
   ]
  },
  {
   "cell_type": "code",
   "execution_count": 20,
   "metadata": {},
   "outputs": [
    {
     "name": "stdout",
     "output_type": "stream",
     "text": [
      "Classes ‘tbl_df’, ‘tbl’ and 'data.frame':\t24720680 obs. of  11 variables:\n",
      " $ motifname : chr  \"Mmusculus-jaspar2016-Nfe2l2-MA0150.2\" \"Mmusculus-jaspar2016-Bach1::Mafk-MA0591.1\" \"Hsapiens-jaspar2016-JUND(var.2)-MA0492.1\" \"Hsapiens-jaspar2016-ATF7-MA0834.1\" ...\n",
      " $ chrom     : chr  \"1\" \"1\" \"1\" \"1\" ...\n",
      " $ start     : int  1677938 1677939 1828558 2255916 2255789 2255823 2255891 2255917 2255949 2255983 ...\n",
      " $ endpos    : int  1677952 1677953 1828572 2255929 2255803 2255837 2255905 2255931 2255963 2255997 ...\n",
      " $ strand    : chr  \"+\" \"+\" \"-\" \"-\" ...\n",
      " $ motifscore: num  13.35 11.71 9.73 8.03 13.72 ...\n",
      " $ pval      : num  1.13e-05 1.37e-05 9.18e-05 6.68e-05 1.48e-05 1.48e-05 1.48e-05 8.28e-06 1.48e-05 1.48e-05 ...\n",
      " $ empty     : chr  \" \" \" \" \" \" \" \" ...\n",
      " $ sequence  : chr  \"CACTGTGACTCCGCA\" \"ACTGTGACTCCGCAG\" \"TTTTGTGAGGTCACT\" \"AAATGAGGTCACTG\" ...\n",
      " $ loc       : chr  \"chr1:1677938-1677952\" \"chr1:1677939-1677953\" \"chr1:1828558-1828572\" \"chr1:2255916-2255929\" ...\n",
      " $ cs_hit    : num  1 1 1 1 1 1 1 1 1 1 ...\n"
     ]
    }
   ],
   "source": [
    "str(all.TF.df)"
   ]
  },
  {
   "cell_type": "markdown",
   "metadata": {},
   "source": [
    "## serial version of production loop\n",
    "\n",
    "This is the same thing, but done serially instead of with parallel computing. Not much to see here. \n",
    "\n",
    "**Don't run this if you've already run the one above; it takes FOREVER!!!**"
   ]
  },
  {
   "cell_type": "code",
   "execution_count": null,
   "metadata": {
    "collapsed": true
   },
   "outputs": [],
   "source": [
    "# serial version -- hung on last TF, don't know why\n",
    "\n",
    "all.TF.df <- tibble()\n",
    "\n",
    "sorted.TF.names <- sort(names(TFs.to.motifs))\n",
    "for (TFname in sorted.TF.names) {\n",
    "    \n",
    "    TFnum <- which(sorted.TF.names %in% TFname)\n",
    "    message(paste(\"Processing TF\", TFnum,\"/\", length(sorted.TF.names)))\n",
    "    TF.df <- create.TF.df(TFname, neg.pos.ratio=9, verbose=TRUE)\n",
    "    all.TF.df <- rbind(all.TF.df,TF.df)\n",
    "    \n",
    "    save(all.TF.df, file=\"/ssd/mrichard/data/all.TF.fimo.samples.ratio.9.df.RData\")\n",
    "\n",
    "}"
   ]
  },
  {
   "cell_type": "markdown",
   "metadata": {},
   "source": [
    "# TESTING AREA"
   ]
  },
  {
   "cell_type": "code",
   "execution_count": 33,
   "metadata": {},
   "outputs": [
    {
     "name": "stderr",
     "output_type": "stream",
     "text": [
      "Auto-disconnecting PostgreSQLConnection\n",
      "ZNF143 - querying fimo database for 1 motif\n"
     ]
    },
    {
     "data": {
      "text/plain": [
       "   user  system elapsed \n",
       "  2.460   0.284 147.267 "
      ]
     },
     "metadata": {},
     "output_type": "display_data"
    }
   ],
   "source": [
    "# Grab tsorted.TF.nameswhich has 1 motif, and use it\n",
    "sorted.TF.names <- sort(names(TFs.to.motifs))\n",
    "TF <- sorted.TF.names[62] \n",
    "system.time(TF.df <- create.TF.df(TF, neg.pos.ratio=9, verbose=TRUE))"
   ]
  },
  {
   "cell_type": "code",
   "execution_count": 30,
   "metadata": {},
   "outputs": [
    {
     "name": "stderr",
     "output_type": "stream",
     "text": [
      "ZNF274 - querying fimo database for 0 motifs\n"
     ]
    }
   ],
   "source": [
    "verbose <- TRUE \n",
    "neg.pos.ratio <- 9\n",
    "\n",
    "db.fimo.dplyr <- src_postgres(drv=dbDriver(\"PostgreSQL\"),\n",
    "                                  user=\"trena\",\n",
    "                                  password=\"trena\",\n",
    "                                  dbname=\"fimo\",\n",
    "                                  #host=\"whovian\", #Changing this to khaleesi\n",
    "                                  #port=\"5432\")\n",
    "                                  port = \"5432\",\n",
    "                                  host = \"localhost\")\n",
    "    tbl.fimo.dplyr <- tbl(db.fimo.dplyr, \"fimo_hg38\")\n",
    "    \n",
    "    # regions locs we can compute on but hits have TF info so need both\n",
    "    # Here, we grab all hits for a TF, then grab the regions of those hits\n",
    "    chipseq.hits.TF <- subset(chipseq.hits, name == TF)\n",
    "    locs.TF <- chipseq.hits.TF$loc\n",
    "    chipseq.regions.TF <- subset(chipseq.regions, loc %in% locs.TF)\n",
    "    \n",
    "    # next step is slow, gives you some context\n",
    "    if (verbose == TRUE) {\n",
    "        if (length(TFs.to.motifs[[TF]])==1) {\n",
    "            message(paste(TF, \"- querying fimo database for\", length(TFs.to.motifs[[TF]]), \"motif\"))\n",
    "        } else {\n",
    "            message(paste(TF, \"- querying fimo database for\", length(TFs.to.motifs[[TF]]), \"motifs\"))\n",
    "        }       \n",
    "    }"
   ]
  }
 ],
 "metadata": {
  "anaconda-cloud": {},
  "kernelspec": {
   "display_name": "R",
   "language": "R",
   "name": "ir"
  },
  "language_info": {
   "codemirror_mode": "r",
   "file_extension": ".r",
   "mimetype": "text/x-r-source",
   "name": "R",
   "pygments_lexer": "r",
   "version": "3.4.2"
  }
 },
 "nbformat": 4,
 "nbformat_minor": 1
}
