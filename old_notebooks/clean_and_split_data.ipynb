{
 "cells": [
  {
   "cell_type": "code",
   "execution_count": 2,
   "metadata": {
    "collapsed": false
   },
   "outputs": [],
   "source": [
    "libs <- c(\n",
    "    'dplyr',\n",
    "    'tidyr',\n",
    "    'stringr',\n",
    "    'ggplot2',\n",
    "    'GenomicRanges',\n",
    "    'RPostgreSQL',\n",
    "    'doMC',\n",
    "    'numbers'\n",
    ")\n",
    "\n",
    "for (lib in libs) {\n",
    "        if (!require(lib, character.only = TRUE, quietly = TRUE)) {\n",
    "            install.packages(lib, repos='http://cran.us.r-project.org')\n",
    "        }\n",
    "}\n",
    "\n",
    "# source(\"http://bioconductor.org/biocLite.R\")\n",
    "# biocLite(\"BSgenome.Hsapiens.UCSC.hg38\")\n",
    "library(BSgenome.Hsapiens.UCSC.hg38)\n",
    "hg38 = BSgenome.Hsapiens.UCSC.hg38"
   ]
  },
  {
   "cell_type": "code",
   "execution_count": 3,
   "metadata": {
    "collapsed": false
   },
   "outputs": [],
   "source": [
    "source(\"utility_functions.R\")\n",
    "source(\"stat_functions.R\")\n",
    "source(\"plot_functions.R\")\n",
    "source(\"~/git-repos/BDDS/trenadb/src/utils.R\")"
   ]
  },
  {
   "cell_type": "markdown",
   "metadata": {},
   "source": [
    "## cleaning and splitting functions"
   ]
  },
  {
   "cell_type": "code",
   "execution_count": 4,
   "metadata": {
    "collapsed": false
   },
   "outputs": [],
   "source": [
    "# function to split data into independent classifier work set and \n",
    "# ensemble classifier work set\n",
    "split.halves.physically <- function(df, p=0.5, buffer=100) {\n",
    "    # p is the portion of the data used for independent classifier work\n",
    "    # the rest is set aside for ensemble classifier work\n",
    "    \n",
    "    require(\"tibble\")\n",
    "    df <- as_data_frame(df)\n",
    "\n",
    "    df <- ft.clean.corymotifs.tfclasses\n",
    "    my.center <- (min(df$start) + max(df$end))/2\n",
    "\n",
    "    first.half.bool.inds <- df$end + buffer/2 < my.center\n",
    "    second.half.bool.inds <- df$start - buffer/2 > my.center\n",
    "\n",
    "    first.half.df <- df[first.half.bool.inds,]\n",
    "    second.half.df <- df[second.half.bool.inds,]\n",
    "    \n",
    "    out.list <- list()\n",
    "    out.list$first.half <- first.half.df\n",
    "    out.list$second.half <- second.half.df\n",
    "\n",
    "    return(out.list)\n",
    "}\n",
    "\n",
    "# function to split data in to training, testing, and validation sets\n",
    "split.test.train.valid.physically <- function(df, p.train=0.7, p.test=0.2, p.valid=0.1,\n",
    "                                              buffer=100, reverse.order=FALSE) {\n",
    "    \n",
    "    # physically split: train | test | valid\n",
    "    \n",
    "    require(\"tibble\")\n",
    "    stopifnot(p.train + p.test + p.valid <= 1)\n",
    "    \n",
    "    df <- as_data_frame(df[with(df, order(start, decreasing=reverse.order)), ])\n",
    "    \n",
    "    tt.split.ind <- round(p.train*nrow(df))\n",
    "    tv.split.ind <- round((p.train+p.test)*nrow(df))\n",
    "    \n",
    "    train.inds.bool <- 1:nrow(df) < tt.split.ind\n",
    "    valid.inds.bool <- 1:nrow(df) > tv.split.ind\n",
    "    test.inds.bool <- !(train.inds.bool | valid.inds.bool)\n",
    "    \n",
    "    train.df <- df[train.inds.bool,]\n",
    "    test.df <- df[test.inds.bool,]\n",
    "    valid.df <- df[valid.inds.bool,]\n",
    "    \n",
    "    out.list <- list()\n",
    "    out.list$train <- train.df\n",
    "    out.list$test <- test.df\n",
    "    out.list$valid <- valid.df\n",
    "    \n",
    "    return(out.list)\n",
    "}\n",
    "\n",
    "\n",
    "# # function to split data into independent classifier work set and \n",
    "# # ensemble classifier work set\n",
    "# split.ic.ec <- function(df, p=0.5) {\n",
    "#     # p is the portion of the data used for independent classifier work\n",
    "#     # the rest is set aside for ensemble classifier work\n",
    "    \n",
    "#     require(\"tibble\")\n",
    "    \n",
    "#     df <- as_data_frame(df)\n",
    "#     N.all <- dim(df)[1]\n",
    "    \n",
    "#     all.inds <- c(1:N.all)\n",
    "#     ic.inds <- sample(N.all, round(p*N.all), replace=FALSE)\n",
    "    \n",
    "#     ic.inds.bool <- all.inds %in% ic.inds\n",
    "#     ec.inds.bool <- !ic.inds.bool\n",
    "    \n",
    "#     ic.df <- df[ic.inds.bool,]\n",
    "#     ec.df <- df[ec.inds.bool,]\n",
    "    \n",
    "#     out.list <- list()\n",
    "#     out.list$ic <- ic.df\n",
    "#     out.list$ec <- ec.df\n",
    "\n",
    "#     return(out.list)\n",
    "# }\n",
    "\n",
    "\n",
    "# # function to split data in to training, testing, and validation sets\n",
    "# split.test.train.valid <- function(df, p.tt=0.75, p.valid=0.25) {\n",
    "#     # p.valid is the portion of the data set aside for validation\n",
    "#     # p.tt is the fraction of the remaining data used for training\n",
    "\n",
    "#     require(\"tibble\")\n",
    "    \n",
    "#     df <- as_data_frame(df)\n",
    "#     N.all <- nrow(df)\n",
    "\n",
    "#     all.inds <- c(1:N.all)\n",
    "#     valid.inds <- sample(N.all, round(p.valid*N.all), replace=FALSE)\n",
    "\n",
    "#     valid.inds.bool <- all.inds %in% valid.inds\n",
    "#     tt.inds.bool <- !valid.inds.bool\n",
    "    \n",
    "#     valid.df <- df[valid.inds.bool,]\n",
    "#     tt.df <- df[tt.inds.bool,]\n",
    "\n",
    "#     N.tt <- nrow(tt.df)\n",
    "#     tt.inds <- c(1:N.tt)\n",
    "#     train.inds <- sample(N.tt, round(p.tt*N.tt), replace=FALSE)\n",
    "\n",
    "#     train.inds.bool <- tt.inds %in% train.inds\n",
    "#     test.inds.bool <- !train.inds.bool\n",
    "\n",
    "#     train.df <- tt.df[train.inds.bool,]\n",
    "#     test.df <- tt.df[test.inds.bool,]\n",
    "\n",
    "#     out.list <- list()\n",
    "#     out.list$train <- train.df\n",
    "#     out.list$test <- test.df\n",
    "#     out.list$valid <- valid.df\n",
    "    \n",
    "#     return(out.list)\n",
    "# }"
   ]
  },
  {
   "cell_type": "markdown",
   "metadata": {},
   "source": [
    "## Load Data"
   ]
  },
  {
   "cell_type": "code",
   "execution_count": 5,
   "metadata": {
    "collapsed": true
   },
   "outputs": [],
   "source": [
    "# df loads as \"tb;\" variable\n",
    "load(\"~/git-repos/BDDS/trenadb/featureTable/lymphoblast/featureTableLymphoblast-chr19-entire.RData\")\n",
    "\n",
    "# remove any duplicate rows\n",
    "tbl.nodupes <- tbl[!duplicated(tbl),]\n",
    "\n",
    "# fix spurious zeros in piq score 2 \n",
    "tmp <- tbl.nodupes$score2.p\n",
    "tmp[tmp == 0] <- -999\n",
    "tbl.nodupes$score2.p <- tmp"
   ]
  },
  {
   "cell_type": "code",
   "execution_count": 6,
   "metadata": {
    "collapsed": true
   },
   "outputs": [],
   "source": [
    "# cory's motif to tf-class mapping\n",
    "tf.fams.file <- \"/local/Cory/for_Paul/motif_class_fam\"\n",
    "tf.fams.table <- read.delim(tf.fams.file, stringsAsFactors=FALSE)"
   ]
  },
  {
   "cell_type": "code",
   "execution_count": 7,
   "metadata": {
    "collapsed": false
   },
   "outputs": [
    {
     "data": {
      "text/html": [
       "<table>\n",
       "<thead><tr><th scope=col>ID</th><th scope=col>class</th><th scope=col>family</th></tr></thead>\n",
       "<tbody>\n",
       "\t<tr><td>MA0151.1                              </td><td>ARID domain factors                   </td><td>ARID-related factors                  </td></tr>\n",
       "\t<tr><td>MA0601.1                              </td><td>ARID domain factors                   </td><td>ARID-related factors                  </td></tr>\n",
       "\t<tr><td>MA0602.1                              </td><td>ARID domain factors                   </td><td>ARID-related factors                  </td></tr>\n",
       "\t<tr><td>MA0004.1                              </td><td>Basic helix-loop-helix factors (bHLH) </td><td>PAS domain factors                    </td></tr>\n",
       "\t<tr><td>MA0048.2                              </td><td>Basic helix-loop-helix factors (bHLH) </td><td>Tal-related factors                   </td></tr>\n",
       "\t<tr><td>MA0058.3                              </td><td>Basic helix-loop-helix factors (bHLH) </td><td>bHLH-ZIP factors                      </td></tr>\n",
       "\t<tr><td>MA0093.2                              </td><td>Basic helix-loop-helix factors (bHLH) </td><td>bHLH-ZIP factors                      </td></tr>\n",
       "\t<tr><td>MA0104.3                              </td><td>Basic helix-loop-helix factors (bHLH) </td><td>bHLH-ZIP factors                      </td></tr>\n",
       "\t<tr><td>MA0111.1                              </td><td>Basic helix-loop-helix factors (bHLH) </td><td>-                                     </td></tr>\n",
       "\t<tr><td>MA0147.2                              </td><td>Basic helix-loop-helix factors (bHLH) </td><td>bHLH-ZIP factors                      </td></tr>\n",
       "\t<tr><td>MA0461.2                              </td><td>Basic helix-loop-helix factors (bHLH) </td><td>Tal-related factors                   </td></tr>\n",
       "\t<tr><td>MA0464.2                              </td><td>Basic helix-loop-helix factors (bHLH) </td><td>Hairy-related factors                 </td></tr>\n",
       "\t<tr><td>MA0499.1                              </td><td>Basic helix-loop-helix factors (bHLH) </td><td>MyoD / ASC-related factors            </td></tr>\n",
       "\t<tr><td>MA0500.1                              </td><td>Basic helix-loop-helix factors (bHLH) </td><td>MyoD / ASC-related factors            </td></tr>\n",
       "\t<tr><td>MA0521.1                              </td><td>Basic helix-loop-helix factors (bHLH) </td><td>E2A-related factors                   </td></tr>\n",
       "\t<tr><td>MA0522.2                              </td><td>Basic helix-loop-helix factors (bHLH) </td><td>E2A-related factors                   </td></tr>\n",
       "\t<tr><td>MA0523.1                              </td><td>Basic helix-loop-helix factors (bHLH) </td><td>TCF-7-related factors                 </td></tr>\n",
       "\t<tr><td>MA0526.1                              </td><td>Basic helix-loop-helix factors (bHLH) </td><td>bHLH-ZIP factors                      </td></tr>\n",
       "\t<tr><td>MA0595.1                              </td><td>Basic helix-loop-helix factors (bHLH) </td><td>bHLH-ZIP factors                      </td></tr>\n",
       "\t<tr><td>MA0596.1                              </td><td>Basic helix-loop-helix factors (bHLH) </td><td>bHLH-ZIP factors                      </td></tr>\n",
       "\t<tr><td>MA0603.1                              </td><td>Basic helix-loop-helix factors (bHLH) </td><td>PAS domain factors                    </td></tr>\n",
       "\t<tr><td>MA0607.1                              </td><td>Basic helix-loop-helix factors (bHLH) </td><td>Tal-related factors                   </td></tr>\n",
       "\t<tr><td>MA0616.1                              </td><td>Basic helix-loop-helix factors (bHLH) </td><td>Hairy-related factors                 </td></tr>\n",
       "\t<tr><td>MA0617.1                              </td><td>Basic helix-loop-helix factors (bHLH) </td><td>HLH domain only                       </td></tr>\n",
       "\t<tr><td>MA0620.1                              </td><td>Basic helix-loop-helix factors (bHLH) </td><td>bHLH-ZIP factors                      </td></tr>\n",
       "\t<tr><td>MA0622.1                              </td><td>Basic helix-loop-helix factors (bHLH) </td><td>bHLH-ZIP factors                      </td></tr>\n",
       "\t<tr><td>MA0623.1                              </td><td>Basic helix-loop-helix factors (bHLH) </td><td>Tal-related factors                   </td></tr>\n",
       "\t<tr><td>MA0626.1                              </td><td>Basic helix-loop-helix factors (bHLH) </td><td>PAS domain factors                    </td></tr>\n",
       "\t<tr><td>MA0632.1                              </td><td>Basic helix-loop-helix factors (bHLH) </td><td>PAS domain factors                    </td></tr>\n",
       "\t<tr><td>MA0633.1                              </td><td>Basic helix-loop-helix factors (bHLH) </td><td>Tal-related factors                   </td></tr>\n",
       "\t<tr><td>⋮</td><td>⋮</td><td>⋮</td></tr>\n",
       "\t<tr><td>MA0076.2                      </td><td>Tryptophan cluster factors    </td><td>Ets-related factors           </td></tr>\n",
       "\t<tr><td>MA0080.4                      </td><td>Tryptophan cluster factors    </td><td>Ets-related factors           </td></tr>\n",
       "\t<tr><td>MA0081.1                      </td><td>Tryptophan cluster factors    </td><td>Ets-related factors           </td></tr>\n",
       "\t<tr><td>MA0098.3                      </td><td>Tryptophan cluster factors    </td><td>Ets-related factors           </td></tr>\n",
       "\t<tr><td>MA0100.2                      </td><td>Tryptophan cluster factors    </td><td>Myb/SANT domain factors       </td></tr>\n",
       "\t<tr><td>MA0109.1                      </td><td>Tryptophan cluster factors    </td><td>Myb/SANT domain factors       </td></tr>\n",
       "\t<tr><td>MA0136.2                      </td><td>Tryptophan cluster factors    </td><td>Ets-related factors           </td></tr>\n",
       "\t<tr><td>MA0149.1                      </td><td>Tryptophan cluster factors    </td><td>Ets-related factors           </td></tr>\n",
       "\t<tr><td>MA0156.2                      </td><td>Tryptophan cluster factors    </td><td>Ets-related factors           </td></tr>\n",
       "\t<tr><td>MA0473.2                      </td><td>Tryptophan cluster factors    </td><td>Ets-related factors           </td></tr>\n",
       "\t<tr><td>MA0474.2                      </td><td>Tryptophan cluster factors    </td><td>Ets-related factors           </td></tr>\n",
       "\t<tr><td>MA0475.2                      </td><td>Tryptophan cluster factors    </td><td>Ets-related factors           </td></tr>\n",
       "\t<tr><td>MA0598.2                      </td><td>Tryptophan cluster factors    </td><td>Ets-related factors           </td></tr>\n",
       "\t<tr><td>MA0640.1                      </td><td>Tryptophan cluster factors    </td><td>Ets-related factors           </td></tr>\n",
       "\t<tr><td>MA0641.1                      </td><td>Tryptophan cluster factors    </td><td>Ets-related factors           </td></tr>\n",
       "\t<tr><td>MA0645.1                      </td><td>Tryptophan cluster factors    </td><td>Ets-related factors           </td></tr>\n",
       "\t<tr><td>MA0652.1                      </td><td>Tryptophan cluster factors    </td><td>Interferon-regulatory factors </td></tr>\n",
       "\t<tr><td>MA0653.1                      </td><td>Tryptophan cluster factors    </td><td>Interferon-regulatory factors </td></tr>\n",
       "\t<tr><td>MA0686.1                      </td><td>Tryptophan cluster factors    </td><td>Ets-related factors           </td></tr>\n",
       "\t<tr><td>MA0687.1                      </td><td>Tryptophan cluster factors    </td><td>Ets-related factors           </td></tr>\n",
       "\t<tr><td>MA0759.1                      </td><td>Tryptophan cluster factors    </td><td>Ets-related factors           </td></tr>\n",
       "\t<tr><td>MA0760.1                      </td><td>Tryptophan cluster factors    </td><td>Ets-related factors           </td></tr>\n",
       "\t<tr><td>MA0761.1                      </td><td>Tryptophan cluster factors    </td><td>Ets-related factors           </td></tr>\n",
       "\t<tr><td>MA0762.1                      </td><td>Tryptophan cluster factors    </td><td>Ets-related factors           </td></tr>\n",
       "\t<tr><td>MA0763.1                      </td><td>Tryptophan cluster factors    </td><td>Ets-related factors           </td></tr>\n",
       "\t<tr><td>MA0764.1                      </td><td>Tryptophan cluster factors    </td><td>Ets-related factors           </td></tr>\n",
       "\t<tr><td>MA0765.1                      </td><td>Tryptophan cluster factors    </td><td>Ets-related factors           </td></tr>\n",
       "\t<tr><td>MA0772.1                      </td><td>Tryptophan cluster factors    </td><td>Interferon-regulatory factors </td></tr>\n",
       "\t<tr><td>MA0776.1                      </td><td>Tryptophan cluster factors    </td><td>Myb/SANT domain factors       </td></tr>\n",
       "\t<tr><td>MA0777.1                      </td><td>Tryptophan cluster factors    </td><td>Myb/SANT domain factors       </td></tr>\n",
       "</tbody>\n",
       "</table>\n"
      ],
      "text/latex": [
       "\\begin{tabular}{r|lll}\n",
       " ID & class & family\\\\\n",
       "\\hline\n",
       "\t MA0151.1                               & ARID domain factors                    & ARID-related factors                  \\\\\n",
       "\t MA0601.1                               & ARID domain factors                    & ARID-related factors                  \\\\\n",
       "\t MA0602.1                               & ARID domain factors                    & ARID-related factors                  \\\\\n",
       "\t MA0004.1                               & Basic helix-loop-helix factors (bHLH)  & PAS domain factors                    \\\\\n",
       "\t MA0048.2                               & Basic helix-loop-helix factors (bHLH)  & Tal-related factors                   \\\\\n",
       "\t MA0058.3                               & Basic helix-loop-helix factors (bHLH)  & bHLH-ZIP factors                      \\\\\n",
       "\t MA0093.2                               & Basic helix-loop-helix factors (bHLH)  & bHLH-ZIP factors                      \\\\\n",
       "\t MA0104.3                               & Basic helix-loop-helix factors (bHLH)  & bHLH-ZIP factors                      \\\\\n",
       "\t MA0111.1                               & Basic helix-loop-helix factors (bHLH)  & -                                     \\\\\n",
       "\t MA0147.2                               & Basic helix-loop-helix factors (bHLH)  & bHLH-ZIP factors                      \\\\\n",
       "\t MA0461.2                               & Basic helix-loop-helix factors (bHLH)  & Tal-related factors                   \\\\\n",
       "\t MA0464.2                               & Basic helix-loop-helix factors (bHLH)  & Hairy-related factors                 \\\\\n",
       "\t MA0499.1                               & Basic helix-loop-helix factors (bHLH)  & MyoD / ASC-related factors            \\\\\n",
       "\t MA0500.1                               & Basic helix-loop-helix factors (bHLH)  & MyoD / ASC-related factors            \\\\\n",
       "\t MA0521.1                               & Basic helix-loop-helix factors (bHLH)  & E2A-related factors                   \\\\\n",
       "\t MA0522.2                               & Basic helix-loop-helix factors (bHLH)  & E2A-related factors                   \\\\\n",
       "\t MA0523.1                               & Basic helix-loop-helix factors (bHLH)  & TCF-7-related factors                 \\\\\n",
       "\t MA0526.1                               & Basic helix-loop-helix factors (bHLH)  & bHLH-ZIP factors                      \\\\\n",
       "\t MA0595.1                               & Basic helix-loop-helix factors (bHLH)  & bHLH-ZIP factors                      \\\\\n",
       "\t MA0596.1                               & Basic helix-loop-helix factors (bHLH)  & bHLH-ZIP factors                      \\\\\n",
       "\t MA0603.1                               & Basic helix-loop-helix factors (bHLH)  & PAS domain factors                    \\\\\n",
       "\t MA0607.1                               & Basic helix-loop-helix factors (bHLH)  & Tal-related factors                   \\\\\n",
       "\t MA0616.1                               & Basic helix-loop-helix factors (bHLH)  & Hairy-related factors                 \\\\\n",
       "\t MA0617.1                               & Basic helix-loop-helix factors (bHLH)  & HLH domain only                       \\\\\n",
       "\t MA0620.1                               & Basic helix-loop-helix factors (bHLH)  & bHLH-ZIP factors                      \\\\\n",
       "\t MA0622.1                               & Basic helix-loop-helix factors (bHLH)  & bHLH-ZIP factors                      \\\\\n",
       "\t MA0623.1                               & Basic helix-loop-helix factors (bHLH)  & Tal-related factors                   \\\\\n",
       "\t MA0626.1                               & Basic helix-loop-helix factors (bHLH)  & PAS domain factors                    \\\\\n",
       "\t MA0632.1                               & Basic helix-loop-helix factors (bHLH)  & PAS domain factors                    \\\\\n",
       "\t MA0633.1                               & Basic helix-loop-helix factors (bHLH)  & Tal-related factors                   \\\\\n",
       "\t ⋮ & ⋮ & ⋮\\\\\n",
       "\t MA0076.2                       & Tryptophan cluster factors     & Ets-related factors           \\\\\n",
       "\t MA0080.4                       & Tryptophan cluster factors     & Ets-related factors           \\\\\n",
       "\t MA0081.1                       & Tryptophan cluster factors     & Ets-related factors           \\\\\n",
       "\t MA0098.3                       & Tryptophan cluster factors     & Ets-related factors           \\\\\n",
       "\t MA0100.2                       & Tryptophan cluster factors     & Myb/SANT domain factors       \\\\\n",
       "\t MA0109.1                       & Tryptophan cluster factors     & Myb/SANT domain factors       \\\\\n",
       "\t MA0136.2                       & Tryptophan cluster factors     & Ets-related factors           \\\\\n",
       "\t MA0149.1                       & Tryptophan cluster factors     & Ets-related factors           \\\\\n",
       "\t MA0156.2                       & Tryptophan cluster factors     & Ets-related factors           \\\\\n",
       "\t MA0473.2                       & Tryptophan cluster factors     & Ets-related factors           \\\\\n",
       "\t MA0474.2                       & Tryptophan cluster factors     & Ets-related factors           \\\\\n",
       "\t MA0475.2                       & Tryptophan cluster factors     & Ets-related factors           \\\\\n",
       "\t MA0598.2                       & Tryptophan cluster factors     & Ets-related factors           \\\\\n",
       "\t MA0640.1                       & Tryptophan cluster factors     & Ets-related factors           \\\\\n",
       "\t MA0641.1                       & Tryptophan cluster factors     & Ets-related factors           \\\\\n",
       "\t MA0645.1                       & Tryptophan cluster factors     & Ets-related factors           \\\\\n",
       "\t MA0652.1                       & Tryptophan cluster factors     & Interferon-regulatory factors \\\\\n",
       "\t MA0653.1                       & Tryptophan cluster factors     & Interferon-regulatory factors \\\\\n",
       "\t MA0686.1                       & Tryptophan cluster factors     & Ets-related factors           \\\\\n",
       "\t MA0687.1                       & Tryptophan cluster factors     & Ets-related factors           \\\\\n",
       "\t MA0759.1                       & Tryptophan cluster factors     & Ets-related factors           \\\\\n",
       "\t MA0760.1                       & Tryptophan cluster factors     & Ets-related factors           \\\\\n",
       "\t MA0761.1                       & Tryptophan cluster factors     & Ets-related factors           \\\\\n",
       "\t MA0762.1                       & Tryptophan cluster factors     & Ets-related factors           \\\\\n",
       "\t MA0763.1                       & Tryptophan cluster factors     & Ets-related factors           \\\\\n",
       "\t MA0764.1                       & Tryptophan cluster factors     & Ets-related factors           \\\\\n",
       "\t MA0765.1                       & Tryptophan cluster factors     & Ets-related factors           \\\\\n",
       "\t MA0772.1                       & Tryptophan cluster factors     & Interferon-regulatory factors \\\\\n",
       "\t MA0776.1                       & Tryptophan cluster factors     & Myb/SANT domain factors       \\\\\n",
       "\t MA0777.1                       & Tryptophan cluster factors     & Myb/SANT domain factors       \\\\\n",
       "\\end{tabular}\n"
      ],
      "text/markdown": [
       "\n",
       "ID | class | family | \n",
       "|---|---|---|---|---|---|---|---|---|---|---|---|---|---|---|---|---|---|---|---|---|---|---|---|---|---|---|---|---|---|---|---|---|---|---|---|---|---|---|---|---|---|---|---|---|---|---|---|---|---|---|---|---|---|---|---|---|---|---|---|---|\n",
       "| MA0151.1                               | ARID domain factors                    | ARID-related factors                   | \n",
       "| MA0601.1                               | ARID domain factors                    | ARID-related factors                   | \n",
       "| MA0602.1                               | ARID domain factors                    | ARID-related factors                   | \n",
       "| MA0004.1                               | Basic helix-loop-helix factors (bHLH)  | PAS domain factors                     | \n",
       "| MA0048.2                               | Basic helix-loop-helix factors (bHLH)  | Tal-related factors                    | \n",
       "| MA0058.3                               | Basic helix-loop-helix factors (bHLH)  | bHLH-ZIP factors                       | \n",
       "| MA0093.2                               | Basic helix-loop-helix factors (bHLH)  | bHLH-ZIP factors                       | \n",
       "| MA0104.3                               | Basic helix-loop-helix factors (bHLH)  | bHLH-ZIP factors                       | \n",
       "| MA0111.1                               | Basic helix-loop-helix factors (bHLH)  | -                                      | \n",
       "| MA0147.2                               | Basic helix-loop-helix factors (bHLH)  | bHLH-ZIP factors                       | \n",
       "| MA0461.2                               | Basic helix-loop-helix factors (bHLH)  | Tal-related factors                    | \n",
       "| MA0464.2                               | Basic helix-loop-helix factors (bHLH)  | Hairy-related factors                  | \n",
       "| MA0499.1                               | Basic helix-loop-helix factors (bHLH)  | MyoD / ASC-related factors             | \n",
       "| MA0500.1                               | Basic helix-loop-helix factors (bHLH)  | MyoD / ASC-related factors             | \n",
       "| MA0521.1                               | Basic helix-loop-helix factors (bHLH)  | E2A-related factors                    | \n",
       "| MA0522.2                               | Basic helix-loop-helix factors (bHLH)  | E2A-related factors                    | \n",
       "| MA0523.1                               | Basic helix-loop-helix factors (bHLH)  | TCF-7-related factors                  | \n",
       "| MA0526.1                               | Basic helix-loop-helix factors (bHLH)  | bHLH-ZIP factors                       | \n",
       "| MA0595.1                               | Basic helix-loop-helix factors (bHLH)  | bHLH-ZIP factors                       | \n",
       "| MA0596.1                               | Basic helix-loop-helix factors (bHLH)  | bHLH-ZIP factors                       | \n",
       "| MA0603.1                               | Basic helix-loop-helix factors (bHLH)  | PAS domain factors                     | \n",
       "| MA0607.1                               | Basic helix-loop-helix factors (bHLH)  | Tal-related factors                    | \n",
       "| MA0616.1                               | Basic helix-loop-helix factors (bHLH)  | Hairy-related factors                  | \n",
       "| MA0617.1                               | Basic helix-loop-helix factors (bHLH)  | HLH domain only                        | \n",
       "| MA0620.1                               | Basic helix-loop-helix factors (bHLH)  | bHLH-ZIP factors                       | \n",
       "| MA0622.1                               | Basic helix-loop-helix factors (bHLH)  | bHLH-ZIP factors                       | \n",
       "| MA0623.1                               | Basic helix-loop-helix factors (bHLH)  | Tal-related factors                    | \n",
       "| MA0626.1                               | Basic helix-loop-helix factors (bHLH)  | PAS domain factors                     | \n",
       "| MA0632.1                               | Basic helix-loop-helix factors (bHLH)  | PAS domain factors                     | \n",
       "| MA0633.1                               | Basic helix-loop-helix factors (bHLH)  | Tal-related factors                    | \n",
       "| ⋮ | ⋮ | ⋮ | \n",
       "| MA0076.2                       | Tryptophan cluster factors     | Ets-related factors            | \n",
       "| MA0080.4                       | Tryptophan cluster factors     | Ets-related factors            | \n",
       "| MA0081.1                       | Tryptophan cluster factors     | Ets-related factors            | \n",
       "| MA0098.3                       | Tryptophan cluster factors     | Ets-related factors            | \n",
       "| MA0100.2                       | Tryptophan cluster factors     | Myb/SANT domain factors        | \n",
       "| MA0109.1                       | Tryptophan cluster factors     | Myb/SANT domain factors        | \n",
       "| MA0136.2                       | Tryptophan cluster factors     | Ets-related factors            | \n",
       "| MA0149.1                       | Tryptophan cluster factors     | Ets-related factors            | \n",
       "| MA0156.2                       | Tryptophan cluster factors     | Ets-related factors            | \n",
       "| MA0473.2                       | Tryptophan cluster factors     | Ets-related factors            | \n",
       "| MA0474.2                       | Tryptophan cluster factors     | Ets-related factors            | \n",
       "| MA0475.2                       | Tryptophan cluster factors     | Ets-related factors            | \n",
       "| MA0598.2                       | Tryptophan cluster factors     | Ets-related factors            | \n",
       "| MA0640.1                       | Tryptophan cluster factors     | Ets-related factors            | \n",
       "| MA0641.1                       | Tryptophan cluster factors     | Ets-related factors            | \n",
       "| MA0645.1                       | Tryptophan cluster factors     | Ets-related factors            | \n",
       "| MA0652.1                       | Tryptophan cluster factors     | Interferon-regulatory factors  | \n",
       "| MA0653.1                       | Tryptophan cluster factors     | Interferon-regulatory factors  | \n",
       "| MA0686.1                       | Tryptophan cluster factors     | Ets-related factors            | \n",
       "| MA0687.1                       | Tryptophan cluster factors     | Ets-related factors            | \n",
       "| MA0759.1                       | Tryptophan cluster factors     | Ets-related factors            | \n",
       "| MA0760.1                       | Tryptophan cluster factors     | Ets-related factors            | \n",
       "| MA0761.1                       | Tryptophan cluster factors     | Ets-related factors            | \n",
       "| MA0762.1                       | Tryptophan cluster factors     | Ets-related factors            | \n",
       "| MA0763.1                       | Tryptophan cluster factors     | Ets-related factors            | \n",
       "| MA0764.1                       | Tryptophan cluster factors     | Ets-related factors            | \n",
       "| MA0765.1                       | Tryptophan cluster factors     | Ets-related factors            | \n",
       "| MA0772.1                       | Tryptophan cluster factors     | Interferon-regulatory factors  | \n",
       "| MA0776.1                       | Tryptophan cluster factors     | Myb/SANT domain factors        | \n",
       "| MA0777.1                       | Tryptophan cluster factors     | Myb/SANT domain factors        | \n",
       "\n",
       "\n"
      ],
      "text/plain": [
       "    ID        class                                 \n",
       "1   MA0151.1  ARID domain factors                   \n",
       "2   MA0601.1  ARID domain factors                   \n",
       "3   MA0602.1  ARID domain factors                   \n",
       "4   MA0004.1  Basic helix-loop-helix factors (bHLH) \n",
       "5   MA0048.2  Basic helix-loop-helix factors (bHLH) \n",
       "6   MA0058.3  Basic helix-loop-helix factors (bHLH) \n",
       "7   MA0093.2  Basic helix-loop-helix factors (bHLH) \n",
       "8   MA0104.3  Basic helix-loop-helix factors (bHLH) \n",
       "9   MA0111.1  Basic helix-loop-helix factors (bHLH) \n",
       "10  MA0147.2  Basic helix-loop-helix factors (bHLH) \n",
       "11  MA0461.2  Basic helix-loop-helix factors (bHLH) \n",
       "12  MA0464.2  Basic helix-loop-helix factors (bHLH) \n",
       "13  MA0499.1  Basic helix-loop-helix factors (bHLH) \n",
       "14  MA0500.1  Basic helix-loop-helix factors (bHLH) \n",
       "15  MA0521.1  Basic helix-loop-helix factors (bHLH) \n",
       "16  MA0522.2  Basic helix-loop-helix factors (bHLH) \n",
       "17  MA0523.1  Basic helix-loop-helix factors (bHLH) \n",
       "18  MA0526.1  Basic helix-loop-helix factors (bHLH) \n",
       "19  MA0595.1  Basic helix-loop-helix factors (bHLH) \n",
       "20  MA0596.1  Basic helix-loop-helix factors (bHLH) \n",
       "21  MA0603.1  Basic helix-loop-helix factors (bHLH) \n",
       "22  MA0607.1  Basic helix-loop-helix factors (bHLH) \n",
       "23  MA0616.1  Basic helix-loop-helix factors (bHLH) \n",
       "24  MA0617.1  Basic helix-loop-helix factors (bHLH) \n",
       "25  MA0620.1  Basic helix-loop-helix factors (bHLH) \n",
       "26  MA0622.1  Basic helix-loop-helix factors (bHLH) \n",
       "27  MA0623.1  Basic helix-loop-helix factors (bHLH) \n",
       "28  MA0626.1  Basic helix-loop-helix factors (bHLH) \n",
       "29  MA0632.1  Basic helix-loop-helix factors (bHLH) \n",
       "30  MA0633.1  Basic helix-loop-helix factors (bHLH) \n",
       "⋮   ⋮         ⋮                                     \n",
       "490 MA0076.2  Tryptophan cluster factors            \n",
       "491 MA0080.4  Tryptophan cluster factors            \n",
       "492 MA0081.1  Tryptophan cluster factors            \n",
       "493 MA0098.3  Tryptophan cluster factors            \n",
       "494 MA0100.2  Tryptophan cluster factors            \n",
       "495 MA0109.1  Tryptophan cluster factors            \n",
       "496 MA0136.2  Tryptophan cluster factors            \n",
       "497 MA0149.1  Tryptophan cluster factors            \n",
       "498 MA0156.2  Tryptophan cluster factors            \n",
       "499 MA0473.2  Tryptophan cluster factors            \n",
       "500 MA0474.2  Tryptophan cluster factors            \n",
       "501 MA0475.2  Tryptophan cluster factors            \n",
       "502 MA0598.2  Tryptophan cluster factors            \n",
       "503 MA0640.1  Tryptophan cluster factors            \n",
       "504 MA0641.1  Tryptophan cluster factors            \n",
       "505 MA0645.1  Tryptophan cluster factors            \n",
       "506 MA0652.1  Tryptophan cluster factors            \n",
       "507 MA0653.1  Tryptophan cluster factors            \n",
       "508 MA0686.1  Tryptophan cluster factors            \n",
       "509 MA0687.1  Tryptophan cluster factors            \n",
       "510 MA0759.1  Tryptophan cluster factors            \n",
       "511 MA0760.1  Tryptophan cluster factors            \n",
       "512 MA0761.1  Tryptophan cluster factors            \n",
       "513 MA0762.1  Tryptophan cluster factors            \n",
       "514 MA0763.1  Tryptophan cluster factors            \n",
       "515 MA0764.1  Tryptophan cluster factors            \n",
       "516 MA0765.1  Tryptophan cluster factors            \n",
       "517 MA0772.1  Tryptophan cluster factors            \n",
       "518 MA0776.1  Tryptophan cluster factors            \n",
       "519 MA0777.1  Tryptophan cluster factors            \n",
       "    family                        \n",
       "1   ARID-related factors          \n",
       "2   ARID-related factors          \n",
       "3   ARID-related factors          \n",
       "4   PAS domain factors            \n",
       "5   Tal-related factors           \n",
       "6   bHLH-ZIP factors              \n",
       "7   bHLH-ZIP factors              \n",
       "8   bHLH-ZIP factors              \n",
       "9   -                             \n",
       "10  bHLH-ZIP factors              \n",
       "11  Tal-related factors           \n",
       "12  Hairy-related factors         \n",
       "13  MyoD / ASC-related factors    \n",
       "14  MyoD / ASC-related factors    \n",
       "15  E2A-related factors           \n",
       "16  E2A-related factors           \n",
       "17  TCF-7-related factors         \n",
       "18  bHLH-ZIP factors              \n",
       "19  bHLH-ZIP factors              \n",
       "20  bHLH-ZIP factors              \n",
       "21  PAS domain factors            \n",
       "22  Tal-related factors           \n",
       "23  Hairy-related factors         \n",
       "24  HLH domain only               \n",
       "25  bHLH-ZIP factors              \n",
       "26  bHLH-ZIP factors              \n",
       "27  Tal-related factors           \n",
       "28  PAS domain factors            \n",
       "29  PAS domain factors            \n",
       "30  Tal-related factors           \n",
       "⋮   ⋮                             \n",
       "490 Ets-related factors           \n",
       "491 Ets-related factors           \n",
       "492 Ets-related factors           \n",
       "493 Ets-related factors           \n",
       "494 Myb/SANT domain factors       \n",
       "495 Myb/SANT domain factors       \n",
       "496 Ets-related factors           \n",
       "497 Ets-related factors           \n",
       "498 Ets-related factors           \n",
       "499 Ets-related factors           \n",
       "500 Ets-related factors           \n",
       "501 Ets-related factors           \n",
       "502 Ets-related factors           \n",
       "503 Ets-related factors           \n",
       "504 Ets-related factors           \n",
       "505 Ets-related factors           \n",
       "506 Interferon-regulatory factors \n",
       "507 Interferon-regulatory factors \n",
       "508 Ets-related factors           \n",
       "509 Ets-related factors           \n",
       "510 Ets-related factors           \n",
       "511 Ets-related factors           \n",
       "512 Ets-related factors           \n",
       "513 Ets-related factors           \n",
       "514 Ets-related factors           \n",
       "515 Ets-related factors           \n",
       "516 Ets-related factors           \n",
       "517 Interferon-regulatory factors \n",
       "518 Myb/SANT domain factors       \n",
       "519 Myb/SANT domain factors       "
      ]
     },
     "metadata": {},
     "output_type": "display_data"
    }
   ],
   "source": [
    "tf.fams.table"
   ]
  },
  {
   "cell_type": "code",
   "execution_count": 8,
   "metadata": {
    "collapsed": false
   },
   "outputs": [
    {
     "data": {
      "text/html": [
       "510"
      ],
      "text/latex": [
       "510"
      ],
      "text/markdown": [
       "510"
      ],
      "text/plain": [
       "[1] 510"
      ]
     },
     "metadata": {},
     "output_type": "display_data"
    }
   ],
   "source": [
    "# check overlap of motif names from cory and paul\n",
    "\n",
    "motif.names.from.cory <- str_replace_all(string=tf.fams.table$ID, pattern=\"[[:space:]]\", repl=\"\")\n",
    "motif.names.from.paul <- unique(tbl.nodupes$motif)\n",
    "\n",
    "# motifs not occurring from sample data\n",
    "from.cory.not.in.paul <- motif.names.from.cory[!(motif.names.from.cory %in% motif.names.from.paul)]\n",
    "\n",
    "# motifs not mapped in cory's table\n",
    "from.paul.not.in.cory <- motif.names.from.paul[!(motif.names.from.paul %in% motif.names.from.cory)]\n",
    "\n",
    "# number of motifs that i'll use\n",
    "from.paul.in.cory <- sort(motif.names.from.paul[(motif.names.from.paul %in% motif.names.from.cory)])\n",
    "length(from.paul.in.cory)"
   ]
  },
  {
   "cell_type": "code",
   "execution_count": 9,
   "metadata": {
    "collapsed": false
   },
   "outputs": [],
   "source": [
    "# filter out the motifs in pauls' table that cory doesn' have tf classes for\n",
    "ft.clean.corymotifs <- tbl.nodupes %>% filter(motif %in% from.paul.in.cory)"
   ]
  },
  {
   "cell_type": "code",
   "execution_count": 10,
   "metadata": {
    "collapsed": false
   },
   "outputs": [
    {
     "data": {
      "text/html": [
       "30"
      ],
      "text/latex": [
       "30"
      ],
      "text/markdown": [
       "30"
      ],
      "text/plain": [
       "[1] 30"
      ]
     },
     "metadata": {},
     "output_type": "display_data"
    }
   ],
   "source": [
    "# find unique tf class names from cory's list\n",
    "\n",
    "class.names.nospaces <- str_replace_all(string=tf.fams.table$class, pattern=\"[[:space:]]\", repl=\"\")\n",
    "unique.class.names.nospaces <- unique(class.names.nospaces)\n",
    "double.entry.classes <- grep('::', unique.class.names.nospaces, value=TRUE)\n",
    "dedoubled.classes <- unique(unlist(strsplit(double.entry.classes,'::')))\n",
    "\n",
    "class.names.nospaces.minus.doubles <- unique.class.names.nospaces[!(unique.class.names.nospaces %in% double.entry.classes)]\n",
    "class.names.final <- sort(unique(c(class.names.nospaces.minus.doubles,dedoubled.classes)))\n",
    "length(class.names.final)"
   ]
  },
  {
   "cell_type": "code",
   "execution_count": 11,
   "metadata": {
    "collapsed": true
   },
   "outputs": [],
   "source": [
    "# cory's map: arrange so grepping on class column will yeild matches from paul's names\n",
    "\n",
    "tf.fams.table.renamed <- tf.fams.table\n",
    "tf.fams.table.renamed$ID <- str_replace_all(string=tf.fams.table.renamed$ID, pattern=\"[[:space:]]\", repl=\"\")\n",
    "tf.fams.table.renamed <- tf.fams.table.renamed %>% filter(ID %in% from.paul.in.cory)\n",
    "rownames(tf.fams.table.renamed) <- tf.fams.table.renamed$ID\n",
    "tf.class.foreach.motif <- tf.fams.table.renamed[,-c(1)]\n",
    "\n",
    "tf.class.foreach.motif$class <- str_replace_all(string=tf.class.foreach.motif$class, pattern=\"[[:space:]]\", repl=\"\")"
   ]
  },
  {
   "cell_type": "code",
   "execution_count": 12,
   "metadata": {
    "collapsed": true
   },
   "outputs": [],
   "source": [
    "# make sparse class / tf feature matrix map\n",
    "# all zeros to start, fill in ones below\n",
    "tf.motif.class.matrix <- matrix(0L, nrow = length(from.paul.in.cory), ncol = length(class.names.final))\n",
    "rownames(tf.motif.class.matrix) <- from.paul.in.cory\n",
    "colnames(tf.motif.class.matrix) <- class.names.final\n",
    "\n",
    "# loop through tfs and classes to fill in ones where there is a match\n",
    "\n",
    "for (tf.name in rownames(tf.motif.class.matrix)) {\n",
    "    for (class.name in colnames(tf.motif.class.matrix)) {\n",
    "        class.to.check <- tf.class.foreach.motif[tf.name,'class']\n",
    "        classes.match <- any(grep(class.name, class.to.check, value=FALSE, fixed=TRUE))\n",
    "        if (classes.match == 1) {\n",
    "            tf.motif.class.matrix[tf.name,class.name] <- 1\n",
    "        }\n",
    "    }\n",
    "    \n",
    "}"
   ]
  },
  {
   "cell_type": "code",
   "execution_count": 39,
   "metadata": {
    "collapsed": false
   },
   "outputs": [
    {
     "data": {
      "text/html": [
       "<ol class=list-inline>\n",
       "\t<li>510</li>\n",
       "\t<li>30</li>\n",
       "</ol>\n"
      ],
      "text/latex": [
       "\\begin{enumerate*}\n",
       "\\item 510\n",
       "\\item 30\n",
       "\\end{enumerate*}\n"
      ],
      "text/markdown": [
       "1. 510\n",
       "2. 30\n",
       "\n",
       "\n"
      ],
      "text/plain": [
       "[1] 510  30"
      ]
     },
     "metadata": {},
     "output_type": "display_data"
    },
    {
     "data": {
      "text/html": [
       "513"
      ],
      "text/latex": [
       "513"
      ],
      "text/markdown": [
       "513"
      ],
      "text/plain": [
       "[1] 513"
      ]
     },
     "metadata": {},
     "output_type": "display_data"
    },
    {
     "data": {
      "text/html": [],
      "text/latex": [],
      "text/markdown": [],
      "text/plain": [
       "character(0)"
      ]
     },
     "metadata": {},
     "output_type": "display_data"
    }
   ],
   "source": [
    "# number of motifs with extra entries is small:\n",
    "dim(tf.motif.class.matrix)\n",
    "sum(tf.motif.class.matrix)\n",
    "\n",
    "# check to see if any motifs didn't match\n",
    "rownames(tf.motif.class.matrix)[rowSums(tf.motif.class.matrix) == 0]"
   ]
  },
  {
   "cell_type": "code",
   "execution_count": 55,
   "metadata": {
    "collapsed": false
   },
   "outputs": [
    {
     "data": {
      "text/html": [
       "<dl class=dl-horizontal>\n",
       "\t<dt>ARIDdomainfactors</dt>\n",
       "\t\t<dd>FALSE</dd>\n",
       "\t<dt>Basichelix-loop-helixfactors(bHLH)</dt>\n",
       "\t\t<dd>FALSE</dd>\n",
       "\t<dt>Basichelix-span-helixfactors(bHSH)</dt>\n",
       "\t\t<dd>FALSE</dd>\n",
       "\t<dt>Basicleucinezipperfactors(bZIP)</dt>\n",
       "\t\t<dd>FALSE</dd>\n",
       "\t<dt>C2CHTHAP-typezincfingerfactors</dt>\n",
       "\t\t<dd>FALSE</dd>\n",
       "\t<dt>C2H2zincfingerfactors</dt>\n",
       "\t\t<dd>FALSE</dd>\n",
       "\t<dt>CRCdomain</dt>\n",
       "\t\t<dd>FALSE</dd>\n",
       "\t<dt>DM-typeintertwinedzincfingerfactors</dt>\n",
       "\t\t<dd>FALSE</dd>\n",
       "\t<dt>Forkhead/wingedhelixfactors</dt>\n",
       "\t\t<dd>FALSE</dd>\n",
       "\t<dt>GCMdomainfactors</dt>\n",
       "\t\t<dd>FALSE</dd>\n",
       "\t<dt>Grainyheaddomainfactors</dt>\n",
       "\t\t<dd>FALSE</dd>\n",
       "\t<dt>Heatshockfactors</dt>\n",
       "\t\t<dd>FALSE</dd>\n",
       "\t<dt>HeteromericCCAAT-bindingfactors</dt>\n",
       "\t\t<dd>FALSE</dd>\n",
       "\t<dt>High-mobilitygroup(HMG)domainfactors</dt>\n",
       "\t\t<dd>FALSE</dd>\n",
       "\t<dt>Homeodomainfactors</dt>\n",
       "\t\t<dd>FALSE</dd>\n",
       "\t<dt>MADSboxfactors</dt>\n",
       "\t\t<dd>FALSE</dd>\n",
       "\t<dt>NuclearreceptorswithC4zincfingers</dt>\n",
       "\t\t<dd>FALSE</dd>\n",
       "\t<dt>OtherC4zincfinger-typefactors</dt>\n",
       "\t\t<dd>FALSE</dd>\n",
       "\t<dt>p53domainfactors</dt>\n",
       "\t\t<dd>FALSE</dd>\n",
       "\t<dt>Pairedboxfactors</dt>\n",
       "\t\t<dd>FALSE</dd>\n",
       "\t<dt>Psq-typeHTHdomain</dt>\n",
       "\t\t<dd>FALSE</dd>\n",
       "\t<dt>Relhomologyregion(RHR)factors</dt>\n",
       "\t\t<dd>FALSE</dd>\n",
       "\t<dt>Runtdomainfactors</dt>\n",
       "\t\t<dd>FALSE</dd>\n",
       "\t<dt>SANDdomainfactors</dt>\n",
       "\t\t<dd>FALSE</dd>\n",
       "\t<dt>SMAD/NF-1DNA-bindingdomainfactors</dt>\n",
       "\t\t<dd>FALSE</dd>\n",
       "\t<dt>STATdomainfactors</dt>\n",
       "\t\t<dd>FALSE</dd>\n",
       "\t<dt>T-Boxfactors</dt>\n",
       "\t\t<dd>FALSE</dd>\n",
       "\t<dt>TATA-bindingproteins</dt>\n",
       "\t\t<dd>FALSE</dd>\n",
       "\t<dt>TEAdomainfactors</dt>\n",
       "\t\t<dd>FALSE</dd>\n",
       "\t<dt>Tryptophanclusterfactors</dt>\n",
       "\t\t<dd>FALSE</dd>\n",
       "</dl>\n"
      ],
      "text/latex": [
       "\\begin{description*}\n",
       "\\item[ARIDdomainfactors] FALSE\n",
       "\\item[Basichelix-loop-helixfactors(bHLH)] FALSE\n",
       "\\item[Basichelix-span-helixfactors(bHSH)] FALSE\n",
       "\\item[Basicleucinezipperfactors(bZIP)] FALSE\n",
       "\\item[C2CHTHAP-typezincfingerfactors] FALSE\n",
       "\\item[C2H2zincfingerfactors] FALSE\n",
       "\\item[CRCdomain] FALSE\n",
       "\\item[DM-typeintertwinedzincfingerfactors] FALSE\n",
       "\\item[Forkhead/wingedhelixfactors] FALSE\n",
       "\\item[GCMdomainfactors] FALSE\n",
       "\\item[Grainyheaddomainfactors] FALSE\n",
       "\\item[Heatshockfactors] FALSE\n",
       "\\item[HeteromericCCAAT-bindingfactors] FALSE\n",
       "\\item[High-mobilitygroup(HMG)domainfactors] FALSE\n",
       "\\item[Homeodomainfactors] FALSE\n",
       "\\item[MADSboxfactors] FALSE\n",
       "\\item[NuclearreceptorswithC4zincfingers] FALSE\n",
       "\\item[OtherC4zincfinger-typefactors] FALSE\n",
       "\\item[p53domainfactors] FALSE\n",
       "\\item[Pairedboxfactors] FALSE\n",
       "\\item[Psq-typeHTHdomain] FALSE\n",
       "\\item[Relhomologyregion(RHR)factors] FALSE\n",
       "\\item[Runtdomainfactors] FALSE\n",
       "\\item[SANDdomainfactors] FALSE\n",
       "\\item[SMAD/NF-1DNA-bindingdomainfactors] FALSE\n",
       "\\item[STATdomainfactors] FALSE\n",
       "\\item[T-Boxfactors] FALSE\n",
       "\\item[TATA-bindingproteins] FALSE\n",
       "\\item[TEAdomainfactors] FALSE\n",
       "\\item[Tryptophanclusterfactors] FALSE\n",
       "\\end{description*}\n"
      ],
      "text/markdown": [
       "ARIDdomainfactors\n",
       ":   FALSEBasichelix-loop-helixfactors(bHLH)\n",
       ":   FALSEBasichelix-span-helixfactors(bHSH)\n",
       ":   FALSEBasicleucinezipperfactors(bZIP)\n",
       ":   FALSEC2CHTHAP-typezincfingerfactors\n",
       ":   FALSEC2H2zincfingerfactors\n",
       ":   FALSECRCdomain\n",
       ":   FALSEDM-typeintertwinedzincfingerfactors\n",
       ":   FALSEForkhead/wingedhelixfactors\n",
       ":   FALSEGCMdomainfactors\n",
       ":   FALSEGrainyheaddomainfactors\n",
       ":   FALSEHeatshockfactors\n",
       ":   FALSEHeteromericCCAAT-bindingfactors\n",
       ":   FALSEHigh-mobilitygroup(HMG)domainfactors\n",
       ":   FALSEHomeodomainfactors\n",
       ":   FALSEMADSboxfactors\n",
       ":   FALSENuclearreceptorswithC4zincfingers\n",
       ":   FALSEOtherC4zincfinger-typefactors\n",
       ":   FALSEp53domainfactors\n",
       ":   FALSEPairedboxfactors\n",
       ":   FALSEPsq-typeHTHdomain\n",
       ":   FALSERelhomologyregion(RHR)factors\n",
       ":   FALSERuntdomainfactors\n",
       ":   FALSESANDdomainfactors\n",
       ":   FALSESMAD/NF-1DNA-bindingdomainfactors\n",
       ":   FALSESTATdomainfactors\n",
       ":   FALSET-Boxfactors\n",
       ":   FALSETATA-bindingproteins\n",
       ":   FALSETEAdomainfactors\n",
       ":   FALSETryptophanclusterfactors\n",
       ":   FALSE\n",
       "\n"
      ],
      "text/plain": [
       "                   ARIDdomainfactors   Basichelix-loop-helixfactors(bHLH) \n",
       "                               FALSE                                FALSE \n",
       "  Basichelix-span-helixfactors(bHSH)      Basicleucinezipperfactors(bZIP) \n",
       "                               FALSE                                FALSE \n",
       "      C2CHTHAP-typezincfingerfactors                C2H2zincfingerfactors \n",
       "                               FALSE                                FALSE \n",
       "                           CRCdomain  DM-typeintertwinedzincfingerfactors \n",
       "                               FALSE                                FALSE \n",
       "         Forkhead/wingedhelixfactors                     GCMdomainfactors \n",
       "                               FALSE                                FALSE \n",
       "             Grainyheaddomainfactors                     Heatshockfactors \n",
       "                               FALSE                                FALSE \n",
       "     HeteromericCCAAT-bindingfactors High-mobilitygroup(HMG)domainfactors \n",
       "                               FALSE                                FALSE \n",
       "                  Homeodomainfactors                       MADSboxfactors \n",
       "                               FALSE                                FALSE \n",
       "   NuclearreceptorswithC4zincfingers        OtherC4zincfinger-typefactors \n",
       "                               FALSE                                FALSE \n",
       "                    p53domainfactors                     Pairedboxfactors \n",
       "                               FALSE                                FALSE \n",
       "                   Psq-typeHTHdomain        Relhomologyregion(RHR)factors \n",
       "                               FALSE                                FALSE \n",
       "                   Runtdomainfactors                    SANDdomainfactors \n",
       "                               FALSE                                FALSE \n",
       "   SMAD/NF-1DNA-bindingdomainfactors                    STATdomainfactors \n",
       "                               FALSE                                FALSE \n",
       "                        T-Boxfactors                 TATA-bindingproteins \n",
       "                               FALSE                                FALSE \n",
       "                    TEAdomainfactors             Tryptophanclusterfactors \n",
       "                               FALSE                                FALSE "
      ]
     },
     "metadata": {},
     "output_type": "display_data"
    }
   ],
   "source": [
    "colSums(tf.motif.class.matrix) == 0"
   ]
  },
  {
   "cell_type": "code",
   "execution_count": 49,
   "metadata": {
    "collapsed": false
   },
   "outputs": [
    {
     "data": {
      "text/html": [
       "<table>\n",
       "<thead><tr><th></th><th scope=col>Basichelix-loop-helixfactors(bHLH)</th><th scope=col>High-mobilitygroup(HMG)domainfactors</th><th scope=col>Homeodomainfactors</th><th scope=col>OtherC4zincfinger-typefactors</th><th scope=col>SMAD/NF-1DNA-bindingdomainfactors</th></tr></thead>\n",
       "<tbody>\n",
       "\t<tr><th scope=row>MA0119.1</th><td>0</td><td>0</td><td>1</td><td>0</td><td>1</td></tr>\n",
       "\t<tr><th scope=row>MA0140.2</th><td>1</td><td>0</td><td>0</td><td>1</td><td>0</td></tr>\n",
       "\t<tr><th scope=row>MA0142.1</th><td>0</td><td>1</td><td>1</td><td>0</td><td>0</td></tr>\n",
       "</tbody>\n",
       "</table>\n"
      ],
      "text/latex": [
       "\\begin{tabular}{r|lllll}\n",
       "  & Basichelix-loop-helixfactors(bHLH) & High-mobilitygroup(HMG)domainfactors & Homeodomainfactors & OtherC4zincfinger-typefactors & SMAD/NF-1DNA-bindingdomainfactors\\\\\n",
       "\\hline\n",
       "\tMA0119.1 & 0 & 0 & 1 & 0 & 1\\\\\n",
       "\tMA0140.2 & 1 & 0 & 0 & 1 & 0\\\\\n",
       "\tMA0142.1 & 0 & 1 & 1 & 0 & 0\\\\\n",
       "\\end{tabular}\n"
      ],
      "text/markdown": [
       "\n",
       "| <!--/--> | Basichelix-loop-helixfactors(bHLH) | High-mobilitygroup(HMG)domainfactors | Homeodomainfactors | OtherC4zincfinger-typefactors | SMAD/NF-1DNA-bindingdomainfactors | \n",
       "|---|---|---|\n",
       "| MA0119.1 | 0 | 0 | 1 | 0 | 1 | \n",
       "| MA0140.2 | 1 | 0 | 0 | 1 | 0 | \n",
       "| MA0142.1 | 0 | 1 | 1 | 0 | 0 | \n",
       "\n",
       "\n"
      ],
      "text/plain": [
       "         Basichelix-loop-helixfactors(bHLH)\n",
       "MA0119.1 0                                 \n",
       "MA0140.2 1                                 \n",
       "MA0142.1 0                                 \n",
       "         High-mobilitygroup(HMG)domainfactors Homeodomainfactors\n",
       "MA0119.1 0                                    1                 \n",
       "MA0140.2 0                                    0                 \n",
       "MA0142.1 1                                    1                 \n",
       "         OtherC4zincfinger-typefactors SMAD/NF-1DNA-bindingdomainfactors\n",
       "MA0119.1 0                             1                                \n",
       "MA0140.2 1                             0                                \n",
       "MA0142.1 0                             0                                "
      ]
     },
     "metadata": {},
     "output_type": "display_data"
    }
   ],
   "source": [
    "doubles <- tf.motif.class.matrix[rownames(tf.motif.class.matrix)[rowSums(tf.motif.class.matrix) == 2],]\n",
    "doubles[,colnames(doubles)[colSums(doubles) > 0]]"
   ]
  },
  {
   "cell_type": "code",
   "execution_count": 14,
   "metadata": {
    "collapsed": false
   },
   "outputs": [
    {
     "data": {
      "text/html": [
       "<ol class=list-inline>\n",
       "\t<li>'ARIDdomainfactors'</li>\n",
       "\t<li>'Basichelix-loop-helixfactors(bHLH)'</li>\n",
       "\t<li>'Basichelix-span-helixfactors(bHSH)'</li>\n",
       "\t<li>'Basicleucinezipperfactors(bZIP)'</li>\n",
       "\t<li>'C2CHTHAP-typezincfingerfactors'</li>\n",
       "\t<li>'C2H2zincfingerfactors'</li>\n",
       "\t<li>'CRCdomain'</li>\n",
       "\t<li>'DM-typeintertwinedzincfingerfactors'</li>\n",
       "\t<li>'Forkhead/wingedhelixfactors'</li>\n",
       "\t<li>'GCMdomainfactors'</li>\n",
       "\t<li>'Grainyheaddomainfactors'</li>\n",
       "\t<li>'Heatshockfactors'</li>\n",
       "\t<li>'HeteromericCCAAT-bindingfactors'</li>\n",
       "\t<li>'High-mobilitygroup(HMG)domainfactors'</li>\n",
       "\t<li>'Homeodomainfactors'</li>\n",
       "\t<li>'MADSboxfactors'</li>\n",
       "\t<li>'NuclearreceptorswithC4zincfingers'</li>\n",
       "\t<li>'OtherC4zincfinger-typefactors'</li>\n",
       "\t<li>'p53domainfactors'</li>\n",
       "\t<li>'Pairedboxfactors'</li>\n",
       "\t<li>'Psq-typeHTHdomain'</li>\n",
       "\t<li>'Relhomologyregion(RHR)factors'</li>\n",
       "\t<li>'Runtdomainfactors'</li>\n",
       "\t<li>'SANDdomainfactors'</li>\n",
       "\t<li>'SMAD/NF-1DNA-bindingdomainfactors'</li>\n",
       "\t<li>'STATdomainfactors'</li>\n",
       "\t<li>'T-Boxfactors'</li>\n",
       "\t<li>'TATA-bindingproteins'</li>\n",
       "\t<li>'TEAdomainfactors'</li>\n",
       "\t<li>'Tryptophanclusterfactors'</li>\n",
       "</ol>\n"
      ],
      "text/latex": [
       "\\begin{enumerate*}\n",
       "\\item 'ARIDdomainfactors'\n",
       "\\item 'Basichelix-loop-helixfactors(bHLH)'\n",
       "\\item 'Basichelix-span-helixfactors(bHSH)'\n",
       "\\item 'Basicleucinezipperfactors(bZIP)'\n",
       "\\item 'C2CHTHAP-typezincfingerfactors'\n",
       "\\item 'C2H2zincfingerfactors'\n",
       "\\item 'CRCdomain'\n",
       "\\item 'DM-typeintertwinedzincfingerfactors'\n",
       "\\item 'Forkhead/wingedhelixfactors'\n",
       "\\item 'GCMdomainfactors'\n",
       "\\item 'Grainyheaddomainfactors'\n",
       "\\item 'Heatshockfactors'\n",
       "\\item 'HeteromericCCAAT-bindingfactors'\n",
       "\\item 'High-mobilitygroup(HMG)domainfactors'\n",
       "\\item 'Homeodomainfactors'\n",
       "\\item 'MADSboxfactors'\n",
       "\\item 'NuclearreceptorswithC4zincfingers'\n",
       "\\item 'OtherC4zincfinger-typefactors'\n",
       "\\item 'p53domainfactors'\n",
       "\\item 'Pairedboxfactors'\n",
       "\\item 'Psq-typeHTHdomain'\n",
       "\\item 'Relhomologyregion(RHR)factors'\n",
       "\\item 'Runtdomainfactors'\n",
       "\\item 'SANDdomainfactors'\n",
       "\\item 'SMAD/NF-1DNA-bindingdomainfactors'\n",
       "\\item 'STATdomainfactors'\n",
       "\\item 'T-Boxfactors'\n",
       "\\item 'TATA-bindingproteins'\n",
       "\\item 'TEAdomainfactors'\n",
       "\\item 'Tryptophanclusterfactors'\n",
       "\\end{enumerate*}\n"
      ],
      "text/markdown": [
       "1. 'ARIDdomainfactors'\n",
       "2. 'Basichelix-loop-helixfactors(bHLH)'\n",
       "3. 'Basichelix-span-helixfactors(bHSH)'\n",
       "4. 'Basicleucinezipperfactors(bZIP)'\n",
       "5. 'C2CHTHAP-typezincfingerfactors'\n",
       "6. 'C2H2zincfingerfactors'\n",
       "7. 'CRCdomain'\n",
       "8. 'DM-typeintertwinedzincfingerfactors'\n",
       "9. 'Forkhead/wingedhelixfactors'\n",
       "10. 'GCMdomainfactors'\n",
       "11. 'Grainyheaddomainfactors'\n",
       "12. 'Heatshockfactors'\n",
       "13. 'HeteromericCCAAT-bindingfactors'\n",
       "14. 'High-mobilitygroup(HMG)domainfactors'\n",
       "15. 'Homeodomainfactors'\n",
       "16. 'MADSboxfactors'\n",
       "17. 'NuclearreceptorswithC4zincfingers'\n",
       "18. 'OtherC4zincfinger-typefactors'\n",
       "19. 'p53domainfactors'\n",
       "20. 'Pairedboxfactors'\n",
       "21. 'Psq-typeHTHdomain'\n",
       "22. 'Relhomologyregion(RHR)factors'\n",
       "23. 'Runtdomainfactors'\n",
       "24. 'SANDdomainfactors'\n",
       "25. 'SMAD/NF-1DNA-bindingdomainfactors'\n",
       "26. 'STATdomainfactors'\n",
       "27. 'T-Boxfactors'\n",
       "28. 'TATA-bindingproteins'\n",
       "29. 'TEAdomainfactors'\n",
       "30. 'Tryptophanclusterfactors'\n",
       "\n",
       "\n"
      ],
      "text/plain": [
       " [1] \"ARIDdomainfactors\"                   \n",
       " [2] \"Basichelix-loop-helixfactors(bHLH)\"  \n",
       " [3] \"Basichelix-span-helixfactors(bHSH)\"  \n",
       " [4] \"Basicleucinezipperfactors(bZIP)\"     \n",
       " [5] \"C2CHTHAP-typezincfingerfactors\"      \n",
       " [6] \"C2H2zincfingerfactors\"               \n",
       " [7] \"CRCdomain\"                           \n",
       " [8] \"DM-typeintertwinedzincfingerfactors\" \n",
       " [9] \"Forkhead/wingedhelixfactors\"         \n",
       "[10] \"GCMdomainfactors\"                    \n",
       "[11] \"Grainyheaddomainfactors\"             \n",
       "[12] \"Heatshockfactors\"                    \n",
       "[13] \"HeteromericCCAAT-bindingfactors\"     \n",
       "[14] \"High-mobilitygroup(HMG)domainfactors\"\n",
       "[15] \"Homeodomainfactors\"                  \n",
       "[16] \"MADSboxfactors\"                      \n",
       "[17] \"NuclearreceptorswithC4zincfingers\"   \n",
       "[18] \"OtherC4zincfinger-typefactors\"       \n",
       "[19] \"p53domainfactors\"                    \n",
       "[20] \"Pairedboxfactors\"                    \n",
       "[21] \"Psq-typeHTHdomain\"                   \n",
       "[22] \"Relhomologyregion(RHR)factors\"       \n",
       "[23] \"Runtdomainfactors\"                   \n",
       "[24] \"SANDdomainfactors\"                   \n",
       "[25] \"SMAD/NF-1DNA-bindingdomainfactors\"   \n",
       "[26] \"STATdomainfactors\"                   \n",
       "[27] \"T-Boxfactors\"                        \n",
       "[28] \"TATA-bindingproteins\"                \n",
       "[29] \"TEAdomainfactors\"                    \n",
       "[30] \"Tryptophanclusterfactors\"            "
      ]
     },
     "metadata": {},
     "output_type": "display_data"
    }
   ],
   "source": [
    "tf.class.names <- colnames(tf.motif.class.matrix)\n",
    "tf.class.names"
   ]
  },
  {
   "cell_type": "code",
   "execution_count": 15,
   "metadata": {
    "collapsed": false
   },
   "outputs": [
    {
     "data": {
      "text/html": [
       "<ol class=list-inline>\n",
       "\t<li>510</li>\n",
       "\t<li>31</li>\n",
       "</ol>\n"
      ],
      "text/latex": [
       "\\begin{enumerate*}\n",
       "\\item 510\n",
       "\\item 31\n",
       "\\end{enumerate*}\n"
      ],
      "text/markdown": [
       "1. 510\n",
       "2. 31\n",
       "\n",
       "\n"
      ],
      "text/plain": [
       "[1] 510  31"
      ]
     },
     "metadata": {},
     "output_type": "display_data"
    },
    {
     "data": {
      "text/html": [
       "<ol class=list-inline>\n",
       "\t<li>1136194</li>\n",
       "\t<li>51</li>\n",
       "</ol>\n"
      ],
      "text/latex": [
       "\\begin{enumerate*}\n",
       "\\item 1136194\n",
       "\\item 51\n",
       "\\end{enumerate*}\n"
      ],
      "text/markdown": [
       "1. 1136194\n",
       "2. 51\n",
       "\n",
       "\n"
      ],
      "text/plain": [
       "[1] 1136194      51"
      ]
     },
     "metadata": {},
     "output_type": "display_data"
    }
   ],
   "source": [
    "# merging is a way saner way to... merge dataframes, who knew?\n",
    "tf.motif.class.df <- as.data.frame(tf.motif.class.matrix)\n",
    "tf.motif.class.df$motif <- rownames(tf.motif.class.df)\n",
    "dim(tf.motif.class.df)\n",
    "\n",
    "ft.clean.corymotifs.tfclasses <- merge(ft.clean.corymotifs, tf.motif.class.df, by=\"motif\", all.x=TRUE)\n",
    "dim(ft.clean.corymotifs.tfclasses)"
   ]
  },
  {
   "cell_type": "code",
   "execution_count": 16,
   "metadata": {
    "collapsed": false
   },
   "outputs": [
    {
     "data": {
      "text/html": [],
      "text/latex": [],
      "text/markdown": [],
      "text/plain": [
       "character(0)"
      ]
     },
     "metadata": {},
     "output_type": "display_data"
    }
   ],
   "source": [
    "# check to see if any loc/motifs didn't get a class\n",
    "rownames(ft.clean.corymotifs.tfclasses)[rowSums(ft.clean.corymotifs.tfclasses[,colnames(tf.motif.class.matrix)]) == 0]"
   ]
  },
  {
   "cell_type": "code",
   "execution_count": 17,
   "metadata": {
    "collapsed": false
   },
   "outputs": [
    {
     "data": {
      "text/html": [
       "1136194"
      ],
      "text/latex": [
       "1136194"
      ],
      "text/markdown": [
       "1136194"
      ],
      "text/plain": [
       "[1] 1136194"
      ]
     },
     "metadata": {},
     "output_type": "display_data"
    },
    {
     "data": {
      "text/html": [
       "1139416"
      ],
      "text/latex": [
       "1139416"
      ],
      "text/markdown": [
       "1139416"
      ],
      "text/plain": [
       "[1] 1139416"
      ]
     },
     "metadata": {},
     "output_type": "display_data"
    }
   ],
   "source": [
    "# most entries just have one class\n",
    "dim(ft.clean.corymotifs.tfclasses[,colnames(tf.motif.class.matrix)])[1]\n",
    "sum(ft.clean.corymotifs.tfclasses[,colnames(tf.motif.class.matrix)])"
   ]
  },
  {
   "cell_type": "markdown",
   "metadata": {},
   "source": [
    "## add distance to TSS and GC content as features"
   ]
  },
  {
   "cell_type": "markdown",
   "metadata": {},
   "source": [
    "### check to find optimal window for GC content"
   ]
  },
  {
   "cell_type": "code",
   "execution_count": 18,
   "metadata": {
    "collapsed": false
   },
   "outputs": [],
   "source": [
    "get.gc.content <- function(df, b=50) {\n",
    "    require(GenomicRanges)\n",
    "    \n",
    "    df$center <- round((df$start + df$end)/2)\n",
    "    windows <- getSeq(hg38, \"chr19\", df$center-b, df$center+b)\n",
    "\n",
    "    alph.freq <- alphabetFrequency(windows)\n",
    "    gc.content <- rowSums(alph.freq[,c(\"C\",\"G\")])/(2*b+1)\n",
    "    \n",
    "    return(gc.content)\n",
    "}\n",
    "\n",
    "KL.divergence <- function(df, b=50) {\n",
    "    \n",
    "    require(GenomicRanges)\n",
    "\n",
    "    # p is base measure (true binding sites)\n",
    "    # q is new distribution (false binding sites)\n",
    "\n",
    "    true.pos.df <- df[df$csscore != 0,]\n",
    "    false.pos.df <- df[df$csscore == 0,]\n",
    "\n",
    "    distribution.p <- get.gc.content(true.pos.df, b=b)\n",
    "    distribution.q <- get.gc.content(false.pos.df, b=b)\n",
    "    \n",
    "    breaks <- seq(from=0, to=1, length.out=2*(b+1)+1)\n",
    "\n",
    "    p <- hist(distribution.p, breaks=breaks, plot=FALSE)\n",
    "    p <- p$density/sum(p$density)\n",
    "    \n",
    "    q <- hist(distribution.q, breaks=breaks, plot=FALSE)\n",
    "    q <- q$density/sum(q$density)\n",
    "\n",
    "    # need q=0 => p=0 for KL divergence to be defined\n",
    "    p[q==0] <- 0\n",
    "\n",
    "    pq.ratio <- p/q\n",
    "    \n",
    "    # fix div by zero\n",
    "    pq.ratio[is.na(pq.ratio)] <- 1\n",
    "    \n",
    "    # fix what will be -inf after log\n",
    "    pq.ratio[pq.ratio==0] <- 1\n",
    "    \n",
    "    log.pq.ratio <- log(pq.ratio)\n",
    "    p.log.pq.ratio <- p*log.pq.ratio\n",
    "    KL.pq <- sum(p.log.pq.ratio)\n",
    "    \n",
    "    return(KL.pq)\n",
    "}"
   ]
  },
  {
   "cell_type": "code",
   "execution_count": 19,
   "metadata": {
    "collapsed": true
   },
   "outputs": [],
   "source": [
    "# my.df <- ft.clean.corymotifs.tfclasses\n",
    "\n",
    "# KL.divergence.my.df <- function(b) {\n",
    "#     return(KL.divergence(my.df, b=b))\n",
    "# }"
   ]
  },
  {
   "cell_type": "code",
   "execution_count": 20,
   "metadata": {
    "collapsed": false
   },
   "outputs": [],
   "source": [
    "# bs <- c(1,5,10,25,50,100,250,500,1000,2500,5000,10000)\n",
    "# registerDoMC(cores=length(bs))"
   ]
  },
  {
   "cell_type": "code",
   "execution_count": 21,
   "metadata": {
    "collapsed": false
   },
   "outputs": [],
   "source": [
    "# KL.D.bs <- foreach(n=bs, .combine = c) %dopar% KL.divergence.my.df(n)"
   ]
  },
  {
   "cell_type": "code",
   "execution_count": 22,
   "metadata": {
    "collapsed": false
   },
   "outputs": [],
   "source": [
    "# names(KL.D.bs) <- bs\n",
    "# KL.D.bs"
   ]
  },
  {
   "cell_type": "code",
   "execution_count": 23,
   "metadata": {
    "collapsed": false
   },
   "outputs": [],
   "source": [
    "# bs <- seq(from=50, to=500, length.out = 10+1)\n",
    "# registerDoMC(cores=length(bs))\n",
    "\n",
    "# KL.D.bs <- foreach(n=bs, .combine = c) %dopar% KL.divergence.my.df(n)\n",
    "# names(KL.D.bs) <- bs"
   ]
  },
  {
   "cell_type": "code",
   "execution_count": 24,
   "metadata": {
    "collapsed": false
   },
   "outputs": [],
   "source": [
    "# plot(names(KL.D.bs), KL.D.bs, ylim=c(0,1))\n",
    "# KL.D.bs"
   ]
  },
  {
   "cell_type": "markdown",
   "metadata": {},
   "source": [
    "### looks like window = 100 is pretty good"
   ]
  },
  {
   "cell_type": "code",
   "execution_count": 25,
   "metadata": {
    "collapsed": true
   },
   "outputs": [],
   "source": [
    "gc.content <- get.gc.content(ft.clean.corymotifs.tfclasses, b=100)\n",
    "ft.clean.corymotifs.tfclasses$gc.content <- gc.content"
   ]
  },
  {
   "cell_type": "code",
   "execution_count": 26,
   "metadata": {
    "collapsed": false
   },
   "outputs": [
    {
     "data": {
      "image/png": "[encoded data removed]",
      "text/plain": [
       "Plot with title “Histogram of ft.clean.corymotifs.tfclasses[ft.clean.corymotifs.tfclasses$csscore == 0, ]$gc.content”"
      ]
     },
     "metadata": {},
     "output_type": "display_data"
    }
   ],
   "source": [
    "# Histogram Colored (blue and red)\n",
    "\n",
    "breaks <- seq(from=0, to=1, length.out=(100+1))\n",
    "hist(ft.clean.corymotifs.tfclasses[ft.clean.corymotifs.tfclasses$csscore==0,]$gc.content, \n",
    "     breaks = breaks, freq = FALSE, col=rgb(1,0,0,0.5))\n",
    "hist(ft.clean.corymotifs.tfclasses[ft.clean.corymotifs.tfclasses$csscore!=0,]$gc.content, \n",
    "     breaks = breaks, freq = FALSE, col=rgb(0,0,1,0.5), add=TRUE)\n",
    "box()"
   ]
  },
  {
   "cell_type": "markdown",
   "metadata": {},
   "source": [
    "## add TSS distance as feature"
   ]
  },
  {
   "cell_type": "code",
   "execution_count": 27,
   "metadata": {
    "collapsed": true
   },
   "outputs": [],
   "source": [
    "db.gtf <- dbConnect(PostgreSQL(), user= \"trena\", password=\"trena\", dbname=\"gtf\", host=\"whovian\")\n",
    "query <- \"select * from hg38human where moleculetype='gene' and gene_biotype='protein_coding'\"\n",
    "tss.tbl <- dbGetQuery(db.gtf, query)[, c(\"chr\", \"gene_name\", \"start\", \"endpos\",\"strand\")]\n",
    "\n",
    "tss.start <- vector(mode=\"numeric\", length=nrow(tss.tbl))\n",
    "tss.start[tss.tbl$strand == \"+\"] <- tss.tbl[tss.tbl$strand == \"+\",]$start\n",
    "tss.start[tss.tbl$strand == \"-\"] <- tss.tbl[tss.tbl$strand == \"-\",]$endpos\n",
    "tss.tbl$tss.start <- tss.start\n",
    "tss.tbl <- tss.tbl[,c(\"chr\", \"tss.start\")]"
   ]
  },
  {
   "cell_type": "code",
   "execution_count": 28,
   "metadata": {
    "collapsed": false
   },
   "outputs": [],
   "source": [
    "x <- ft.clean.corymotifs.tfclasses\n",
    "gr.19 <- GRanges(seqnames=\"chr19\", IRanges(start=x$start, end=x$end))\n",
    "tss.gr <- GRanges(seqnames=tss.tbl$chr, IRanges(start=tss.tbl$tss.start, end=tss.tbl$tss.start))\n",
    "dist.to.nearest.tss <- distanceToNearest(gr.19, tss.gr, select=\"arbitrary\")\n",
    "tss.dists <- mcols(dist.to.nearest.tss)[,1]"
   ]
  },
  {
   "cell_type": "code",
   "execution_count": 29,
   "metadata": {
    "collapsed": false
   },
   "outputs": [],
   "source": [
    "ft.clean.corymotifs.tfclasses$log.TSS.dist <- log(tss.dists+1)"
   ]
  },
  {
   "cell_type": "code",
   "execution_count": 30,
   "metadata": {
    "collapsed": false
   },
   "outputs": [
    {
     "data": {
      "image/png": "[encoded data removed]",
      "text/plain": [
       "Plot with title “Histogram of ft.clean.corymotifs.tfclasses[ft.clean.corymotifs.tfclasses$csscore == 0, ]$log.TSS.dist”"
      ]
     },
     "metadata": {},
     "output_type": "display_data"
    }
   ],
   "source": [
    "# Histogram Colored (blue and red)\n",
    "hist(ft.clean.corymotifs.tfclasses[ft.clean.corymotifs.tfclasses$csscore==0,]$log.TSS.dist, \n",
    "     breaks = 100, freq = FALSE, col=rgb(1,0,0,0.5))\n",
    "hist(ft.clean.corymotifs.tfclasses[ft.clean.corymotifs.tfclasses$csscore!=0,]$log.TSS.dist, \n",
    "     breaks = 100, freq = FALSE, col=rgb(0,0,1,0.5), add=TRUE)\n",
    "box()"
   ]
  },
  {
   "cell_type": "markdown",
   "metadata": {},
   "source": [
    "## Split data into different sets"
   ]
  },
  {
   "cell_type": "code",
   "execution_count": 31,
   "metadata": {
    "collapsed": false
   },
   "outputs": [
    {
     "name": "stderr",
     "output_type": "stream",
     "text": [
      "Loading required package: tibble\n"
     ]
    }
   ],
   "source": [
    "# split into test, train, validation dfs for both\n",
    "# independent classifier (ic) and ensemble classifier(ec) work\n",
    "# ic and ec are on different halfs of the chromasome, so no potential for overlap\n",
    "\n",
    "halves.list <- split.halves.physically(ft.clean.corymotifs.tfclasses)\n",
    "\n",
    "first.half.df <- halves.list$first.half\n",
    "second.half.df <- halves.list$second.half"
   ]
  },
  {
   "cell_type": "code",
   "execution_count": 32,
   "metadata": {
    "collapsed": true
   },
   "outputs": [],
   "source": [
    "first.half.train.test.valid.list <- split.test.train.valid.physically(first.half.df, reverse.order = TRUE)\n",
    "second.half.train.test.valid.list <- split.test.train.valid.physically(second.half.df, reverse.order = FALSE)\n",
    "\n",
    "first.half.train.df <- first.half.train.test.valid.list$train\n",
    "first.half.test.df <- first.half.train.test.valid.list$test\n",
    "first.half.valid.df <- first.half.train.test.valid.list$valid\n",
    "\n",
    "second.half.train.df <- second.half.train.test.valid.list$train\n",
    "second.half.test.df <- second.half.train.test.valid.list$test\n",
    "second.half.valid.df <- second.half.train.test.valid.list$valid"
   ]
  },
  {
   "cell_type": "code",
   "execution_count": 33,
   "metadata": {
    "collapsed": false
   },
   "outputs": [
    {
     "data": {
      "text/html": [
       "1136194"
      ],
      "text/latex": [
       "1136194"
      ],
      "text/markdown": [
       "1136194"
      ],
      "text/plain": [
       "[1] 1136194"
      ]
     },
     "metadata": {},
     "output_type": "display_data"
    },
    {
     "data": {
      "text/html": [
       "585747"
      ],
      "text/latex": [
       "585747"
      ],
      "text/markdown": [
       "585747"
      ],
      "text/plain": [
       "[1] 585747"
      ]
     },
     "metadata": {},
     "output_type": "display_data"
    },
    {
     "data": {
      "text/html": [
       "550447"
      ],
      "text/latex": [
       "550447"
      ],
      "text/markdown": [
       "550447"
      ],
      "text/plain": [
       "[1] 550447"
      ]
     },
     "metadata": {},
     "output_type": "display_data"
    }
   ],
   "source": [
    "nrow(first.half.df) + nrow(second.half.df)\n",
    "\n",
    "nrow(first.half.train.df) + nrow(first.half.test.df) + nrow(first.half.valid.df)\n",
    "nrow(second.half.train.df) + nrow(second.half.test.df) + nrow(second.half.valid.df)"
   ]
  },
  {
   "cell_type": "code",
   "execution_count": 34,
   "metadata": {
    "collapsed": false
   },
   "outputs": [],
   "source": [
    "# can't just split on loc, need to sort on loc and then split by quantile...\n",
    "# no need for new computations, can just sort on start colunn then split\n",
    "\n",
    "tmp.first.half.train.df <- first.half.train.df\n",
    "tmp.first.half.test.df <- first.half.test.df\n",
    "tmp.first.half.valid.df <- first.half.valid.df\n",
    "tmp.second.half.train.df <- second.half.train.df\n",
    "tmp.second.half.test.df <- second.half.test.df\n",
    "tmp.second.half.valid.df <- second.half.valid.df\n",
    "\n",
    "tmp.first.half.train.df$type <- \"f.train\"\n",
    "tmp.first.half.test.df$type <- \"f.test\"\n",
    "tmp.first.half.valid.df$type <- \"f.valid\"\n",
    "tmp.second.half.train.df$type <- \"s.train\"\n",
    "tmp.second.half.test.df$type <- \"s.test\"\n",
    "tmp.second.half.valid.df$type <- \"s.valid\"\n",
    "\n",
    "tot.df <- rbind(\n",
    "    tmp.first.half.train.df,\n",
    "    tmp.first.half.test.df,\n",
    "    tmp.first.half.valid.df,\n",
    "    tmp.second.half.train.df,\n",
    "    tmp.second.half.test.df,\n",
    "    tmp.second.half.valid.df)\n",
    "\n",
    "# mean(first.half.train.df$csscore > 0)\n",
    "# mean(first.half.test.df$csscore > 0)\n",
    "# mean(first.half.valid.df$csscore > 0)\n",
    "# mean(second.half.train.df$csscore > 0)\n",
    "# mean(second.half.test.df$csscore > 0)\n",
    "# mean(second.half.valid.df$csscore > 0)"
   ]
  },
  {
   "cell_type": "code",
   "execution_count": 35,
   "metadata": {
    "collapsed": false
   },
   "outputs": [],
   "source": [
    "p <- ggplot(tot.df) +\n",
    "    geom_histogram(aes(x=start, fill=type), bins=1000) +\n",
    "    theme_minimal()"
   ]
  },
  {
   "cell_type": "code",
   "execution_count": 36,
   "metadata": {
    "collapsed": false
   },
   "outputs": [
    {
     "data": {},
     "metadata": {},
     "output_type": "display_data"
    },
    {
     "data": {
      "image/png": "[encoded data removed]",
      "text/plain": [
       "plot without title"
      ]
     },
     "metadata": {},
     "output_type": "display_data"
    }
   ],
   "source": [
    "p"
   ]
  },
  {
   "cell_type": "code",
   "execution_count": 38,
   "metadata": {
    "collapsed": false
   },
   "outputs": [],
   "source": [
    "all.clean.df <- ft.clean.corymotifs.tfclasses\n",
    "\n",
    "old.all.clean.df <- all.clean.df\n",
    "save(old.all.clean.df,\n",
    "#      first.half.train.df,\n",
    "#      first.half.test.df,\n",
    "#      first.half.valid.df,\n",
    "#      second.half.train.df,\n",
    "#      second.half.test.df,\n",
    "#      second.half.valid.df,\n",
    "     tf.class.names,\n",
    "     file=\"old_train_test_valid_data_sets.Rdata\")"
   ]
  },
  {
   "cell_type": "code",
   "execution_count": 6,
   "metadata": {
    "collapsed": false
   },
   "outputs": [],
   "source": [
    "load(\"~/git-repos/BDDS/trenadb/featureTable/lymphoblast/featureTableLymphoblast-chr19-entire.RData\")\n",
    "write.table(unique(tbl$csTF), file='tflist.txt', row.names = FALSE, quote = FALSE)"
   ]
  },
  {
   "cell_type": "code",
   "execution_count": 9,
   "metadata": {
    "collapsed": false
   },
   "outputs": [
    {
     "data": {
      "text/html": [
       "<strong>MEF2C:</strong> 308"
      ],
      "text/latex": [
       "\\textbf{MEF2C:} 308"
      ],
      "text/markdown": [
       "**MEF2C:** 308"
      ],
      "text/plain": [
       "MEF2C \n",
       "  308 "
      ]
     },
     "metadata": {},
     "output_type": "display_data"
    }
   ],
   "source": [
    "table(tbl$csTF)[\"MEF2C\"]"
   ]
  },
  {
   "cell_type": "code",
   "execution_count": null,
   "metadata": {
    "collapsed": true
   },
   "outputs": [],
   "source": []
  }
 ],
 "metadata": {
  "anaconda-cloud": {},
  "kernelspec": {
   "display_name": "R",
   "language": "R",
   "name": "ir"
  },
  "language_info": {
   "codemirror_mode": "r",
   "file_extension": ".r",
   "mimetype": "text/x-r-source",
   "name": "R",
   "pygments_lexer": "r",
   "version": "3.3.1"
  }
 },
 "nbformat": 4,
 "nbformat_minor": 0
}
