{
 "cells": [
  {
   "cell_type": "code",
   "execution_count": null,
   "metadata": {
    "collapsed": false
   },
   "outputs": [],
   "source": [
    "libs <- c(\n",
    "    'RColorBrewer',\n",
    "    'ggplot2',\n",
    "    'xgboost',\n",
    "    'glmnet',\n",
    "    'dplyr',\n",
    "    'tidyr',\n",
    "    'pROC',\n",
    "    'ROCR',\n",
    "    'stringr',\n",
    "    'caret',\n",
    "    'caTools'\n",
    ")\n",
    "\n",
    "for (lib in libs) {\n",
    "        if (!require(lib, character.only = TRUE, quietly = TRUE)) {\n",
    "            install.packages(lib, repos='http://cran.us.r-project.org')\n",
    "        }\n",
    "}\n",
    "\n",
    "(.packages())\n",
    "\n",
    "source(\"my_R_functions/utility_functions.R\")\n",
    "source(\"my_R_functions/stat_functions.R\")\n",
    "source(\"my_R_functions/plot_functions.R\")\n",
    "source(\"~/git-repos/BDDS/trenadb/src/utils.R\")\n",
    "source(\"~/git-repos/BDDS/footprints/testdb/src/dbFunctions.R\")"
   ]
  },
  {
   "cell_type": "code",
   "execution_count": 2,
   "metadata": {
    "collapsed": true
   },
   "outputs": [],
   "source": [
    "gbdt <- xgb.load(\"saved_models/xgboost_TF_site_predict.model\")"
   ]
  },
  {
   "cell_type": "code",
   "execution_count": 3,
   "metadata": {
    "collapsed": true
   },
   "outputs": [],
   "source": [
    "load(\"Rdata_files/motif_class_pairs.Rdata\")\n",
    "load(\"/local/rory/all.TF.df.fimo.hint.well.annotated.9.Rdata\")"
   ]
  },
  {
   "cell_type": "code",
   "execution_count": 4,
   "metadata": {
    "collapsed": true
   },
   "outputs": [],
   "source": [
    "cols_to_drop <- c('motifname', 'chrom', 'start', 'endpos', 'strand', 'pval', 'sequence')"
   ]
  },
  {
   "cell_type": "code",
   "execution_count": 6,
   "metadata": {
    "collapsed": false
   },
   "outputs": [],
   "source": [
    "colnames(all.TF.df.fimo.hint.well.annotated) <- make.names(colnames(all.TF.df.fimo.hint.well.annotated), unique=TRUE)\n",
    "\n",
    "all.TF.df.fimo.hint.well.annotated %>%\n",
    "    filter(h_frac > 0 | w_frac > 0 | cs_hit > 0) ->\n",
    "    df_only_footprint_hits"
   ]
  },
  {
   "cell_type": "code",
   "execution_count": 7,
   "metadata": {
    "collapsed": false
   },
   "outputs": [],
   "source": [
    "df_only_footprint_hits %>%\n",
    "    filter(chrom %in% c(\"2\",\"4\")) %>%\n",
    "    select(-one_of(cols_to_drop)) ->\n",
    "    val_df\n",
    "\n",
    "val_df %>% \n",
    "    select(-cs_hit) %>%\n",
    "    as.matrix ->\n",
    "    X_val\n",
    "\n",
    "val_df %>% \n",
    "    select(cs_hit) %>%\n",
    "    as.matrix ->\n",
    "    y_val\n",
    "\n",
    "remove(all.TF.df.fimo.hint.well.annotated, df_only_footprint_hits, val_df)"
   ]
  },
  {
   "cell_type": "code",
   "execution_count": 8,
   "metadata": {
    "collapsed": false
   },
   "outputs": [
    {
     "data": {
      "text/html": [
       "<ol class=list-inline>\n",
       "\t<li>'motifscore'</li>\n",
       "\t<li>'h_max_score'</li>\n",
       "\t<li>'w_min_score'</li>\n",
       "\t<li>'h_frac'</li>\n",
       "\t<li>'w_frac'</li>\n",
       "\t<li>'gc_content'</li>\n",
       "\t<li>'asinh_tss_dist'</li>\n",
       "\t<li>'Basic.helix.loop.helix.factors..bHLH.'</li>\n",
       "\t<li>'Basic.leucine.zipper.factors..bZIP.'</li>\n",
       "\t<li>'C2H2.zinc.finger.factors'</li>\n",
       "\t<li>'Fork.head...winged.helix.factors'</li>\n",
       "\t<li>'Heteromeric.CCAAT.binding.factors'</li>\n",
       "\t<li>'High.mobility.group..HMG..domain.factors'</li>\n",
       "\t<li>'Homeo.domain.factors'</li>\n",
       "\t<li>'MADS.box.factors'</li>\n",
       "\t<li>'Nuclear.receptors.with.C4.zinc.fingers'</li>\n",
       "\t<li>'Other.C4.zinc.finger.type.factors'</li>\n",
       "\t<li>'Paired.box.factors'</li>\n",
       "\t<li>'Rel.homology.region..RHR..factors'</li>\n",
       "\t<li>'Runt.domain.factors'</li>\n",
       "\t<li>'SMAD.NF.1.DNA.binding.domain.factors'</li>\n",
       "\t<li>'STAT.domain.factors'</li>\n",
       "\t<li>'TATA.binding.proteins'</li>\n",
       "\t<li>'Tryptophan.cluster.factors'</li>\n",
       "</ol>\n"
      ],
      "text/latex": [
       "\\begin{enumerate*}\n",
       "\\item 'motifscore'\n",
       "\\item 'h\\_max\\_score'\n",
       "\\item 'w\\_min\\_score'\n",
       "\\item 'h\\_frac'\n",
       "\\item 'w\\_frac'\n",
       "\\item 'gc\\_content'\n",
       "\\item 'asinh\\_tss\\_dist'\n",
       "\\item 'Basic.helix.loop.helix.factors..bHLH.'\n",
       "\\item 'Basic.leucine.zipper.factors..bZIP.'\n",
       "\\item 'C2H2.zinc.finger.factors'\n",
       "\\item 'Fork.head...winged.helix.factors'\n",
       "\\item 'Heteromeric.CCAAT.binding.factors'\n",
       "\\item 'High.mobility.group..HMG..domain.factors'\n",
       "\\item 'Homeo.domain.factors'\n",
       "\\item 'MADS.box.factors'\n",
       "\\item 'Nuclear.receptors.with.C4.zinc.fingers'\n",
       "\\item 'Other.C4.zinc.finger.type.factors'\n",
       "\\item 'Paired.box.factors'\n",
       "\\item 'Rel.homology.region..RHR..factors'\n",
       "\\item 'Runt.domain.factors'\n",
       "\\item 'SMAD.NF.1.DNA.binding.domain.factors'\n",
       "\\item 'STAT.domain.factors'\n",
       "\\item 'TATA.binding.proteins'\n",
       "\\item 'Tryptophan.cluster.factors'\n",
       "\\end{enumerate*}\n"
      ],
      "text/markdown": [
       "1. 'motifscore'\n",
       "2. 'h_max_score'\n",
       "3. 'w_min_score'\n",
       "4. 'h_frac'\n",
       "5. 'w_frac'\n",
       "6. 'gc_content'\n",
       "7. 'asinh_tss_dist'\n",
       "8. 'Basic.helix.loop.helix.factors..bHLH.'\n",
       "9. 'Basic.leucine.zipper.factors..bZIP.'\n",
       "10. 'C2H2.zinc.finger.factors'\n",
       "11. 'Fork.head...winged.helix.factors'\n",
       "12. 'Heteromeric.CCAAT.binding.factors'\n",
       "13. 'High.mobility.group..HMG..domain.factors'\n",
       "14. 'Homeo.domain.factors'\n",
       "15. 'MADS.box.factors'\n",
       "16. 'Nuclear.receptors.with.C4.zinc.fingers'\n",
       "17. 'Other.C4.zinc.finger.type.factors'\n",
       "18. 'Paired.box.factors'\n",
       "19. 'Rel.homology.region..RHR..factors'\n",
       "20. 'Runt.domain.factors'\n",
       "21. 'SMAD.NF.1.DNA.binding.domain.factors'\n",
       "22. 'STAT.domain.factors'\n",
       "23. 'TATA.binding.proteins'\n",
       "24. 'Tryptophan.cluster.factors'\n",
       "\n",
       "\n"
      ],
      "text/plain": [
       " [1] \"motifscore\"                              \n",
       " [2] \"h_max_score\"                             \n",
       " [3] \"w_min_score\"                             \n",
       " [4] \"h_frac\"                                  \n",
       " [5] \"w_frac\"                                  \n",
       " [6] \"gc_content\"                              \n",
       " [7] \"asinh_tss_dist\"                          \n",
       " [8] \"Basic.helix.loop.helix.factors..bHLH.\"   \n",
       " [9] \"Basic.leucine.zipper.factors..bZIP.\"     \n",
       "[10] \"C2H2.zinc.finger.factors\"                \n",
       "[11] \"Fork.head...winged.helix.factors\"        \n",
       "[12] \"Heteromeric.CCAAT.binding.factors\"       \n",
       "[13] \"High.mobility.group..HMG..domain.factors\"\n",
       "[14] \"Homeo.domain.factors\"                    \n",
       "[15] \"MADS.box.factors\"                        \n",
       "[16] \"Nuclear.receptors.with.C4.zinc.fingers\"  \n",
       "[17] \"Other.C4.zinc.finger.type.factors\"       \n",
       "[18] \"Paired.box.factors\"                      \n",
       "[19] \"Rel.homology.region..RHR..factors\"       \n",
       "[20] \"Runt.domain.factors\"                     \n",
       "[21] \"SMAD.NF.1.DNA.binding.domain.factors\"    \n",
       "[22] \"STAT.domain.factors\"                     \n",
       "[23] \"TATA.binding.proteins\"                   \n",
       "[24] \"Tryptophan.cluster.factors\"              "
      ]
     },
     "metadata": {},
     "output_type": "display_data"
    }
   ],
   "source": [
    "colnames(X_val)"
   ]
  },
  {
   "cell_type": "code",
   "execution_count": 9,
   "metadata": {
    "collapsed": false
   },
   "outputs": [],
   "source": [
    "medium_pred_df <- make.pred.df.from.model(gbdt, X_val, y_val)\n",
    "colnames(medium_pred_df)[1] <- \"ChIPseq.bound\"\n",
    "medium_stat_df <- make.stats.df.from.preds(medium_pred_df)"
   ]
  },
  {
   "cell_type": "code",
   "execution_count": 14,
   "metadata": {
    "collapsed": false
   },
   "outputs": [
    {
     "data": {
      "text/html": [
       "<table>\n",
       "<thead><tr><th></th><th scope=col>threshold</th><th scope=col>sensitivity</th><th scope=col>specificity</th><th scope=col>ppv</th><th scope=col>npv</th><th scope=col>accuracy</th><th scope=col>MattCC</th></tr></thead>\n",
       "<tbody>\n",
       "\t<tr><th scope=row>0</th><td>0.00     </td><td>1        </td><td>0        </td><td>0.5719419</td><td>NaN      </td><td>0.5719419</td><td>0        </td></tr>\n",
       "\t<tr><th scope=row>0.01</th><td>0.01     </td><td>1        </td><td>0        </td><td>0.5719419</td><td>NaN      </td><td>0.5719419</td><td>0        </td></tr>\n",
       "\t<tr><th scope=row>0.02</th><td>0.02     </td><td>1        </td><td>0        </td><td>0.5719419</td><td>NaN      </td><td>0.5719419</td><td>0        </td></tr>\n",
       "\t<tr><th scope=row>0.03</th><td>0.03     </td><td>1        </td><td>0        </td><td>0.5719419</td><td>NaN      </td><td>0.5719419</td><td>0        </td></tr>\n",
       "\t<tr><th scope=row>0.04</th><td>0.04     </td><td>1        </td><td>0        </td><td>0.5719419</td><td>NaN      </td><td>0.5719419</td><td>0        </td></tr>\n",
       "\t<tr><th scope=row>0.05</th><td>0.05     </td><td>1        </td><td>0        </td><td>0.5719419</td><td>NaN      </td><td>0.5719419</td><td>0        </td></tr>\n",
       "</tbody>\n",
       "</table>\n"
      ],
      "text/latex": [
       "\\begin{tabular}{r|lllllll}\n",
       "  & threshold & sensitivity & specificity & ppv & npv & accuracy & MattCC\\\\\n",
       "\\hline\n",
       "\t0 & 0.00      & 1         & 0         & 0.5719419 & NaN       & 0.5719419 & 0        \\\\\n",
       "\t0.01 & 0.01      & 1         & 0         & 0.5719419 & NaN       & 0.5719419 & 0        \\\\\n",
       "\t0.02 & 0.02      & 1         & 0         & 0.5719419 & NaN       & 0.5719419 & 0        \\\\\n",
       "\t0.03 & 0.03      & 1         & 0         & 0.5719419 & NaN       & 0.5719419 & 0        \\\\\n",
       "\t0.04 & 0.04      & 1         & 0         & 0.5719419 & NaN       & 0.5719419 & 0        \\\\\n",
       "\t0.05 & 0.05      & 1         & 0         & 0.5719419 & NaN       & 0.5719419 & 0        \\\\\n",
       "\\end{tabular}\n"
      ],
      "text/markdown": [
       "\n",
       "| <!--/--> | threshold | sensitivity | specificity | ppv | npv | accuracy | MattCC | \n",
       "|---|---|---|---|---|---|\n",
       "| 0 | 0.00      | 1         | 0         | 0.5719419 | NaN       | 0.5719419 | 0         | \n",
       "| 0.01 | 0.01      | 1         | 0         | 0.5719419 | NaN       | 0.5719419 | 0         | \n",
       "| 0.02 | 0.02      | 1         | 0         | 0.5719419 | NaN       | 0.5719419 | 0         | \n",
       "| 0.03 | 0.03      | 1         | 0         | 0.5719419 | NaN       | 0.5719419 | 0         | \n",
       "| 0.04 | 0.04      | 1         | 0         | 0.5719419 | NaN       | 0.5719419 | 0         | \n",
       "| 0.05 | 0.05      | 1         | 0         | 0.5719419 | NaN       | 0.5719419 | 0         | \n",
       "\n",
       "\n"
      ],
      "text/plain": [
       "     threshold sensitivity specificity ppv       npv accuracy  MattCC\n",
       "0    0.00      1           0           0.5719419 NaN 0.5719419 0     \n",
       "0.01 0.01      1           0           0.5719419 NaN 0.5719419 0     \n",
       "0.02 0.02      1           0           0.5719419 NaN 0.5719419 0     \n",
       "0.03 0.03      1           0           0.5719419 NaN 0.5719419 0     \n",
       "0.04 0.04      1           0           0.5719419 NaN 0.5719419 0     \n",
       "0.05 0.05      1           0           0.5719419 NaN 0.5719419 0     "
      ]
     },
     "metadata": {},
     "output_type": "display_data"
    }
   ],
   "source": [
    "medium_stat_df %>% head"
   ]
  },
  {
   "cell_type": "code",
   "execution_count": 17,
   "metadata": {
    "collapsed": false
   },
   "outputs": [
    {
     "data": {
      "image/png": "[encoded data removed]",
      "text/plain": [
       "plot without title"
      ]
     },
     "metadata": {},
     "output_type": "display_data"
    }
   ],
   "source": [
    "plot(medium_stat_df$threshold,medium_stat_df$MattCC)"
   ]
  },
  {
   "cell_type": "code",
   "execution_count": null,
   "metadata": {
    "collapsed": true
   },
   "outputs": [],
   "source": []
  }
 ],
 "metadata": {
  "kernelspec": {
   "display_name": "R",
   "language": "R",
   "name": "ir"
  },
  "language_info": {
   "codemirror_mode": "r",
   "file_extension": ".r",
   "mimetype": "text/x-r-source",
   "name": "R",
   "pygments_lexer": "r",
   "version": "3.3.1"
  }
 },
 "nbformat": 4,
 "nbformat_minor": 0
}
