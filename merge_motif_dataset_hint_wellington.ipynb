{
 "cells": [
  {
   "cell_type": "code",
   "execution_count": null,
   "metadata": {
    "collapsed": false
   },
   "outputs": [],
   "source": [
    "libs <- c(\n",
    "    'dplyr',\n",
    "    'tidyr',\n",
    "    'stringr',\n",
    "    'ggplot2',\n",
    "    'GenomicRanges',\n",
    "    'RPostgreSQL',\n",
    "    'doMC',\n",
    "    'numbers',\n",
    "    'doParallel'\n",
    ")\n",
    "\n",
    "for (lib in libs) {\n",
    "        if (!require(lib, character.only = TRUE, quietly = TRUE)) {\n",
    "            install.packages(lib, repos='http://cran.us.r-project.org')\n",
    "        }\n",
    "}\n",
    "\n",
    "library(BSgenome.Hsapiens.UCSC.hg38)\n",
    "hg38 = BSgenome.Hsapiens.UCSC.hg38\n",
    "\n",
    "source(\"utility_functions.R\")\n",
    "source(\"stat_functions.R\")\n",
    "source(\"plot_functions.R\")\n",
    "source(\"~/git-repos/BDDS/trenadb/src/utils.R\")\n",
    "source(\"~/git-repos/BDDS/footprints/testdb/src/dbFunctions.R\")"
   ]
  },
  {
   "cell_type": "code",
   "execution_count": null,
   "metadata": {
    "collapsed": true
   },
   "outputs": [],
   "source": [
    "load(\"/local/rory/all.TF.fimo.samples.ratio.49.df.RData\")"
   ]
  },
  {
   "cell_type": "code",
   "execution_count": null,
   "metadata": {
    "collapsed": true
   },
   "outputs": [],
   "source": [
    "db_lymph_hint <- src_postgres(drv=dbDriver(\"PostgreSQL\"),\n",
    "                              user=\"trena\",\n",
    "                              password=\"trena\",\n",
    "                              dbname=\"lymphoblast_hint\",\n",
    "                              host=\"whovian\",\n",
    "                              port=\"5432\")\n",
    "db_lymph_well <- src_postgres(drv=dbDriver(\"PostgreSQL\"),\n",
    "                              user=\"trena\",\n",
    "                              password=\"trena\",\n",
    "                              dbname=\"lymphoblast_wellington\",\n",
    "                              host=\"whovian\",\n",
    "                              port=\"5432\")\n",
    "hint_regions <- tbl(db_lymph_hint, \"regions\")\n",
    "hint_hits    <- tbl(db_lymph_hint, \"hits\")\n",
    "well_regions <- tbl(db_lymph_well, \"regions\")\n",
    "well_hits    <- tbl(db_lymph_well, \"hits\")"
   ]
  },
  {
   "cell_type": "markdown",
   "metadata": {},
   "source": [
    "## function to loop over all chromosomes"
   ]
  },
  {
   "cell_type": "code",
   "execution_count": null,
   "metadata": {
    "collapsed": true
   },
   "outputs": [],
   "source": [
    "merge_fimo_hint_wellington_one_chrom <- function(chrom_str,\n",
    "                                                 fimo_tbl,\n",
    "                                                 hint_regions_tbl,\n",
    "                                                 hint_hits_tbl,\n",
    "                                                 well_regions_tbl,\n",
    "                                                 well_hits_tbl\n",
    "                                                ) {\n",
    "    \n",
    "    # some tables use chr22 and some just use 22\n",
    "    chrom_long_str = paste(\"chr\",chrom_str, sep=\"\")\n",
    "    \n",
    "    # select one chromosome from my data table\n",
    "    fimo_tbl %>%\n",
    "    filter(chrom==chrom_str) %>%\n",
    "    select(-empty) ->\n",
    "    chrom_all_tf_df\n",
    "    \n",
    "    # select one chromosome from hint\n",
    "    hint_regions_tbl %>%\n",
    "    filter(chrom==chrom_long_str) %>%\n",
    "    left_join(hint_hits_tbl, by=\"loc\") %>%\n",
    "    as.data.frame %>%\n",
    "    as.tbl %>%\n",
    "    select(start, endpos, strand, name, score1) %>%\n",
    "    rename(\"score1\"=\"h_score\") ->\n",
    "    chrom_hint_all_tbl\n",
    "\n",
    "    # select one chromosome from wellington\n",
    "    well_regions_tbl %>%\n",
    "    filter(chrom==chrom_long_str) %>%\n",
    "    left_join(well_hits_tbl, by=\"loc\") %>%\n",
    "    as.data.frame %>%\n",
    "    as.tbl %>%\n",
    "    select(start, endpos, strand, name, score1) %>%\n",
    "    rename(\"score1\"=\"w_score\") ->\n",
    "    chrom_well_all_tbl\n",
    "    \n",
    "    # keep only max hint score but count total nontrivial scores\n",
    "    chrom_hint_all_tbl %>%\n",
    "    group_by(start, endpos, name, strand) %>%\n",
    "    mutate(h_count = n()) %>%\n",
    "    group_by(start, endpos, name, strand) %>%\n",
    "    mutate(h_max_score = max(h_score)) %>%\n",
    "    distinct(start, endpos, name, strand, .keep_all = TRUE) %>%\n",
    "    select(-h_score) ->\n",
    "    chrom_hint_unique_tbl\n",
    "\n",
    "    # keep only min wellington score but count total nontrivial scores\n",
    "    chrom_well_all_tbl %>%\n",
    "    group_by(start, endpos, name, strand) %>%\n",
    "    mutate(w_count = n()) %>%\n",
    "    group_by(start, endpos, name, strand) %>%\n",
    "    mutate(w_min_score = min(w_score)) %>%\n",
    "    distinct(start, endpos, name, strand, .keep_all = TRUE) %>%\n",
    "    select(-w_score) ->\n",
    "    chrom_well_unique_tbl\n",
    "    \n",
    "    # merge hint and wellington into my table\n",
    "    chrom_all_tf_df %>%\n",
    "    left_join(chrom_hint_unique_tbl, by=c(\"start\", \"endpos\", \"strand\", \"motifname\"=\"name\")) %>%\n",
    "    left_join(chrom_well_unique_tbl, by=c(\"start\", \"endpos\", \"strand\", \"motifname\"=\"name\")) %>%\n",
    "    replace_na(list(h_count=0, w_count=0, h_max_score=0, w_min_score=0)) ->\n",
    "    chrom_all_tf_df_merged\n",
    "    \n",
    "    return(chrom_all_tf_df_merged)\n",
    "    \n",
    "}"
   ]
  },
  {
   "cell_type": "markdown",
   "metadata": {},
   "source": [
    "## Perform loop over all chromosomes"
   ]
  },
  {
   "cell_type": "code",
   "execution_count": null,
   "metadata": {
    "collapsed": false
   },
   "outputs": [],
   "source": [
    "big_df <- tibble()\n",
    "\n",
    "for (chr_str in as.character(1:22)) {\n",
    "    message(paste(\"working on chromosome\",chr_str))\n",
    "    \n",
    "    df <- merge_fimo_hint_wellington_one_chrom(chr_str,\n",
    "                                               all.TF.df,\n",
    "                                               hint_regions,\n",
    "                                               hint_hits,\n",
    "                                               well_regions,\n",
    "                                               well_hits)\n",
    "    big_df <- rbind(big_df, df)\n",
    "}"
   ]
  },
  {
   "cell_type": "code",
   "execution_count": null,
   "metadata": {
    "collapsed": false
   },
   "outputs": [],
   "source": [
    "str(big_df)"
   ]
  },
  {
   "cell_type": "markdown",
   "metadata": {},
   "source": [
    "## Rename and save"
   ]
  },
  {
   "cell_type": "code",
   "execution_count": null,
   "metadata": {
    "collapsed": true
   },
   "outputs": [],
   "source": [
    "all.TF.df.fimo.hint.well <- big_df\n",
    "save(all.TF.df.fimo.hint.well, file=\"/local/rory/all.TF.df.fimo.hint.well.49.Rdata\")"
   ]
  },
  {
   "cell_type": "markdown",
   "metadata": {},
   "source": [
    "## Explore data"
   ]
  },
  {
   "cell_type": "code",
   "execution_count": null,
   "metadata": {
    "collapsed": false
   },
   "outputs": [],
   "source": [
    "all.TF.df.fimo.hint.well %>%\n",
    "ggplot +\n",
    "geom_freqpoly(aes(x=asinh(w_min_score), y= ..density.., color=factor(cs_hit))) +\n",
    "theme_minimal()\n",
    "\n",
    "all.TF.df.fimo.hint.well %>%\n",
    "ggplot +\n",
    "geom_freqpoly(aes(x=asinh(h_max_score), y= ..density.., color=factor(cs_hit))) +\n",
    "theme_minimal()\n",
    "\n",
    "all.TF.df.fimo.hint.well %>%\n",
    "ggplot +\n",
    "geom_point(\n",
    "    aes(x=asinh(h_max_score),\n",
    "        y=asinh(w_min_score),\n",
    "        color=factor(cs_hit)),\n",
    "    alpha=0.05) +\n",
    "theme_minimal()"
   ]
  },
  {
   "cell_type": "code",
   "execution_count": null,
   "metadata": {
    "collapsed": true
   },
   "outputs": [],
   "source": []
  }
 ],
 "metadata": {
  "anaconda-cloud": {},
  "kernelspec": {
   "display_name": "R",
   "language": "R",
   "name": "ir"
  },
  "language_info": {
   "codemirror_mode": "r",
   "file_extension": ".r",
   "mimetype": "text/x-r-source",
   "name": "R",
   "pygments_lexer": "r",
   "version": "3.3.1"
  }
 },
 "nbformat": 4,
 "nbformat_minor": 0
}
