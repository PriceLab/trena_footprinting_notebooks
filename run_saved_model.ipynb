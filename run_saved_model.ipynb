{
 "cells": [
  {
   "cell_type": "code",
   "execution_count": 2,
   "metadata": {},
   "outputs": [
    {
     "data": {
      "text/html": [
       "<ol class=list-inline>\n",
       "\t<li>'RUnit'</li>\n",
       "\t<li>'GenomicRanges'</li>\n",
       "\t<li>'GenomeInfoDb'</li>\n",
       "\t<li>'IRanges'</li>\n",
       "\t<li>'S4Vectors'</li>\n",
       "\t<li>'BiocGenerics'</li>\n",
       "\t<li>'parallel'</li>\n",
       "\t<li>'stats4'</li>\n",
       "\t<li>'RPostgreSQL'</li>\n",
       "\t<li>'DBI'</li>\n",
       "\t<li>'caTools'</li>\n",
       "\t<li>'caret'</li>\n",
       "\t<li>'lattice'</li>\n",
       "\t<li>'stringr'</li>\n",
       "\t<li>'ROCR'</li>\n",
       "\t<li>'gplots'</li>\n",
       "\t<li>'pROC'</li>\n",
       "\t<li>'tidyr'</li>\n",
       "\t<li>'dplyr'</li>\n",
       "\t<li>'glmnet'</li>\n",
       "\t<li>'foreach'</li>\n",
       "\t<li>'Matrix'</li>\n",
       "\t<li>'xgboost'</li>\n",
       "\t<li>'ggplot2'</li>\n",
       "\t<li>'RColorBrewer'</li>\n",
       "\t<li>'stats'</li>\n",
       "\t<li>'graphics'</li>\n",
       "\t<li>'grDevices'</li>\n",
       "\t<li>'utils'</li>\n",
       "\t<li>'datasets'</li>\n",
       "\t<li>'methods'</li>\n",
       "\t<li>'base'</li>\n",
       "</ol>\n"
      ],
      "text/latex": [
       "\\begin{enumerate*}\n",
       "\\item 'RUnit'\n",
       "\\item 'GenomicRanges'\n",
       "\\item 'GenomeInfoDb'\n",
       "\\item 'IRanges'\n",
       "\\item 'S4Vectors'\n",
       "\\item 'BiocGenerics'\n",
       "\\item 'parallel'\n",
       "\\item 'stats4'\n",
       "\\item 'RPostgreSQL'\n",
       "\\item 'DBI'\n",
       "\\item 'caTools'\n",
       "\\item 'caret'\n",
       "\\item 'lattice'\n",
       "\\item 'stringr'\n",
       "\\item 'ROCR'\n",
       "\\item 'gplots'\n",
       "\\item 'pROC'\n",
       "\\item 'tidyr'\n",
       "\\item 'dplyr'\n",
       "\\item 'glmnet'\n",
       "\\item 'foreach'\n",
       "\\item 'Matrix'\n",
       "\\item 'xgboost'\n",
       "\\item 'ggplot2'\n",
       "\\item 'RColorBrewer'\n",
       "\\item 'stats'\n",
       "\\item 'graphics'\n",
       "\\item 'grDevices'\n",
       "\\item 'utils'\n",
       "\\item 'datasets'\n",
       "\\item 'methods'\n",
       "\\item 'base'\n",
       "\\end{enumerate*}\n"
      ],
      "text/markdown": [
       "1. 'RUnit'\n",
       "2. 'GenomicRanges'\n",
       "3. 'GenomeInfoDb'\n",
       "4. 'IRanges'\n",
       "5. 'S4Vectors'\n",
       "6. 'BiocGenerics'\n",
       "7. 'parallel'\n",
       "8. 'stats4'\n",
       "9. 'RPostgreSQL'\n",
       "10. 'DBI'\n",
       "11. 'caTools'\n",
       "12. 'caret'\n",
       "13. 'lattice'\n",
       "14. 'stringr'\n",
       "15. 'ROCR'\n",
       "16. 'gplots'\n",
       "17. 'pROC'\n",
       "18. 'tidyr'\n",
       "19. 'dplyr'\n",
       "20. 'glmnet'\n",
       "21. 'foreach'\n",
       "22. 'Matrix'\n",
       "23. 'xgboost'\n",
       "24. 'ggplot2'\n",
       "25. 'RColorBrewer'\n",
       "26. 'stats'\n",
       "27. 'graphics'\n",
       "28. 'grDevices'\n",
       "29. 'utils'\n",
       "30. 'datasets'\n",
       "31. 'methods'\n",
       "32. 'base'\n",
       "\n",
       "\n"
      ],
      "text/plain": [
       " [1] \"RUnit\"         \"GenomicRanges\" \"GenomeInfoDb\"  \"IRanges\"      \n",
       " [5] \"S4Vectors\"     \"BiocGenerics\"  \"parallel\"      \"stats4\"       \n",
       " [9] \"RPostgreSQL\"   \"DBI\"           \"caTools\"       \"caret\"        \n",
       "[13] \"lattice\"       \"stringr\"       \"ROCR\"          \"gplots\"       \n",
       "[17] \"pROC\"          \"tidyr\"         \"dplyr\"         \"glmnet\"       \n",
       "[21] \"foreach\"       \"Matrix\"        \"xgboost\"       \"ggplot2\"      \n",
       "[25] \"RColorBrewer\"  \"stats\"         \"graphics\"      \"grDevices\"    \n",
       "[29] \"utils\"         \"datasets\"      \"methods\"       \"base\"         "
      ]
     },
     "metadata": {},
     "output_type": "display_data"
    }
   ],
   "source": [
    "libs <- c(\n",
    "    'RColorBrewer',\n",
    "    'ggplot2',\n",
    "    'xgboost',\n",
    "    'glmnet',\n",
    "    'dplyr',\n",
    "    'tidyr',\n",
    "    'pROC',\n",
    "    'ROCR',\n",
    "    'stringr',\n",
    "    'caret',\n",
    "    'caTools'\n",
    ")\n",
    "\n",
    "for (lib in libs) {\n",
    "        if (!require(lib, character.only = TRUE, quietly = TRUE)) {\n",
    "            install.packages(lib, repos='http://cran.us.r-project.org')\n",
    "        }\n",
    "}\n",
    "\n",
    "(.packages())\n",
    "\n",
    "source(\"my_R_functions/utility_functions.R\")\n",
    "source(\"my_R_functions/stat_functions.R\")\n",
    "source(\"my_R_functions/plot_functions.R\")\n",
    "source(\"/ssd/mrichard/github/BDDS/trenadb/src/utils.R\")\n",
    "source(\"/ssd/mrichard/github/BDDS/footprints/testdb/src/dbFunctions.R\")"
   ]
  },
  {
   "cell_type": "code",
   "execution_count": 3,
   "metadata": {
    "collapsed": true
   },
   "outputs": [],
   "source": [
    "gbdt <- xgb.load(\"saved_models/xgboost_TF_site_predict.model\")"
   ]
  },
  {
   "cell_type": "code",
   "execution_count": 4,
   "metadata": {
    "collapsed": true
   },
   "outputs": [],
   "source": [
    "load(\"Rdata_files/motif_class_pairs.Rdata\")\n",
    "load(\"/ssd/mrichard/data/all.TF.df.fimo.hint.well.annotated.9.Rdata\")"
   ]
  },
  {
   "cell_type": "code",
   "execution_count": 5,
   "metadata": {
    "collapsed": true
   },
   "outputs": [],
   "source": [
    "cols_to_drop <- c('motifname', 'chrom', 'start', 'endpos', 'strand', 'pval', 'sequence')"
   ]
  },
  {
   "cell_type": "code",
   "execution_count": 6,
   "metadata": {},
   "outputs": [],
   "source": [
    "colnames(all.TF.df.fimo.hint.well.annotated) <- make.names(colnames(all.TF.df.fimo.hint.well.annotated), unique=TRUE)\n",
    "\n",
    "all.TF.df.fimo.hint.well.annotated %>%\n",
    "    filter(h_frac > 0 | w_frac > 0 | cs_hit > 0) ->\n",
    "    df_only_footprint_hits"
   ]
  },
  {
   "cell_type": "code",
   "execution_count": 7,
   "metadata": {},
   "outputs": [],
   "source": [
    "df_only_footprint_hits %>%\n",
    "    filter(chrom %in% c(\"2\",\"4\")) %>%\n",
    "    select(-one_of(cols_to_drop)) ->\n",
    "    val_df\n",
    "\n",
    "val_df %>% \n",
    "    select(-cs_hit) %>%\n",
    "    as.matrix ->\n",
    "    X_val\n",
    "\n",
    "val_df %>% \n",
    "    select(cs_hit) %>%\n",
    "    as.matrix ->\n",
    "    y_val\n",
    "\n",
    "remove(all.TF.df.fimo.hint.well.annotated, df_only_footprint_hits, val_df)"
   ]
  },
  {
   "cell_type": "code",
   "execution_count": 8,
   "metadata": {},
   "outputs": [
    {
     "data": {
      "text/html": [
       "<ol class=list-inline>\n",
       "\t<li>'motifscore'</li>\n",
       "\t<li>'h_max_score'</li>\n",
       "\t<li>'w_min_score'</li>\n",
       "\t<li>'h_frac'</li>\n",
       "\t<li>'w_frac'</li>\n",
       "\t<li>'gc_content'</li>\n",
       "\t<li>'asinh_tss_dist'</li>\n",
       "\t<li>'Basic.helix.loop.helix.factors..bHLH.'</li>\n",
       "\t<li>'Basic.leucine.zipper.factors..bZIP.'</li>\n",
       "\t<li>'C2H2.zinc.finger.factors'</li>\n",
       "\t<li>'Fork.head...winged.helix.factors'</li>\n",
       "\t<li>'Heteromeric.CCAAT.binding.factors'</li>\n",
       "\t<li>'High.mobility.group..HMG..domain.factors'</li>\n",
       "\t<li>'Homeo.domain.factors'</li>\n",
       "\t<li>'MADS.box.factors'</li>\n",
       "\t<li>'Nuclear.receptors.with.C4.zinc.fingers'</li>\n",
       "\t<li>'Other.C4.zinc.finger.type.factors'</li>\n",
       "\t<li>'Paired.box.factors'</li>\n",
       "\t<li>'Rel.homology.region..RHR..factors'</li>\n",
       "\t<li>'Runt.domain.factors'</li>\n",
       "\t<li>'SMAD.NF.1.DNA.binding.domain.factors'</li>\n",
       "\t<li>'STAT.domain.factors'</li>\n",
       "\t<li>'TATA.binding.proteins'</li>\n",
       "\t<li>'Tryptophan.cluster.factors'</li>\n",
       "</ol>\n"
      ],
      "text/latex": [
       "\\begin{enumerate*}\n",
       "\\item 'motifscore'\n",
       "\\item 'h\\_max\\_score'\n",
       "\\item 'w\\_min\\_score'\n",
       "\\item 'h\\_frac'\n",
       "\\item 'w\\_frac'\n",
       "\\item 'gc\\_content'\n",
       "\\item 'asinh\\_tss\\_dist'\n",
       "\\item 'Basic.helix.loop.helix.factors..bHLH.'\n",
       "\\item 'Basic.leucine.zipper.factors..bZIP.'\n",
       "\\item 'C2H2.zinc.finger.factors'\n",
       "\\item 'Fork.head...winged.helix.factors'\n",
       "\\item 'Heteromeric.CCAAT.binding.factors'\n",
       "\\item 'High.mobility.group..HMG..domain.factors'\n",
       "\\item 'Homeo.domain.factors'\n",
       "\\item 'MADS.box.factors'\n",
       "\\item 'Nuclear.receptors.with.C4.zinc.fingers'\n",
       "\\item 'Other.C4.zinc.finger.type.factors'\n",
       "\\item 'Paired.box.factors'\n",
       "\\item 'Rel.homology.region..RHR..factors'\n",
       "\\item 'Runt.domain.factors'\n",
       "\\item 'SMAD.NF.1.DNA.binding.domain.factors'\n",
       "\\item 'STAT.domain.factors'\n",
       "\\item 'TATA.binding.proteins'\n",
       "\\item 'Tryptophan.cluster.factors'\n",
       "\\end{enumerate*}\n"
      ],
      "text/markdown": [
       "1. 'motifscore'\n",
       "2. 'h_max_score'\n",
       "3. 'w_min_score'\n",
       "4. 'h_frac'\n",
       "5. 'w_frac'\n",
       "6. 'gc_content'\n",
       "7. 'asinh_tss_dist'\n",
       "8. 'Basic.helix.loop.helix.factors..bHLH.'\n",
       "9. 'Basic.leucine.zipper.factors..bZIP.'\n",
       "10. 'C2H2.zinc.finger.factors'\n",
       "11. 'Fork.head...winged.helix.factors'\n",
       "12. 'Heteromeric.CCAAT.binding.factors'\n",
       "13. 'High.mobility.group..HMG..domain.factors'\n",
       "14. 'Homeo.domain.factors'\n",
       "15. 'MADS.box.factors'\n",
       "16. 'Nuclear.receptors.with.C4.zinc.fingers'\n",
       "17. 'Other.C4.zinc.finger.type.factors'\n",
       "18. 'Paired.box.factors'\n",
       "19. 'Rel.homology.region..RHR..factors'\n",
       "20. 'Runt.domain.factors'\n",
       "21. 'SMAD.NF.1.DNA.binding.domain.factors'\n",
       "22. 'STAT.domain.factors'\n",
       "23. 'TATA.binding.proteins'\n",
       "24. 'Tryptophan.cluster.factors'\n",
       "\n",
       "\n"
      ],
      "text/plain": [
       " [1] \"motifscore\"                              \n",
       " [2] \"h_max_score\"                             \n",
       " [3] \"w_min_score\"                             \n",
       " [4] \"h_frac\"                                  \n",
       " [5] \"w_frac\"                                  \n",
       " [6] \"gc_content\"                              \n",
       " [7] \"asinh_tss_dist\"                          \n",
       " [8] \"Basic.helix.loop.helix.factors..bHLH.\"   \n",
       " [9] \"Basic.leucine.zipper.factors..bZIP.\"     \n",
       "[10] \"C2H2.zinc.finger.factors\"                \n",
       "[11] \"Fork.head...winged.helix.factors\"        \n",
       "[12] \"Heteromeric.CCAAT.binding.factors\"       \n",
       "[13] \"High.mobility.group..HMG..domain.factors\"\n",
       "[14] \"Homeo.domain.factors\"                    \n",
       "[15] \"MADS.box.factors\"                        \n",
       "[16] \"Nuclear.receptors.with.C4.zinc.fingers\"  \n",
       "[17] \"Other.C4.zinc.finger.type.factors\"       \n",
       "[18] \"Paired.box.factors\"                      \n",
       "[19] \"Rel.homology.region..RHR..factors\"       \n",
       "[20] \"Runt.domain.factors\"                     \n",
       "[21] \"SMAD.NF.1.DNA.binding.domain.factors\"    \n",
       "[22] \"STAT.domain.factors\"                     \n",
       "[23] \"TATA.binding.proteins\"                   \n",
       "[24] \"Tryptophan.cluster.factors\"              "
      ]
     },
     "metadata": {},
     "output_type": "display_data"
    }
   ],
   "source": [
    "colnames(X_val)"
   ]
  },
  {
   "cell_type": "code",
   "execution_count": 9,
   "metadata": {},
   "outputs": [],
   "source": [
    "medium_pred_df <- make.pred.df.from.model(gbdt, X_val, y_val)\n",
    "colnames(medium_pred_df)[1] <- \"ChIPseq.bound\"\n",
    "medium_stat_df <- make.stats.df.from.preds(medium_pred_df)"
   ]
  },
  {
   "cell_type": "code",
   "execution_count": 10,
   "metadata": {},
   "outputs": [
    {
     "data": {
      "text/html": [
       "<table>\n",
       "<thead><tr><th></th><th scope=col>threshold</th><th scope=col>sensitivity</th><th scope=col>specificity</th><th scope=col>ppv</th><th scope=col>npv</th><th scope=col>accuracy</th><th scope=col>MattCC</th></tr></thead>\n",
       "<tbody>\n",
       "\t<tr><th scope=row>0</th><td>0.00     </td><td>1        </td><td>0        </td><td>0.5729347</td><td>NaN      </td><td>0.5729347</td><td>0        </td></tr>\n",
       "\t<tr><th scope=row>0.01</th><td>0.01     </td><td>1        </td><td>0        </td><td>0.5729347</td><td>NaN      </td><td>0.5729347</td><td>0        </td></tr>\n",
       "\t<tr><th scope=row>0.02</th><td>0.02     </td><td>1        </td><td>0        </td><td>0.5729347</td><td>NaN      </td><td>0.5729347</td><td>0        </td></tr>\n",
       "\t<tr><th scope=row>0.03</th><td>0.03     </td><td>1        </td><td>0        </td><td>0.5729347</td><td>NaN      </td><td>0.5729347</td><td>0        </td></tr>\n",
       "\t<tr><th scope=row>0.04</th><td>0.04     </td><td>1        </td><td>0        </td><td>0.5729347</td><td>NaN      </td><td>0.5729347</td><td>0        </td></tr>\n",
       "\t<tr><th scope=row>0.05</th><td>0.05     </td><td>1        </td><td>0        </td><td>0.5729347</td><td>NaN      </td><td>0.5729347</td><td>0        </td></tr>\n",
       "</tbody>\n",
       "</table>\n"
      ],
      "text/latex": [
       "\\begin{tabular}{r|lllllll}\n",
       "  & threshold & sensitivity & specificity & ppv & npv & accuracy & MattCC\\\\\n",
       "\\hline\n",
       "\t0 & 0.00      & 1         & 0         & 0.5729347 & NaN       & 0.5729347 & 0        \\\\\n",
       "\t0.01 & 0.01      & 1         & 0         & 0.5729347 & NaN       & 0.5729347 & 0        \\\\\n",
       "\t0.02 & 0.02      & 1         & 0         & 0.5729347 & NaN       & 0.5729347 & 0        \\\\\n",
       "\t0.03 & 0.03      & 1         & 0         & 0.5729347 & NaN       & 0.5729347 & 0        \\\\\n",
       "\t0.04 & 0.04      & 1         & 0         & 0.5729347 & NaN       & 0.5729347 & 0        \\\\\n",
       "\t0.05 & 0.05      & 1         & 0         & 0.5729347 & NaN       & 0.5729347 & 0        \\\\\n",
       "\\end{tabular}\n"
      ],
      "text/markdown": [
       "\n",
       "| <!--/--> | threshold | sensitivity | specificity | ppv | npv | accuracy | MattCC | \n",
       "|---|---|---|---|---|---|\n",
       "| 0 | 0.00      | 1         | 0         | 0.5729347 | NaN       | 0.5729347 | 0         | \n",
       "| 0.01 | 0.01      | 1         | 0         | 0.5729347 | NaN       | 0.5729347 | 0         | \n",
       "| 0.02 | 0.02      | 1         | 0         | 0.5729347 | NaN       | 0.5729347 | 0         | \n",
       "| 0.03 | 0.03      | 1         | 0         | 0.5729347 | NaN       | 0.5729347 | 0         | \n",
       "| 0.04 | 0.04      | 1         | 0         | 0.5729347 | NaN       | 0.5729347 | 0         | \n",
       "| 0.05 | 0.05      | 1         | 0         | 0.5729347 | NaN       | 0.5729347 | 0         | \n",
       "\n",
       "\n"
      ],
      "text/plain": [
       "     threshold sensitivity specificity ppv       npv accuracy  MattCC\n",
       "0    0.00      1           0           0.5729347 NaN 0.5729347 0     \n",
       "0.01 0.01      1           0           0.5729347 NaN 0.5729347 0     \n",
       "0.02 0.02      1           0           0.5729347 NaN 0.5729347 0     \n",
       "0.03 0.03      1           0           0.5729347 NaN 0.5729347 0     \n",
       "0.04 0.04      1           0           0.5729347 NaN 0.5729347 0     \n",
       "0.05 0.05      1           0           0.5729347 NaN 0.5729347 0     "
      ]
     },
     "metadata": {},
     "output_type": "display_data"
    }
   ],
   "source": [
    "medium_stat_df %>% head"
   ]
  },
  {
   "cell_type": "code",
   "execution_count": 11,
   "metadata": {},
   "outputs": [
    {
     "data": {
      "image/png": "[encoded data removed]",
      "text/plain": [
       "plot without title"
      ]
     },
     "metadata": {},
     "output_type": "display_data"
    }
   ],
   "source": [
    "plot(medium_stat_df$threshold,medium_stat_df$MattCC)"
   ]
  },
  {
   "cell_type": "code",
   "execution_count": null,
   "metadata": {
    "collapsed": true
   },
   "outputs": [],
   "source": []
  }
 ],
 "metadata": {
  "kernelspec": {
   "display_name": "R",
   "language": "R",
   "name": "ir"
  },
  "language_info": {
   "codemirror_mode": "r",
   "file_extension": ".r",
   "mimetype": "text/x-r-source",
   "name": "R",
   "pygments_lexer": "r",
   "version": "3.4.1"
  }
 },
 "nbformat": 4,
 "nbformat_minor": 1
}
